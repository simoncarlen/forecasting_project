{
 "cells": [
  {
   "cell_type": "code",
   "execution_count": 1,
   "metadata": {},
   "outputs": [],
   "source": [
    "import pandas as pd\n",
    "import numpy as np"
   ]
  },
  {
   "cell_type": "code",
   "execution_count": 89,
   "metadata": {},
   "outputs": [
    {
     "name": "stdout",
     "output_type": "stream",
     "text": [
      "ME: 116.60452757736827\n"
     ]
    },
    {
     "name": "stderr",
     "output_type": "stream",
     "text": [
      "/var/folders/3k/1wztchzs50j4jyq74xpccr3m0000gn/T/ipykernel_6234/3078161413.py:8: FutureWarning: Index.__and__ operating as a set operation is deprecated, in the future this will be a logical operation matching Series.__and__.  Use index.intersection(other) instead.\n",
      "  index_condition = model.index[model['NO$_2$ observed'] >=50] & model.index[model['NO$_2$ observed'] <=100]\n"
     ]
    }
   ],
   "source": [
    "# s = 'robust_regression'\n",
    "# s = 'dense_predictions'\n",
    "# s = 'lstm_12h_predictions'\n",
    "# s = 'GRU_24h_predictions'\n",
    "\n",
    "model = pd.read_csv('../prediction_results/' + s + '.csv')\n",
    "model.drop('date', axis=1, inplace=True)\n",
    "index_condition = model.index[model['NO$_2$ observed'] >=50] & model.index[model['NO$_2$ observed'] <=100]\n",
    "df_condition = model.iloc[index_condition.to_list(),:]\n",
    "print('ME:',np.mean(df_condition['NO$_2$ observed'] - df_condition['NO$_2$ predicted'])**2)"
   ]
  },
  {
   "cell_type": "code",
   "execution_count": 64,
   "metadata": {},
   "outputs": [],
   "source": [
    "#                      ME\n",
    "# Model         0-25, 25-50, >50\n",
    "\n",
    "# Robust MLR:   0.09  5.89   12.8\n",
    "# Dense        -0.58  4.49   10.3\n",
    "# LSTM         -0.41  4.53   10.4\n",
    "# GRU          -0.37  5.0    10.8\n"
   ]
  }
 ],
 "metadata": {
  "kernelspec": {
   "display_name": "Python 3.10.4 ('DL')",
   "language": "python",
   "name": "python3"
  },
  "language_info": {
   "codemirror_mode": {
    "name": "ipython",
    "version": 3
   },
   "file_extension": ".py",
   "mimetype": "text/x-python",
   "name": "python",
   "nbconvert_exporter": "python",
   "pygments_lexer": "ipython3",
   "version": "3.10.4"
  },
  "orig_nbformat": 4,
  "vscode": {
   "interpreter": {
    "hash": "2a0afe78b3ebe22049d3d74ba655a4a5f799767e6308d99c3f84aabb51861a5e"
   }
  }
 },
 "nbformat": 4,
 "nbformat_minor": 2
}
