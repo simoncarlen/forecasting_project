{
 "cells": [
  {
   "cell_type": "code",
   "execution_count": 227,
   "metadata": {},
   "outputs": [],
   "source": [
    "import pandas as pd\n",
    "import numpy as np\n",
    "import matplotlib.pyplot as plt\n",
    "from sklearn.preprocessing import MinMaxScaler\n",
    "from sklearn.preprocessing import StandardScaler\n",
    "from sklearn import linear_model\n",
    "from sklearn.metrics import mean_squared_error\n",
    "from sklearn.feature_selection import RFECV\n",
    "\n",
    "# # LaTeX style plots\n",
    "# tex_fonts = {\n",
    "#     # Use LaTeX to write all text\n",
    "#     \"text.usetex\": True,\n",
    "#     \"font.family\": \"serif\",\n",
    "#     # Use 10pt font in plots, to match 10pt font in document\n",
    "#     \"axes.labelsize\": 10,\n",
    "#     \"font.size\": 10,\n",
    "#     # Make the legend/label fonts a little smaller\n",
    "#     \"legend.fontsize\": 10,\n",
    "#     \"xtick.labelsize\": 10,\n",
    "#     \"ytick.labelsize\": 10\n",
    "#     }\n",
    "# plt.rcParams.update(tex_fonts)"
   ]
  },
  {
   "cell_type": "markdown",
   "metadata": {},
   "source": [
    "# Read in data, split into train and test sets"
   ]
  },
  {
   "cell_type": "code",
   "execution_count": 235,
   "metadata": {},
   "outputs": [],
   "source": [
    "# read in data and convert time axis to datetime\n",
    "df = pd.read_csv('../air_weather_data/pollution_and_weather_cleaned.csv')\n",
    "df['Date'] = pd.to_datetime(df['Date'], format = '%Y-%m-%d %H:%M')\n",
    "df = df.set_index('Date')"
   ]
  },
  {
   "cell_type": "markdown",
   "metadata": {},
   "source": [
    "# Create lagged values of all pollutants"
   ]
  },
  {
   "cell_type": "code",
   "execution_count": 236,
   "metadata": {},
   "outputs": [
    {
     "data": {
      "text/html": [
       "<div>\n",
       "<style scoped>\n",
       "    .dataframe tbody tr th:only-of-type {\n",
       "        vertical-align: middle;\n",
       "    }\n",
       "\n",
       "    .dataframe tbody tr th {\n",
       "        vertical-align: top;\n",
       "    }\n",
       "\n",
       "    .dataframe thead th {\n",
       "        text-align: right;\n",
       "    }\n",
       "</style>\n",
       "<table border=\"1\" class=\"dataframe\">\n",
       "  <thead>\n",
       "    <tr style=\"text-align: right;\">\n",
       "      <th></th>\n",
       "      <th>PM$_{10}$, Torkel Knutssonsgatan</th>\n",
       "      <th>PM$_{10}$, Torkel Knutssonsgatan, lag 1</th>\n",
       "      <th>PM$_{10}$, Torkel Knutssonsgatan, lag 2</th>\n",
       "      <th>PM$_{10}$, Torkel Knutssonsgatan, lag 3</th>\n",
       "      <th>PM$_{10}$, Torkel Knutssonsgatan, lag 4</th>\n",
       "      <th>PM$_{10}$, Torkel Knutssonsgatan, lag 5</th>\n",
       "      <th>PM$_{10}$, Torkel Knutssonsgatan, lag 6</th>\n",
       "      <th>PM$_{2.5}$, Torkel Knutssonsgatan, lag 1</th>\n",
       "      <th>PM$_{10}$, Hornsgatan, lag 1</th>\n",
       "    </tr>\n",
       "    <tr>\n",
       "      <th>Date</th>\n",
       "      <th></th>\n",
       "      <th></th>\n",
       "      <th></th>\n",
       "      <th></th>\n",
       "      <th></th>\n",
       "      <th></th>\n",
       "      <th></th>\n",
       "      <th></th>\n",
       "      <th></th>\n",
       "    </tr>\n",
       "  </thead>\n",
       "  <tbody>\n",
       "    <tr>\n",
       "      <th>2015-01-01 07:00:00</th>\n",
       "      <td>12.60</td>\n",
       "      <td>12.70</td>\n",
       "      <td>12.10</td>\n",
       "      <td>10.50</td>\n",
       "      <td>8.700</td>\n",
       "      <td>8.500</td>\n",
       "      <td>28.400</td>\n",
       "      <td>5.50</td>\n",
       "      <td>15.00</td>\n",
       "    </tr>\n",
       "    <tr>\n",
       "      <th>2015-01-01 08:00:00</th>\n",
       "      <td>12.00</td>\n",
       "      <td>12.60</td>\n",
       "      <td>12.70</td>\n",
       "      <td>12.10</td>\n",
       "      <td>10.500</td>\n",
       "      <td>8.700</td>\n",
       "      <td>8.500</td>\n",
       "      <td>6.70</td>\n",
       "      <td>13.70</td>\n",
       "    </tr>\n",
       "    <tr>\n",
       "      <th>2015-01-01 09:00:00</th>\n",
       "      <td>13.80</td>\n",
       "      <td>12.00</td>\n",
       "      <td>12.60</td>\n",
       "      <td>12.70</td>\n",
       "      <td>12.100</td>\n",
       "      <td>10.500</td>\n",
       "      <td>8.700</td>\n",
       "      <td>6.60</td>\n",
       "      <td>13.70</td>\n",
       "    </tr>\n",
       "    <tr>\n",
       "      <th>2015-01-01 10:00:00</th>\n",
       "      <td>15.80</td>\n",
       "      <td>13.80</td>\n",
       "      <td>12.00</td>\n",
       "      <td>12.60</td>\n",
       "      <td>12.700</td>\n",
       "      <td>12.100</td>\n",
       "      <td>10.500</td>\n",
       "      <td>6.70</td>\n",
       "      <td>14.70</td>\n",
       "    </tr>\n",
       "    <tr>\n",
       "      <th>2015-01-01 11:00:00</th>\n",
       "      <td>13.60</td>\n",
       "      <td>15.80</td>\n",
       "      <td>13.80</td>\n",
       "      <td>12.00</td>\n",
       "      <td>12.600</td>\n",
       "      <td>12.700</td>\n",
       "      <td>12.100</td>\n",
       "      <td>7.40</td>\n",
       "      <td>15.80</td>\n",
       "    </tr>\n",
       "    <tr>\n",
       "      <th>...</th>\n",
       "      <td>...</td>\n",
       "      <td>...</td>\n",
       "      <td>...</td>\n",
       "      <td>...</td>\n",
       "      <td>...</td>\n",
       "      <td>...</td>\n",
       "      <td>...</td>\n",
       "      <td>...</td>\n",
       "      <td>...</td>\n",
       "    </tr>\n",
       "    <tr>\n",
       "      <th>2021-12-31 20:00:00</th>\n",
       "      <td>2.78</td>\n",
       "      <td>2.30</td>\n",
       "      <td>2.50</td>\n",
       "      <td>2.37</td>\n",
       "      <td>0.707</td>\n",
       "      <td>0.622</td>\n",
       "      <td>-1.050</td>\n",
       "      <td>5.10</td>\n",
       "      <td>7.59</td>\n",
       "    </tr>\n",
       "    <tr>\n",
       "      <th>2021-12-31 21:00:00</th>\n",
       "      <td>3.41</td>\n",
       "      <td>2.78</td>\n",
       "      <td>2.30</td>\n",
       "      <td>2.50</td>\n",
       "      <td>2.370</td>\n",
       "      <td>0.707</td>\n",
       "      <td>0.622</td>\n",
       "      <td>5.02</td>\n",
       "      <td>6.54</td>\n",
       "    </tr>\n",
       "    <tr>\n",
       "      <th>2021-12-31 22:00:00</th>\n",
       "      <td>2.44</td>\n",
       "      <td>3.41</td>\n",
       "      <td>2.78</td>\n",
       "      <td>2.30</td>\n",
       "      <td>2.500</td>\n",
       "      <td>2.370</td>\n",
       "      <td>0.707</td>\n",
       "      <td>5.65</td>\n",
       "      <td>6.95</td>\n",
       "    </tr>\n",
       "    <tr>\n",
       "      <th>2021-12-31 23:00:00</th>\n",
       "      <td>1.16</td>\n",
       "      <td>2.44</td>\n",
       "      <td>3.41</td>\n",
       "      <td>2.78</td>\n",
       "      <td>2.300</td>\n",
       "      <td>2.500</td>\n",
       "      <td>2.370</td>\n",
       "      <td>5.31</td>\n",
       "      <td>6.15</td>\n",
       "    </tr>\n",
       "    <tr>\n",
       "      <th>2022-01-01 00:00:00</th>\n",
       "      <td>1.48</td>\n",
       "      <td>1.16</td>\n",
       "      <td>2.44</td>\n",
       "      <td>3.41</td>\n",
       "      <td>2.780</td>\n",
       "      <td>2.300</td>\n",
       "      <td>2.500</td>\n",
       "      <td>4.58</td>\n",
       "      <td>4.70</td>\n",
       "    </tr>\n",
       "  </tbody>\n",
       "</table>\n",
       "<p>61362 rows × 9 columns</p>\n",
       "</div>"
      ],
      "text/plain": [
       "                     PM$_{10}$, Torkel Knutssonsgatan  \\\n",
       "Date                                                    \n",
       "2015-01-01 07:00:00                             12.60   \n",
       "2015-01-01 08:00:00                             12.00   \n",
       "2015-01-01 09:00:00                             13.80   \n",
       "2015-01-01 10:00:00                             15.80   \n",
       "2015-01-01 11:00:00                             13.60   \n",
       "...                                               ...   \n",
       "2021-12-31 20:00:00                              2.78   \n",
       "2021-12-31 21:00:00                              3.41   \n",
       "2021-12-31 22:00:00                              2.44   \n",
       "2021-12-31 23:00:00                              1.16   \n",
       "2022-01-01 00:00:00                              1.48   \n",
       "\n",
       "                     PM$_{10}$, Torkel Knutssonsgatan, lag 1  \\\n",
       "Date                                                           \n",
       "2015-01-01 07:00:00                                    12.70   \n",
       "2015-01-01 08:00:00                                    12.60   \n",
       "2015-01-01 09:00:00                                    12.00   \n",
       "2015-01-01 10:00:00                                    13.80   \n",
       "2015-01-01 11:00:00                                    15.80   \n",
       "...                                                      ...   \n",
       "2021-12-31 20:00:00                                     2.30   \n",
       "2021-12-31 21:00:00                                     2.78   \n",
       "2021-12-31 22:00:00                                     3.41   \n",
       "2021-12-31 23:00:00                                     2.44   \n",
       "2022-01-01 00:00:00                                     1.16   \n",
       "\n",
       "                     PM$_{10}$, Torkel Knutssonsgatan, lag 2  \\\n",
       "Date                                                           \n",
       "2015-01-01 07:00:00                                    12.10   \n",
       "2015-01-01 08:00:00                                    12.70   \n",
       "2015-01-01 09:00:00                                    12.60   \n",
       "2015-01-01 10:00:00                                    12.00   \n",
       "2015-01-01 11:00:00                                    13.80   \n",
       "...                                                      ...   \n",
       "2021-12-31 20:00:00                                     2.50   \n",
       "2021-12-31 21:00:00                                     2.30   \n",
       "2021-12-31 22:00:00                                     2.78   \n",
       "2021-12-31 23:00:00                                     3.41   \n",
       "2022-01-01 00:00:00                                     2.44   \n",
       "\n",
       "                     PM$_{10}$, Torkel Knutssonsgatan, lag 3  \\\n",
       "Date                                                           \n",
       "2015-01-01 07:00:00                                    10.50   \n",
       "2015-01-01 08:00:00                                    12.10   \n",
       "2015-01-01 09:00:00                                    12.70   \n",
       "2015-01-01 10:00:00                                    12.60   \n",
       "2015-01-01 11:00:00                                    12.00   \n",
       "...                                                      ...   \n",
       "2021-12-31 20:00:00                                     2.37   \n",
       "2021-12-31 21:00:00                                     2.50   \n",
       "2021-12-31 22:00:00                                     2.30   \n",
       "2021-12-31 23:00:00                                     2.78   \n",
       "2022-01-01 00:00:00                                     3.41   \n",
       "\n",
       "                     PM$_{10}$, Torkel Knutssonsgatan, lag 4  \\\n",
       "Date                                                           \n",
       "2015-01-01 07:00:00                                    8.700   \n",
       "2015-01-01 08:00:00                                   10.500   \n",
       "2015-01-01 09:00:00                                   12.100   \n",
       "2015-01-01 10:00:00                                   12.700   \n",
       "2015-01-01 11:00:00                                   12.600   \n",
       "...                                                      ...   \n",
       "2021-12-31 20:00:00                                    0.707   \n",
       "2021-12-31 21:00:00                                    2.370   \n",
       "2021-12-31 22:00:00                                    2.500   \n",
       "2021-12-31 23:00:00                                    2.300   \n",
       "2022-01-01 00:00:00                                    2.780   \n",
       "\n",
       "                     PM$_{10}$, Torkel Knutssonsgatan, lag 5  \\\n",
       "Date                                                           \n",
       "2015-01-01 07:00:00                                    8.500   \n",
       "2015-01-01 08:00:00                                    8.700   \n",
       "2015-01-01 09:00:00                                   10.500   \n",
       "2015-01-01 10:00:00                                   12.100   \n",
       "2015-01-01 11:00:00                                   12.700   \n",
       "...                                                      ...   \n",
       "2021-12-31 20:00:00                                    0.622   \n",
       "2021-12-31 21:00:00                                    0.707   \n",
       "2021-12-31 22:00:00                                    2.370   \n",
       "2021-12-31 23:00:00                                    2.500   \n",
       "2022-01-01 00:00:00                                    2.300   \n",
       "\n",
       "                     PM$_{10}$, Torkel Knutssonsgatan, lag 6  \\\n",
       "Date                                                           \n",
       "2015-01-01 07:00:00                                   28.400   \n",
       "2015-01-01 08:00:00                                    8.500   \n",
       "2015-01-01 09:00:00                                    8.700   \n",
       "2015-01-01 10:00:00                                   10.500   \n",
       "2015-01-01 11:00:00                                   12.100   \n",
       "...                                                      ...   \n",
       "2021-12-31 20:00:00                                   -1.050   \n",
       "2021-12-31 21:00:00                                    0.622   \n",
       "2021-12-31 22:00:00                                    0.707   \n",
       "2021-12-31 23:00:00                                    2.370   \n",
       "2022-01-01 00:00:00                                    2.500   \n",
       "\n",
       "                     PM$_{2.5}$, Torkel Knutssonsgatan, lag 1  \\\n",
       "Date                                                            \n",
       "2015-01-01 07:00:00                                      5.50   \n",
       "2015-01-01 08:00:00                                      6.70   \n",
       "2015-01-01 09:00:00                                      6.60   \n",
       "2015-01-01 10:00:00                                      6.70   \n",
       "2015-01-01 11:00:00                                      7.40   \n",
       "...                                                       ...   \n",
       "2021-12-31 20:00:00                                      5.10   \n",
       "2021-12-31 21:00:00                                      5.02   \n",
       "2021-12-31 22:00:00                                      5.65   \n",
       "2021-12-31 23:00:00                                      5.31   \n",
       "2022-01-01 00:00:00                                      4.58   \n",
       "\n",
       "                     PM$_{10}$, Hornsgatan, lag 1  \n",
       "Date                                               \n",
       "2015-01-01 07:00:00                         15.00  \n",
       "2015-01-01 08:00:00                         13.70  \n",
       "2015-01-01 09:00:00                         13.70  \n",
       "2015-01-01 10:00:00                         14.70  \n",
       "2015-01-01 11:00:00                         15.80  \n",
       "...                                           ...  \n",
       "2021-12-31 20:00:00                          7.59  \n",
       "2021-12-31 21:00:00                          6.54  \n",
       "2021-12-31 22:00:00                          6.95  \n",
       "2021-12-31 23:00:00                          6.15  \n",
       "2022-01-01 00:00:00                          4.70  \n",
       "\n",
       "[61362 rows x 9 columns]"
      ]
     },
     "execution_count": 236,
     "metadata": {},
     "output_type": "execute_result"
    }
   ],
   "source": [
    "df['PM$_{10}$, Torkel Knutssonsgatan, lag 1'] = df['PM$_{10}$, Torkel Knutssonsgatan'].shift(1)\n",
    "df['PM$_{10}$, Torkel Knutssonsgatan, lag 2'] = df['PM$_{10}$, Torkel Knutssonsgatan'].shift(2)\n",
    "df['PM$_{10}$, Torkel Knutssonsgatan, lag 3'] = df['PM$_{10}$, Torkel Knutssonsgatan'].shift(3)\n",
    "df['PM$_{10}$, Torkel Knutssonsgatan, lag 4'] = df['PM$_{10}$, Torkel Knutssonsgatan'].shift(4)\n",
    "df['PM$_{10}$, Torkel Knutssonsgatan, lag 5'] = df['PM$_{10}$, Torkel Knutssonsgatan'].shift(5)\n",
    "df['PM$_{10}$, Torkel Knutssonsgatan, lag 6'] = df['PM$_{10}$, Torkel Knutssonsgatan'].shift(6)\n",
    "\n",
    "df['PM$_{2.5}$, Torkel Knutssonsgatan, lag 1'] = df['PM$_{2.5}$, Torkel Knutssonsgatan'].shift(1)\n",
    "# df['PM$_{2.5}$, Torkel Knutssonsgatan, lag 2'] = df['PM$_{2.5}$, Torkel Knutssonsgatan'].shift(2)\n",
    "# df['NO$_2$, Torkel Knutssonsgatan, lag 1'] = df['NO$_2$, Torkel Knutssonsgatan'].shift(1)\n",
    "\n",
    "df['PM$_{10}$, Hornsgatan, lag 1'] = df['PM$_{10}$, Hornsgatan'].shift(1)\n",
    "# df['PM$_{2.5}$, Hornsgatan, lag 1'] = df['PM$_{2.5}$, Hornsgatan'].shift(1)\n",
    "\n",
    "# df['PM$_{10}$, Norr Malma, lag 1'] = df['PM$_{10}$, Norr Malma'].shift(1)\n",
    "# df['PM$_{2.5}$, Norr Malma, lag 1'] = df['PM$_{2.5}$, Norr Malma'].shift(1)\n",
    "\n",
    "df = df.dropna() # dropping first row which now contains nan values\n",
    "df = df.drop(['NO$_2$, Torkel Knutssonsgatan',\n",
    "              'PM$_{2.5}$, Torkel Knutssonsgatan',\n",
    "              'PM$_{10}$, Hornsgatan',\n",
    "              'PM$_{2.5}$, Hornsgatan',\n",
    "              'PM$_{10}$, Norr Malma',\n",
    "              'PM$_{2.5}$, Norr Malma',\n",
    "              'Temperature',\n",
    "              'Atmospheric pressure',\n",
    "              'Relative humidity',\n",
    "              'Precipitation',\n",
    "              'Solar radiation',\n",
    "              'Wind speed',\n",
    "              'sine day', 'cosine day', 'sine week', 'cosine week', 'sine year','cosine year'\n",
    "              ],axis=1)\n",
    "df"
   ]
  },
  {
   "cell_type": "code",
   "execution_count": 237,
   "metadata": {},
   "outputs": [],
   "source": [
    "# split to train and test set\n",
    "df_train = df['2016-01-01 00:00:00':'2019-01-01 00:00:00']\n",
    "df_test = df['2021-01-01 00:00:00':]"
   ]
  },
  {
   "cell_type": "markdown",
   "metadata": {},
   "source": [
    "# MinMax normalize train and test data "
   ]
  },
  {
   "cell_type": "code",
   "execution_count": 238,
   "metadata": {},
   "outputs": [],
   "source": [
    "# scaler = StandardScaler()\n",
    "scaler = MinMaxScaler()\n",
    "# normalize and make dataframe of training set\n",
    "train_norm = scaler.fit_transform(df_train.values)\n",
    "df_train_norm = pd.DataFrame(train_norm, columns=df_train.columns) \n",
    "\n",
    "# normalize test set with statistics from training data and make dataframe\n",
    "test_norm = scaler.transform(df_test.values)\n",
    "df_test_norm = pd.DataFrame(test_norm, columns=df_test.columns)\n",
    "\n",
    "# inversed = scaler.inverse_transform(df_train_norm) # inverse normalization\n",
    "# df_train_norm['PM$_{2.5}$, Torkel Knutssonsgatan']\n",
    "# df_train_norm.head(3)"
   ]
  },
  {
   "cell_type": "markdown",
   "metadata": {},
   "source": [
    "# Split into X and y for PM10"
   ]
  },
  {
   "cell_type": "code",
   "execution_count": 239,
   "metadata": {},
   "outputs": [],
   "source": [
    "X_pm10 = df_train_norm.drop(['PM$_{10}$, Torkel Knutssonsgatan', \n",
    "                            #  'PM$_{2.5}$, Torkel Knutssonsgatan',\n",
    "                             ], axis=1)\n",
    "y_pm10 = df_train_norm['PM$_{10}$, Torkel Knutssonsgatan']\n",
    "\n",
    "X_pm10_test = df_test_norm.drop(['PM$_{10}$, Torkel Knutssonsgatan', \n",
    "                                #  'PM$_{2.5}$, Torkel Knutssonsgatan',\n",
    "                                ], axis=1)\n",
    "y_pm10_test = df_test_norm['PM$_{10}$, Torkel Knutssonsgatan']"
   ]
  },
  {
   "cell_type": "markdown",
   "metadata": {},
   "source": [
    "# Split into X and y for PM2.5"
   ]
  },
  {
   "cell_type": "code",
   "execution_count": 233,
   "metadata": {},
   "outputs": [
    {
     "ename": "KeyError",
     "evalue": "\"['PM$_{2.5}$, Torkel Knutssonsgatan'] not found in axis\"",
     "output_type": "error",
     "traceback": [
      "\u001b[0;31m---------------------------------------------------------------------------\u001b[0m",
      "\u001b[0;31mKeyError\u001b[0m                                  Traceback (most recent call last)",
      "\u001b[1;32m/Users/simoncarlen/Desktop/forecasting_project/jupyter_notebooks/MLR_models.ipynb Cell 12\u001b[0m in \u001b[0;36m<cell line: 1>\u001b[0;34m()\u001b[0m\n\u001b[0;32m----> <a href='vscode-notebook-cell:/Users/simoncarlen/Desktop/forecasting_project/jupyter_notebooks/MLR_models.ipynb#X14sZmlsZQ%3D%3D?line=0'>1</a>\u001b[0m X_pm2p5 \u001b[39m=\u001b[39m df_train_norm\u001b[39m.\u001b[39;49mdrop([\u001b[39m'\u001b[39;49m\u001b[39mPM$_\u001b[39;49m\u001b[39m{2.5}\u001b[39;49;00m\u001b[39m$, Torkel Knutssonsgatan\u001b[39;49m\u001b[39m'\u001b[39;49m, \n\u001b[1;32m      <a href='vscode-notebook-cell:/Users/simoncarlen/Desktop/forecasting_project/jupyter_notebooks/MLR_models.ipynb#X14sZmlsZQ%3D%3D?line=1'>2</a>\u001b[0m                             \u001b[39m#   'PM$_{10}$, Torkel Knutssonsgatan',\u001b[39;49;00m\n\u001b[1;32m      <a href='vscode-notebook-cell:/Users/simoncarlen/Desktop/forecasting_project/jupyter_notebooks/MLR_models.ipynb#X14sZmlsZQ%3D%3D?line=2'>3</a>\u001b[0m                               ], axis\u001b[39m=\u001b[39;49m\u001b[39m1\u001b[39;49m)\n\u001b[1;32m      <a href='vscode-notebook-cell:/Users/simoncarlen/Desktop/forecasting_project/jupyter_notebooks/MLR_models.ipynb#X14sZmlsZQ%3D%3D?line=3'>4</a>\u001b[0m y_pm2p5 \u001b[39m=\u001b[39m df_train_norm[\u001b[39m'\u001b[39m\u001b[39mPM$_\u001b[39m\u001b[39m{2.5}\u001b[39;00m\u001b[39m$, Torkel Knutssonsgatan\u001b[39m\u001b[39m'\u001b[39m]\n\u001b[1;32m      <a href='vscode-notebook-cell:/Users/simoncarlen/Desktop/forecasting_project/jupyter_notebooks/MLR_models.ipynb#X14sZmlsZQ%3D%3D?line=5'>6</a>\u001b[0m X_pm2p5_test \u001b[39m=\u001b[39m df_test_norm\u001b[39m.\u001b[39mdrop([\u001b[39m'\u001b[39m\u001b[39mPM$_\u001b[39m\u001b[39m{2.5}\u001b[39;00m\u001b[39m$, Torkel Knutssonsgatan\u001b[39m\u001b[39m'\u001b[39m, \n\u001b[1;32m      <a href='vscode-notebook-cell:/Users/simoncarlen/Desktop/forecasting_project/jupyter_notebooks/MLR_models.ipynb#X14sZmlsZQ%3D%3D?line=6'>7</a>\u001b[0m                                 \u001b[39m#   'PM$_{10}$, Torkel Knutssonsgatan',\u001b[39;00m\n\u001b[1;32m      <a href='vscode-notebook-cell:/Users/simoncarlen/Desktop/forecasting_project/jupyter_notebooks/MLR_models.ipynb#X14sZmlsZQ%3D%3D?line=7'>8</a>\u001b[0m                                  ], axis\u001b[39m=\u001b[39m\u001b[39m1\u001b[39m)\n",
      "File \u001b[0;32m~/opt/miniconda3/envs/DL/lib/python3.10/site-packages/pandas/util/_decorators.py:311\u001b[0m, in \u001b[0;36mdeprecate_nonkeyword_arguments.<locals>.decorate.<locals>.wrapper\u001b[0;34m(*args, **kwargs)\u001b[0m\n\u001b[1;32m    305\u001b[0m \u001b[39mif\u001b[39;00m \u001b[39mlen\u001b[39m(args) \u001b[39m>\u001b[39m num_allow_args:\n\u001b[1;32m    306\u001b[0m     warnings\u001b[39m.\u001b[39mwarn(\n\u001b[1;32m    307\u001b[0m         msg\u001b[39m.\u001b[39mformat(arguments\u001b[39m=\u001b[39marguments),\n\u001b[1;32m    308\u001b[0m         \u001b[39mFutureWarning\u001b[39;00m,\n\u001b[1;32m    309\u001b[0m         stacklevel\u001b[39m=\u001b[39mstacklevel,\n\u001b[1;32m    310\u001b[0m     )\n\u001b[0;32m--> 311\u001b[0m \u001b[39mreturn\u001b[39;00m func(\u001b[39m*\u001b[39;49margs, \u001b[39m*\u001b[39;49m\u001b[39m*\u001b[39;49mkwargs)\n",
      "File \u001b[0;32m~/opt/miniconda3/envs/DL/lib/python3.10/site-packages/pandas/core/frame.py:4954\u001b[0m, in \u001b[0;36mDataFrame.drop\u001b[0;34m(self, labels, axis, index, columns, level, inplace, errors)\u001b[0m\n\u001b[1;32m   4806\u001b[0m \u001b[39m@deprecate_nonkeyword_arguments\u001b[39m(version\u001b[39m=\u001b[39m\u001b[39mNone\u001b[39;00m, allowed_args\u001b[39m=\u001b[39m[\u001b[39m\"\u001b[39m\u001b[39mself\u001b[39m\u001b[39m\"\u001b[39m, \u001b[39m\"\u001b[39m\u001b[39mlabels\u001b[39m\u001b[39m\"\u001b[39m])\n\u001b[1;32m   4807\u001b[0m \u001b[39mdef\u001b[39;00m \u001b[39mdrop\u001b[39m(\n\u001b[1;32m   4808\u001b[0m     \u001b[39mself\u001b[39m,\n\u001b[0;32m   (...)\u001b[0m\n\u001b[1;32m   4815\u001b[0m     errors: \u001b[39mstr\u001b[39m \u001b[39m=\u001b[39m \u001b[39m\"\u001b[39m\u001b[39mraise\u001b[39m\u001b[39m\"\u001b[39m,\n\u001b[1;32m   4816\u001b[0m ):\n\u001b[1;32m   4817\u001b[0m     \u001b[39m\"\"\"\u001b[39;00m\n\u001b[1;32m   4818\u001b[0m \u001b[39m    Drop specified labels from rows or columns.\u001b[39;00m\n\u001b[1;32m   4819\u001b[0m \n\u001b[0;32m   (...)\u001b[0m\n\u001b[1;32m   4952\u001b[0m \u001b[39m            weight  1.0     0.8\u001b[39;00m\n\u001b[1;32m   4953\u001b[0m \u001b[39m    \"\"\"\u001b[39;00m\n\u001b[0;32m-> 4954\u001b[0m     \u001b[39mreturn\u001b[39;00m \u001b[39msuper\u001b[39;49m()\u001b[39m.\u001b[39;49mdrop(\n\u001b[1;32m   4955\u001b[0m         labels\u001b[39m=\u001b[39;49mlabels,\n\u001b[1;32m   4956\u001b[0m         axis\u001b[39m=\u001b[39;49maxis,\n\u001b[1;32m   4957\u001b[0m         index\u001b[39m=\u001b[39;49mindex,\n\u001b[1;32m   4958\u001b[0m         columns\u001b[39m=\u001b[39;49mcolumns,\n\u001b[1;32m   4959\u001b[0m         level\u001b[39m=\u001b[39;49mlevel,\n\u001b[1;32m   4960\u001b[0m         inplace\u001b[39m=\u001b[39;49minplace,\n\u001b[1;32m   4961\u001b[0m         errors\u001b[39m=\u001b[39;49merrors,\n\u001b[1;32m   4962\u001b[0m     )\n",
      "File \u001b[0;32m~/opt/miniconda3/envs/DL/lib/python3.10/site-packages/pandas/core/generic.py:4267\u001b[0m, in \u001b[0;36mNDFrame.drop\u001b[0;34m(self, labels, axis, index, columns, level, inplace, errors)\u001b[0m\n\u001b[1;32m   4265\u001b[0m \u001b[39mfor\u001b[39;00m axis, labels \u001b[39min\u001b[39;00m axes\u001b[39m.\u001b[39mitems():\n\u001b[1;32m   4266\u001b[0m     \u001b[39mif\u001b[39;00m labels \u001b[39mis\u001b[39;00m \u001b[39mnot\u001b[39;00m \u001b[39mNone\u001b[39;00m:\n\u001b[0;32m-> 4267\u001b[0m         obj \u001b[39m=\u001b[39m obj\u001b[39m.\u001b[39;49m_drop_axis(labels, axis, level\u001b[39m=\u001b[39;49mlevel, errors\u001b[39m=\u001b[39;49merrors)\n\u001b[1;32m   4269\u001b[0m \u001b[39mif\u001b[39;00m inplace:\n\u001b[1;32m   4270\u001b[0m     \u001b[39mself\u001b[39m\u001b[39m.\u001b[39m_update_inplace(obj)\n",
      "File \u001b[0;32m~/opt/miniconda3/envs/DL/lib/python3.10/site-packages/pandas/core/generic.py:4311\u001b[0m, in \u001b[0;36mNDFrame._drop_axis\u001b[0;34m(self, labels, axis, level, errors, consolidate, only_slice)\u001b[0m\n\u001b[1;32m   4309\u001b[0m         new_axis \u001b[39m=\u001b[39m axis\u001b[39m.\u001b[39mdrop(labels, level\u001b[39m=\u001b[39mlevel, errors\u001b[39m=\u001b[39merrors)\n\u001b[1;32m   4310\u001b[0m     \u001b[39melse\u001b[39;00m:\n\u001b[0;32m-> 4311\u001b[0m         new_axis \u001b[39m=\u001b[39m axis\u001b[39m.\u001b[39;49mdrop(labels, errors\u001b[39m=\u001b[39;49merrors)\n\u001b[1;32m   4312\u001b[0m     indexer \u001b[39m=\u001b[39m axis\u001b[39m.\u001b[39mget_indexer(new_axis)\n\u001b[1;32m   4314\u001b[0m \u001b[39m# Case for non-unique axis\u001b[39;00m\n\u001b[1;32m   4315\u001b[0m \u001b[39melse\u001b[39;00m:\n",
      "File \u001b[0;32m~/opt/miniconda3/envs/DL/lib/python3.10/site-packages/pandas/core/indexes/base.py:6644\u001b[0m, in \u001b[0;36mIndex.drop\u001b[0;34m(self, labels, errors)\u001b[0m\n\u001b[1;32m   6642\u001b[0m \u001b[39mif\u001b[39;00m mask\u001b[39m.\u001b[39many():\n\u001b[1;32m   6643\u001b[0m     \u001b[39mif\u001b[39;00m errors \u001b[39m!=\u001b[39m \u001b[39m\"\u001b[39m\u001b[39mignore\u001b[39m\u001b[39m\"\u001b[39m:\n\u001b[0;32m-> 6644\u001b[0m         \u001b[39mraise\u001b[39;00m \u001b[39mKeyError\u001b[39;00m(\u001b[39mf\u001b[39m\u001b[39m\"\u001b[39m\u001b[39m{\u001b[39;00m\u001b[39mlist\u001b[39m(labels[mask])\u001b[39m}\u001b[39;00m\u001b[39m not found in axis\u001b[39m\u001b[39m\"\u001b[39m)\n\u001b[1;32m   6645\u001b[0m     indexer \u001b[39m=\u001b[39m indexer[\u001b[39m~\u001b[39mmask]\n\u001b[1;32m   6646\u001b[0m \u001b[39mreturn\u001b[39;00m \u001b[39mself\u001b[39m\u001b[39m.\u001b[39mdelete(indexer)\n",
      "\u001b[0;31mKeyError\u001b[0m: \"['PM$_{2.5}$, Torkel Knutssonsgatan'] not found in axis\""
     ]
    }
   ],
   "source": [
    "X_pm2p5 = df_train_norm.drop(['PM$_{2.5}$, Torkel Knutssonsgatan', \n",
    "                            #   'PM$_{10}$, Torkel Knutssonsgatan',\n",
    "                              ], axis=1)\n",
    "y_pm2p5 = df_train_norm['PM$_{2.5}$, Torkel Knutssonsgatan']\n",
    "\n",
    "X_pm2p5_test = df_test_norm.drop(['PM$_{2.5}$, Torkel Knutssonsgatan', \n",
    "                                #   'PM$_{10}$, Torkel Knutssonsgatan',\n",
    "                                 ], axis=1)\n",
    "y_pm2p5_test = df_test_norm['PM$_{2.5}$, Torkel Knutssonsgatan']"
   ]
  },
  {
   "cell_type": "code",
   "execution_count": 240,
   "metadata": {},
   "outputs": [],
   "source": [
    "X_train = X_pm10[:]\n",
    "y_train = y_pm10[:]\n",
    "\n",
    "X_test = X_pm10_test[:]\n",
    "y_test = y_pm10_test[:]\n",
    "\n",
    "# X_train = X_pm2p5[:]\n",
    "# y_train = y_pm2p5[:]\n",
    "\n",
    "# X_test = X_pm2p5_test[:]\n",
    "# y_test = y_pm2p5_test[:]"
   ]
  },
  {
   "cell_type": "code",
   "execution_count": 241,
   "metadata": {},
   "outputs": [
    {
     "data": {
      "text/html": [
       "<div>\n",
       "<style scoped>\n",
       "    .dataframe tbody tr th:only-of-type {\n",
       "        vertical-align: middle;\n",
       "    }\n",
       "\n",
       "    .dataframe tbody tr th {\n",
       "        vertical-align: top;\n",
       "    }\n",
       "\n",
       "    .dataframe thead th {\n",
       "        text-align: right;\n",
       "    }\n",
       "</style>\n",
       "<table border=\"1\" class=\"dataframe\">\n",
       "  <thead>\n",
       "    <tr style=\"text-align: right;\">\n",
       "      <th></th>\n",
       "      <th>PM$_{10}$, Torkel Knutssonsgatan, lag 1</th>\n",
       "      <th>PM$_{10}$, Torkel Knutssonsgatan, lag 2</th>\n",
       "      <th>PM$_{10}$, Torkel Knutssonsgatan, lag 3</th>\n",
       "      <th>PM$_{10}$, Torkel Knutssonsgatan, lag 4</th>\n",
       "      <th>PM$_{10}$, Torkel Knutssonsgatan, lag 5</th>\n",
       "      <th>PM$_{10}$, Torkel Knutssonsgatan, lag 6</th>\n",
       "      <th>PM$_{2.5}$, Torkel Knutssonsgatan, lag 1</th>\n",
       "      <th>PM$_{10}$, Hornsgatan, lag 1</th>\n",
       "    </tr>\n",
       "  </thead>\n",
       "  <tbody>\n",
       "    <tr>\n",
       "      <th>0</th>\n",
       "      <td>0.084592</td>\n",
       "      <td>0.079758</td>\n",
       "      <td>0.102115</td>\n",
       "      <td>0.087009</td>\n",
       "      <td>0.088218</td>\n",
       "      <td>0.082779</td>\n",
       "      <td>0.114865</td>\n",
       "      <td>0.063540</td>\n",
       "    </tr>\n",
       "    <tr>\n",
       "      <th>1</th>\n",
       "      <td>0.162236</td>\n",
       "      <td>0.084592</td>\n",
       "      <td>0.079758</td>\n",
       "      <td>0.102115</td>\n",
       "      <td>0.087009</td>\n",
       "      <td>0.088218</td>\n",
       "      <td>0.155405</td>\n",
       "      <td>0.104576</td>\n",
       "    </tr>\n",
       "    <tr>\n",
       "      <th>2</th>\n",
       "      <td>0.239879</td>\n",
       "      <td>0.162236</td>\n",
       "      <td>0.084592</td>\n",
       "      <td>0.079758</td>\n",
       "      <td>0.102115</td>\n",
       "      <td>0.087009</td>\n",
       "      <td>0.290541</td>\n",
       "      <td>0.145613</td>\n",
       "    </tr>\n",
       "    <tr>\n",
       "      <th>3</th>\n",
       "      <td>0.094864</td>\n",
       "      <td>0.239879</td>\n",
       "      <td>0.162236</td>\n",
       "      <td>0.084592</td>\n",
       "      <td>0.079758</td>\n",
       "      <td>0.102115</td>\n",
       "      <td>0.123311</td>\n",
       "      <td>0.065053</td>\n",
       "    </tr>\n",
       "    <tr>\n",
       "      <th>4</th>\n",
       "      <td>0.074320</td>\n",
       "      <td>0.094864</td>\n",
       "      <td>0.239879</td>\n",
       "      <td>0.162236</td>\n",
       "      <td>0.084592</td>\n",
       "      <td>0.079758</td>\n",
       "      <td>0.118243</td>\n",
       "      <td>0.057867</td>\n",
       "    </tr>\n",
       "    <tr>\n",
       "      <th>...</th>\n",
       "      <td>...</td>\n",
       "      <td>...</td>\n",
       "      <td>...</td>\n",
       "      <td>...</td>\n",
       "      <td>...</td>\n",
       "      <td>...</td>\n",
       "      <td>...</td>\n",
       "      <td>...</td>\n",
       "    </tr>\n",
       "    <tr>\n",
       "      <th>26300</th>\n",
       "      <td>0.053776</td>\n",
       "      <td>0.053172</td>\n",
       "      <td>0.059215</td>\n",
       "      <td>0.047734</td>\n",
       "      <td>0.048943</td>\n",
       "      <td>0.051964</td>\n",
       "      <td>0.023649</td>\n",
       "      <td>0.025719</td>\n",
       "    </tr>\n",
       "    <tr>\n",
       "      <th>26301</th>\n",
       "      <td>0.046526</td>\n",
       "      <td>0.053776</td>\n",
       "      <td>0.053172</td>\n",
       "      <td>0.059215</td>\n",
       "      <td>0.047734</td>\n",
       "      <td>0.048943</td>\n",
       "      <td>0.021959</td>\n",
       "      <td>0.021936</td>\n",
       "    </tr>\n",
       "    <tr>\n",
       "      <th>26302</th>\n",
       "      <td>0.064653</td>\n",
       "      <td>0.046526</td>\n",
       "      <td>0.053776</td>\n",
       "      <td>0.053172</td>\n",
       "      <td>0.059215</td>\n",
       "      <td>0.047734</td>\n",
       "      <td>0.025338</td>\n",
       "      <td>0.022315</td>\n",
       "    </tr>\n",
       "    <tr>\n",
       "      <th>26303</th>\n",
       "      <td>0.062236</td>\n",
       "      <td>0.064653</td>\n",
       "      <td>0.046526</td>\n",
       "      <td>0.053776</td>\n",
       "      <td>0.053172</td>\n",
       "      <td>0.059215</td>\n",
       "      <td>0.037162</td>\n",
       "      <td>0.030257</td>\n",
       "    </tr>\n",
       "    <tr>\n",
       "      <th>26304</th>\n",
       "      <td>0.058006</td>\n",
       "      <td>0.062236</td>\n",
       "      <td>0.064653</td>\n",
       "      <td>0.046526</td>\n",
       "      <td>0.053776</td>\n",
       "      <td>0.053172</td>\n",
       "      <td>0.045608</td>\n",
       "      <td>0.038200</td>\n",
       "    </tr>\n",
       "  </tbody>\n",
       "</table>\n",
       "<p>26305 rows × 8 columns</p>\n",
       "</div>"
      ],
      "text/plain": [
       "       PM$_{10}$, Torkel Knutssonsgatan, lag 1  \\\n",
       "0                                     0.084592   \n",
       "1                                     0.162236   \n",
       "2                                     0.239879   \n",
       "3                                     0.094864   \n",
       "4                                     0.074320   \n",
       "...                                        ...   \n",
       "26300                                 0.053776   \n",
       "26301                                 0.046526   \n",
       "26302                                 0.064653   \n",
       "26303                                 0.062236   \n",
       "26304                                 0.058006   \n",
       "\n",
       "       PM$_{10}$, Torkel Knutssonsgatan, lag 2  \\\n",
       "0                                     0.079758   \n",
       "1                                     0.084592   \n",
       "2                                     0.162236   \n",
       "3                                     0.239879   \n",
       "4                                     0.094864   \n",
       "...                                        ...   \n",
       "26300                                 0.053172   \n",
       "26301                                 0.053776   \n",
       "26302                                 0.046526   \n",
       "26303                                 0.064653   \n",
       "26304                                 0.062236   \n",
       "\n",
       "       PM$_{10}$, Torkel Knutssonsgatan, lag 3  \\\n",
       "0                                     0.102115   \n",
       "1                                     0.079758   \n",
       "2                                     0.084592   \n",
       "3                                     0.162236   \n",
       "4                                     0.239879   \n",
       "...                                        ...   \n",
       "26300                                 0.059215   \n",
       "26301                                 0.053172   \n",
       "26302                                 0.053776   \n",
       "26303                                 0.046526   \n",
       "26304                                 0.064653   \n",
       "\n",
       "       PM$_{10}$, Torkel Knutssonsgatan, lag 4  \\\n",
       "0                                     0.087009   \n",
       "1                                     0.102115   \n",
       "2                                     0.079758   \n",
       "3                                     0.084592   \n",
       "4                                     0.162236   \n",
       "...                                        ...   \n",
       "26300                                 0.047734   \n",
       "26301                                 0.059215   \n",
       "26302                                 0.053172   \n",
       "26303                                 0.053776   \n",
       "26304                                 0.046526   \n",
       "\n",
       "       PM$_{10}$, Torkel Knutssonsgatan, lag 5  \\\n",
       "0                                     0.088218   \n",
       "1                                     0.087009   \n",
       "2                                     0.102115   \n",
       "3                                     0.079758   \n",
       "4                                     0.084592   \n",
       "...                                        ...   \n",
       "26300                                 0.048943   \n",
       "26301                                 0.047734   \n",
       "26302                                 0.059215   \n",
       "26303                                 0.053172   \n",
       "26304                                 0.053776   \n",
       "\n",
       "       PM$_{10}$, Torkel Knutssonsgatan, lag 6  \\\n",
       "0                                     0.082779   \n",
       "1                                     0.088218   \n",
       "2                                     0.087009   \n",
       "3                                     0.102115   \n",
       "4                                     0.079758   \n",
       "...                                        ...   \n",
       "26300                                 0.051964   \n",
       "26301                                 0.048943   \n",
       "26302                                 0.047734   \n",
       "26303                                 0.059215   \n",
       "26304                                 0.053172   \n",
       "\n",
       "       PM$_{2.5}$, Torkel Knutssonsgatan, lag 1  PM$_{10}$, Hornsgatan, lag 1  \n",
       "0                                      0.114865                      0.063540  \n",
       "1                                      0.155405                      0.104576  \n",
       "2                                      0.290541                      0.145613  \n",
       "3                                      0.123311                      0.065053  \n",
       "4                                      0.118243                      0.057867  \n",
       "...                                         ...                           ...  \n",
       "26300                                  0.023649                      0.025719  \n",
       "26301                                  0.021959                      0.021936  \n",
       "26302                                  0.025338                      0.022315  \n",
       "26303                                  0.037162                      0.030257  \n",
       "26304                                  0.045608                      0.038200  \n",
       "\n",
       "[26305 rows x 8 columns]"
      ]
     },
     "execution_count": 241,
     "metadata": {},
     "output_type": "execute_result"
    }
   ],
   "source": [
    "X_train \n"
   ]
  },
  {
   "cell_type": "markdown",
   "metadata": {},
   "source": [
    "# Fit a classic MLR model with sklearn"
   ]
  },
  {
   "cell_type": "code",
   "execution_count": 242,
   "metadata": {},
   "outputs": [
    {
     "name": "stdout",
     "output_type": "stream",
     "text": [
      "0.7271924826523354\n"
     ]
    }
   ],
   "source": [
    "regular_MLR = linear_model.LinearRegression(fit_intercept=True)\n",
    "regular_MLR.fit(X_train, y_train)\n",
    "print(regular_MLR.score(X_train, y_train))"
   ]
  },
  {
   "cell_type": "code",
   "execution_count": 243,
   "metadata": {},
   "outputs": [
    {
     "name": "stdout",
     "output_type": "stream",
     "text": [
      "Train error: 0.02813\n",
      "Test error: 0.02242\n"
     ]
    }
   ],
   "source": [
    "print('Train error:', (np.sqrt(mean_squared_error(regular_MLR.predict(X_train), y_train)).round(5)))\n",
    "print('Test error:', (np.sqrt(mean_squared_error(regular_MLR.predict(X_test), y_test)).round(5)))"
   ]
  },
  {
   "cell_type": "markdown",
   "metadata": {},
   "source": [
    "# Fit a ridge regression model"
   ]
  },
  {
   "cell_type": "code",
   "execution_count": 244,
   "metadata": {},
   "outputs": [],
   "source": [
    "# PM10\n",
    "n_alphas = 100\n",
    "alphas = np.logspace(-3, 4, n_alphas)\n",
    "coefs = []\n",
    "for a in alphas:\n",
    "    ridge = linear_model.Ridge(alpha=a)\n",
    "    ridge.fit(X_train, y_train)\n",
    "    coefs.append(ridge.coef_)"
   ]
  },
  {
   "cell_type": "code",
   "execution_count": 245,
   "metadata": {},
   "outputs": [
    {
     "name": "stdout",
     "output_type": "stream",
     "text": [
      "0.9770099572992257\n"
     ]
    },
    {
     "data": {
      "image/png": "[encoded data removed]",
      "text/plain": [
       "<Figure size 432x288 with 1 Axes>"
      ]
     },
     "metadata": {
      "needs_background": "light"
     },
     "output_type": "display_data"
    }
   ],
   "source": [
    "# select value of lambda with cross-validation\n",
    "from sklearn.model_selection import GridSearchCV\n",
    "pars = {'alpha':np.logspace(-3, 5, n_alphas)}\n",
    "rr = GridSearchCV(linear_model.Ridge(), pars, scoring='r2', cv=10)\n",
    "rr.fit(X_train, y_train)\n",
    "\n",
    "bestalpha = rr.best_params_['alpha']\n",
    "print(bestalpha)\n",
    "\n",
    "# ridge trace plot\n",
    "ax = plt.gca()\n",
    "ax.plot(alphas, coefs)\n",
    "ax.set_xscale('log')\n",
    "ax.set_xlim(ax.get_xlim()[::-1])\n",
    "# ax.set_ylim(-.2,.55)\n",
    "\n",
    "for i in range(len(X_train.columns)):\n",
    "    plt.text(min(alphas), coefs[0][i], X_train.columns[i], fontsize=8)\n",
    "\n",
    "plt.xlabel(r'$\\lambda$')\n",
    "plt.ylabel('Coefficients')\n",
    "plt.axvline(bestalpha, color='k', linestyle='--', linewidth=1, alpha=.75)\n",
    "plt.tight_layout()\n",
    "# plt.savefig('../plots/PM10_ridge_regression.pdf')"
   ]
  },
  {
   "cell_type": "code",
   "execution_count": 247,
   "metadata": {},
   "outputs": [
    {
     "data": {
      "text/plain": [
       "(0.02848, 0.02302)"
      ]
     },
     "execution_count": 247,
     "metadata": {},
     "output_type": "execute_result"
    }
   ],
   "source": [
    "rrbest = linear_model.Ridge(alpha=bestalpha, fit_intercept=False)\n",
    "rrbest.fit(X_train, y_train)\n",
    "(np.sqrt(mean_squared_error(rrbest.predict(X_train), y_train)).round(5), \n",
    "np.sqrt(mean_squared_error(rrbest.predict(X_test), y_test)).round(5)\n",
    ")"
   ]
  },
  {
   "cell_type": "markdown",
   "metadata": {},
   "source": [
    "# Fit a lasso regression model"
   ]
  },
  {
   "cell_type": "code",
   "execution_count": 248,
   "metadata": {},
   "outputs": [
    {
     "data": {
      "text/plain": [
       "3.90931596902103e-06"
      ]
     },
     "execution_count": 248,
     "metadata": {},
     "output_type": "execute_result"
    }
   ],
   "source": [
    "n_alphas = 100\n",
    "alphas = np.logspace(-6, -1, n_alphas)\n",
    "lasso = linear_model.Lasso()\n",
    "coefs = []\n",
    "for a in alphas:\n",
    "    lasso.set_params(alpha=a)\n",
    "    lasso.fit(X_train, y_train)\n",
    "    coefs.append(lasso.coef_)\n",
    "\n",
    "lassocv = linear_model.LassoCV(cv=10)\n",
    "lassocv.fit(X_train, y_train)\n",
    "lassocv.alpha_"
   ]
  },
  {
   "cell_type": "code",
   "execution_count": 249,
   "metadata": {},
   "outputs": [
    {
     "data": {
      "text/plain": [
       "(2.757945133157886e-06, 0.0027579451331578835)"
      ]
     },
     "execution_count": 249,
     "metadata": {},
     "output_type": "execute_result"
    }
   ],
   "source": [
    "np.min(lassocv.alphas_), np.max(lassocv.alphas_)"
   ]
  },
  {
   "cell_type": "code",
   "execution_count": 250,
   "metadata": {},
   "outputs": [
    {
     "data": {
      "image/png": "[encoded data removed]",
      "text/plain": [
       "<Figure size 432x288 with 1 Axes>"
      ]
     },
     "metadata": {
      "needs_background": "light"
     },
     "output_type": "display_data"
    }
   ],
   "source": [
    "ax = plt.gca()\n",
    "ax.plot(alphas, coefs)\n",
    "plt.xlim(min(alphas)/5, max(alphas))\n",
    "ax.set_xscale('log')\n",
    "\n",
    "for i in range(len(X_pm10.columns)):\n",
    "    plt.text(min(alphas), coefs[0][i]+0.01, X_train.columns[i], fontsize=8)\n",
    "\n",
    "plt.axvline(lassocv.alpha_, color='k', linewidth=.9, linestyle='--', alpha=.75)\n",
    "plt.xlabel(r'$\\lambda$')\n",
    "plt.ylabel('Parameters')\n",
    "plt.tight_layout()\n",
    "# plt.savefig('../plots/PM10_lasso_reg.pdf')"
   ]
  },
  {
   "cell_type": "code",
   "execution_count": 251,
   "metadata": {},
   "outputs": [
    {
     "name": "stdout",
     "output_type": "stream",
     "text": [
      "0.619 :   PM$_{10}$, Torkel Knutssonsgatan, lag 1\n",
      "0.04 :   PM$_{10}$, Torkel Knutssonsgatan, lag 2\n",
      "0.041 :   PM$_{10}$, Torkel Knutssonsgatan, lag 3\n",
      "-0.0 :   PM$_{10}$, Torkel Knutssonsgatan, lag 4\n",
      "0.006 :   PM$_{10}$, Torkel Knutssonsgatan, lag 5\n",
      "0.022 :   PM$_{10}$, Torkel Knutssonsgatan, lag 6\n",
      "0.066 :   PM$_{2.5}$, Torkel Knutssonsgatan, lag 1\n",
      "0.096 :   PM$_{10}$, Hornsgatan, lag 1\n"
     ]
    }
   ],
   "source": [
    "# coefs chosen by lasso model\n",
    "for i, j in zip(lassocv.coef_.round(3), X_train.columns):\n",
    "    print(i,':  ', j)"
   ]
  },
  {
   "cell_type": "code",
   "execution_count": 252,
   "metadata": {},
   "outputs": [
    {
     "data": {
      "text/plain": [
       "(0.05386, 0.04875)"
      ]
     },
     "execution_count": 252,
     "metadata": {},
     "output_type": "execute_result"
    }
   ],
   "source": [
    "(np.sqrt(mean_squared_error(lasso.predict(X_train), y_train)).round(5), \n",
    "np.sqrt(mean_squared_error(lasso.predict(X_test), y_test)).round(5)\n",
    ")"
   ]
  },
  {
   "cell_type": "markdown",
   "metadata": {},
   "source": [
    "# Robust regression"
   ]
  }
 ],
 "metadata": {
  "kernelspec": {
   "display_name": "Python 3.10.4 ('DL')",
   "language": "python",
   "name": "python3"
  },
  "language_info": {
   "codemirror_mode": {
    "name": "ipython",
    "version": 3
   },
   "file_extension": ".py",
   "mimetype": "text/x-python",
   "name": "python",
   "nbconvert_exporter": "python",
   "pygments_lexer": "ipython3",
   "version": "3.10.4"
  },
  "orig_nbformat": 4,
  "vscode": {
   "interpreter": {
    "hash": "2a0afe78b3ebe22049d3d74ba655a4a5f799767e6308d99c3f84aabb51861a5e"
   }
  }
 },
 "nbformat": 4,
 "nbformat_minor": 2
}
