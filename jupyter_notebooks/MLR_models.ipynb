{
 "cells": [
  {
   "cell_type": "code",
   "execution_count": 1,
   "metadata": {},
   "outputs": [],
   "source": [
    "import pandas as pd\n",
    "import numpy as np\n",
    "import matplotlib.pyplot as plt\n",
    "from sklearn.preprocessing import MinMaxScaler\n",
    "from sklearn.preprocessing import StandardScaler\n",
    "from sklearn.preprocessing import RobustScaler\n",
    "from sklearn import linear_model\n",
    "from sklearn.metrics import mean_squared_error\n",
    "from sklearn.feature_selection import RFECV\n",
    "import statsmodels.api as sm\n",
    "import statsmodels.formula.api as smf\n",
    "\n",
    "# # LaTeX style plots\n",
    "# tex_fonts = {\n",
    "#     # Use LaTeX to write all text\n",
    "#     \"text.usetex\": True,\n",
    "#     \"font.family\": \"serif\",\n",
    "#     # Use 10pt font in plots, to match 10pt font in document\n",
    "#     \"axes.labelsize\": 10,\n",
    "#     \"font.size\": 10,\n",
    "#     # Make the legend/label fonts a little smaller\n",
    "#     \"legend.fontsize\": 10,\n",
    "#     \"xtick.labelsize\": 10,\n",
    "#     \"ytick.labelsize\": 10\n",
    "#     }\n",
    "# plt.rcParams.update(tex_fonts)"
   ]
  },
  {
   "cell_type": "markdown",
   "metadata": {},
   "source": [
    "# Read in data, split into train and test sets"
   ]
  },
  {
   "cell_type": "code",
   "execution_count": 2,
   "metadata": {},
   "outputs": [],
   "source": [
    "# read in data and convert time axis to datetime\n",
    "df = pd.read_csv('../air_weather_data/pollution_and_weather_cleaned.csv')\n",
    "df['Date'] = pd.to_datetime(df['Date'], format = '%Y-%m-%d %H:%M')\n",
    "df = df.set_index('Date')"
   ]
  },
  {
   "cell_type": "code",
   "execution_count": 3,
   "metadata": {},
   "outputs": [],
   "source": [
    "np.sum(df.iloc[:,:] < 0);"
   ]
  },
  {
   "cell_type": "markdown",
   "metadata": {},
   "source": [
    "# Replace <= 0 pollution values with NaNs then linearly interpolate"
   ]
  },
  {
   "cell_type": "code",
   "execution_count": 4,
   "metadata": {},
   "outputs": [],
   "source": [
    "# df.iloc[:,:7][df.iloc[:,:7] <= 0] = np.NaN\n",
    "# df.interpolate(inplace=True)"
   ]
  },
  {
   "cell_type": "code",
   "execution_count": 5,
   "metadata": {},
   "outputs": [],
   "source": [
    "# np.sum(df.iloc[:,:].isna())\n",
    "# np.sum(df.iloc[:,:] <= 0)"
   ]
  },
  {
   "cell_type": "code",
   "execution_count": 6,
   "metadata": {},
   "outputs": [],
   "source": [
    "# df.iloc[:,:7] = np.sqrt(df.iloc[:,:7])"
   ]
  },
  {
   "cell_type": "code",
   "execution_count": 7,
   "metadata": {},
   "outputs": [],
   "source": [
    "# df.describe()"
   ]
  },
  {
   "cell_type": "markdown",
   "metadata": {},
   "source": [
    "# Create lagged values of all pollutants"
   ]
  },
  {
   "cell_type": "code",
   "execution_count": 8,
   "metadata": {},
   "outputs": [
    {
     "data": {
      "text/html": [
       "<div>\n",
       "<style scoped>\n",
       "    .dataframe tbody tr th:only-of-type {\n",
       "        vertical-align: middle;\n",
       "    }\n",
       "\n",
       "    .dataframe tbody tr th {\n",
       "        vertical-align: top;\n",
       "    }\n",
       "\n",
       "    .dataframe thead th {\n",
       "        text-align: right;\n",
       "    }\n",
       "</style>\n",
       "<table border=\"1\" class=\"dataframe\">\n",
       "  <thead>\n",
       "    <tr style=\"text-align: right;\">\n",
       "      <th></th>\n",
       "      <th>PM$_{10}$, Torkel Knutssonsgatan</th>\n",
       "      <th>Temperature</th>\n",
       "      <th>Atmospheric pressure</th>\n",
       "      <th>Relative humidity</th>\n",
       "      <th>Precipitation</th>\n",
       "      <th>Solar radiation</th>\n",
       "      <th>Wind speed</th>\n",
       "      <th>sine day</th>\n",
       "      <th>cosine day</th>\n",
       "      <th>sine week</th>\n",
       "      <th>cosine week</th>\n",
       "      <th>sine year</th>\n",
       "      <th>cosine year</th>\n",
       "      <th>PM$_{10}$, Torkel Knutssonsgatan, lag 1</th>\n",
       "      <th>PM$_{2.5}$, Torkel Knutssonsgatan, lag 1</th>\n",
       "      <th>NO$_2$, Torkel Knutssonsgatan, lag 1</th>\n",
       "      <th>PM$_{10}$, Hornsgatan, lag 1</th>\n",
       "      <th>PM$_{2.5}$, Hornsgatan, lag 1</th>\n",
       "      <th>PM$_{10}$, Norr Malma, lag 1</th>\n",
       "      <th>PM$_{2.5}$, Norr Malma, lag 1</th>\n",
       "    </tr>\n",
       "    <tr>\n",
       "      <th>Date</th>\n",
       "      <th></th>\n",
       "      <th></th>\n",
       "      <th></th>\n",
       "      <th></th>\n",
       "      <th></th>\n",
       "      <th></th>\n",
       "      <th></th>\n",
       "      <th></th>\n",
       "      <th></th>\n",
       "      <th></th>\n",
       "      <th></th>\n",
       "      <th></th>\n",
       "      <th></th>\n",
       "      <th></th>\n",
       "      <th></th>\n",
       "      <th></th>\n",
       "      <th></th>\n",
       "      <th></th>\n",
       "      <th></th>\n",
       "      <th></th>\n",
       "    </tr>\n",
       "  </thead>\n",
       "  <tbody>\n",
       "    <tr>\n",
       "      <th>2015-01-01 02:00:00</th>\n",
       "      <td>8.5</td>\n",
       "      <td>3.27575</td>\n",
       "      <td>1008.85</td>\n",
       "      <td>99.95</td>\n",
       "      <td>0.0</td>\n",
       "      <td>0.0005</td>\n",
       "      <td>5.293</td>\n",
       "      <td>0.5</td>\n",
       "      <td>0.866025</td>\n",
       "      <td>0.07473</td>\n",
       "      <td>0.997204</td>\n",
       "      <td>0.002939</td>\n",
       "      <td>0.999996</td>\n",
       "      <td>28.4</td>\n",
       "      <td>22.9</td>\n",
       "      <td>4.5</td>\n",
       "      <td>32.5</td>\n",
       "      <td>15.1</td>\n",
       "      <td>7.7</td>\n",
       "      <td>3.8</td>\n",
       "    </tr>\n",
       "  </tbody>\n",
       "</table>\n",
       "</div>"
      ],
      "text/plain": [
       "                     PM$_{10}$, Torkel Knutssonsgatan  Temperature  \\\n",
       "Date                                                                 \n",
       "2015-01-01 02:00:00                               8.5      3.27575   \n",
       "\n",
       "                     Atmospheric pressure  Relative humidity  Precipitation  \\\n",
       "Date                                                                          \n",
       "2015-01-01 02:00:00               1008.85              99.95            0.0   \n",
       "\n",
       "                     Solar radiation  Wind speed  sine day  cosine day  \\\n",
       "Date                                                                     \n",
       "2015-01-01 02:00:00           0.0005       5.293       0.5    0.866025   \n",
       "\n",
       "                     sine week  cosine week  sine year  cosine year  \\\n",
       "Date                                                                  \n",
       "2015-01-01 02:00:00    0.07473     0.997204   0.002939     0.999996   \n",
       "\n",
       "                     PM$_{10}$, Torkel Knutssonsgatan, lag 1  \\\n",
       "Date                                                           \n",
       "2015-01-01 02:00:00                                     28.4   \n",
       "\n",
       "                     PM$_{2.5}$, Torkel Knutssonsgatan, lag 1  \\\n",
       "Date                                                            \n",
       "2015-01-01 02:00:00                                      22.9   \n",
       "\n",
       "                     NO$_2$, Torkel Knutssonsgatan, lag 1  \\\n",
       "Date                                                        \n",
       "2015-01-01 02:00:00                                   4.5   \n",
       "\n",
       "                     PM$_{10}$, Hornsgatan, lag 1  \\\n",
       "Date                                                \n",
       "2015-01-01 02:00:00                          32.5   \n",
       "\n",
       "                     PM$_{2.5}$, Hornsgatan, lag 1  \\\n",
       "Date                                                 \n",
       "2015-01-01 02:00:00                           15.1   \n",
       "\n",
       "                     PM$_{10}$, Norr Malma, lag 1  \\\n",
       "Date                                                \n",
       "2015-01-01 02:00:00                           7.7   \n",
       "\n",
       "                     PM$_{2.5}$, Norr Malma, lag 1  \n",
       "Date                                                \n",
       "2015-01-01 02:00:00                            3.8  "
      ]
     },
     "execution_count": 8,
     "metadata": {},
     "output_type": "execute_result"
    }
   ],
   "source": [
    "df['PM$_{10}$, Torkel Knutssonsgatan, lag 1'] = df['PM$_{10}$, Torkel Knutssonsgatan'].shift(1)\n",
    "df['PM$_{2.5}$, Torkel Knutssonsgatan, lag 1'] = df['PM$_{2.5}$, Torkel Knutssonsgatan'].shift(1)\n",
    "df['NO$_2$, Torkel Knutssonsgatan, lag 1'] = df['NO$_2$, Torkel Knutssonsgatan'].shift(1)\n",
    "\n",
    "df['PM$_{10}$, Hornsgatan, lag 1'] = df['PM$_{10}$, Hornsgatan'].shift(1)\n",
    "df['PM$_{2.5}$, Hornsgatan, lag 1'] = df['PM$_{2.5}$, Hornsgatan'].shift(1)\n",
    "\n",
    "df['PM$_{10}$, Norr Malma, lag 1'] = df['PM$_{10}$, Norr Malma'].shift(1)\n",
    "df['PM$_{2.5}$, Norr Malma, lag 1'] = df['PM$_{2.5}$, Norr Malma'].shift(1)\n",
    "\n",
    "df = df.dropna() # dropping first row which now contains nan values\n",
    "\n",
    "# drop all non-lagged pollution variables which are not to be forecasted\n",
    "df = df.drop([\n",
    "              # 'PM$_{10}$, Torkel Knutssonsgatan', \n",
    "              'PM$_{2.5}$, Torkel Knutssonsgatan',\n",
    "              'NO$_2$, Torkel Knutssonsgatan',\n",
    "              'PM$_{10}$, Hornsgatan',\n",
    "              'PM$_{2.5}$, Hornsgatan',\n",
    "              'PM$_{10}$, Norr Malma',\n",
    "              'PM$_{2.5}$, Norr Malma',\n",
    "              # 'Temperature',\n",
    "              # 'Atmospheric pressure',\n",
    "              # 'Relative humidity',\n",
    "              # 'Precipitation',\n",
    "              # 'Solar radiation',\n",
    "              # 'Wind speed',\n",
    "              # 'sine day', 'cosine day', 'sine week', 'cosine week', 'sine year','cosine year'\n",
    "              ],axis=1)\n",
    "df.head(1)"
   ]
  },
  {
   "cell_type": "code",
   "execution_count": 9,
   "metadata": {},
   "outputs": [],
   "source": [
    "# '2016-01-01 00:00:00'\n",
    "\n",
    "# split to train and test set\n",
    "df_train = df[:'2019-01-01 00:00:00']\n",
    "df_test = df['2021-01-01 00:00:00':]"
   ]
  },
  {
   "cell_type": "markdown",
   "metadata": {},
   "source": [
    "# MinMax normalize train and test data "
   ]
  },
  {
   "cell_type": "code",
   "execution_count": 10,
   "metadata": {},
   "outputs": [],
   "source": [
    "# scaler = StandardScaler()\n",
    "scaler = MinMaxScaler()\n",
    "# scaler = RobustScaler()\n",
    "\n",
    "# normalize and make dataframe of training set\n",
    "df_train = scaler.fit_transform(df_train.values)\n",
    "df_train = pd.DataFrame(df_train, columns=df.columns)\n",
    "\n",
    "# normalize test set with statistics from training data, and make dataframe\n",
    "df_test = scaler.transform(df_test.values)\n",
    "df_test = pd.DataFrame(df_test, columns=df.columns)\n",
    "\n",
    "# inversed = scaler.inverse_transform(df_train_norm) # inverse normalization\n",
    "# df_train_norm['PM$_{2.5}$, Torkel Knutssonsgatan']\n",
    "# df_train_norm.head(3)"
   ]
  },
  {
   "cell_type": "code",
   "execution_count": 11,
   "metadata": {},
   "outputs": [],
   "source": [
    "# d = pd.DataFrame({'a':np.arange(2,7), 'b':np.arange(3,8), 'c':np.arange(4,9)})\n",
    "# d_ = scaler.fit_transform(d)\n",
    "# d_ = pd.DataFrame(d_, columns = d.columns)\n",
    "# scaler.inverse_transform(d_), d"
   ]
  },
  {
   "cell_type": "markdown",
   "metadata": {},
   "source": [
    "# Split into X and y "
   ]
  },
  {
   "cell_type": "code",
   "execution_count": 12,
   "metadata": {},
   "outputs": [],
   "source": [
    "# training set\n",
    "y = df_train[[\n",
    "             'PM$_{10}$, Torkel Knutssonsgatan',\n",
    "            #  'PM$_{2.5}$, Torkel Knutssonsgatan'\n",
    "            #  'NO$_2$, Torkel Knutssonsgatan',\n",
    "            #  'PM$_{10}$, Hornsgatan'\n",
    "            ]]\n",
    "\n",
    "X = df_train.drop([\n",
    "                   'PM$_{10}$, Torkel Knutssonsgatan',\n",
    "                  #  'PM$_{2.5}$, Torkel Knutssonsgatan'\n",
    "                  #  'PM$_{2.5}$, Torkel Knutssonsgatan',\n",
    "                  # 'PM$_{10}$, Hornsgatan'\n",
    "                  ], axis=1)\n",
    "\n",
    "# test set\n",
    "y_test = df_test[[\n",
    "                 'PM$_{10}$, Torkel Knutssonsgatan',\n",
    "               #   'PM$_{2.5}$, Torkel Knutssonsgatan'\n",
    "                #  'NO$_2$, Torkel Knutssonsgatan'\n",
    "                # 'PM$_{10}$, Hornsgatan'\n",
    "                 ]]\n",
    "\n",
    "X_test = df_test.drop([\n",
    "                       'PM$_{10}$, Torkel Knutssonsgatan',\n",
    "                    #    'NO$_2$, Torkel Knutssonsgatan'\n",
    "                     #   'PM$_{2.5}$, Torkel Knutssonsgatan'\n",
    "                    #    'PM$_{2.5}$, Torkel Knutssonsgatan',\n",
    "                      #  'PM$_{10}$, Hornsgatan'\n",
    "                      ], axis=1)\n",
    "\n"
   ]
  },
  {
   "cell_type": "markdown",
   "metadata": {},
   "source": [
    "# Fit a ridge regression model"
   ]
  },
  {
   "cell_type": "code",
   "execution_count": 31,
   "metadata": {},
   "outputs": [],
   "source": [
    "from itertools import chain\n",
    "\n",
    "# PM10\n",
    "n_alphas = 50\n",
    "alphas = np.logspace(-2, 4, n_alphas)\n",
    "coefs = []\n",
    "for a in alphas:\n",
    "    ridge = linear_model.Ridge(alpha=a, fit_intercept=True)\n",
    "    ridge.fit(X, y)\n",
    "    coefs.append(list(chain(*ridge.coef_)))"
   ]
  },
  {
   "cell_type": "code",
   "execution_count": 32,
   "metadata": {},
   "outputs": [
    {
     "data": {
      "text/plain": [
       "(50, 19)"
      ]
     },
     "execution_count": 32,
     "metadata": {},
     "output_type": "execute_result"
    }
   ],
   "source": [
    "np.shape(coefs)"
   ]
  },
  {
   "cell_type": "code",
   "execution_count": 36,
   "metadata": {},
   "outputs": [
    {
     "name": "stdout",
     "output_type": "stream",
     "text": [
      "0.1757510624854792\n"
     ]
    },
    {
     "data": {
      "image/png": "[encoded data removed]",
      "text/plain": [
       "<Figure size 432x288 with 1 Axes>"
      ]
     },
     "metadata": {
      "needs_background": "light"
     },
     "output_type": "display_data"
    }
   ],
   "source": [
    "# select value of lambda with cross-validation\n",
    "from sklearn.model_selection import GridSearchCV\n",
    "pars = {'alpha':np.logspace(-1, 1, n_alphas)}\n",
    "rr = GridSearchCV(linear_model.Ridge(), pars, scoring='r2', cv=10)\n",
    "rr.fit(X, y)\n",
    "\n",
    "bestalpha = rr.best_params_['alpha']\n",
    "print(bestalpha)\n",
    "\n",
    "# ridge trace plot\n",
    "ax = plt.gca()\n",
    "ax.plot(alphas, coefs)\n",
    "ax.set_xscale('log')\n",
    "ax.set_xlim(ax.get_xlim()[::-1])\n",
    "# ax.set_ylim(-.2,.55)\n",
    "\n",
    "for i in range(len(X.columns)):\n",
    "    plt.text(min(alphas), coefs[0][i], X.columns[i], fontsize=8)\n",
    "\n",
    "plt.xlabel(r'$\\lambda$')\n",
    "plt.ylabel('Coefficients')\n",
    "plt.axvline(bestalpha, color='k', linestyle='--', linewidth=1, alpha=.75)\n",
    "plt.tight_layout()\n",
    "plt.savefig('../plots/PM10_ridge_regression.pdf')"
   ]
  },
  {
   "cell_type": "code",
   "execution_count": 24,
   "metadata": {},
   "outputs": [
    {
     "data": {
      "text/plain": [
       "(0.02719, 0.02192)"
      ]
     },
     "execution_count": 24,
     "metadata": {},
     "output_type": "execute_result"
    }
   ],
   "source": [
    "rrbest = linear_model.Ridge(alpha=bestalpha, fit_intercept=True)\n",
    "rrbest.fit(X, y)\n",
    "(np.sqrt(mean_squared_error(rrbest.predict(X), y)).round(5), \n",
    "np.sqrt(mean_squared_error(rrbest.predict(X_test), y_test)).round(5)\n",
    ")"
   ]
  },
  {
   "cell_type": "markdown",
   "metadata": {},
   "source": [
    "# Fit a lasso regression model"
   ]
  },
  {
   "cell_type": "code",
   "execution_count": 28,
   "metadata": {},
   "outputs": [
    {
     "name": "stderr",
     "output_type": "stream",
     "text": [
      "/Users/simoncarlen/opt/miniconda3/envs/DL/lib/python3.10/site-packages/sklearn/linear_model/_coordinate_descent.py:1571: DataConversionWarning: A column-vector y was passed when a 1d array was expected. Please change the shape of y to (n_samples, ), for example using ravel().\n",
      "  y = column_or_1d(y, warn=True)\n"
     ]
    },
    {
     "data": {
      "text/plain": [
       "4.7611372083408074e-06"
      ]
     },
     "execution_count": 28,
     "metadata": {},
     "output_type": "execute_result"
    }
   ],
   "source": [
    "n_alphas = 50\n",
    "alphas = np.logspace(-10, 2, n_alphas)\n",
    "lasso = linear_model.Lasso()\n",
    "coefs = []\n",
    "for a in alphas:\n",
    "    lasso.set_params(alpha=a)\n",
    "    lasso.fit(X, y)\n",
    "    coefs.append(lasso.coef_)\n",
    "\n",
    "lassocv = linear_model.LassoCV(cv=10)\n",
    "lassocv.fit(X, y)\n",
    "lassocv.alpha_"
   ]
  },
  {
   "cell_type": "code",
   "execution_count": 29,
   "metadata": {},
   "outputs": [
    {
     "data": {
      "text/plain": [
       "(50, 19)"
      ]
     },
     "execution_count": 29,
     "metadata": {},
     "output_type": "execute_result"
    }
   ],
   "source": [
    "np.shape(coefs)"
   ]
  },
  {
   "cell_type": "code",
   "execution_count": 25,
   "metadata": {},
   "outputs": [
    {
     "data": {
      "text/plain": [
       "(3.6016256955656445e-06, 0.0036016256955656483)"
      ]
     },
     "execution_count": 25,
     "metadata": {},
     "output_type": "execute_result"
    }
   ],
   "source": [
    "np.min(lassocv.alphas_), np.max(lassocv.alphas_)"
   ]
  },
  {
   "cell_type": "code",
   "execution_count": 26,
   "metadata": {},
   "outputs": [
    {
     "data": {
      "text/plain": [
       "(50, 19)"
      ]
     },
     "execution_count": 26,
     "metadata": {},
     "output_type": "execute_result"
    }
   ],
   "source": [
    "np.shape(coefs)"
   ]
  },
  {
   "cell_type": "code",
   "execution_count": 27,
   "metadata": {},
   "outputs": [
    {
     "data": {
      "image/png": "[encoded data removed]",
      "text/plain": [
       "<Figure size 432x288 with 1 Axes>"
      ]
     },
     "metadata": {
      "needs_background": "light"
     },
     "output_type": "display_data"
    }
   ],
   "source": [
    "ax = plt.gca()\n",
    "ax.plot(alphas, coefs)\n",
    "plt.xlim(min(alphas)/5, max(alphas))\n",
    "ax.set_xscale('log')\n",
    "\n",
    "for i in range(len(X.columns)):\n",
    "    plt.text(min(alphas), coefs[0][i]+0.01, X.columns[i], fontsize=8)\n",
    "\n",
    "plt.axvline(lassocv.alpha_, color='k', linewidth=.9, linestyle='--', alpha=.75)\n",
    "plt.xlabel(r'$\\lambda$')\n",
    "plt.ylabel('Parameters')\n",
    "plt.tight_layout()\n",
    "# plt.savefig('../plots/PM10_lasso_reg.pdf')"
   ]
  },
  {
   "cell_type": "code",
   "execution_count": 42,
   "metadata": {},
   "outputs": [
    {
     "name": "stdout",
     "output_type": "stream",
     "text": [
      "Temperature :   0.021\n",
      "Atmospheric pressure :   0.008\n",
      "Relative humidity :   -0.021\n",
      "Precipitation :   -0.0\n",
      "Solar radiation :   -0.014\n",
      "Wind speed :   0.0\n",
      "sine day :   0.005\n",
      "cosine day :   -0.008\n",
      "sine week :   -0.002\n",
      "cosine week :   0.002\n",
      "sine year :   0.008\n",
      "cosine year :   0.007\n",
      "PM$_{10}$, Torkel Knutssonsgatan, lag 1 :   0.652\n",
      "PM$_{2.5}$, Torkel Knutssonsgatan, lag 1 :   0.038\n",
      "NO$_2$, Torkel Knutssonsgatan, lag 1 :   0.017\n",
      "PM$_{10}$, Hornsgatan, lag 1 :   0.076\n",
      "PM$_{2.5}$, Hornsgatan, lag 1 :   0.019\n",
      "PM$_{10}$, Norr Malma, lag 1 :   0.072\n",
      "PM$_{2.5}$, Norr Malma, lag 1 :   0.02\n"
     ]
    }
   ],
   "source": [
    "# coefs chosen by lasso model\n",
    "for i, j in zip(X.columns, lassocv.coef_.round(3)):\n",
    "    print(i,':  ', j)"
   ]
  },
  {
   "cell_type": "code",
   "execution_count": 43,
   "metadata": {},
   "outputs": [
    {
     "data": {
      "text/plain": [
       "(0.05275, 0.04913)"
      ]
     },
     "execution_count": 43,
     "metadata": {},
     "output_type": "execute_result"
    }
   ],
   "source": [
    "np.sqrt(mean_squared_error(lasso.predict(X), y)).round(5), np.sqrt(mean_squared_error(lasso.predict(X_test), y_test)).round(5)"
   ]
  }
 ],
 "metadata": {
  "kernelspec": {
   "display_name": "Python 3.10.4 ('DL')",
   "language": "python",
   "name": "python3"
  },
  "language_info": {
   "codemirror_mode": {
    "name": "ipython",
    "version": 3
   },
   "file_extension": ".py",
   "mimetype": "text/x-python",
   "name": "python",
   "nbconvert_exporter": "python",
   "pygments_lexer": "ipython3",
   "version": "3.10.4"
  },
  "orig_nbformat": 4,
  "vscode": {
   "interpreter": {
    "hash": "2a0afe78b3ebe22049d3d74ba655a4a5f799767e6308d99c3f84aabb51861a5e"
   }
  }
 },
 "nbformat": 4,
 "nbformat_minor": 2
}
