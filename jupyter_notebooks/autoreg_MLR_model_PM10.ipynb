{
 "cells": [
  {
   "cell_type": "code",
   "execution_count": 1,
   "metadata": {},
   "outputs": [],
   "source": [
    "import pandas as pd\n",
    "import numpy as np\n",
    "import matplotlib.pyplot as plt\n",
    "from sklearn.preprocessing import MinMaxScaler\n",
    "import statsmodels.api as sm\n",
    "import statsmodels.formula.api as smf\n",
    "from sklearn.metrics import mean_squared_error\n",
    "from sklearn.metrics import mean_absolute_percentage_error\n",
    "\n",
    "tex_fonts = {\n",
    "    # Use LaTeX to write all text\n",
    "    \"text.usetex\": True,\n",
    "    \"font.family\": \"serif\",\n",
    "    # Use 10pt font in plots, to match 10pt font in document\n",
    "    \"axes.labelsize\": 10,\n",
    "    \"font.size\": 10,\n",
    "    # Make the legend/label fonts a little smaller\n",
    "    \"legend.fontsize\": 10,\n",
    "    \"xtick.labelsize\": 10,\n",
    "    \"ytick.labelsize\": 10\n",
    "    }\n",
    "plt.rcParams.update(tex_fonts)"
   ]
  },
  {
   "cell_type": "markdown",
   "metadata": {},
   "source": [
    "# Preprocess data"
   ]
  },
  {
   "cell_type": "code",
   "execution_count": 2,
   "metadata": {},
   "outputs": [],
   "source": [
    "# read in data\n",
    "df = pd.read_csv('../air_weather_data/pollution_and_weather_cleaned.csv')\n",
    "df['Date'] = pd.to_datetime(df['Date'], format = '%Y-%m-%d %H:%M') # change time column to pandas datetime\n",
    "df = df.set_index('Date') # date column as index"
   ]
  },
  {
   "cell_type": "code",
   "execution_count": 3,
   "metadata": {},
   "outputs": [],
   "source": [
    "# create separate dataframes\n",
    "\n",
    "# df_PM10 = df['PM$_{10}$, Torkel Knutssonsgatan'].to_frame()\n",
    "# df_PM2p5 = df['PM$_{2.5}$, Torkel Knutssonsgatan'].to_frame()\n",
    "\n",
    "df_PM10 = df[['PM$_{10}$, Torkel Knutssonsgatan', \n",
    "              'PM$_{10}$, Hornsgatan', \n",
    "              'PM$_{10}$, Norr Malma',\n",
    "              'PM$_{2.5}$, Torkel Knutssonsgatan', \n",
    "              'PM$_{2.5}$, Hornsgatan', \n",
    "              'PM$_{2.5}$, Norr Malma'\n",
    "              ]]\n",
    "\n",
    "df_PM2p5 = df[['PM$_{2.5}$, Torkel Knutssonsgatan', \n",
    "               'PM$_{2.5}$, Hornsgatan', \n",
    "               'PM$_{2.5}$, Norr Malma',\n",
    "               'PM$_{10}$, Torkel Knutssonsgatan', \n",
    "               'PM$_{10}$, Hornsgatan', \n",
    "               'PM$_{10}$, Norr Malma'\n",
    "               ]]"
   ]
  },
  {
   "cell_type": "code",
   "execution_count": 4,
   "metadata": {},
   "outputs": [
    {
     "name": "stderr",
     "output_type": "stream",
     "text": [
      "/var/folders/3k/1wztchzs50j4jyq74xpccr3m0000gn/T/ipykernel_7029/4134975453.py:2: SettingWithCopyWarning: \n",
      "A value is trying to be set on a copy of a slice from a DataFrame.\n",
      "Try using .loc[row_indexer,col_indexer] = value instead\n",
      "\n",
      "See the caveats in the documentation: https://pandas.pydata.org/pandas-docs/stable/user_guide/indexing.html#returning-a-view-versus-a-copy\n",
      "  df_PM10[df_PM10 <= 0] = np.NaN\n",
      "/var/folders/3k/1wztchzs50j4jyq74xpccr3m0000gn/T/ipykernel_7029/4134975453.py:2: SettingWithCopyWarning: \n",
      "A value is trying to be set on a copy of a slice from a DataFrame\n",
      "\n",
      "See the caveats in the documentation: https://pandas.pydata.org/pandas-docs/stable/user_guide/indexing.html#returning-a-view-versus-a-copy\n",
      "  df_PM10[df_PM10 <= 0] = np.NaN\n",
      "/var/folders/3k/1wztchzs50j4jyq74xpccr3m0000gn/T/ipykernel_7029/4134975453.py:3: SettingWithCopyWarning: \n",
      "A value is trying to be set on a copy of a slice from a DataFrame\n",
      "\n",
      "See the caveats in the documentation: https://pandas.pydata.org/pandas-docs/stable/user_guide/indexing.html#returning-a-view-versus-a-copy\n",
      "  df_PM10.interpolate(inplace=True)\n",
      "/var/folders/3k/1wztchzs50j4jyq74xpccr3m0000gn/T/ipykernel_7029/4134975453.py:5: SettingWithCopyWarning: \n",
      "A value is trying to be set on a copy of a slice from a DataFrame.\n",
      "Try using .loc[row_indexer,col_indexer] = value instead\n",
      "\n",
      "See the caveats in the documentation: https://pandas.pydata.org/pandas-docs/stable/user_guide/indexing.html#returning-a-view-versus-a-copy\n",
      "  df_PM2p5[df_PM2p5 <= 0] = np.NaN\n",
      "/var/folders/3k/1wztchzs50j4jyq74xpccr3m0000gn/T/ipykernel_7029/4134975453.py:5: SettingWithCopyWarning: \n",
      "A value is trying to be set on a copy of a slice from a DataFrame\n",
      "\n",
      "See the caveats in the documentation: https://pandas.pydata.org/pandas-docs/stable/user_guide/indexing.html#returning-a-view-versus-a-copy\n",
      "  df_PM2p5[df_PM2p5 <= 0] = np.NaN\n",
      "/var/folders/3k/1wztchzs50j4jyq74xpccr3m0000gn/T/ipykernel_7029/4134975453.py:6: SettingWithCopyWarning: \n",
      "A value is trying to be set on a copy of a slice from a DataFrame\n",
      "\n",
      "See the caveats in the documentation: https://pandas.pydata.org/pandas-docs/stable/user_guide/indexing.html#returning-a-view-versus-a-copy\n",
      "  df_PM2p5.interpolate(inplace=True)\n"
     ]
    }
   ],
   "source": [
    "# drop negative and zero values and interpolate\n",
    "df_PM10[df_PM10 <= 0] = np.NaN\n",
    "df_PM10.interpolate(inplace=True)\n",
    "\n",
    "df_PM2p5[df_PM2p5 <= 0] = np.NaN\n",
    "df_PM2p5.interpolate(inplace=True)"
   ]
  },
  {
   "cell_type": "code",
   "execution_count": 5,
   "metadata": {},
   "outputs": [
    {
     "name": "stderr",
     "output_type": "stream",
     "text": [
      "/var/folders/3k/1wztchzs50j4jyq74xpccr3m0000gn/T/ipykernel_7029/287243627.py:4: SettingWithCopyWarning: \n",
      "A value is trying to be set on a copy of a slice from a DataFrame.\n",
      "Try using .loc[row_indexer,col_indexer] = value instead\n",
      "\n",
      "See the caveats in the documentation: https://pandas.pydata.org/pandas-docs/stable/user_guide/indexing.html#returning-a-view-versus-a-copy\n",
      "  df_PM10['PM$_{10}$, Torkel Knutssonsgatan lag1'] = df_PM10['PM$_{10}$, Torkel Knutssonsgatan'].shift(1)\n",
      "/var/folders/3k/1wztchzs50j4jyq74xpccr3m0000gn/T/ipykernel_7029/287243627.py:5: SettingWithCopyWarning: \n",
      "A value is trying to be set on a copy of a slice from a DataFrame.\n",
      "Try using .loc[row_indexer,col_indexer] = value instead\n",
      "\n",
      "See the caveats in the documentation: https://pandas.pydata.org/pandas-docs/stable/user_guide/indexing.html#returning-a-view-versus-a-copy\n",
      "  df_PM10['PM$_{10}$, Torkel Knutssonsgatan lag2'] = df_PM10['PM$_{10}$, Torkel Knutssonsgatan'].shift(2)\n",
      "/var/folders/3k/1wztchzs50j4jyq74xpccr3m0000gn/T/ipykernel_7029/287243627.py:6: SettingWithCopyWarning: \n",
      "A value is trying to be set on a copy of a slice from a DataFrame.\n",
      "Try using .loc[row_indexer,col_indexer] = value instead\n",
      "\n",
      "See the caveats in the documentation: https://pandas.pydata.org/pandas-docs/stable/user_guide/indexing.html#returning-a-view-versus-a-copy\n",
      "  df_PM10['PM$_{10}$, Hornsgatan lag1'] = df_PM10['PM$_{10}$, Hornsgatan'].shift(1)\n",
      "/var/folders/3k/1wztchzs50j4jyq74xpccr3m0000gn/T/ipykernel_7029/287243627.py:7: SettingWithCopyWarning: \n",
      "A value is trying to be set on a copy of a slice from a DataFrame.\n",
      "Try using .loc[row_indexer,col_indexer] = value instead\n",
      "\n",
      "See the caveats in the documentation: https://pandas.pydata.org/pandas-docs/stable/user_guide/indexing.html#returning-a-view-versus-a-copy\n",
      "  df_PM10['PM$_{10}$, Norr Malma lag1'] = df_PM10['PM$_{10}$, Norr Malma'].shift(1)\n",
      "/var/folders/3k/1wztchzs50j4jyq74xpccr3m0000gn/T/ipykernel_7029/287243627.py:8: SettingWithCopyWarning: \n",
      "A value is trying to be set on a copy of a slice from a DataFrame.\n",
      "Try using .loc[row_indexer,col_indexer] = value instead\n",
      "\n",
      "See the caveats in the documentation: https://pandas.pydata.org/pandas-docs/stable/user_guide/indexing.html#returning-a-view-versus-a-copy\n",
      "  df_PM10['PM$_{2.5}$, Torkel Knutssonsgatan lag1'] = df_PM10['PM$_{2.5}$, Torkel Knutssonsgatan'].shift(1)\n",
      "/var/folders/3k/1wztchzs50j4jyq74xpccr3m0000gn/T/ipykernel_7029/287243627.py:9: SettingWithCopyWarning: \n",
      "A value is trying to be set on a copy of a slice from a DataFrame.\n",
      "Try using .loc[row_indexer,col_indexer] = value instead\n",
      "\n",
      "See the caveats in the documentation: https://pandas.pydata.org/pandas-docs/stable/user_guide/indexing.html#returning-a-view-versus-a-copy\n",
      "  df_PM10['PM$_{2.5}$, Hornsgatan lag1'] = df_PM10['PM$_{2.5}$, Hornsgatan'].shift(1)\n",
      "/var/folders/3k/1wztchzs50j4jyq74xpccr3m0000gn/T/ipykernel_7029/287243627.py:10: SettingWithCopyWarning: \n",
      "A value is trying to be set on a copy of a slice from a DataFrame.\n",
      "Try using .loc[row_indexer,col_indexer] = value instead\n",
      "\n",
      "See the caveats in the documentation: https://pandas.pydata.org/pandas-docs/stable/user_guide/indexing.html#returning-a-view-versus-a-copy\n",
      "  df_PM10['PM$_{2.5}$, Norr Malma lag1'] = df_PM10['PM$_{2.5}$, Norr Malma'].shift(1)\n",
      "/var/folders/3k/1wztchzs50j4jyq74xpccr3m0000gn/T/ipykernel_7029/287243627.py:12: SettingWithCopyWarning: \n",
      "A value is trying to be set on a copy of a slice from a DataFrame\n",
      "\n",
      "See the caveats in the documentation: https://pandas.pydata.org/pandas-docs/stable/user_guide/indexing.html#returning-a-view-versus-a-copy\n",
      "  df_PM10.dropna(inplace=True)\n",
      "/var/folders/3k/1wztchzs50j4jyq74xpccr3m0000gn/T/ipykernel_7029/287243627.py:15: SettingWithCopyWarning: \n",
      "A value is trying to be set on a copy of a slice from a DataFrame.\n",
      "Try using .loc[row_indexer,col_indexer] = value instead\n",
      "\n",
      "See the caveats in the documentation: https://pandas.pydata.org/pandas-docs/stable/user_guide/indexing.html#returning-a-view-versus-a-copy\n",
      "  df_PM2p5['PM$_{2.5}$, Torkel Knutssonsgatan lag1'] = df_PM2p5['PM$_{2.5}$, Torkel Knutssonsgatan'].shift(1)\n",
      "/var/folders/3k/1wztchzs50j4jyq74xpccr3m0000gn/T/ipykernel_7029/287243627.py:16: SettingWithCopyWarning: \n",
      "A value is trying to be set on a copy of a slice from a DataFrame.\n",
      "Try using .loc[row_indexer,col_indexer] = value instead\n",
      "\n",
      "See the caveats in the documentation: https://pandas.pydata.org/pandas-docs/stable/user_guide/indexing.html#returning-a-view-versus-a-copy\n",
      "  df_PM2p5['PM$_{2.5}$, Torkel Knutssonsgatan lag2'] = df_PM2p5['PM$_{2.5}$, Torkel Knutssonsgatan'].shift(2)\n",
      "/var/folders/3k/1wztchzs50j4jyq74xpccr3m0000gn/T/ipykernel_7029/287243627.py:17: SettingWithCopyWarning: \n",
      "A value is trying to be set on a copy of a slice from a DataFrame.\n",
      "Try using .loc[row_indexer,col_indexer] = value instead\n",
      "\n",
      "See the caveats in the documentation: https://pandas.pydata.org/pandas-docs/stable/user_guide/indexing.html#returning-a-view-versus-a-copy\n",
      "  df_PM2p5['PM$_{2.5}$, Hornsgatan, lag1'] = df_PM2p5['PM$_{2.5}$, Hornsgatan'].shift(1)\n",
      "/var/folders/3k/1wztchzs50j4jyq74xpccr3m0000gn/T/ipykernel_7029/287243627.py:18: SettingWithCopyWarning: \n",
      "A value is trying to be set on a copy of a slice from a DataFrame.\n",
      "Try using .loc[row_indexer,col_indexer] = value instead\n",
      "\n",
      "See the caveats in the documentation: https://pandas.pydata.org/pandas-docs/stable/user_guide/indexing.html#returning-a-view-versus-a-copy\n",
      "  df_PM2p5['PM$_{2.5}$, Norr Malma, lag1'] = df_PM2p5['PM$_{2.5}$, Norr Malma'].shift(1)\n",
      "/var/folders/3k/1wztchzs50j4jyq74xpccr3m0000gn/T/ipykernel_7029/287243627.py:19: SettingWithCopyWarning: \n",
      "A value is trying to be set on a copy of a slice from a DataFrame.\n",
      "Try using .loc[row_indexer,col_indexer] = value instead\n",
      "\n",
      "See the caveats in the documentation: https://pandas.pydata.org/pandas-docs/stable/user_guide/indexing.html#returning-a-view-versus-a-copy\n",
      "  df_PM2p5['PM$_{10}$, Torkel Knutssonsgatan lag1'] = df_PM2p5['PM$_{10}$, Torkel Knutssonsgatan'].shift(1)\n",
      "/var/folders/3k/1wztchzs50j4jyq74xpccr3m0000gn/T/ipykernel_7029/287243627.py:20: SettingWithCopyWarning: \n",
      "A value is trying to be set on a copy of a slice from a DataFrame.\n",
      "Try using .loc[row_indexer,col_indexer] = value instead\n",
      "\n",
      "See the caveats in the documentation: https://pandas.pydata.org/pandas-docs/stable/user_guide/indexing.html#returning-a-view-versus-a-copy\n",
      "  df_PM2p5['PM$_{10}$, Hornsgatan, lag1'] = df_PM2p5['PM$_{10}$, Hornsgatan'].shift(1)\n",
      "/var/folders/3k/1wztchzs50j4jyq74xpccr3m0000gn/T/ipykernel_7029/287243627.py:21: SettingWithCopyWarning: \n",
      "A value is trying to be set on a copy of a slice from a DataFrame.\n",
      "Try using .loc[row_indexer,col_indexer] = value instead\n",
      "\n",
      "See the caveats in the documentation: https://pandas.pydata.org/pandas-docs/stable/user_guide/indexing.html#returning-a-view-versus-a-copy\n",
      "  df_PM2p5['PM$_{10}$, Norr Malma, lag1'] = df_PM2p5['PM$_{10}$, Norr Malma'].shift(1)\n",
      "/var/folders/3k/1wztchzs50j4jyq74xpccr3m0000gn/T/ipykernel_7029/287243627.py:24: SettingWithCopyWarning: \n",
      "A value is trying to be set on a copy of a slice from a DataFrame\n",
      "\n",
      "See the caveats in the documentation: https://pandas.pydata.org/pandas-docs/stable/user_guide/indexing.html#returning-a-view-versus-a-copy\n",
      "  df_PM2p5.dropna(inplace=True)\n"
     ]
    }
   ],
   "source": [
    "# create lagged values\n",
    "\n",
    "# PM10 predictions\n",
    "df_PM10['PM$_{10}$, Torkel Knutssonsgatan lag1'] = df_PM10['PM$_{10}$, Torkel Knutssonsgatan'].shift(1)\n",
    "df_PM10['PM$_{10}$, Torkel Knutssonsgatan lag2'] = df_PM10['PM$_{10}$, Torkel Knutssonsgatan'].shift(2)\n",
    "df_PM10['PM$_{10}$, Hornsgatan lag1'] = df_PM10['PM$_{10}$, Hornsgatan'].shift(1)\n",
    "df_PM10['PM$_{10}$, Norr Malma lag1'] = df_PM10['PM$_{10}$, Norr Malma'].shift(1)\n",
    "df_PM10['PM$_{2.5}$, Torkel Knutssonsgatan lag1'] = df_PM10['PM$_{2.5}$, Torkel Knutssonsgatan'].shift(1)\n",
    "df_PM10['PM$_{2.5}$, Hornsgatan lag1'] = df_PM10['PM$_{2.5}$, Hornsgatan'].shift(1)\n",
    "df_PM10['PM$_{2.5}$, Norr Malma lag1'] = df_PM10['PM$_{2.5}$, Norr Malma'].shift(1)\n",
    "\n",
    "df_PM10.dropna(inplace=True)\n",
    "\n",
    "# PM2.5 predictions\n",
    "df_PM2p5['PM$_{2.5}$, Torkel Knutssonsgatan lag1'] = df_PM2p5['PM$_{2.5}$, Torkel Knutssonsgatan'].shift(1)\n",
    "df_PM2p5['PM$_{2.5}$, Torkel Knutssonsgatan lag2'] = df_PM2p5['PM$_{2.5}$, Torkel Knutssonsgatan'].shift(2)\n",
    "df_PM2p5['PM$_{2.5}$, Hornsgatan, lag1'] = df_PM2p5['PM$_{2.5}$, Hornsgatan'].shift(1)\n",
    "df_PM2p5['PM$_{2.5}$, Norr Malma, lag1'] = df_PM2p5['PM$_{2.5}$, Norr Malma'].shift(1)\n",
    "df_PM2p5['PM$_{10}$, Torkel Knutssonsgatan lag1'] = df_PM2p5['PM$_{10}$, Torkel Knutssonsgatan'].shift(1)\n",
    "df_PM2p5['PM$_{10}$, Hornsgatan, lag1'] = df_PM2p5['PM$_{10}$, Hornsgatan'].shift(1)\n",
    "df_PM2p5['PM$_{10}$, Norr Malma, lag1'] = df_PM2p5['PM$_{10}$, Norr Malma'].shift(1)\n",
    "\n",
    "\n",
    "df_PM2p5.dropna(inplace=True)"
   ]
  },
  {
   "cell_type": "code",
   "execution_count": 6,
   "metadata": {},
   "outputs": [],
   "source": [
    "# split into train an test sets\n",
    "df_PM10_train = df_PM10.loc['2016-01-01':'2019-01-01']\n",
    "df_PM10_test = df_PM10['2020-09-01 00:00:00':]\n",
    "\n",
    "df_PM2p5_train = df_PM2p5.loc['2016-01-01':'2019-01-01']\n",
    "df_PM2p5_test = df_PM2p5['2020-09-01 00:00:00':]"
   ]
  },
  {
   "cell_type": "code",
   "execution_count": null,
   "metadata": {},
   "outputs": [],
   "source": [
    "# log transform training data\n",
    "\n",
    "df_PM10_train_log = np.log(df_PM10_train)\n",
    "df_PM2p5_train_log = np.log(df_PM2p5_train)"
   ]
  },
  {
   "cell_type": "code",
   "execution_count": null,
   "metadata": {},
   "outputs": [],
   "source": [
    "# Create X and y frames\n",
    "\n",
    "y_PM10 = df_PM10_train_log['PM$_{10}$, Torkel Knutssonsgatan']\n",
    "X_PM10 = df_PM10_train_log[[i for i in df_PM10_train_log.columns if i[-4:-1] == 'lag']]\n",
    "X_PM10.insert(0, 'intercept', 1) # insert a 1\n",
    "\n",
    "y_PM2p5 = df_PM2p5_train_log['PM$_{2.5}$, Torkel Knutssonsgatan']\n",
    "X_PM2p5 = df_PM2p5_train_log[[i for i in df_PM2p5_train_log.columns if i[-4:-1] == 'lag']]\n",
    "X_PM2p5.insert(0, 'intercept', 1)"
   ]
  },
  {
   "cell_type": "markdown",
   "metadata": {},
   "source": [
    "# Fit OLS models"
   ]
  },
  {
   "cell_type": "code",
   "execution_count": null,
   "metadata": {},
   "outputs": [],
   "source": [
    "# PM10\n",
    "lmod_PM10 = sm.OLS(y_PM10, X_PM10).fit()\n",
    "print(lmod_PM10.summary())#.as_latex())"
   ]
  },
  {
   "cell_type": "code",
   "execution_count": null,
   "metadata": {},
   "outputs": [],
   "source": [
    "# PM2.5\n",
    "lmod_PM2p5 = sm.OLS(y_PM2p5,X_PM2p5).fit()\n",
    "print(lmod_PM2p5.summary())#.as_latex())\n",
    "# for table in lmod_PM2p5.summary().tables:\n",
    "#     print(table.as_latex_tabular())"
   ]
  },
  {
   "cell_type": "markdown",
   "metadata": {},
   "source": [
    "# Make predictions on new data"
   ]
  },
  {
   "cell_type": "code",
   "execution_count": 11,
   "metadata": {},
   "outputs": [],
   "source": [
    "# PM10\n",
    "y_test_PM10 = df_PM10_test['PM$_{10}$, Torkel Knutssonsgatan'] # keep the target y in original scale\n",
    "df_PM10_test = df_PM10_test.drop([i for i in df_PM10_test.columns if i[-4:-1] != 'lag'],axis=1) # only lagged values left\n",
    "df_PM10_test = np.log(df_PM10_test) # log transform\n",
    "\n",
    "# PM2.5\n",
    "y_test_PM2p5 = df_PM2p5_test['PM$_{2.5}$, Torkel Knutssonsgatan'] # keep the target y in original scale\n",
    "df_PM2p5_test = df_PM2p5_test.drop([i for i in df_PM2p5_test.columns if i[-4:-1] != 'lag'],axis=1) # only lagged values left\n",
    "df_PM2p5_test = np.log(df_PM2p5_test) # log transform"
   ]
  },
  {
   "cell_type": "code",
   "execution_count": null,
   "metadata": {},
   "outputs": [],
   "source": [
    "df_PM10_test.insert(0, 'intercept', 1)\n",
    "df_PM2p5_test.insert(0, 'intercept', 1)"
   ]
  },
  {
   "cell_type": "code",
   "execution_count": null,
   "metadata": {},
   "outputs": [],
   "source": [
    "df_get_predictions_PM10 = np.exp(lmod_PM10.get_prediction(df_PM10_test).summary_frame()) # if log transformed\n",
    "# df_get_predictions_PM10 = lmod_PM10.get_prediction(df_PM10_test).summary_frame() # if not logged\n",
    "df_get_predictions_PM10.rename(columns={'mean':'PM$_{10}$, predictions'}, inplace=True)\n",
    "df_get_predictions_PM10;"
   ]
  },
  {
   "cell_type": "code",
   "execution_count": null,
   "metadata": {},
   "outputs": [],
   "source": [
    "df_get_predictions_PM2p5 = np.exp(lmod_PM2p5.get_prediction(df_PM2p5_test).summary_frame()) # if log transformed\n",
    "# df_get_predictions_PM2p5 = lmod_PM2p5.get_prediction(df_PM2p5_test).summary_frame() # if not logged\n",
    "df_get_predictions_PM2p5.rename(columns={'mean':'PM$_{2.5}$, predictions'}, inplace=True)\n",
    "df_get_predictions_PM2p5;"
   ]
  },
  {
   "cell_type": "code",
   "execution_count": null,
   "metadata": {},
   "outputs": [],
   "source": [
    "# note: converted back to original scale above\n",
    "print('MLR RMSE\\n------------')\n",
    "print('PM10, ', np.sqrt(mean_squared_error(df_get_predictions_PM10['PM$_{10}$, predictions'], y_test_PM10)).round(3))\n",
    "print('PM2.5, ', np.sqrt(mean_squared_error(df_get_predictions_PM2p5['PM$_{2.5}$, predictions'], y_test_PM2p5)).round(3))\n",
    "\n",
    "print('\\nMLR MAPE:\\n------------')\n",
    "print('PM10, ', mean_absolute_percentage_error(df_get_predictions_PM10['PM$_{10}$, predictions'], y_test_PM10).round(3))\n",
    "print('PM2.5, ',mean_absolute_percentage_error(df_get_predictions_PM2p5['PM$_{2.5}$, predictions'], y_test_PM2p5).round(3))"
   ]
  },
  {
   "cell_type": "code",
   "execution_count": null,
   "metadata": {},
   "outputs": [],
   "source": [
    "fig, (ax1, ax2) = plt.subplots(2,1, constrained_layout=True, figsize=(5.75, 4.25), sharex=True)\n",
    "# fig, (ax1, ax2) = plt.subplots(1,2, constrained_layout=True, figsize=(10, 3), sharex=True)\n",
    "\n",
    "date1 = '2020-09-25'\n",
    "date2 = '2020-10-08 00:00:00'\n",
    "\n",
    "# PM10\n",
    "y_test_PM10[date1:date2].plot(ax=ax1) # PM10 values\n",
    "df_get_predictions_PM10[date1:date2]['PM$_{10}$, predictions'].plot(ax=ax1) # PM10 predicted\n",
    "df_get_predictions_PM10[date1:date2]['obs_ci_lower'].plot(\n",
    "                        linestyle='dashed', linewidth=.85, color='gray', label='_nolegend_', ax=ax1)\n",
    "df_get_predictions_PM10[date1:date2]['obs_ci_upper'].plot(\n",
    "                        linestyle='dashed', linewidth=.85, color='gray', label='_nolegend_', ax=ax1)\n",
    "ax1.legend(loc='lower right', bbox_to_anchor= (1.0, 1.025), ncol=1, borderaxespad=0.1)\n",
    "ax1.annotate('(a)', xy=(0.0, 1.09), xycoords=\"axes fraction\")\n",
    "ax1.set_ylabel('$\\mu$g/m$^3$')\n",
    "\n",
    "# PM2.5\n",
    "y_test_PM2p5[date1:date2].plot(ax=ax2) # PM2.5 values\n",
    "df_get_predictions_PM2p5[date1:date2]['PM$_{2.5}$, predictions'].plot(ax=ax2) # PM2.5 predicted\n",
    "df_get_predictions_PM2p5[date1:date2]['obs_ci_lower'].plot(\n",
    "                        linestyle='dashed', linewidth=.85, color='gray', label='_nolegend_', ax=ax2)\n",
    "df_get_predictions_PM2p5[date1:date2]['obs_ci_upper'].plot(\n",
    "                        linestyle='dashed', linewidth=.85, color='gray', label='_nolegend_', ax=ax2)\n",
    "ax2.legend(loc='lower right', bbox_to_anchor= (1.0, 1.025), ncol=1, borderaxespad=0.1)\n",
    "ax2.annotate('(b)', xy=(0.0, 1.09), xycoords=\"axes fraction\")\n",
    "ax2.set_ylabel('$\\mu$g/m$^3$')\n",
    "\n",
    "plt.xlabel('')\n",
    "# plt.savefig('../plots/MLR_PM10.pdf')"
   ]
  },
  {
   "cell_type": "markdown",
   "metadata": {},
   "source": [
    "# Model diagnostics"
   ]
  },
  {
   "cell_type": "code",
   "execution_count": null,
   "metadata": {},
   "outputs": [],
   "source": [
    "# PM10\n",
    "fig, ((ax1, ax2), (ax3, ax4)) = plt.subplots(2, 2, constrained_layout = True, figsize = (5.5, 3))\n",
    "\n",
    "# QQ-plot of studentized residuals\n",
    "sm.qqplot(lmod_PM10.resid, line='q', ax=ax1, marker=\".\")\n",
    "ax1.annotate('(a)', xy=(0, 1.09), xycoords=\"axes fraction\")\n",
    "\n",
    "# fitted vs residuals\n",
    "ax2.scatter(lmod_PM10.fittedvalues, lmod_PM10.resid, marker=\".\")#, facecolors='none', edgecolors='#1f77b4')\n",
    "ax2.axhline(0, color='r')\n",
    "ax2.set_xlabel('Fitted value')\n",
    "ax2.set_ylabel('Residuals')\n",
    "ax2.annotate('(b)', xy=(0, 1.09), xycoords=\"axes fraction\")\n",
    "\n",
    "\n",
    "ax3.hist(lmod_PM10.resid, edgecolor='black')\n",
    "ax3.set_xlabel('Residuals')\n",
    "ax3.set_ylabel('Frequency')\n",
    "ax3.annotate('(c)', xy=(0, 1.09), xycoords=\"axes fraction\")\n",
    "\n",
    "lmod_PM10.resid.plot(linestyle=\"\", marker='.', ax=ax4)\n",
    "ax4.set_xlabel('')\n",
    "ax4.set_ylabel('Residuals')\n",
    "ax4.annotate('(d)', xy=(0, 1.09), xycoords=\"axes fraction\")\n",
    "\n",
    "plt.savefig('../plots/Residual_plots_MLR_PM10.pdf')"
   ]
  },
  {
   "cell_type": "code",
   "execution_count": null,
   "metadata": {},
   "outputs": [],
   "source": [
    "# PM2.5\n",
    "fig, ((ax1, ax2), (ax3, ax4)) = plt.subplots(2, 2, constrained_layout = True, figsize = (5.5, 3))\n",
    "\n",
    "# QQ-plot of studentized residuals\n",
    "sm.qqplot(lmod_PM2p5.resid, line='q', ax=ax1, marker=\".\", alpha=.75)\n",
    "ax1.annotate('(a)', xy=(0, 1.09), xycoords=\"axes fraction\")\n",
    "\n",
    "# fitted vs residuals\n",
    "ax2.scatter(lmod_PM2p5.fittedvalues, lmod_PM2p5.resid, marker=\".\", alpha=.75)#, facecolors='none', edgecolors='#1f77b4')\n",
    "ax2.axhline(0, color='r')\n",
    "ax2.set_xlabel('Fitted value')\n",
    "ax2.set_ylabel('Residuals')\n",
    "ax2.annotate('(b)', xy=(0, 1.09), xycoords=\"axes fraction\")\n",
    "\n",
    "\n",
    "ax3.hist(lmod_PM2p5.resid, edgecolor='black', alpha=.75)\n",
    "ax3.set_xlabel('Residuals')\n",
    "ax3.set_ylabel('Frequency')\n",
    "ax3.annotate('(c)', xy=(0, 1.09), xycoords=\"axes fraction\")\n",
    "\n",
    "lmod_PM2p5.resid.plot(linestyle=\"\", marker='.', ax=ax4, alpha=.75)\n",
    "ax4.set_xlabel('')\n",
    "ax4.set_ylabel('Residuals')\n",
    "ax4.annotate('(d)', xy=(0, 1.09), xycoords=\"axes fraction\")\n",
    "\n",
    "# plt.savefig('../plots/Residual_plots_MLR_PM2.5.pdf')"
   ]
  },
  {
   "cell_type": "markdown",
   "metadata": {},
   "source": [
    "# Ridge regression"
   ]
  },
  {
   "cell_type": "code",
   "execution_count": 12,
   "metadata": {},
   "outputs": [],
   "source": [
    "from sklearn.preprocessing import MinMaxScaler\n",
    "from sklearn.preprocessing import StandardScaler\n",
    "\n",
    "# PM10\n",
    "scaler1 = MinMaxScaler()\n",
    "scaler2 = MinMaxScaler()\n",
    "# PM2.5\n",
    "scaler3 = MinMaxScaler()\n",
    "scaler4 = MinMaxScaler()\n",
    "\n",
    "# PM10\n",
    "df_PM10_train_scaled = scaler1.fit_transform(df_PM10['2016-01-01':'2019-01-01'][[i for i in df_PM10_train.columns if i[-4:-1] == 'lag']])\n",
    "y_PM10_train_scaled = scaler2.fit_transform(df_PM10['2016-01-01':'2019-01-01']['PM$_{10}$, Torkel Knutssonsgatan'].to_frame())\n",
    "df_PM10_test_scaled = scaler1.transform(df_PM10['2020-09-01':][[i for i in df_PM10_test.columns if i[-4:-1] == 'lag']])\n",
    "\n",
    "# PM2.5\n",
    "df_PM2p5_train_scaled = scaler3.fit_transform(df_PM2p5['2016-01-01':'2019-01-01'][[i for i in df_PM2p5_train.columns if i[-4:-1] == 'lag']])\n",
    "y_PM2p5_train_scaled = scaler4.fit_transform(df_PM2p5['2016-01-01':'2019-01-01']['PM$_{2.5}$, Torkel Knutssonsgatan'].to_frame())\n",
    "df_PM2p5_test_scaled = scaler3.transform(df_PM2p5['2020-09-01':][[i for i in df_PM2p5_test.columns if i[-4:-1] == 'lag']])\n",
    "\n",
    "# (This data is NOT log transformeds)"
   ]
  },
  {
   "cell_type": "code",
   "execution_count": 34,
   "metadata": {},
   "outputs": [],
   "source": [
    "from itertools import chain\n",
    "from sklearn import linear_model\n",
    "\n",
    "n_alphas = 250\n",
    "\n",
    "alphas = np.logspace(-3, 3, n_alphas)\n",
    "coefs = []\n",
    "for a in alphas:\n",
    "    ridge = linear_model.Ridge(alpha=a)\n",
    "    ridge.fit(df_PM10_train_scaled, y_PM10_train_scaled)\n",
    "    coefs.append(list(chain(*ridge.coef_)))\n",
    "\n",
    "alphas_ = np.logspace(-3, 3, n_alphas)\n",
    "coefs_ = []\n",
    "for a in alphas_:\n",
    "    ridge_ = linear_model.Ridge(alpha=a)\n",
    "    ridge_.fit(df_PM2p5_train_scaled, y_PM2p5_train_scaled)\n",
    "    coefs_.append(list(chain(*ridge_.coef_)))"
   ]
  },
  {
   "cell_type": "code",
   "execution_count": 35,
   "metadata": {},
   "outputs": [
    {
     "name": "stdout",
     "output_type": "stream",
     "text": [
      "1.2717966324154728\n",
      "0.01\n"
     ]
    },
    {
     "data": {
      "image/png": "[encoded data removed]",
      "text/plain": [
       "<Figure size 432x360 with 2 Axes>"
      ]
     },
     "metadata": {
      "needs_background": "light"
     },
     "output_type": "display_data"
    }
   ],
   "source": [
    "# columns names:\n",
    "PM10_cols = [i for i in df_PM10_train.columns if i[-4:-1] == 'lag']\n",
    "PM2p5_cols = [i for i in df_PM2p5_train.columns if i[-4:-1] == 'lag']\n",
    "\n",
    "# select value of alpha with cross-validation\n",
    "from sklearn.model_selection import GridSearchCV\n",
    "\n",
    "fig, (ax1, ax2) = plt.subplots(2,1, figsize=(6, 5), tight_layout=True)\n",
    "\n",
    "# PM10\n",
    "pars = {'alpha':np.logspace(-2, 2, n_alphas)}\n",
    "rr = GridSearchCV(linear_model.Ridge(), pars, scoring='r2', cv=10)\n",
    "rr.fit(df_PM10_train_scaled, y_PM10_train_scaled)\n",
    "bestalpha = rr.best_params_['alpha']\n",
    "print(bestalpha)\n",
    "\n",
    "# PM2.5\n",
    "pars_ = {'alpha':np.logspace(-2, 2, n_alphas)}\n",
    "rr_ = GridSearchCV(linear_model.Ridge(), pars_, scoring='r2', cv=10)\n",
    "rr_.fit(df_PM2p5_train_scaled, y_PM2p5_train_scaled)\n",
    "bestalpha_ = rr_.best_params_['alpha']\n",
    "print(bestalpha_)\n",
    "\n",
    "# ridge trace plot PM10\n",
    "ax1.plot(alphas, coefs)\n",
    "ax1.set_xscale('log')\n",
    "ax1.set_xlim(ax1.get_xlim()[::-1])\n",
    "ax1.annotate('(a) Trace plot for ridge regression (PM$_{10}$)', xy=(0, 1.09), xycoords=\"axes fraction\")\n",
    "for i in range(len(PM10_cols)):\n",
    "    ax1.text(min(alphas)/3, coefs[0][i], PM10_cols[i], fontsize=8)\n",
    "\n",
    "# ridge trace plot PM2.5\n",
    "ax2.plot(alphas_, coefs_)\n",
    "ax2.set_xscale('log')\n",
    "ax2.set_xlim(ax2.get_xlim()[::-1])\n",
    "ax2.annotate('(b) Trace plot for ridge regression (PM$_{2.5}$)', xy=(0, 1.09), xycoords=\"axes fraction\")\n",
    "for i in range(len(PM2p5_cols)):\n",
    "    ax2.text(min(alphas_)/3, coefs_[0][i], PM2p5_cols[i], fontsize=8)\n",
    "\n",
    "ax2.set_xlabel(r'$\\lambda$')\n",
    "ax1.set_ylabel('Coefficients')\n",
    "ax2.set_ylabel('Coefficients')\n",
    "ax1.axvline(bestalpha, color='k', linestyle='--', linewidth=1, alpha=.75)\n",
    "ax2.axvline(bestalpha_, color='k', linestyle='--', linewidth=1, alpha=.75)\n",
    "plt.savefig('../plots/ridge_regression:_trace.pdf')"
   ]
  },
  {
   "cell_type": "code",
   "execution_count": 36,
   "metadata": {},
   "outputs": [
    {
     "name": "stdout",
     "output_type": "stream",
     "text": [
      "RMSE\n",
      "------------\n",
      "PM10  3.65923\n",
      "PM2.5  1.2304727839184693\n",
      "\n",
      "MAPE\n",
      "------------\n",
      "PM10  0.272\n",
      "PM2.5  0.136\n"
     ]
    }
   ],
   "source": [
    "# PM10\n",
    "rrbest = linear_model.Ridge(alpha=bestalpha, fit_intercept=True)\n",
    "rrbest.fit(df_PM10_train_scaled, y_PM10_train_scaled)\n",
    "# PM2.5\n",
    "rrbest_ = linear_model.Ridge(alpha=bestalpha_, fit_intercept=True)\n",
    "rrbest_.fit(df_PM2p5_train_scaled, y_PM2p5_train_scaled)\n",
    "\n",
    "print('RMSE\\n------------') \n",
    "# np.sqrt(mean_squared_error(np.exp(scaler2.inverse_transform(rrbest.predict(df_PM10_test_log_norm))), y_test_PM10)).round(5))\n",
    "print('PM10 ', np.sqrt(mean_squared_error(scaler2.inverse_transform(rrbest.predict(df_PM10_test_scaled)), y_test_PM10)).round(5))\n",
    "print('PM2.5 ', np.sqrt(mean_squared_error(scaler4.inverse_transform(rrbest_.predict(df_PM2p5_test_scaled)), y_test_PM2p5)))\n",
    "\n",
    "\n",
    "print('\\nMAPE\\n------------')\n",
    "print('PM10 ', mean_absolute_percentage_error(scaler2.inverse_transform(rrbest.predict(df_PM10_test_scaled)), y_test_PM10).round(3))\n",
    "print('PM2.5 ', mean_absolute_percentage_error(scaler4.inverse_transform(rrbest_.predict(df_PM2p5_test_scaled)), y_test_PM2p5).round(3))"
   ]
  },
  {
   "cell_type": "code",
   "execution_count": 71,
   "metadata": {},
   "outputs": [
    {
     "data": {
      "text/plain": [
       "Text(0.5, 0, '')"
      ]
     },
     "execution_count": 71,
     "metadata": {},
     "output_type": "execute_result"
    },
    {
     "data": {
      "image/png": "[encoded data removed]",
      "text/plain": [
       "<Figure size 504x216 with 2 Axes>"
      ]
     },
     "metadata": {
      "needs_background": "light"
     },
     "output_type": "display_data"
    }
   ],
   "source": [
    "\n",
    "pred_PM10 = scaler2.inverse_transform(rrbest.predict(df_PM10_test_scaled))\n",
    "y_test_PM10_ = y_test_PM10.to_frame()\n",
    "y_test_PM10_['PM10$_{10}$, predictions'] = pred_PM10[:]\n",
    "\n",
    "pred_PM2p5 = scaler4.inverse_transform(rrbest_.predict(df_PM2p5_test_scaled))\n",
    "y_test_PM2p5_ = y_test_PM2p5.to_frame()\n",
    "y_test_PM2p5_['PM$_{1.5}$, predictions'] = pred_PM2p5[:]\n",
    "\n",
    "date1 = '2021-03-02 00:00:00'\n",
    "date2 = '2021-03-04 00:00:00'\n",
    "\n",
    "fig, (ax1, ax2) = plt.subplots(1,2, constrained_layout=True, figsize=(7, 3), sharex=True)\n",
    "\n",
    "y_test_PM10_[date1:date2].plot(ax=ax1)\n",
    "ax1.legend(loc='lower right', bbox_to_anchor= (1.0, 1.025), ncol=1, borderaxespad=0.1)\n",
    "ax1.annotate('(a)', xy=(0.0, 1.09), xycoords=\"axes fraction\")\n",
    "ax1.set_ylabel('$\\mu$g/m$^3$')\n",
    "\n",
    "y_test_PM2p5_[date1:date2].plot(ax=ax2)\n",
    "ax2.legend(loc='lower right', bbox_to_anchor= (1.0, 1.025), ncol=1, borderaxespad=0.1)\n",
    "ax2.annotate('(b)', xy=(0.0, 1.09), xycoords=\"axes fraction\")\n",
    "ax2.set_ylabel('$\\mu$g/m$^3$')\n",
    "plt.xlabel('')\n",
    "\n",
    "# plt.savefig('../plots/MLR_Ridge_PM10.pdf')"
   ]
  },
  {
   "cell_type": "code",
   "execution_count": 68,
   "metadata": {},
   "outputs": [
    {
     "data": {
      "text/plain": [
       "<AxesSubplot:xlabel='Date'>"
      ]
     },
     "execution_count": 68,
     "metadata": {},
     "output_type": "execute_result"
    },
    {
     "data": {
      "image/png": "[encoded data removed]",
      "text/plain": [
       "<Figure size 432x288 with 1 Axes>"
      ]
     },
     "metadata": {
      "needs_background": "light"
     },
     "output_type": "display_data"
    }
   ],
   "source": [
    "y_test_PM10_['2021-03-02 00:00:00':'2021-03-04 00:00:00'].plot()"
   ]
  }
 ],
 "metadata": {
  "kernelspec": {
   "display_name": "Python 3.10.4 ('DL')",
   "language": "python",
   "name": "python3"
  },
  "language_info": {
   "codemirror_mode": {
    "name": "ipython",
    "version": 3
   },
   "file_extension": ".py",
   "mimetype": "text/x-python",
   "name": "python",
   "nbconvert_exporter": "python",
   "pygments_lexer": "ipython3",
   "version": "3.10.4"
  },
  "orig_nbformat": 4,
  "vscode": {
   "interpreter": {
    "hash": "2a0afe78b3ebe22049d3d74ba655a4a5f799767e6308d99c3f84aabb51861a5e"
   }
  }
 },
 "nbformat": 4,
 "nbformat_minor": 2
}
