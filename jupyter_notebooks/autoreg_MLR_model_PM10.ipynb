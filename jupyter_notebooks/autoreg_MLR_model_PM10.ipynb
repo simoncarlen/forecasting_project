{
 "cells": [
  {
   "cell_type": "code",
   "execution_count": 148,
   "metadata": {},
   "outputs": [],
   "source": [
    "import pandas as pd\n",
    "import numpy as np\n",
    "import matplotlib.pyplot as plt\n",
    "from sklearn.preprocessing import MinMaxScaler\n",
    "import statsmodels.api as sm\n",
    "import statsmodels.formula.api as smf\n",
    "from sklearn.metrics import mean_squared_error\n",
    "\n",
    "tex_fonts = {\n",
    "    # Use LaTeX to write all text\n",
    "    \"text.usetex\": True,\n",
    "    \"font.family\": \"serif\",\n",
    "    # Use 10pt font in plots, to match 10pt font in document\n",
    "    \"axes.labelsize\": 10,\n",
    "    \"font.size\": 10,\n",
    "    # Make the legend/label fonts a little smaller\n",
    "    \"legend.fontsize\": 10,\n",
    "    \"xtick.labelsize\": 10,\n",
    "    \"ytick.labelsize\": 10\n",
    "    }\n",
    "plt.rcParams.update(tex_fonts)"
   ]
  },
  {
   "cell_type": "markdown",
   "metadata": {},
   "source": [
    "# Preprocess data"
   ]
  },
  {
   "cell_type": "code",
   "execution_count": 149,
   "metadata": {},
   "outputs": [],
   "source": [
    "# read in data\n",
    "df = pd.read_csv('../air_weather_data/pollution_and_weather_cleaned.csv')\n",
    "df['Date'] = pd.to_datetime(df['Date'], format = '%Y-%m-%d %H:%M') # change time column to pandas datetime\n",
    "df = df.set_index('Date') # date column as index"
   ]
  },
  {
   "cell_type": "code",
   "execution_count": 150,
   "metadata": {},
   "outputs": [],
   "source": [
    "# create separate dataframes\n",
    "\n",
    "# df_PM10 = df['PM$_{10}$, Torkel Knutssonsgatan'].to_frame()\n",
    "# df_PM2p5 = df['PM$_{2.5}$, Torkel Knutssonsgatan'].to_frame()\n",
    "\n",
    "df_PM10 = df[['PM$_{10}$, Torkel Knutssonsgatan', 'PM$_{10}$, Hornsgatan', 'PM$_{10}$, Norr Malma']]\n",
    "df_PM2p5 = df[['PM$_{2.5}$, Torkel Knutssonsgatan', 'PM$_{2.5}$, Hornsgatan', 'PM$_{2.5}$, Norr Malma']]"
   ]
  },
  {
   "cell_type": "code",
   "execution_count": 151,
   "metadata": {},
   "outputs": [
    {
     "name": "stderr",
     "output_type": "stream",
     "text": [
      "/var/folders/3k/1wztchzs50j4jyq74xpccr3m0000gn/T/ipykernel_6707/4134975453.py:2: SettingWithCopyWarning: \n",
      "A value is trying to be set on a copy of a slice from a DataFrame.\n",
      "Try using .loc[row_indexer,col_indexer] = value instead\n",
      "\n",
      "See the caveats in the documentation: https://pandas.pydata.org/pandas-docs/stable/user_guide/indexing.html#returning-a-view-versus-a-copy\n",
      "  df_PM10[df_PM10 <= 0] = np.NaN\n",
      "/var/folders/3k/1wztchzs50j4jyq74xpccr3m0000gn/T/ipykernel_6707/4134975453.py:2: SettingWithCopyWarning: \n",
      "A value is trying to be set on a copy of a slice from a DataFrame\n",
      "\n",
      "See the caveats in the documentation: https://pandas.pydata.org/pandas-docs/stable/user_guide/indexing.html#returning-a-view-versus-a-copy\n",
      "  df_PM10[df_PM10 <= 0] = np.NaN\n",
      "/var/folders/3k/1wztchzs50j4jyq74xpccr3m0000gn/T/ipykernel_6707/4134975453.py:3: SettingWithCopyWarning: \n",
      "A value is trying to be set on a copy of a slice from a DataFrame\n",
      "\n",
      "See the caveats in the documentation: https://pandas.pydata.org/pandas-docs/stable/user_guide/indexing.html#returning-a-view-versus-a-copy\n",
      "  df_PM10.interpolate(inplace=True)\n",
      "/var/folders/3k/1wztchzs50j4jyq74xpccr3m0000gn/T/ipykernel_6707/4134975453.py:5: SettingWithCopyWarning: \n",
      "A value is trying to be set on a copy of a slice from a DataFrame.\n",
      "Try using .loc[row_indexer,col_indexer] = value instead\n",
      "\n",
      "See the caveats in the documentation: https://pandas.pydata.org/pandas-docs/stable/user_guide/indexing.html#returning-a-view-versus-a-copy\n",
      "  df_PM2p5[df_PM2p5 <= 0] = np.NaN\n",
      "/var/folders/3k/1wztchzs50j4jyq74xpccr3m0000gn/T/ipykernel_6707/4134975453.py:5: SettingWithCopyWarning: \n",
      "A value is trying to be set on a copy of a slice from a DataFrame\n",
      "\n",
      "See the caveats in the documentation: https://pandas.pydata.org/pandas-docs/stable/user_guide/indexing.html#returning-a-view-versus-a-copy\n",
      "  df_PM2p5[df_PM2p5 <= 0] = np.NaN\n",
      "/var/folders/3k/1wztchzs50j4jyq74xpccr3m0000gn/T/ipykernel_6707/4134975453.py:6: SettingWithCopyWarning: \n",
      "A value is trying to be set on a copy of a slice from a DataFrame\n",
      "\n",
      "See the caveats in the documentation: https://pandas.pydata.org/pandas-docs/stable/user_guide/indexing.html#returning-a-view-versus-a-copy\n",
      "  df_PM2p5.interpolate(inplace=True)\n"
     ]
    }
   ],
   "source": [
    "# drop negative and zero values and interpolate\n",
    "df_PM10[df_PM10 <= 0] = np.NaN\n",
    "df_PM10.interpolate(inplace=True)\n",
    "\n",
    "df_PM2p5[df_PM2p5 <= 0] = np.NaN\n",
    "df_PM2p5.interpolate(inplace=True)"
   ]
  },
  {
   "cell_type": "code",
   "execution_count": 152,
   "metadata": {},
   "outputs": [
    {
     "name": "stderr",
     "output_type": "stream",
     "text": [
      "/var/folders/3k/1wztchzs50j4jyq74xpccr3m0000gn/T/ipykernel_6707/3270959391.py:4: SettingWithCopyWarning: \n",
      "A value is trying to be set on a copy of a slice from a DataFrame.\n",
      "Try using .loc[row_indexer,col_indexer] = value instead\n",
      "\n",
      "See the caveats in the documentation: https://pandas.pydata.org/pandas-docs/stable/user_guide/indexing.html#returning-a-view-versus-a-copy\n",
      "  df_PM10['PM$_{10}$, Torkel Knutssonsgatan lag1'] = df_PM10['PM$_{10}$, Torkel Knutssonsgatan'].shift(1)\n",
      "/var/folders/3k/1wztchzs50j4jyq74xpccr3m0000gn/T/ipykernel_6707/3270959391.py:5: SettingWithCopyWarning: \n",
      "A value is trying to be set on a copy of a slice from a DataFrame.\n",
      "Try using .loc[row_indexer,col_indexer] = value instead\n",
      "\n",
      "See the caveats in the documentation: https://pandas.pydata.org/pandas-docs/stable/user_guide/indexing.html#returning-a-view-versus-a-copy\n",
      "  df_PM10['PM$_{10}$, Torkel Knutssonsgatan lag2'] = df_PM10['PM$_{10}$, Torkel Knutssonsgatan'].shift(2)\n",
      "/var/folders/3k/1wztchzs50j4jyq74xpccr3m0000gn/T/ipykernel_6707/3270959391.py:6: SettingWithCopyWarning: \n",
      "A value is trying to be set on a copy of a slice from a DataFrame.\n",
      "Try using .loc[row_indexer,col_indexer] = value instead\n",
      "\n",
      "See the caveats in the documentation: https://pandas.pydata.org/pandas-docs/stable/user_guide/indexing.html#returning-a-view-versus-a-copy\n",
      "  df_PM10['PM$_{10}$, Hornsgatan lag1'] = df_PM10['PM$_{10}$, Hornsgatan'].shift(1)\n",
      "/var/folders/3k/1wztchzs50j4jyq74xpccr3m0000gn/T/ipykernel_6707/3270959391.py:7: SettingWithCopyWarning: \n",
      "A value is trying to be set on a copy of a slice from a DataFrame.\n",
      "Try using .loc[row_indexer,col_indexer] = value instead\n",
      "\n",
      "See the caveats in the documentation: https://pandas.pydata.org/pandas-docs/stable/user_guide/indexing.html#returning-a-view-versus-a-copy\n",
      "  df_PM10['PM$_{10}$, Norr Malma lag1'] = df_PM10['PM$_{10}$, Norr Malma'].shift(1)\n",
      "/var/folders/3k/1wztchzs50j4jyq74xpccr3m0000gn/T/ipykernel_6707/3270959391.py:10: SettingWithCopyWarning: \n",
      "A value is trying to be set on a copy of a slice from a DataFrame\n",
      "\n",
      "See the caveats in the documentation: https://pandas.pydata.org/pandas-docs/stable/user_guide/indexing.html#returning-a-view-versus-a-copy\n",
      "  df_PM10.dropna(inplace=True)\n",
      "/var/folders/3k/1wztchzs50j4jyq74xpccr3m0000gn/T/ipykernel_6707/3270959391.py:13: SettingWithCopyWarning: \n",
      "A value is trying to be set on a copy of a slice from a DataFrame.\n",
      "Try using .loc[row_indexer,col_indexer] = value instead\n",
      "\n",
      "See the caveats in the documentation: https://pandas.pydata.org/pandas-docs/stable/user_guide/indexing.html#returning-a-view-versus-a-copy\n",
      "  df_PM2p5['PM$_{2.5}$, Torkel Knutssonsgatan lag1'] = df_PM2p5['PM$_{2.5}$, Torkel Knutssonsgatan'].shift(1)\n",
      "/var/folders/3k/1wztchzs50j4jyq74xpccr3m0000gn/T/ipykernel_6707/3270959391.py:14: SettingWithCopyWarning: \n",
      "A value is trying to be set on a copy of a slice from a DataFrame.\n",
      "Try using .loc[row_indexer,col_indexer] = value instead\n",
      "\n",
      "See the caveats in the documentation: https://pandas.pydata.org/pandas-docs/stable/user_guide/indexing.html#returning-a-view-versus-a-copy\n",
      "  df_PM2p5['PM$_{2.5}$, Torkel Knutssonsgatan lag2'] = df_PM2p5['PM$_{2.5}$, Torkel Knutssonsgatan'].shift(2)\n",
      "/var/folders/3k/1wztchzs50j4jyq74xpccr3m0000gn/T/ipykernel_6707/3270959391.py:15: SettingWithCopyWarning: \n",
      "A value is trying to be set on a copy of a slice from a DataFrame.\n",
      "Try using .loc[row_indexer,col_indexer] = value instead\n",
      "\n",
      "See the caveats in the documentation: https://pandas.pydata.org/pandas-docs/stable/user_guide/indexing.html#returning-a-view-versus-a-copy\n",
      "  df_PM2p5['PM$_{2.5}$, Hornsgatan, lag1'] = df_PM2p5['PM$_{2.5}$, Hornsgatan'].shift(1)\n",
      "/var/folders/3k/1wztchzs50j4jyq74xpccr3m0000gn/T/ipykernel_6707/3270959391.py:16: SettingWithCopyWarning: \n",
      "A value is trying to be set on a copy of a slice from a DataFrame.\n",
      "Try using .loc[row_indexer,col_indexer] = value instead\n",
      "\n",
      "See the caveats in the documentation: https://pandas.pydata.org/pandas-docs/stable/user_guide/indexing.html#returning-a-view-versus-a-copy\n",
      "  df_PM2p5['PM$_{2.5}$, Norr Malma, lag1'] = df_PM2p5['PM$_{2.5}$, Norr Malma'].shift(1)\n",
      "/var/folders/3k/1wztchzs50j4jyq74xpccr3m0000gn/T/ipykernel_6707/3270959391.py:18: SettingWithCopyWarning: \n",
      "A value is trying to be set on a copy of a slice from a DataFrame\n",
      "\n",
      "See the caveats in the documentation: https://pandas.pydata.org/pandas-docs/stable/user_guide/indexing.html#returning-a-view-versus-a-copy\n",
      "  df_PM2p5.dropna(inplace=True)\n"
     ]
    }
   ],
   "source": [
    "# create lagged values\n",
    "\n",
    "# PM10\n",
    "df_PM10['PM$_{10}$, Torkel Knutssonsgatan lag1'] = df_PM10['PM$_{10}$, Torkel Knutssonsgatan'].shift(1)\n",
    "df_PM10['PM$_{10}$, Torkel Knutssonsgatan lag2'] = df_PM10['PM$_{10}$, Torkel Knutssonsgatan'].shift(2)\n",
    "df_PM10['PM$_{10}$, Hornsgatan lag1'] = df_PM10['PM$_{10}$, Hornsgatan'].shift(1)\n",
    "df_PM10['PM$_{10}$, Norr Malma lag1'] = df_PM10['PM$_{10}$, Norr Malma'].shift(1)\n",
    "\n",
    "\n",
    "df_PM10.dropna(inplace=True)\n",
    "\n",
    "# PM2.5\n",
    "df_PM2p5['PM$_{2.5}$, Torkel Knutssonsgatan lag1'] = df_PM2p5['PM$_{2.5}$, Torkel Knutssonsgatan'].shift(1)\n",
    "df_PM2p5['PM$_{2.5}$, Torkel Knutssonsgatan lag2'] = df_PM2p5['PM$_{2.5}$, Torkel Knutssonsgatan'].shift(2)\n",
    "df_PM2p5['PM$_{2.5}$, Hornsgatan, lag1'] = df_PM2p5['PM$_{2.5}$, Hornsgatan'].shift(1)\n",
    "df_PM2p5['PM$_{2.5}$, Norr Malma, lag1'] = df_PM2p5['PM$_{2.5}$, Norr Malma'].shift(1)\n",
    "\n",
    "df_PM2p5.dropna(inplace=True)"
   ]
  },
  {
   "cell_type": "code",
   "execution_count": 153,
   "metadata": {},
   "outputs": [],
   "source": [
    "# split into train an test sets\n",
    "df_PM10_train = df_PM10.loc['2016-01-01':'2019-01-01']\n",
    "df_PM10_test = df_PM10['2020-09-01 00:00:00':]\n",
    "\n",
    "df_PM2p5_train = df_PM2p5.loc['2016-01-01':'2019-01-01']\n",
    "df_PM2p5_test = df_PM2p5['2020-09-01 00:00:00':]"
   ]
  },
  {
   "cell_type": "code",
   "execution_count": 154,
   "metadata": {},
   "outputs": [],
   "source": [
    "# log transform training data\n",
    "df_PM10_train = np.log(df_PM10_train)\n",
    "df_PM2p5_train = np.log(df_PM2p5_train)"
   ]
  },
  {
   "cell_type": "code",
   "execution_count": 155,
   "metadata": {},
   "outputs": [],
   "source": [
    "# Create X and y frames\n",
    "\n",
    "X_PM10 = df_PM10_train.iloc[:,1:]\n",
    "X_PM10.insert(0, 'intercept', 1)\n",
    "y_PM10 = df_PM10_train['PM$_{10}$, Torkel Knutssonsgatan']\n",
    "\n",
    "X_PM2p5 = df_PM2p5_train.iloc[:,1:]\n",
    "X_PM2p5.insert(0, 'intercept', 1)\n",
    "y_PM2p5 = df_PM2p5_train['PM$_{2.5}$, Torkel Knutssonsgatan']"
   ]
  },
  {
   "cell_type": "code",
   "execution_count": 156,
   "metadata": {},
   "outputs": [
    {
     "name": "stderr",
     "output_type": "stream",
     "text": [
      "/var/folders/3k/1wztchzs50j4jyq74xpccr3m0000gn/T/ipykernel_6707/3040727585.py:1: SettingWithCopyWarning: \n",
      "A value is trying to be set on a copy of a slice from a DataFrame\n",
      "\n",
      "See the caveats in the documentation: https://pandas.pydata.org/pandas-docs/stable/user_guide/indexing.html#returning-a-view-versus-a-copy\n",
      "  X_PM10.drop('PM$_{10}$, Hornsgatan', axis=1, inplace=True)\n",
      "/var/folders/3k/1wztchzs50j4jyq74xpccr3m0000gn/T/ipykernel_6707/3040727585.py:2: SettingWithCopyWarning: \n",
      "A value is trying to be set on a copy of a slice from a DataFrame\n",
      "\n",
      "See the caveats in the documentation: https://pandas.pydata.org/pandas-docs/stable/user_guide/indexing.html#returning-a-view-versus-a-copy\n",
      "  X_PM2p5.drop('PM$_{2.5}$, Hornsgatan', axis=1, inplace=True)\n",
      "/var/folders/3k/1wztchzs50j4jyq74xpccr3m0000gn/T/ipykernel_6707/3040727585.py:4: SettingWithCopyWarning: \n",
      "A value is trying to be set on a copy of a slice from a DataFrame\n",
      "\n",
      "See the caveats in the documentation: https://pandas.pydata.org/pandas-docs/stable/user_guide/indexing.html#returning-a-view-versus-a-copy\n",
      "  X_PM10.drop('PM$_{10}$, Norr Malma', axis=1, inplace=True)\n",
      "/var/folders/3k/1wztchzs50j4jyq74xpccr3m0000gn/T/ipykernel_6707/3040727585.py:5: SettingWithCopyWarning: \n",
      "A value is trying to be set on a copy of a slice from a DataFrame\n",
      "\n",
      "See the caveats in the documentation: https://pandas.pydata.org/pandas-docs/stable/user_guide/indexing.html#returning-a-view-versus-a-copy\n",
      "  X_PM2p5.drop('PM$_{2.5}$, Norr Malma', axis=1, inplace=True)\n"
     ]
    }
   ],
   "source": [
    "X_PM10.drop('PM$_{10}$, Hornsgatan', axis=1, inplace=True)\n",
    "X_PM2p5.drop('PM$_{2.5}$, Hornsgatan', axis=1, inplace=True)\n",
    "\n",
    "X_PM10.drop('PM$_{10}$, Norr Malma', axis=1, inplace=True)\n",
    "X_PM2p5.drop('PM$_{2.5}$, Norr Malma', axis=1, inplace=True)"
   ]
  },
  {
   "cell_type": "markdown",
   "metadata": {},
   "source": [
    "# Fit OLS models"
   ]
  },
  {
   "cell_type": "code",
   "execution_count": 157,
   "metadata": {},
   "outputs": [
    {
     "name": "stdout",
     "output_type": "stream",
     "text": [
      "                                   OLS Regression Results                                   \n",
      "============================================================================================\n",
      "Dep. Variable:     PM$_{10}$, Torkel Knutssonsgatan   R-squared:                       0.755\n",
      "Model:                                          OLS   Adj. R-squared:                  0.755\n",
      "Method:                               Least Squares   F-statistic:                 2.026e+04\n",
      "Date:                              Thu, 11 Aug 2022   Prob (F-statistic):               0.00\n",
      "Time:                                      23:53:24   Log-Likelihood:                -10505.\n",
      "No. Observations:                             26328   AIC:                         2.102e+04\n",
      "Df Residuals:                                 26323   BIC:                         2.106e+04\n",
      "Df Model:                                         4                                         \n",
      "Covariance Type:                          nonrobust                                         \n",
      "=========================================================================================================\n",
      "                                            coef    std err          t      P>|t|      [0.025      0.975]\n",
      "---------------------------------------------------------------------------------------------------------\n",
      "intercept                                 0.0656      0.009      6.974      0.000       0.047       0.084\n",
      "PM$_{10}$, Torkel Knutssonsgatan lag1     0.6335      0.007     96.861      0.000       0.621       0.646\n",
      "PM$_{10}$, Torkel Knutssonsgatan lag2     0.1072      0.006     17.494      0.000       0.095       0.119\n",
      "PM$_{10}$, Hornsgatan lag1                0.1234      0.004     30.778      0.000       0.116       0.131\n",
      "PM$_{10}$, Norr Malma lag1                0.0808      0.004     19.644      0.000       0.073       0.089\n",
      "==============================================================================\n",
      "Omnibus:                     7362.227   Durbin-Watson:                   1.976\n",
      "Prob(Omnibus):                  0.000   Jarque-Bera (JB):           122434.478\n",
      "Skew:                          -0.906   Prob(JB):                         0.00\n",
      "Kurtosis:                      13.408   Cond. No.                         21.8\n",
      "==============================================================================\n",
      "\n",
      "Notes:\n",
      "[1] Standard Errors assume that the covariance matrix of the errors is correctly specified.\n"
     ]
    }
   ],
   "source": [
    "# PM10\n",
    "lmod_PM10 = sm.OLS(y_PM10, X_PM10).fit()\n",
    "print(lmod_PM10.summary())#.as_latex())"
   ]
  },
  {
   "cell_type": "code",
   "execution_count": 158,
   "metadata": {},
   "outputs": [
    {
     "name": "stdout",
     "output_type": "stream",
     "text": [
      "                                    OLS Regression Results                                   \n",
      "=============================================================================================\n",
      "Dep. Variable:     PM$_{2.5}$, Torkel Knutssonsgatan   R-squared:                       0.927\n",
      "Model:                                           OLS   Adj. R-squared:                  0.927\n",
      "Method:                                Least Squares   F-statistic:                 8.370e+04\n",
      "Date:                               Thu, 11 Aug 2022   Prob (F-statistic):               0.00\n",
      "Time:                                       23:53:24   Log-Likelihood:                 4594.4\n",
      "No. Observations:                              26328   AIC:                            -9179.\n",
      "Df Residuals:                                  26323   BIC:                            -9138.\n",
      "Df Model:                                          4                                         \n",
      "Covariance Type:                           nonrobust                                         \n",
      "==========================================================================================================\n",
      "                                             coef    std err          t      P>|t|      [0.025      0.975]\n",
      "----------------------------------------------------------------------------------------------------------\n",
      "intercept                                  0.0386      0.003     11.092      0.000       0.032       0.045\n",
      "PM$_{2.5}$, Torkel Knutssonsgatan lag1     1.1199      0.007    167.681      0.000       1.107       1.133\n",
      "PM$_{2.5}$, Torkel Knutssonsgatan lag2    -0.2116      0.006    -35.111      0.000      -0.223      -0.200\n",
      "PM$_{2.5}$, Hornsgatan, lag1               0.0340      0.004      8.867      0.000       0.026       0.041\n",
      "PM$_{2.5}$, Norr Malma, lag1               0.0218      0.001     15.576      0.000       0.019       0.025\n",
      "==============================================================================\n",
      "Omnibus:                     5704.682   Durbin-Watson:                   1.987\n",
      "Prob(Omnibus):                  0.000   Jarque-Bera (JB):           161104.434\n",
      "Skew:                          -0.393   Prob(JB):                         0.00\n",
      "Kurtosis:                      15.093   Cond. No.                         21.3\n",
      "==============================================================================\n",
      "\n",
      "Notes:\n",
      "[1] Standard Errors assume that the covariance matrix of the errors is correctly specified.\n"
     ]
    }
   ],
   "source": [
    "# PM2.5\n",
    "lmod_PM2p5 = sm.OLS(y_PM2p5,X_PM2p5).fit()\n",
    "print(lmod_PM2p5.summary())#.as_latex())\n",
    "# for table in lmod_PM2p5.summary().tables:\n",
    "#     print(table.as_latex_tabular())"
   ]
  },
  {
   "cell_type": "markdown",
   "metadata": {},
   "source": [
    "# Make predictions on new data"
   ]
  },
  {
   "cell_type": "code",
   "execution_count": 159,
   "metadata": {},
   "outputs": [],
   "source": [
    "# PM10\n",
    "y_test_PM10 = df_PM10_test['PM$_{10}$, Torkel Knutssonsgatan'] # keep the target y in original scale\n",
    "df_PM10_test = np.log(df_PM10_test) # log transform\n",
    "df_PM10_test = df_PM10_test.drop('PM$_{10}$, Torkel Knutssonsgatan', axis=1) \n",
    "df_PM10_test = df_PM10_test.drop('PM$_{10}$, Hornsgatan', axis=1) \n",
    "df_PM10_test = df_PM10_test.drop('PM$_{10}$, Norr Malma', axis=1) \n",
    "\n",
    "\n",
    "# PM2.5\n",
    "y_test_PM2p5 = df_PM2p5_test['PM$_{2.5}$, Torkel Knutssonsgatan'] # keep the target y in original scale\n",
    "df_PM2p5_test = np.log(df_PM2p5_test) # log transform\n",
    "df_PM2p5_test = df_PM2p5_test.drop('PM$_{2.5}$, Torkel Knutssonsgatan', axis=1) \n",
    "df_PM2p5_test = df_PM2p5_test.drop('PM$_{2.5}$, Hornsgatan', axis=1) \n",
    "df_PM2p5_test = df_PM2p5_test.drop('PM$_{2.5}$, Norr Malma', axis=1) "
   ]
  },
  {
   "cell_type": "code",
   "execution_count": 160,
   "metadata": {},
   "outputs": [],
   "source": [
    "df_PM10_test.insert(0, 'intercept', 1)\n",
    "df_PM2p5_test.insert(0, 'intercept', 1)"
   ]
  },
  {
   "cell_type": "code",
   "execution_count": 161,
   "metadata": {},
   "outputs": [],
   "source": [
    "df_get_predictions_PM10 = np.exp(lmod_PM10.get_prediction(df_PM10_test).summary_frame())\n",
    "df_get_predictions_PM10.rename(columns={'mean':'PM$_{10}$, predictions'}, inplace=True)\n",
    "df_get_predictions_PM10;"
   ]
  },
  {
   "cell_type": "code",
   "execution_count": 162,
   "metadata": {},
   "outputs": [
    {
     "data": {
      "text/plain": [
       "3.793"
      ]
     },
     "execution_count": 162,
     "metadata": {},
     "output_type": "execute_result"
    }
   ],
   "source": [
    "np.sqrt(mean_squared_error(df_get_predictions_PM10['PM$_{10}$, predictions'], y_test_PM10)).round(3)"
   ]
  },
  {
   "cell_type": "code",
   "execution_count": 163,
   "metadata": {},
   "outputs": [],
   "source": [
    "df_get_predictions_PM2p5 = np.exp(lmod_PM2p5.get_prediction(df_PM2p5_test).summary_frame())\n",
    "df_get_predictions_PM2p5.rename(columns={'mean':'PM$_{2.5}$, predictions'}, inplace=True)\n",
    "df_get_predictions_PM2p5;"
   ]
  },
  {
   "cell_type": "code",
   "execution_count": 164,
   "metadata": {},
   "outputs": [
    {
     "data": {
      "text/plain": [
       "1.242"
      ]
     },
     "execution_count": 164,
     "metadata": {},
     "output_type": "execute_result"
    }
   ],
   "source": [
    "np.sqrt(mean_squared_error(df_get_predictions_PM2p5['PM$_{2.5}$, predictions'], y_test_PM2p5)).round(3)"
   ]
  },
  {
   "cell_type": "code",
   "execution_count": 165,
   "metadata": {},
   "outputs": [
    {
     "data": {
      "image/png": "[encoded data removed]",
      "text/plain": [
       "<Figure size 414x324 with 2 Axes>"
      ]
     },
     "metadata": {
      "needs_background": "light"
     },
     "output_type": "display_data"
    }
   ],
   "source": [
    "fig, (ax1, ax2) = plt.subplots(2,1, constrained_layout=True, figsize=(5.75, 4.5), sharex=True)\n",
    "# fig, (ax1, ax2) = plt.subplots(1,2, constrained_layout=True, figsize=(10, 3), sharex=True)\n",
    "\n",
    "date1 = '2020-09-25'\n",
    "date2 = '2020-10-08 00:00:00'\n",
    "\n",
    "# PM10\n",
    "y_test_PM10[date1:date2].plot(ax=ax1) # PM10 values\n",
    "df_get_predictions_PM10[date1:date2]['PM$_{10}$, predictions'].plot(ax=ax1) # PM10 predicted\n",
    "df_get_predictions_PM10[date1:date2]['obs_ci_lower'].plot(\n",
    "                        linestyle='dashed', linewidth=.85, color='gray', label='_nolegend_', ax=ax1)\n",
    "df_get_predictions_PM10[date1:date2]['obs_ci_upper'].plot(\n",
    "                        linestyle='dashed', linewidth=.85, color='gray', label='_nolegend_', ax=ax1)\n",
    "ax1.legend(loc='lower right', bbox_to_anchor= (1.0, 1.025), ncol=1, borderaxespad=0.1)\n",
    "ax1.annotate('(a)', xy=(0.0, 1.09), xycoords=\"axes fraction\")\n",
    "ax1.set_ylabel('$\\mu$g/m$^3$')\n",
    "\n",
    "# PM2.5\n",
    "y_test_PM2p5[date1:date2].plot(ax=ax2) # PM2.5 values\n",
    "df_get_predictions_PM2p5[date1:date2]['PM$_{2.5}$, predictions'].plot(ax=ax2) # PM2.5 predicted\n",
    "df_get_predictions_PM2p5[date1:date2]['obs_ci_lower'].plot(\n",
    "                        linestyle='dashed', linewidth=.85, color='gray', label='_nolegend_', ax=ax2)\n",
    "df_get_predictions_PM2p5[date1:date2]['obs_ci_upper'].plot(\n",
    "                        linestyle='dashed', linewidth=.85, color='gray', label='_nolegend_', ax=ax2)\n",
    "ax2.legend(loc='lower right', bbox_to_anchor= (1.0, 1.025), ncol=1, borderaxespad=0.1)\n",
    "ax2.annotate('(b)', xy=(0.0, 1.09), xycoords=\"axes fraction\")\n",
    "ax2.set_ylabel('$\\mu$g/m$^3$')\n",
    "\n",
    "plt.xlabel('')\n",
    "plt.savefig('../plots/MLR_PM10.pdf')"
   ]
  },
  {
   "cell_type": "markdown",
   "metadata": {},
   "source": [
    "# Some model diagnostics"
   ]
  },
  {
   "cell_type": "code",
   "execution_count": 166,
   "metadata": {},
   "outputs": [
    {
     "data": {
      "image/png": "[encoded data removed]",
      "text/plain": [
       "<Figure size 396x216 with 4 Axes>"
      ]
     },
     "metadata": {
      "needs_background": "light"
     },
     "output_type": "display_data"
    }
   ],
   "source": [
    "# PM10\n",
    "fig, ((ax1, ax2), (ax3, ax4)) = plt.subplots(2, 2, constrained_layout = True, figsize = (5.5, 3))\n",
    "\n",
    "# QQ-plot of studentized residuals\n",
    "sm.qqplot(lmod_PM10.resid, line='q', ax=ax1, marker=\".\")\n",
    "ax1.annotate('(a)', xy=(0, 1.09), xycoords=\"axes fraction\")\n",
    "\n",
    "# fitted vs residuals\n",
    "ax2.scatter(lmod_PM10.fittedvalues, lmod_PM10.resid, marker=\".\")#, facecolors='none', edgecolors='#1f77b4')\n",
    "ax2.axhline(0, color='r')\n",
    "ax2.set_xlabel('Fitted value')\n",
    "ax2.set_ylabel('Residuals')\n",
    "ax2.annotate('(b)', xy=(0, 1.09), xycoords=\"axes fraction\")\n",
    "\n",
    "\n",
    "ax3.hist(lmod_PM10.resid, edgecolor='black')\n",
    "ax3.set_xlabel('Residuals')\n",
    "ax3.set_ylabel('Frequency')\n",
    "ax3.annotate('(c)', xy=(0, 1.09), xycoords=\"axes fraction\")\n",
    "\n",
    "lmod_PM10.resid.plot(linestyle=\"\", marker='.', ax=ax4)\n",
    "ax4.set_xlabel('')\n",
    "ax4.set_ylabel('Residuals')\n",
    "ax4.annotate('(d)', xy=(0, 1.09), xycoords=\"axes fraction\")\n",
    "\n",
    "plt.savefig('../plots/Residual_plots_MLR_PM10.pdf')"
   ]
  },
  {
   "cell_type": "code",
   "execution_count": 167,
   "metadata": {},
   "outputs": [
    {
     "data": {
      "image/png": "[encoded data removed]",
      "text/plain": [
       "<Figure size 396x216 with 4 Axes>"
      ]
     },
     "metadata": {
      "needs_background": "light"
     },
     "output_type": "display_data"
    }
   ],
   "source": [
    "# PM10\n",
    "fig, ((ax1, ax2), (ax3, ax4)) = plt.subplots(2, 2, constrained_layout = True, figsize = (5.5, 3))\n",
    "\n",
    "# QQ-plot of studentized residuals\n",
    "sm.qqplot(lmod_PM2p5.resid, line='q', ax=ax1, marker=\".\")\n",
    "ax1.annotate('(a)', xy=(0, 1.09), xycoords=\"axes fraction\")\n",
    "\n",
    "# fitted vs residuals\n",
    "ax2.scatter(lmod_PM2p5.fittedvalues, lmod_PM2p5.resid, marker=\".\")#, facecolors='none', edgecolors='#1f77b4')\n",
    "ax2.axhline(0, color='r')\n",
    "ax2.set_xlabel('Fitted value')\n",
    "ax2.set_ylabel('Residuals')\n",
    "ax2.annotate('(b)', xy=(0, 1.09), xycoords=\"axes fraction\")\n",
    "\n",
    "\n",
    "ax3.hist(lmod_PM2p5.resid, edgecolor='black')\n",
    "ax3.set_xlabel('Residuals')\n",
    "ax3.set_ylabel('Frequency')\n",
    "ax3.annotate('(c)', xy=(0, 1.09), xycoords=\"axes fraction\")\n",
    "\n",
    "lmod_PM2p5.resid.plot(linestyle=\"\", marker='.', ax=ax4)\n",
    "ax4.set_xlabel('')\n",
    "ax4.set_ylabel('Residuals')\n",
    "ax4.annotate('(d)', xy=(0, 1.09), xycoords=\"axes fraction\")\n",
    "\n",
    "plt.savefig('../plots/Residual_plots_MLR_PM2.5.pdf')"
   ]
  },
  {
   "cell_type": "markdown",
   "metadata": {},
   "source": [
    "# Ridge test #"
   ]
  },
  {
   "cell_type": "code",
   "execution_count": 168,
   "metadata": {},
   "outputs": [
    {
     "name": "stderr",
     "output_type": "stream",
     "text": [
      "/var/folders/3k/1wztchzs50j4jyq74xpccr3m0000gn/T/ipykernel_6707/4124268584.py:1: SettingWithCopyWarning: \n",
      "A value is trying to be set on a copy of a slice from a DataFrame\n",
      "\n",
      "See the caveats in the documentation: https://pandas.pydata.org/pandas-docs/stable/user_guide/indexing.html#returning-a-view-versus-a-copy\n",
      "  X_PM10.drop('intercept', axis=1, inplace=True)\n"
     ]
    }
   ],
   "source": [
    "X_PM10.drop('intercept', axis=1, inplace=True)"
   ]
  },
  {
   "cell_type": "code",
   "execution_count": 169,
   "metadata": {},
   "outputs": [],
   "source": [
    "# from sklearn.preprocessing import MinMaxScaler\n",
    "def normalize(data):\n",
    "  \"\"\"\"\n",
    "  Input: NumPy ndarray\n",
    "  Output: NumPy ndarray with column min == 0 and max == 1\n",
    "  \"\"\"\n",
    "  return (data - np.min(data,axis=0))/(np.max(data,axis=0) - np.min(data,axis=0))"
   ]
  },
  {
   "cell_type": "code",
   "execution_count": 170,
   "metadata": {},
   "outputs": [],
   "source": [
    "from sklearn import linear_model\n",
    "\n",
    "n_alphas = 100\n",
    "alphas = np.logspace(-2, 6, n_alphas)\n",
    "coefs = []\n",
    "for a in alphas:\n",
    "    ridge = linear_model.Ridge(alpha=a)\n",
    "    ridge.fit(X_PM10, y_PM10)\n",
    "    coefs.append(ridge.coef_)"
   ]
  },
  {
   "cell_type": "code",
   "execution_count": 171,
   "metadata": {},
   "outputs": [
    {
     "name": "stdout",
     "output_type": "stream",
     "text": [
      "10.0\n"
     ]
    },
    {
     "data": {
      "image/png": "[encoded data removed]",
      "text/plain": [
       "<Figure size 432x288 with 1 Axes>"
      ]
     },
     "metadata": {
      "needs_background": "light"
     },
     "output_type": "display_data"
    }
   ],
   "source": [
    "# select value of lambda with cross-validation\n",
    "from sklearn.model_selection import GridSearchCV\n",
    "pars = {'alpha':np.logspace(-1, 1, n_alphas)}\n",
    "rr = GridSearchCV(linear_model.Ridge(), pars, scoring='r2', cv=10)\n",
    "rr.fit(X_PM10, y_PM10)\n",
    "\n",
    "bestalpha = rr.best_params_['alpha']\n",
    "print(bestalpha)\n",
    "\n",
    "# ridge trace plot\n",
    "ax = plt.gca()\n",
    "ax.plot(alphas, coefs)\n",
    "ax.set_xscale('log')\n",
    "ax.set_xlim(ax.get_xlim()[::-1])\n",
    "# ax.set_ylim(-.2,.55)\n",
    "\n",
    "for i in range(len(X_PM10.columns)):\n",
    "    plt.text(min(alphas)/3, coefs[0][i], X_PM10.columns[i], fontsize=8)\n",
    "\n",
    "plt.xlabel(r'$\\lambda$')\n",
    "plt.ylabel('Coefficients')\n",
    "plt.axvline(bestalpha, color='k', linestyle='--', linewidth=1, alpha=.75)\n",
    "plt.tight_layout()\n",
    "# # plt.savefig('../plots/PM10_ridge_regression.pdf')"
   ]
  },
  {
   "cell_type": "code",
   "execution_count": 172,
   "metadata": {},
   "outputs": [
    {
     "ename": "TypeError",
     "evalue": "LinearModel.predict() missing 1 required positional argument: 'X'",
     "output_type": "error",
     "traceback": [
      "\u001b[0;31m---------------------------------------------------------------------------\u001b[0m",
      "\u001b[0;31mTypeError\u001b[0m                                 Traceback (most recent call last)",
      "\u001b[1;32m/Users/simoncarlen/Desktop/forecasting_project/jupyter_notebooks/autoreg_MLR_model_PM10.ipynb Cell 30\u001b[0m in \u001b[0;36m<cell line: 3>\u001b[0;34m()\u001b[0m\n\u001b[1;32m      <a href='vscode-notebook-cell:/Users/simoncarlen/Desktop/forecasting_project/jupyter_notebooks/autoreg_MLR_model_PM10.ipynb#X35sZmlsZQ%3D%3D?line=0'>1</a>\u001b[0m rrbest \u001b[39m=\u001b[39m linear_model\u001b[39m.\u001b[39mRidge(alpha\u001b[39m=\u001b[39mbestalpha, fit_intercept\u001b[39m=\u001b[39m\u001b[39mTrue\u001b[39;00m)\n\u001b[1;32m      <a href='vscode-notebook-cell:/Users/simoncarlen/Desktop/forecasting_project/jupyter_notebooks/autoreg_MLR_model_PM10.ipynb#X35sZmlsZQ%3D%3D?line=1'>2</a>\u001b[0m rrbest\u001b[39m.\u001b[39mfit(X_PM10, y_PM10)\n\u001b[1;32m      <a href='vscode-notebook-cell:/Users/simoncarlen/Desktop/forecasting_project/jupyter_notebooks/autoreg_MLR_model_PM10.ipynb#X35sZmlsZQ%3D%3D?line=2'>3</a>\u001b[0m (np\u001b[39m.\u001b[39msqrt(mean_squared_error(rrbest\u001b[39m.\u001b[39mpredict(X_PM10), y_PM10))\u001b[39m.\u001b[39mround(\u001b[39m5\u001b[39m), \n\u001b[0;32m----> <a href='vscode-notebook-cell:/Users/simoncarlen/Desktop/forecasting_project/jupyter_notebooks/autoreg_MLR_model_PM10.ipynb#X35sZmlsZQ%3D%3D?line=3'>4</a>\u001b[0m np\u001b[39m.\u001b[39msqrt(mean_squared_error(rrbest\u001b[39m.\u001b[39;49mpredict(), y_test))\u001b[39m.\u001b[39mround(\u001b[39m5\u001b[39m)\n\u001b[1;32m      <a href='vscode-notebook-cell:/Users/simoncarlen/Desktop/forecasting_project/jupyter_notebooks/autoreg_MLR_model_PM10.ipynb#X35sZmlsZQ%3D%3D?line=4'>5</a>\u001b[0m )\n",
      "\u001b[0;31mTypeError\u001b[0m: LinearModel.predict() missing 1 required positional argument: 'X'"
     ]
    }
   ],
   "source": [
    "rrbest = linear_model.Ridge(alpha=bestalpha, fit_intercept=True)\n",
    "rrbest.fit(X_PM10, y_PM10)\n",
    "(np.sqrt(mean_squared_error(rrbest.predict(X_PM10), y_PM10)).round(5), \n",
    "np.sqrt(mean_squared_error(rrbest.predict(), y_test)).round(5)\n",
    ")"
   ]
  }
 ],
 "metadata": {
  "kernelspec": {
   "display_name": "Python 3.10.4 ('DL')",
   "language": "python",
   "name": "python3"
  },
  "language_info": {
   "codemirror_mode": {
    "name": "ipython",
    "version": 3
   },
   "file_extension": ".py",
   "mimetype": "text/x-python",
   "name": "python",
   "nbconvert_exporter": "python",
   "pygments_lexer": "ipython3",
   "version": "3.10.4"
  },
  "orig_nbformat": 4,
  "vscode": {
   "interpreter": {
    "hash": "2a0afe78b3ebe22049d3d74ba655a4a5f799767e6308d99c3f84aabb51861a5e"
   }
  }
 },
 "nbformat": 4,
 "nbformat_minor": 2
}
