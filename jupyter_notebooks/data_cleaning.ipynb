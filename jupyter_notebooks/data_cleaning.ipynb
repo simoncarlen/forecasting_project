{
 "cells": [
  {
   "cell_type": "code",
   "execution_count": 2,
   "metadata": {},
   "outputs": [],
   "source": [
    "import pandas as pd\n",
    "import numpy as np\n",
    "import matplotlib.pyplot as plt\n",
    "import seaborn as sns"
   ]
  },
  {
   "cell_type": "markdown",
   "metadata": {},
   "source": [
    "# Read in csv files with pollution data and clean up"
   ]
  },
  {
   "cell_type": "code",
   "execution_count": 3,
   "metadata": {},
   "outputs": [],
   "source": [
    "# read in pollution data\n",
    "df_torkel_knutssong = pd.read_csv('../air_weather_data/torkel_knutssonsgatan.csv', sep=';', skiprows=10)\n",
    "df_hornsgatan = pd.read_csv('../air_weather_data/hornsgatan.csv', sep=';', skiprows=10)\n",
    "df_norr_malma = pd.read_csv('../air_weather_data/norr_malma.csv', sep=';', skiprows=10)\n",
    "df_sveavägen = pd.read_csv('../air_weather_data/sveavägen.csv', sep=';', skiprows=10)\n",
    "df_essingeleden = pd.read_csv('../air_weather_data/essingeleden.csv', sep=';', skiprows=10)"
   ]
  },
  {
   "cell_type": "code",
   "execution_count": 6,
   "metadata": {},
   "outputs": [],
   "source": [
    "# renaming relevant columns\n",
    "df_torkel_knutssong.rename(columns={'Slut':'Date', \n",
    "                                    'PM10 (107)':'PM$_{10}$, Torkel Knutssonsgatan', \n",
    "                                    'PM2.5 (102)':'PM$_{2.5}$, Torkel Knutssonsgatan'},\n",
    "                                    # 'NO2 (105)':'NO$_2$, Torkel Knutssonsgatan'}, \n",
    "                                    inplace=True)\n",
    "\n",
    "df_hornsgatan.rename(columns={'Slut':'Date',\n",
    "                              'PM10 (116)':'PM$_{10}$, Hornsgatan',\n",
    "                              'PM2.5 (111)':'PM$_{2.5}$, Hornsgatan'}, \n",
    "                              inplace=True)\n",
    "\n",
    "df_sveavägen.rename(columns={'Slut':'Date',\n",
    "                             'PM10 (182)':'PM$_{10}$, Sveavägen',\n",
    "                             'PM2.5 (181)':'PM$_{2.5}$, Sveavägen'},\n",
    "                             inplace=True)\n",
    "\n",
    "df_essingeleden.rename(columns={'Slut':'Date',\n",
    "                                'PM10 (342)':'PM$_{10}$, Lilla Essingen',\n",
    "                                'PM2.5 (343)':'PM$_{2.5}$, Lilla Essingen'},\n",
    "                                inplace=True)\n",
    "\n",
    "df_norr_malma.rename(columns={'Slut':'Date',\n",
    "                              'PM10 (291)':'PM$_{10}$, Norr Malma',\n",
    "                              'PM2.5 (295)':'PM$_{2.5}$, Norr Malma'}, \n",
    "                              inplace=True)\n",
    "\n",
    "stations = [df_torkel_knutssong, df_hornsgatan, df_sveavägen, df_essingeleden, df_norr_malma]"
   ]
  },
  {
   "cell_type": "code",
   "execution_count": 8,
   "metadata": {},
   "outputs": [],
   "source": [
    "# drop irrelevant columns\n",
    "for i in range(len(stations)):\n",
    "    stations[i].drop(columns=['Start'], axis=1, inplace=True)"
   ]
  },
  {
   "cell_type": "code",
   "execution_count": 9,
   "metadata": {},
   "outputs": [],
   "source": [
    "# change to datetime format\n",
    "for i in range(len(stations)):\n",
    "    stations[i]['Date'] = pd.to_datetime(stations[i]['Date'], format = '%Y-%m-%d %H:%M')\n",
    "    stations[i].set_index('Date', inplace=True)"
   ]
  },
  {
   "cell_type": "code",
   "execution_count": 10,
   "metadata": {},
   "outputs": [],
   "source": [
    "df_all_stations = df_torkel_knutssong[:]\n",
    "\n",
    "for i in range(len(stations)-1):\n",
    "    df_all_stations = df_all_stations.merge(stations[i+1], on='Date')\n"
   ]
  },
  {
   "cell_type": "markdown",
   "metadata": {},
   "source": [
    "# Read in weather data and clean up"
   ]
  },
  {
   "cell_type": "code",
   "execution_count": 11,
   "metadata": {},
   "outputs": [],
   "source": [
    "path = '../air_weather_data/'\n",
    "\n",
    "temperature = pd.read_csv(path + 'temperature.csv', sep=';', header = 2, encoding='latin')\n",
    "pressure = pd.read_csv(path + 'pressure.csv', sep=';', header = 2, encoding='latin')\n",
    "relative_humidity = pd.read_csv(path + 'relative_humidity.csv', sep=';', header = 2, encoding='latin')\n",
    "precipitation = pd.read_csv(path + 'precipitation.csv', sep=';', header = 2, encoding='latin')\n",
    "solar_radiation = pd.read_csv(path + 'solar_radiation.csv', sep=';', header = 2, encoding='latin')\n",
    "wind_speed = pd.read_csv(path + 'wind_speed.csv', sep=';', header = 2, encoding='latin')\n",
    "\n",
    "# make list with dataframes\n",
    "dframes = []\n",
    "dframes += [temperature, pressure, relative_humidity, precipitation, solar_radiation, wind_speed]\n",
    "column_names = ['Temperature','Atmospheric pressure','Relative humidity','Precipitation','Solar radiation','Wind speed']\n",
    "\n",
    "# remove unnecessary columns, turn date into index\n",
    "i = 0\n",
    "for df in dframes:\n",
    "    df.drop(df.columns[[3,4,5,6]], axis=1, inplace=True)\n",
    "    df.insert(0, 'Date', df['Datum'] + ' ' + df['Kl']) # insert a date column with date and hour\n",
    "    df.drop(['Datum', 'Kl'], axis=1, inplace=True) # drop columns Datum and Kl\n",
    "    df['Date'] = pd.to_datetime(df['Date'], format = '%y-%m-%d %H:%M') # change date column to datetime format\n",
    "    dframes[i].columns.values[1] = column_names[i]\n",
    "    df.set_index('Date', inplace=True) # set date as index column\n",
    "    i += 1"
   ]
  },
  {
   "cell_type": "code",
   "execution_count": 12,
   "metadata": {},
   "outputs": [],
   "source": [
    "df_weather = dframes[0]\n",
    "# merge all dataframes\n",
    "df_weather = df_weather.merge(dframes[1], on='Date')\n",
    "df_weather = df_weather.merge(dframes[2], on='Date')\n",
    "df_weather = df_weather.merge(dframes[3], on='Date')\n",
    "df_weather = df_weather.merge(dframes[4], on='Date')\n",
    "df_weather = df_weather.merge(dframes[5], on='Date')"
   ]
  },
  {
   "cell_type": "markdown",
   "metadata": {},
   "source": [
    "# Merge pollution and weather dataframes"
   ]
  },
  {
   "cell_type": "code",
   "execution_count": 13,
   "metadata": {},
   "outputs": [],
   "source": [
    "# merge weather and pollution data\n",
    "# df_pollution_weather = df.merge()\n",
    "df_all_stations = df_all_stations.merge(df_weather, on='Date')"
   ]
  },
  {
   "cell_type": "markdown",
   "metadata": {},
   "source": [
    "# Make cosine and sine signals for day, week, and year"
   ]
  },
  {
   "cell_type": "code",
   "execution_count": 14,
   "metadata": {},
   "outputs": [],
   "source": [
    "import matplotlib.dates as mdates\n",
    "\n",
    "# sine and cosine of day, week, and year to capture seasonality of pollution data\n",
    "def add_sine_cosine(df):\n",
    "    # getting datetime columns and converting to seconds\n",
    "    timestamp_s = df.index.map(pd.Timestamp.timestamp)\n",
    "    day = 24*60*60\n",
    "    week = 7*day\n",
    "    year = (365.2425)*day\n",
    "    df['Sine day'] = np.sin(timestamp_s * (2 * np.pi / day))\n",
    "    df['Cosine day'] = np.cos(timestamp_s * (2 * np.pi / day))    \n",
    "    df['Sine week'] = np.sin(timestamp_s * (2 * np.pi / week))\n",
    "    df['Cosine week'] = np.cos(timestamp_s * (2 * np.pi / week))\n",
    "    df['Sine year'] = np.sin(timestamp_s * (2 * np.pi / year))\n",
    "    df['Cosine year'] = np.cos(timestamp_s * (2 * np.pi / year))\n",
    "    return df\n",
    "\n",
    "# apply above function to df_final\n",
    "df_all_stations = add_sine_cosine(df_all_stations)"
   ]
  },
  {
   "cell_type": "markdown",
   "metadata": {},
   "source": [
    "# Save final dataset to csv"
   ]
  },
  {
   "cell_type": "code",
   "execution_count": 15,
   "metadata": {},
   "outputs": [],
   "source": [
    "df_all_stations.to_csv('../air_weather_data/pollution_and_weather.csv')"
   ]
  }
 ],
 "metadata": {
  "kernelspec": {
   "display_name": "Python 3.10.4 ('DL')",
   "language": "python",
   "name": "python3"
  },
  "language_info": {
   "codemirror_mode": {
    "name": "ipython",
    "version": 3
   },
   "file_extension": ".py",
   "mimetype": "text/x-python",
   "name": "python",
   "nbconvert_exporter": "python",
   "pygments_lexer": "ipython3",
   "version": "3.10.4"
  },
  "orig_nbformat": 4,
  "vscode": {
   "interpreter": {
    "hash": "2a0afe78b3ebe22049d3d74ba655a4a5f799767e6308d99c3f84aabb51861a5e"
   }
  }
 },
 "nbformat": 4,
 "nbformat_minor": 2
}
