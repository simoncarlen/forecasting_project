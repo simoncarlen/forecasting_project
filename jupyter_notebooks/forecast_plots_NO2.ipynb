{
 "cells": [
  {
   "cell_type": "markdown",
   "metadata": {},
   "source": [
    "# Imports"
   ]
  },
  {
   "cell_type": "code",
   "execution_count": 1,
   "metadata": {},
   "outputs": [],
   "source": [
    "import pandas as pd\n",
    "import numpy as np\n",
    "import matplotlib.pyplot as plt\n",
    "from scipy import stats\n",
    "import matplotlib.lines as mlines\n",
    "import matplotlib.transforms as mtransforms\n",
    "import sklearn\n",
    "import statsmodels.api as sm\n",
    "\n",
    "from sklearn.metrics import mean_squared_error\n",
    "from sklearn.metrics import mean_absolute_percentage_error\n",
    "from sklearn.metrics import mean_absolute_error\n",
    "\n",
    "tex_fonts = {\n",
    "    \"text.usetex\": True,\n",
    "    \"font.family\": \"serif\",\n",
    "    \"axes.labelsize\": 10,\n",
    "    \"font.size\": 10,\n",
    "    \"legend.fontsize\": 10,\n",
    "    \"xtick.labelsize\": 10,\n",
    "    \"ytick.labelsize\": 10\n",
    "    }\n",
    "plt.rcParams.update(tex_fonts)"
   ]
  },
  {
   "cell_type": "code",
   "execution_count": 2,
   "metadata": {},
   "outputs": [],
   "source": [
    "# performance = {}\n",
    "# df_simple_dense_results = pd.read_csv('../prediction_results/dense_predictions.csv')\n",
    "# df_simple_dense_results['date'] = pd.to_datetime(df_simple_dense_results['date'], format = '%Y-%m-%d %H:%M') # \n",
    "# df_simple_dense_results.set_index('date', inplace=True) # date column as index\n",
    "\n",
    "# index_condition = df_simple_dense_results.index[df_simple_dense_results['NO$_2$ observed'] > 50]"
   ]
  },
  {
   "cell_type": "markdown",
   "metadata": {},
   "source": [
    "# Robust MLR and Simple Dense"
   ]
  },
  {
   "cell_type": "code",
   "execution_count": 3,
   "metadata": {},
   "outputs": [
    {
     "name": "stdout",
     "output_type": "stream",
     "text": [
      "Robust\n",
      "------\n",
      "MSE: 12.341\n",
      "RMSE 3.513\n",
      "MAE: 1.995\n",
      "ME: 0.482\n",
      "MAPE: 0.2\n",
      "\n",
      "Simple dense\n",
      "------------\n",
      "MSE: 10.089\n",
      "RMSE 3.176\n",
      "MAE 1.925\n",
      "ME: -0.24\n",
      "MAPE 0.222\n"
     ]
    }
   ],
   "source": [
    "# metrics for robust and simple dense models\n",
    "df_rreg_results = pd.read_csv('../prediction_results/robust_regression.csv')\n",
    "df_rreg_results['date'] = pd.to_datetime(df_rreg_results['date'], format = '%Y-%m-%d %H:%M') # \n",
    "df_rreg_results.set_index('date', inplace=True) # date column as index\n",
    "df_rreg_results = df_rreg_results[['NO$_2$ observed', 'NO$_2$ predicted']] # change place only for this df\n",
    "\n",
    "df_simple_dense_results = pd.read_csv('../prediction_results/dense_predictions.csv')\n",
    "df_simple_dense_results['date'] = pd.to_datetime(df_simple_dense_results['date'], format = '%Y-%m-%d %H:%M') # \n",
    "df_simple_dense_results.set_index('date', inplace=True) # date column as index\n",
    "\n",
    "print('Robust\\n------')\n",
    "print('MSE:', mean_squared_error(df_rreg_results['NO$_2$ observed'], df_rreg_results['NO$_2$ predicted']).round(3))\n",
    "print('RMSE', np.sqrt(mean_squared_error(df_rreg_results['NO$_2$ observed'], df_rreg_results['NO$_2$ predicted'])).round(3))\n",
    "print('MAE:', mean_absolute_error(df_rreg_results['NO$_2$ observed'], df_rreg_results['NO$_2$ predicted']).round(3))\n",
    "print('ME:',np.mean(df_rreg_results['NO$_2$ observed'] - df_rreg_results['NO$_2$ predicted']).round(3))\n",
    "print('MAPE:', mean_absolute_percentage_error(df_rreg_results['NO$_2$ observed'], df_rreg_results['NO$_2$ predicted']).round(3))\n",
    "\n",
    "print('\\nSimple dense\\n------------')\n",
    "print('MSE:', mean_squared_error(df_simple_dense_results['NO$_2$ observed'], df_simple_dense_results['NO$_2$ predicted']).round(3))\n",
    "print('RMSE',np.sqrt(mean_squared_error(df_simple_dense_results['NO$_2$ observed'], df_simple_dense_results['NO$_2$ predicted'])).round(3))\n",
    "print('MAE',mean_absolute_error(df_simple_dense_results['NO$_2$ observed'], df_simple_dense_results['NO$_2$ predicted']).round(3))\n",
    "print('ME:',np.mean(df_simple_dense_results['NO$_2$ observed'] - df_simple_dense_results['NO$_2$ predicted']).round(2))\n",
    "print('MAPE',mean_absolute_percentage_error(df_simple_dense_results['NO$_2$ observed'], df_simple_dense_results['NO$_2$ predicted']).round(3))"
   ]
  },
  {
   "cell_type": "code",
   "execution_count": 4,
   "metadata": {},
   "outputs": [
    {
     "name": "stdout",
     "output_type": "stream",
     "text": [
      "Robust MLR\n",
      "        lb_stat      lb_pvalue     bp_stat      bp_pvalue\n",
      "10  757.295651  3.109348e-156  756.625334  4.332040e-156\n",
      "\n",
      "Simple Dense \n",
      "        lb_stat     lb_pvalue     bp_stat     bp_pvalue\n",
      "10  483.141454  1.763409e-97  482.716372  2.173380e-97\n"
     ]
    },
    {
     "data": {
      "image/png": "[encoded data removed]",
      "text/plain": [
       "<Figure size 432x216 with 2 Axes>"
      ]
     },
     "metadata": {
      "needs_background": "light"
     },
     "output_type": "display_data"
    }
   ],
   "source": [
    "df_rreg_results['error'] = df_rreg_results['NO$_2$ observed'] - df_rreg_results['NO$_2$ predicted']\n",
    "print('Robust MLR\\n',sm.stats.acorr_ljungbox(df_rreg_results['error'].values, lags=[10], boxpierce=True, return_df=True))\n",
    "\n",
    "df_simple_dense_results['error'] = df_simple_dense_results['NO$_2$ observed'] - df_simple_dense_results['NO$_2$ predicted']\n",
    "print('\\nSimple Dense \\n',sm.stats.acorr_ljungbox(df_simple_dense_results['error'].values, lags=[10], boxpierce=True, return_df=True))\n",
    "\n",
    "\n",
    "fig, (ax1, ax2) = plt.subplots(1, 2, constrained_layout = True, figsize = (6, 3))\n",
    "\n",
    "sm.qqplot(df_rreg_results['error'], line='q', marker=\".\", ax=ax1)\n",
    "sm.qqplot(df_simple_dense_results['error'], line='q', marker=\".\", ax=ax2)\n",
    "\n",
    "plt.show()"
   ]
  },
  {
   "cell_type": "markdown",
   "metadata": {},
   "source": [
    "# Dense (6, 12, and 24 h)"
   ]
  },
  {
   "cell_type": "code",
   "execution_count": 5,
   "metadata": {},
   "outputs": [
    {
     "name": "stdout",
     "output_type": "stream",
     "text": [
      "Dense 6h\n",
      "--------\n",
      "MSE 10.41\n",
      "RMSE 3.23\n",
      "MAE 2.05\n",
      "ME -0.32\n",
      "MAPE 0.26\n",
      "\n",
      "Dense 12h\n",
      "--------\n",
      "MSE 10.441\n",
      "RMSE 3.231\n",
      "MAE 2.065\n",
      "ME -0.053\n",
      "MAPE 0.255\n",
      "\n",
      "Dense 24h\n",
      "--------\n",
      "MSE 11.136\n",
      "RMSE 3.337\n",
      "MAE 2.149\n",
      "ME -0.042\n",
      "MAPE 0.274\n"
     ]
    }
   ],
   "source": [
    "# metrics for dense fitted with rolling windows\n",
    "df_dense_6h_results = pd.read_csv('../prediction_results/dense_6_predictions.csv')\n",
    "df_dense_6h_results['date'] = pd.to_datetime(df_dense_6h_results['date'], format = '%Y-%m-%d %H:%M') # \n",
    "df_dense_6h_results.set_index('date', inplace=True) # date column as index\n",
    "\n",
    "print('Dense 6h\\n--------')\n",
    "print('MSE',mean_squared_error(df_dense_6h_results['NO$_2$ observed'], df_dense_6h_results['NO$_2$ predicted']).round(2))\n",
    "print('RMSE',np.sqrt(mean_squared_error(df_dense_6h_results['NO$_2$ observed'], df_dense_6h_results['NO$_2$ predicted'])).round(2))\n",
    "print('MAE',mean_absolute_error(df_dense_6h_results['NO$_2$ observed'], df_dense_6h_results['NO$_2$ predicted']).round(2))\n",
    "print('ME',np.mean(df_dense_6h_results['NO$_2$ observed'] - df_dense_6h_results['NO$_2$ predicted']).round(2))\n",
    "print('MAPE',mean_absolute_percentage_error(df_dense_6h_results['NO$_2$ observed'], df_dense_6h_results['NO$_2$ predicted']).round(2))\n",
    "\n",
    "df_dense_12h_results = pd.read_csv('../prediction_results/dense_12_predictions.csv')\n",
    "df_dense_12h_results['date'] = pd.to_datetime(df_dense_12h_results['date'], format = '%Y-%m-%d %H:%M') # \n",
    "df_dense_12h_results.set_index('date', inplace=True) # date column as index\n",
    "\n",
    "print('\\nDense 12h\\n--------')\n",
    "print('MSE',mean_squared_error(df_dense_12h_results['NO$_2$ observed'], df_dense_12h_results['NO$_2$ predicted']).round(3))\n",
    "print('RMSE',np.sqrt(mean_squared_error(df_dense_12h_results['NO$_2$ observed'], df_dense_12h_results['NO$_2$ predicted'])).round(3))\n",
    "print('MAE',mean_absolute_error(df_dense_12h_results['NO$_2$ observed'], df_dense_12h_results['NO$_2$ predicted']).round(3))\n",
    "print('ME',np.mean(df_dense_12h_results['NO$_2$ observed'] - df_dense_12h_results['NO$_2$ predicted']).round(3))\n",
    "print('MAPE',mean_absolute_percentage_error(df_dense_12h_results['NO$_2$ observed'], df_dense_12h_results['NO$_2$ predicted']).round(3))\n",
    "\n",
    "df_dense_24h_results = pd.read_csv('../prediction_results/dense_24_predictions.csv')\n",
    "df_dense_24h_results['date'] = pd.to_datetime(df_dense_24h_results['date'], format = '%Y-%m-%d %H:%M') # \n",
    "df_dense_24h_results.set_index('date', inplace=True) # date column as index\n",
    "\n",
    "print('\\nDense 24h\\n--------')\n",
    "print('MSE',mean_squared_error(df_dense_24h_results['NO$_2$ observed'], df_dense_24h_results['NO$_2$ predicted']).round(3))\n",
    "print('RMSE',np.sqrt(mean_squared_error(df_dense_24h_results['NO$_2$ observed'], df_dense_24h_results['NO$_2$ predicted'])).round(3))\n",
    "print('MAE',mean_absolute_error(df_dense_24h_results['NO$_2$ observed'], df_dense_24h_results['NO$_2$ predicted']).round(3))\n",
    "print('ME',np.mean(df_dense_24h_results['NO$_2$ observed'] - df_dense_24h_results['NO$_2$ predicted']).round(3))\n",
    "print('MAPE',mean_absolute_percentage_error(df_dense_24h_results['NO$_2$ observed'], df_dense_24h_results['NO$_2$ predicted']).round(3))"
   ]
  },
  {
   "cell_type": "code",
   "execution_count": 6,
   "metadata": {},
   "outputs": [
    {
     "name": "stdout",
     "output_type": "stream",
     "text": [
      "\n",
      "RNN\n",
      "        lb_stat     lb_pvalue     bp_stat     bp_pvalue\n",
      "10  270.665685  2.421172e-52  270.474364  2.656753e-52\n"
     ]
    }
   ],
   "source": [
    "df_dense_6h_results['error'] = df_dense_6h_results['NO$_2$ observed'] - df_dense_6h_results['NO$_2$ predicted']\n",
    "print('\\nRNN\\n',sm.stats.acorr_ljungbox(df_dense_6h_results['error'].values, lags=[10], boxpierce=True, return_df=True))"
   ]
  },
  {
   "cell_type": "markdown",
   "metadata": {},
   "source": [
    "# Simple RNN"
   ]
  },
  {
   "cell_type": "code",
   "execution_count": 7,
   "metadata": {},
   "outputs": [
    {
     "name": "stdout",
     "output_type": "stream",
     "text": [
      "RNN 6h\n",
      "--------\n",
      "MSE 11.395\n",
      "RMSE 3.376\n",
      "MAE 2.041\n",
      "ME 0.096\n",
      "MAPE 0.239\n",
      "\n",
      "RNN 12h\n",
      "--------\n",
      "MSE 10.99\n",
      "RMSE 3.32\n",
      "MAE 2.09\n",
      "ME -0.05\n",
      "MAPE 0.27\n",
      "\n",
      "RNN 24h\n",
      "--------\n",
      "MSE 23.49\n",
      "RMSE 4.847\n",
      "MAE 3.384\n",
      "ME 0.499\n",
      "MAPE 0.492\n"
     ]
    }
   ],
   "source": [
    "# metrics for dense fitted with rolling windows\n",
    "df_RNN_6h_results = pd.read_csv('../prediction_results/RNN_6h_predictions.csv')\n",
    "df_RNN_6h_results['date'] = pd.to_datetime(df_RNN_6h_results['date'], format = '%Y-%m-%d %H:%M') # \n",
    "df_RNN_6h_results.set_index('date', inplace=True) # date column as index\n",
    "\n",
    "print('RNN 6h\\n--------')\n",
    "print('MSE',mean_squared_error(df_RNN_6h_results['NO$_2$ observed'], df_RNN_6h_results['NO$_2$ predicted']).round(3))\n",
    "print('RMSE',np.sqrt(mean_squared_error(df_RNN_6h_results['NO$_2$ observed'], df_RNN_6h_results['NO$_2$ predicted'])).round(3))\n",
    "print('MAE',mean_absolute_error(df_RNN_6h_results['NO$_2$ observed'], df_RNN_6h_results['NO$_2$ predicted']).round(3))\n",
    "print('ME',np.mean(df_RNN_6h_results['NO$_2$ observed'] - df_RNN_6h_results['NO$_2$ predicted']).round(3))\n",
    "print('MAPE',mean_absolute_percentage_error(df_RNN_6h_results['NO$_2$ observed'], df_RNN_6h_results['NO$_2$ predicted']).round(3))\n",
    "\n",
    "df_RNN_12h_results = pd.read_csv('../prediction_results/RNN_12h_predictions.csv')\n",
    "df_RNN_12h_results['date'] = pd.to_datetime(df_RNN_12h_results['date'], format = '%Y-%m-%d %H:%M') # \n",
    "df_RNN_12h_results.set_index('date', inplace=True) # date column as index\n",
    "\n",
    "print('\\nRNN 12h\\n--------')\n",
    "print('MSE',mean_squared_error(df_RNN_12h_results['NO$_2$ observed'], df_RNN_12h_results['NO$_2$ predicted']).round(2))\n",
    "print('RMSE',np.sqrt(mean_squared_error(df_RNN_12h_results['NO$_2$ observed'], df_RNN_12h_results['NO$_2$ predicted'])).round(2))\n",
    "print('MAE',mean_absolute_error(df_RNN_12h_results['NO$_2$ observed'], df_RNN_12h_results['NO$_2$ predicted']).round(2))\n",
    "print('ME',np.mean(df_RNN_12h_results['NO$_2$ observed'] - df_RNN_12h_results['NO$_2$ predicted']).round(2))\n",
    "print('MAPE',mean_absolute_percentage_error(df_RNN_12h_results['NO$_2$ observed'], df_RNN_12h_results['NO$_2$ predicted']).round(2))\n",
    "\n",
    "df_RNN_24h_results = pd.read_csv('../prediction_results/RNN_24h_predictions.csv')\n",
    "df_RNN_24h_results['date'] = pd.to_datetime(df_RNN_24h_results['date'], format = '%Y-%m-%d %H:%M') # \n",
    "df_RNN_24h_results.set_index('date', inplace=True) # date column as index\n",
    "\n",
    "print('\\nRNN 24h\\n--------')\n",
    "print('MSE',mean_squared_error(df_RNN_24h_results['NO$_2$ observed'], df_RNN_24h_results['NO$_2$ predicted']).round(3))\n",
    "print('RMSE',np.sqrt(mean_squared_error(df_RNN_24h_results['NO$_2$ observed'], df_RNN_24h_results['NO$_2$ predicted'])).round(3))\n",
    "print('MAE',mean_absolute_error(df_RNN_24h_results['NO$_2$ observed'], df_RNN_24h_results['NO$_2$ predicted']).round(3))\n",
    "print('ME',np.mean(df_RNN_24h_results['NO$_2$ observed'] - df_RNN_24h_results['NO$_2$ predicted']).round(3))\n",
    "print('MAPE',mean_absolute_percentage_error(df_RNN_24h_results['NO$_2$ observed'], df_RNN_24h_results['NO$_2$ predicted']).round(3))"
   ]
  },
  {
   "cell_type": "code",
   "execution_count": 8,
   "metadata": {},
   "outputs": [
    {
     "name": "stdout",
     "output_type": "stream",
     "text": [
      "\n",
      "RNN\n",
      "       lb_stat     lb_pvalue    bp_stat     bp_pvalue\n",
      "10  72.263221  1.617932e-11  72.206783  1.659197e-11\n"
     ]
    }
   ],
   "source": [
    "df_RNN_12h_results['error'] = df_RNN_12h_results['NO$_2$ observed'] - df_RNN_12h_results['NO$_2$ predicted']\n",
    "print('\\nRNN\\n',sm.stats.acorr_ljungbox(df_RNN_12h_results['error'].values, lags=[10], boxpierce=True, return_df=True))"
   ]
  },
  {
   "cell_type": "markdown",
   "metadata": {},
   "source": [
    "# LSTM"
   ]
  },
  {
   "cell_type": "code",
   "execution_count": 9,
   "metadata": {},
   "outputs": [
    {
     "name": "stdout",
     "output_type": "stream",
     "text": [
      "\n",
      "LSTM 6h \n",
      "-------\n",
      "MSE 9.802\n",
      "RMSE 3.131\n",
      "MAE 1.895\n",
      "ME 0.01\n",
      "MAPE 0.219\n",
      "\n",
      "LSTM 12h \n",
      "-------\n",
      "MSE 9.62\n",
      "RMSE 3.1\n",
      "MAE 1.89\n",
      "ME -0.08\n",
      "MAPE 0.22\n",
      "\n",
      "LSTM 24h \n",
      "-------\n",
      "MSE 9.751\n",
      "RMSE 3.123\n",
      "MAE 1.904\n",
      "ME -0.051\n",
      "MAPE 0.225\n"
     ]
    }
   ],
   "source": [
    "df_lstm_6h_results = pd.read_csv('../prediction_results/LSTM_6h_predictions.csv')\n",
    "df_lstm_6h_results['date'] = pd.to_datetime(df_lstm_6h_results['date'], format = '%Y-%m-%d %H:%M') # \n",
    "df_lstm_6h_results.set_index('date', inplace=True) # date column as index\n",
    "\n",
    "df_lstm_12h_results = pd.read_csv('../prediction_results/LSTM_12h_predictions.csv')\n",
    "df_lstm_12h_results['date'] = pd.to_datetime(df_lstm_12h_results['date'], format = '%Y-%m-%d %H:%M') # \n",
    "df_lstm_12h_results.set_index('date', inplace=True) # date column as index\n",
    "\n",
    "df_lstm_24h_results = pd.read_csv('../prediction_results/LSTM_24h_predictions.csv')\n",
    "df_lstm_24h_results['date'] = pd.to_datetime(df_lstm_24h_results['date'], format = '%Y-%m-%d %H:%M') # \n",
    "df_lstm_24h_results.set_index('date', inplace=True) # date column as index\n",
    "\n",
    "print('\\nLSTM 6h \\n-------')\n",
    "print('MSE',mean_squared_error(df_lstm_6h_results['NO$_2$ observed'], df_lstm_6h_results['NO$_2$ predicted']).round(3))\n",
    "print('RMSE',np.sqrt(mean_squared_error(df_lstm_6h_results['NO$_2$ observed'], df_lstm_6h_results['NO$_2$ predicted'])).round(3))\n",
    "print('MAE',mean_absolute_error(df_lstm_6h_results['NO$_2$ observed'], df_lstm_6h_results['NO$_2$ predicted']).round(3))\n",
    "print('ME',np.mean(df_lstm_6h_results['NO$_2$ observed'] - df_lstm_6h_results['NO$_2$ predicted']).round(3))\n",
    "print('MAPE',mean_absolute_percentage_error(df_lstm_6h_results['NO$_2$ observed'], df_lstm_6h_results['NO$_2$ predicted']).round(3))\n",
    "\n",
    "print('\\nLSTM 12h \\n-------')\n",
    "print('MSE',mean_squared_error(df_lstm_12h_results['NO$_2$ observed'], df_lstm_12h_results['NO$_2$ predicted']).round(2))\n",
    "print('RMSE',np.sqrt(mean_squared_error(df_lstm_12h_results['NO$_2$ observed'], df_lstm_12h_results['NO$_2$ predicted'])).round(2))\n",
    "print('MAE',mean_absolute_error(df_lstm_12h_results['NO$_2$ observed'], df_lstm_12h_results['NO$_2$ predicted']).round(2))\n",
    "print('ME',np.mean(df_lstm_12h_results['NO$_2$ observed'] - df_lstm_12h_results['NO$_2$ predicted']).round(2))\n",
    "print('MAPE',mean_absolute_percentage_error(df_lstm_12h_results['NO$_2$ observed'], df_lstm_12h_results['NO$_2$ predicted']).round(2))\n",
    "\n",
    "print('\\nLSTM 24h \\n-------')\n",
    "print('MSE',mean_squared_error(df_lstm_24h_results['NO$_2$ observed'], df_lstm_24h_results['NO$_2$ predicted']).round(3))\n",
    "print('RMSE',np.sqrt(mean_squared_error(df_lstm_24h_results['NO$_2$ observed'], df_lstm_24h_results['NO$_2$ predicted'])).round(3))\n",
    "print('MAE',mean_absolute_error(df_lstm_24h_results['NO$_2$ observed'], df_lstm_24h_results['NO$_2$ predicted']).round(3))\n",
    "print('ME',np.mean(df_lstm_24h_results['NO$_2$ observed'] - df_lstm_24h_results['NO$_2$ predicted']).round(3))\n",
    "print('MAPE',mean_absolute_percentage_error(df_lstm_24h_results['NO$_2$ observed'], df_lstm_24h_results['NO$_2$ predicted']).round(3))"
   ]
  },
  {
   "cell_type": "code",
   "execution_count": 10,
   "metadata": {},
   "outputs": [
    {
     "name": "stdout",
     "output_type": "stream",
     "text": [
      "\n",
      "LSTM \n",
      "        lb_stat     lb_pvalue     bp_stat     bp_pvalue\n",
      "10  138.435905  8.813431e-25  138.337744  9.230949e-25\n"
     ]
    },
    {
     "data": {
      "image/png": "[encoded data removed]",
      "text/plain": [
       "<Figure size 432x288 with 1 Axes>"
      ]
     },
     "metadata": {
      "needs_background": "light"
     },
     "output_type": "display_data"
    }
   ],
   "source": [
    "from statsmodels.graphics.tsaplots import plot_acf\n",
    "\n",
    "df_lstm_12h_results['error'] = df_lstm_12h_results['NO$_2$ observed'] - df_lstm_12h_results['NO$_2$ predicted']\n",
    "sm.qqplot(df_lstm_12h_results['error'], line='q', marker=\".\")\n",
    "print('\\nLSTM \\n',sm.stats.acorr_ljungbox(df_lstm_12h_results['error'].values, lags=[10], boxpierce=True, return_df=True))"
   ]
  },
  {
   "cell_type": "markdown",
   "metadata": {},
   "source": [
    "# GRU"
   ]
  },
  {
   "cell_type": "code",
   "execution_count": 11,
   "metadata": {},
   "outputs": [
    {
     "name": "stdout",
     "output_type": "stream",
     "text": [
      "GRU 6h\n",
      "--------\n",
      "MSE 10.684\n",
      "RMSE 3.269\n",
      "MAE 1.997\n",
      "ME 0.346\n",
      "MAPE 0.237\n",
      "\n",
      "GRU 12h\n",
      "--------\n",
      "MSE 10.63\n",
      "RMSE 3.26\n",
      "MAE 2.06\n",
      "ME -0.02\n",
      "MAPE 0.259\n",
      "\n",
      "GRU 24h\n",
      "--------\n",
      "MSE 10.54\n",
      "RMSE 3.25\n",
      "MAE 2.0\n",
      "ME -0.01\n",
      "MAPE 0.245\n"
     ]
    }
   ],
   "source": [
    "df_GRU_6h_results = pd.read_csv('../prediction_results/GRU_6h_predictions.csv')\n",
    "df_GRU_6h_results['date'] = pd.to_datetime(df_GRU_6h_results['date'], format = '%Y-%m-%d %H:%M') # \n",
    "df_GRU_6h_results.set_index('date', inplace=True) # date column as index\n",
    "\n",
    "print('GRU 6h\\n--------')\n",
    "print('MSE',mean_squared_error(df_GRU_6h_results['NO$_2$ observed'], df_GRU_6h_results['NO$_2$ predicted']).round(3))\n",
    "print('RMSE',np.sqrt(mean_squared_error(df_GRU_6h_results['NO$_2$ observed'], df_GRU_6h_results['NO$_2$ predicted'])).round(3))\n",
    "print('MAE',mean_absolute_error(df_GRU_6h_results['NO$_2$ observed'], df_GRU_6h_results['NO$_2$ predicted']).round(3))\n",
    "print('ME',np.mean(df_GRU_6h_results['NO$_2$ observed'] - df_GRU_6h_results['NO$_2$ predicted']).round(3))\n",
    "print('MAPE',mean_absolute_percentage_error(df_GRU_6h_results['NO$_2$ observed'], df_GRU_6h_results['NO$_2$ predicted']).round(3))\n",
    "\n",
    "df_GRU_12h_results = pd.read_csv('../prediction_results/GRU_12h_predictions.csv')\n",
    "df_GRU_12h_results['date'] = pd.to_datetime(df_GRU_12h_results['date'], format = '%Y-%m-%d %H:%M') # \n",
    "df_GRU_12h_results.set_index('date', inplace=True) # date column as index\n",
    "\n",
    "print('\\nGRU 12h\\n--------')\n",
    "print('MSE',mean_squared_error(df_GRU_12h_results['NO$_2$ observed'], df_GRU_12h_results['NO$_2$ predicted']).round(2))\n",
    "print('RMSE',np.sqrt(mean_squared_error(df_GRU_12h_results['NO$_2$ observed'], df_GRU_12h_results['NO$_2$ predicted'])).round(2))\n",
    "print('MAE',mean_absolute_error(df_GRU_12h_results['NO$_2$ observed'], df_GRU_12h_results['NO$_2$ predicted']).round(2))\n",
    "print('ME',np.mean(df_GRU_12h_results['NO$_2$ observed'] - df_GRU_12h_results['NO$_2$ predicted']).round(2))\n",
    "print('MAPE',mean_absolute_percentage_error(df_GRU_12h_results['NO$_2$ observed'], df_GRU_12h_results['NO$_2$ predicted']).round(3))\n",
    "\n",
    "df_GRU_24h_results = pd.read_csv('../prediction_results/GRU_24h_predictions.csv')\n",
    "df_GRU_24h_results['date'] = pd.to_datetime(df_GRU_24h_results['date'], format = '%Y-%m-%d %H:%M') # \n",
    "df_GRU_24h_results.set_index('date', inplace=True) # date column as index\n",
    "\n",
    "print('\\nGRU 24h\\n--------')\n",
    "print('MSE',mean_squared_error(df_GRU_24h_results['NO$_2$ observed'], df_GRU_24h_results['NO$_2$ predicted']).round(2))\n",
    "print('RMSE',np.sqrt(mean_squared_error(df_GRU_24h_results['NO$_2$ observed'], df_GRU_24h_results['NO$_2$ predicted'])).round(2))\n",
    "print('MAE',mean_absolute_error(df_GRU_24h_results['NO$_2$ observed'], df_GRU_24h_results['NO$_2$ predicted']).round(2))\n",
    "print('ME',np.mean(df_GRU_24h_results['NO$_2$ observed'] - df_GRU_24h_results['NO$_2$ predicted']).round(2))\n",
    "print('MAPE',mean_absolute_percentage_error(df_GRU_24h_results['NO$_2$ observed'], df_GRU_24h_results['NO$_2$ predicted']).round(3))"
   ]
  },
  {
   "cell_type": "code",
   "execution_count": 12,
   "metadata": {},
   "outputs": [
    {
     "name": "stdout",
     "output_type": "stream",
     "text": [
      "\n",
      "GRU\n",
      "        lb_stat     lb_pvalue     bp_stat     bp_pvalue\n",
      "10  115.217055  4.713483e-20  115.145211  4.873921e-20\n"
     ]
    }
   ],
   "source": [
    "df_GRU_24h_results['error'] = df_GRU_24h_results['NO$_2$ observed'] - df_GRU_24h_results['NO$_2$ predicted']\n",
    "print('\\nGRU\\n',sm.stats.acorr_ljungbox(df_GRU_24h_results['error'].values, lags=[10], boxpierce=True, return_df=True))"
   ]
  },
  {
   "cell_type": "markdown",
   "metadata": {},
   "source": [
    "# Correlation, prediction, and QQ-plots"
   ]
  },
  {
   "cell_type": "code",
   "execution_count": 13,
   "metadata": {},
   "outputs": [
    {
     "data": {
      "text/plain": [
       "<matplotlib.lines.Line2D at 0x164396f50>"
      ]
     },
     "execution_count": 13,
     "metadata": {},
     "output_type": "execute_result"
    },
    {
     "data": {
      "image/png": "[encoded data removed]",
      "text/plain": [
       "<Figure size 446.4x273.6 with 6 Axes>"
      ]
     },
     "metadata": {
      "needs_background": "light"
     },
     "output_type": "display_data"
    }
   ],
   "source": [
    "rho_robust = stats.pearsonr(df_rreg_results.iloc[:,0], df_rreg_results.iloc[:,1])\n",
    "rho_simple_dense = stats.pearsonr(df_simple_dense_results.iloc[:,0], df_simple_dense_results.iloc[:,1])\n",
    "rho_dense = stats.pearsonr(df_dense_6h_results.iloc[:,0], df_dense_6h_results.iloc[:,1])\n",
    "rho_RNN = stats.pearsonr(df_RNN_12h_results.iloc[:,0], df_RNN_12h_results.iloc[:,1])\n",
    "rho_LSTM = stats.pearsonr(df_lstm_12h_results.iloc[:,0], df_lstm_12h_results.iloc[:,1])\n",
    "rho_GRU = stats.pearsonr(df_GRU_12h_results.iloc[:,0], df_GRU_12h_results.iloc[:,1])\n",
    "\n",
    "# fig, (ax1, ax2, ax3) = plt.subplots(1,3, constrained_layout=True, figsize=(6.15, 2), sharey=True)\n",
    "fig, ((ax1, ax2, ax3), (ax4, ax5, ax6)) = plt.subplots(2, 3, constrained_layout = True, \n",
    "                                                       figsize = (6.2, 3.8), sharey=True, sharex=True)\n",
    "\n",
    "ax1.scatter(df_rreg_results['NO$_2$ observed'], df_rreg_results['NO$_2$ predicted'], \n",
    "            facecolors='none', edgecolors='#1f77b4', marker='.')\n",
    "# ax1.set_xlabel('NO$_2$ (actual)')\n",
    "ax1.set_ylabel('NO$_2$ predicted ($\\mu$g/m$^3$)')\n",
    "# ax1.set_xlabel('NO$_2$ observed ($\\mu$g/m$^3$)')\n",
    "ax1.annotate(r'(a) Robust MLR, $\\rho = $' + str(round(rho_robust[0],3)), xy=(0, 1.07), xycoords=\"axes fraction\")\n",
    "ax1.set_ylim(0.0, 95.0)\n",
    "ax1.set_xlim(0.0, 95.0)\n",
    "line = mlines.Line2D([0, 1], [0, 1], color='red')\n",
    "transform = ax1.transAxes\n",
    "line.set_transform(transform)\n",
    "ax1.add_line(line)\n",
    "\n",
    "ax2.scatter(df_simple_dense_results['NO$_2$ observed'], df_simple_dense_results['NO$_2$ predicted'],\n",
    "            facecolors='none', edgecolors='#1f77b4', marker='.')\n",
    "# ax2.set_ylabel('NO$_2$ predicted ($\\mu$g/m$^3$)')\n",
    "# ax2.set_xlabel('NO$_2$ observed ($\\mu$g/m$^3$)')\n",
    "ax2.annotate(r'(b) Dense, $\\rho = $' + str(round(rho_simple_dense[0],3)), xy=(0, 1.07), xycoords=\"axes fraction\")\n",
    "ax2.set_ylim(0.0, 95.0)\n",
    "ax2.set_xlim(0.0, 95.0)\n",
    "line = mlines.Line2D([0, 1], [0, 1], color='red')\n",
    "transform = ax2.transAxes\n",
    "line.set_transform(transform)\n",
    "ax2.add_line(line)\n",
    "\n",
    "ax3.scatter(df_dense_6h_results['NO$_2$ observed'], df_dense_6h_results['NO$_2$ predicted'],\n",
    "            facecolors='none', edgecolors='#1f77b4', marker='.')\n",
    "# ax2.set_ylabel('NO$_2$ predicted ($\\mu$g/m$^3$)')\n",
    "# ax3.set_xlabel('NO$_2$ observed ($\\mu$g/m$^3$)')\n",
    "ax3.annotate(r'(c) Dense (6h), $\\rho = $' + str(round(rho_dense[0],3)), xy=(0, 1.07), xycoords=\"axes fraction\")\n",
    "ax3.set_ylim(0.0, 95.0)\n",
    "ax3.set_xlim(0.0, 95.0)\n",
    "line = mlines.Line2D([0, 1], [0, 1], color='red')\n",
    "transform = ax3.transAxes\n",
    "line.set_transform(transform)\n",
    "ax3.add_line(line)\n",
    "\n",
    "ax4.scatter(df_RNN_12h_results['NO$_2$ observed'], df_RNN_12h_results['NO$_2$ predicted'], \n",
    "            facecolors='none', edgecolors='#1f77b4', marker='.')\n",
    "ax4.set_ylabel('NO$_2$ predicted ($\\mu$g/m$^3$)')\n",
    "ax4.set_xlabel('NO$_2$ observed ($\\mu$g/m$^3$)')\n",
    "ax4.annotate(r'(d) RNN (12h), $\\rho = $' + str(round(rho_RNN[0],3)), xy=(0, 1.07), xycoords=\"axes fraction\")\n",
    "ax4.set_ylim(0.0, 95.0)\n",
    "ax4.set_xlim(0.0, 95.0)\n",
    "line = mlines.Line2D([0, 1], [0, 1], color='red')\n",
    "transform = ax4.transAxes\n",
    "line.set_transform(transform)\n",
    "ax4.add_line(line)\n",
    "\n",
    "ax5.scatter(df_lstm_12h_results['NO$_2$ observed'], df_lstm_12h_results['NO$_2$ predicted'], \n",
    "            facecolors='none', edgecolors='#1f77b4', marker='.')\n",
    "ax5.set_xlabel('NO$_2$ observed ($\\mu$g/m$^3$)')\n",
    "# ax3.set_ylabel('NO$_2$ predicted ($\\mu$g/m$^3$)')\n",
    "ax5.annotate(r'(e) LSTM (12h), $\\rho = $' + str(round(rho_LSTM[0],3)), xy=(0, 1.07), xycoords=\"axes fraction\")\n",
    "ax5.set_ylim(0.0, 95.0)\n",
    "ax5.set_xlim(0.0, 95.0)\n",
    "line = mlines.Line2D([0, 1], [0, 1], color='red')\n",
    "transform = ax5.transAxes\n",
    "line.set_transform(transform)\n",
    "ax5.add_line(line)\n",
    "\n",
    "ax6.scatter(df_GRU_24h_results['NO$_2$ observed'], df_GRU_24h_results['NO$_2$ predicted'], \n",
    "            facecolors='none', edgecolors='#1f77b4', marker='.')\n",
    "ax6.set_xlabel('NO$_2$ observed ($\\mu$g/m$^3$)')\n",
    "# ax3.set_ylabel('NO$_2$ predicted ($\\mu$g/m$^3$)')\n",
    "ax6.annotate(r'(f) GRU (24h), $\\rho = $' + str(round(rho_GRU[0],3)), xy=(0, 1.07), xycoords=\"axes fraction\")\n",
    "ax6.set_ylim(0.0, 95.0)\n",
    "ax6.set_xlim(0.0, 95.0)\n",
    "line = mlines.Line2D([0, 1], [0, 1], color='red')\n",
    "transform = ax6.transAxes\n",
    "line.set_transform(transform)\n",
    "ax6.add_line(line)\n",
    "\n",
    "# plt.savefig('../plots/correlations.pdf')\n",
    "# plt.savefig('../plots/correlations_all.pdf')"
   ]
  },
  {
   "cell_type": "code",
   "execution_count": 14,
   "metadata": {},
   "outputs": [
    {
     "data": {
      "text/plain": [
       "Text(0.5, 0, '')"
      ]
     },
     "execution_count": 14,
     "metadata": {},
     "output_type": "execute_result"
    },
    {
     "data": {
      "image/png": "[encoded data removed]",
      "text/plain": [
       "<Figure size 446.4x169.2 with 2 Axes>"
      ]
     },
     "metadata": {
      "needs_background": "light"
     },
     "output_type": "display_data"
    }
   ],
   "source": [
    "start = '2021-12-01 00:00:00'\n",
    "end = '2021-12-11 00:00'\n",
    "\n",
    "fig, (ax1, ax2) = plt.subplots(1,2, constrained_layout=True, sharex=True, figsize=(6.2, 2.35), sharey=False)\n",
    "\n",
    "df_rreg_results.iloc[:,[0,1]][start:end].plot(ax=ax1)\n",
    "ax1.annotate('(a) Robust MLR', xy=(0, 1.07), xycoords=\"axes fraction\")\n",
    "ax1.legend(loc='lower right', bbox_to_anchor= (1.0, 1.025), ncol=1, borderaxespad=0.1)\n",
    "ax1.set_xlabel('')\n",
    "ax1.set_ylabel('$\\mu$g/m$^3$')\n",
    "ax1.set_xticks([], major=True)\n",
    "\n",
    "# df_simple_dense_results.iloc[:,[0,1]][start:end].plot(ax=ax2)\n",
    "# ax2.annotate('(b) Dense', xy=(0, 1.07), xycoords=\"axes fraction\")\n",
    "# ax2.get_legend().remove()\n",
    "# ax2.set_xlabel('')\n",
    "# ax2.set_ylabel('$\\mu$g/m$^3$')\n",
    "# ax2.set_xticks([], major=True)\n",
    "\n",
    "# df_dense_results[start:end].plot(ax=ax2)\n",
    "# ax2.annotate('(b) Dense model', xy=(0, 1.07), xycoords=\"axes fraction\")\n",
    "# ax2.legend(loc='lower right', bbox_to_anchor= (1.0, 1.025), ncol=1, borderaxespad=0.1)\n",
    "# ax2.get_legend().remove()\n",
    "# ax2.set_xlabel('')\n",
    "# ax2.set_xticks([], major=True)\n",
    "\n",
    "# df_RNN_results[start:end].plot(ax=ax3)\n",
    "# ax3.annotate('(c) RNN model', xy=(0, 1.07), xycoords=\"axes fraction\")\n",
    "# #ax2.legend(loc='lower right', bbox_to_anchor= (1.0, 1.025), ncol=1, borderaxespad=0.1)\n",
    "# ax3.get_legend().remove()\n",
    "# ax3.set_ylabel('$\\mu$g/m$^3$')\n",
    "# ax3.set_xlabel('')\n",
    "\n",
    "df_lstm_12h_results.iloc[:,[0,1]][start:end].plot(ax=ax2)\n",
    "ax2.annotate('(b) LSTM (12h)', xy=(0, 1.07), xycoords=\"axes fraction\")\n",
    "#ax2.legend(loc='lower right', bbox_to_anchor= (1.0, 1.025), ncol=1, borderaxespad=0.1)\n",
    "# ax2.set_ylabel('$\\mu$g/m$^3$')\n",
    "ax2.get_legend().remove()\n",
    "ax2.set_xlabel('')\n",
    "\n",
    "# plt.savefig('../plots/predictions.pdf')\n",
    "# plt.savefig('../plots/predictions_all.pdf')"
   ]
  },
  {
   "cell_type": "code",
   "execution_count": 15,
   "metadata": {},
   "outputs": [
    {
     "name": "stdout",
     "output_type": "stream",
     "text": [
      "Robust MLR\n",
      "         lb_stat      lb_pvalue      bp_stat      bp_pvalue\n",
      "50  1523.086759  4.443921e-286  1520.073382  1.912048e-285\n",
      "\n",
      "Simple Dense \n",
      "        lb_stat      lb_pvalue     bp_stat      bp_pvalue\n",
      "50  868.370128  9.374487e-150  866.758891  2.006838e-149\n",
      "\n",
      "Dense (6h) \n",
      "        lb_stat     lb_pvalue     bp_stat     bp_pvalue\n",
      "50  609.191264  3.698040e-97  607.939402  6.583320e-97\n",
      "\n",
      "RNN (12h) \n",
      "        lb_stat     lb_pvalue     bp_stat     bp_pvalue\n",
      "50  239.229913  1.667938e-26  238.620224  2.129347e-26\n",
      "\n",
      "LSTM \n",
      "        lb_stat     lb_pvalue     bp_stat     bp_pvalue\n",
      "50  315.989529  2.688124e-40  315.335917  3.547772e-40\n",
      "\n",
      "GRU \n",
      "        lb_stat     lb_pvalue     bp_stat     bp_pvalue\n",
      "50  506.059835  1.088943e-76  504.713314  2.003311e-76\n"
     ]
    },
    {
     "data": {
      "text/plain": [
       "Text(0, 1.07, '(f) GRU (24h)')"
      ]
     },
     "execution_count": 15,
     "metadata": {},
     "output_type": "execute_result"
    },
    {
     "data": {
      "image/png": "[encoded data removed]",
      "text/plain": [
       "<Figure size 446.4x273.6 with 6 Axes>"
      ]
     },
     "metadata": {
      "needs_background": "light"
     },
     "output_type": "display_data"
    }
   ],
   "source": [
    "df_rreg_results['error'] = df_rreg_results['NO$_2$ observed'] - df_rreg_results['NO$_2$ predicted']\n",
    "print('Robust MLR\\n',sm.stats.acorr_ljungbox(df_rreg_results['error'].values, lags=[50], boxpierce=True, return_df=True))\n",
    "\n",
    "df_simple_dense_results['error'] = df_simple_dense_results['NO$_2$ observed'] - df_simple_dense_results['NO$_2$ predicted']\n",
    "print('\\nSimple Dense \\n',sm.stats.acorr_ljungbox(df_simple_dense_results['error'].values, lags=[50], boxpierce=True, return_df=True))\n",
    "\n",
    "df_dense_6h_results['error'] = df_dense_6h_results['NO$_2$ observed'] - df_dense_6h_results['NO$_2$ predicted']\n",
    "print('\\nDense (6h) \\n',sm.stats.acorr_ljungbox(df_dense_6h_results['error'].values, lags=[50], boxpierce=True, return_df=True))\n",
    "\n",
    "df_RNN_12h_results['error'] = df_RNN_12h_results['NO$_2$ observed'] - df_RNN_12h_results['NO$_2$ predicted']\n",
    "print('\\nRNN (12h) \\n',sm.stats.acorr_ljungbox(df_RNN_12h_results['error'].values, lags=[50], boxpierce=True, return_df=True))\n",
    "\n",
    "df_lstm_12h_results['error'] = df_lstm_12h_results['NO$_2$ observed'] - df_lstm_12h_results['NO$_2$ predicted']\n",
    "print('\\nLSTM \\n',sm.stats.acorr_ljungbox(df_lstm_12h_results['error'].values, lags=[50], boxpierce=True, return_df=True))\n",
    "\n",
    "df_GRU_12h_results['error'] = df_GRU_12h_results['NO$_2$ observed'] - df_GRU_12h_results['NO$_2$ predicted']\n",
    "print('\\nGRU \\n',sm.stats.acorr_ljungbox(df_GRU_12h_results['error'].values, lags=[50], boxpierce=True, return_df=True))\n",
    "\n",
    "### QQ-plots ###\n",
    "fig, ((ax1, ax2, ax3), (ax4, ax5, ax6)) = plt.subplots(2, 3, constrained_layout = True, \n",
    "                                                       figsize = (6.2, 3.8), sharey=True, sharex=True)\n",
    "\n",
    "sm.qqplot(df_rreg_results['error'], line='q', marker=\".\", ax=ax1)\n",
    "ax1.annotate('(a) Robust MLR', xy=(0, 1.07), xycoords=\"axes fraction\")\n",
    "ax1.set_xlabel('')\n",
    "\n",
    "sm.qqplot(df_simple_dense_results['error'], line='q', marker=\".\", ax=ax2)\n",
    "ax2.set_ylabel('')\n",
    "ax2.annotate('(b) Dense', xy=(0, 1.07), xycoords=\"axes fraction\")\n",
    "ax2.set_xlabel('')\n",
    "\n",
    "sm.qqplot(df_dense_6h_results['error'], line='q', marker=\".\", ax=ax3)\n",
    "ax3.set_ylabel('')\n",
    "ax3.annotate('(c) Dense (6h)', xy=(0, 1.07), xycoords=\"axes fraction\")\n",
    "ax3.set_xlabel('')\n",
    "\n",
    "sm.qqplot(df_RNN_12h_results['error'], line='q', marker=\".\", ax=ax4)\n",
    "# ax4.set_ylabel('')\n",
    "ax4.annotate('(d) RNN (12h)', xy=(0, 1.07), xycoords=\"axes fraction\")\n",
    "\n",
    "sm.qqplot(df_lstm_12h_results['error'], line='q', marker=\".\", ax=ax5)\n",
    "ax5.set_ylabel('')\n",
    "ax5.annotate('(e) LSTM (12h)', xy=(0, 1.07), xycoords=\"axes fraction\")\n",
    "\n",
    "sm.qqplot(df_GRU_24h_results['error'], line='q', marker=\".\", ax=ax6)\n",
    "ax6.set_ylabel('')\n",
    "ax6.annotate('(f) GRU (24h)', xy=(0, 1.07), xycoords=\"axes fraction\")\n",
    "\n",
    "# plt.savefig('../plots/qq_pred_errors.pdf')\n",
    "# plt.savefig('../plots/qq_pred_errors_all.pdf')"
   ]
  },
  {
   "cell_type": "code",
   "execution_count": 16,
   "metadata": {},
   "outputs": [
    {
     "data": {
      "text/plain": [
       "Text(0.5, 0, 'Value')"
      ]
     },
     "execution_count": 16,
     "metadata": {},
     "output_type": "execute_result"
    },
    {
     "data": {
      "image/png": "[encoded data removed]",
      "text/plain": [
       "<Figure size 446.4x273.6 with 6 Axes>"
      ]
     },
     "metadata": {
      "needs_background": "light"
     },
     "output_type": "display_data"
    }
   ],
   "source": [
    "### QQ-plots ###\n",
    "fig, ((ax1, ax2, ax3), (ax4, ax5, ax6)) = plt.subplots(2, 3, constrained_layout = True, \n",
    "                                                       figsize = (6.2, 3.8), sharey=True, sharex=True)\n",
    "\n",
    "ax1.hist(df_rreg_results['error'], bins=20, edgecolor='black')\n",
    "ax1.annotate('(a) Robust MLR', xy=(0, 1.07), xycoords=\"axes fraction\")\n",
    "ax1.set_xlabel('')\n",
    "ax1.set_ylabel('Frequency')\n",
    "\n",
    "ax2.hist(df_simple_dense_results['error'], bins=20, edgecolor='black')\n",
    "ax2.set_ylabel('')\n",
    "ax2.annotate('(b) Dense', xy=(0, 1.07), xycoords=\"axes fraction\")\n",
    "ax2.set_xlabel('')\n",
    "\n",
    "ax3.hist(df_dense_6h_results['error'], bins=20, edgecolor='black')\n",
    "ax3.set_ylabel('')\n",
    "ax3.annotate('(c) Dense (6h)', xy=(0, 1.07), xycoords=\"axes fraction\")\n",
    "ax3.set_xlabel('')\n",
    "\n",
    "ax4.hist(df_RNN_12h_results['error'], bins=20, edgecolor='black')\n",
    "ax4.set_ylabel('')\n",
    "ax4.annotate('(d) RNN (12h)', xy=(0, 1.07), xycoords=\"axes fraction\")\n",
    "ax4.set_ylabel('Frequency')\n",
    "ax4.set_xlabel('Value')\n",
    "\n",
    "ax5.hist(df_lstm_12h_results['error'], bins=20, edgecolor='black')\n",
    "ax5.set_ylabel('')\n",
    "ax5.annotate('(e) LSTM (12h)', xy=(0, 1.07), xycoords=\"axes fraction\")\n",
    "ax5.set_xlabel('Value')\n",
    "\n",
    "ax6.hist(df_GRU_24h_results['error'], bins=20, edgecolor='black')\n",
    "ax6.set_ylabel('')\n",
    "ax6.annotate('(f) GRU (24h)', xy=(0, 1.07), xycoords=\"axes fraction\")\n",
    "ax5.set_xlabel('Value')\n",
    "\n",
    "# plt.savefig('../plots/pred_errors_hist_all.pdf')"
   ]
  },
  {
   "cell_type": "markdown",
   "metadata": {},
   "source": [
    "# Quality function (not used)"
   ]
  },
  {
   "cell_type": "code",
   "execution_count": 17,
   "metadata": {},
   "outputs": [],
   "source": [
    "def quality_function(O, P):\n",
    "    a = 1e-1\n",
    "    b = 1e2\n",
    "    c = 1e3\n",
    "    if (O <= 40 and P <= 40):\n",
    "        I_40 = 1\n",
    "    else:\n",
    "        I_40 = 0\n",
    "    if (O >= 65 and P >= 65):\n",
    "        I_80 = 1\n",
    "    else:\n",
    "        I_80 = 0\n",
    "    D = 1 + 0.5 * (np.sqrt(np.abs(O-40) + np.abs(P-40) + b*I_40 + c*I_80))\n",
    "    return 1 - min(((a*np.abs(O-P))/D), 1)\n",
    "\n",
    "\n",
    "def assign_quality(df):\n",
    "    df['quality'] = 0\n",
    "    for i in range(df.shape[0]):\n",
    "        q = quality_function(df.iloc[i,0], df.iloc[i,1])\n",
    "        if q > .8:\n",
    "            df.iloc[i,2] = 5\n",
    "        if q >= .6 and q < .8:\n",
    "            df.iloc[i,2] = 4\n",
    "        if q >= .4 and q < .6:\n",
    "            df.iloc[i,2] = 3\n",
    "        if q >= .2 and q < .4:\n",
    "            df.iloc[i,2] = 3\n",
    "        if q >=0 and q < .2:\n",
    "            df.iloc[i,2] = 1\n",
    "    return df\n",
    "\n"
   ]
  },
  {
   "cell_type": "code",
   "execution_count": 18,
   "metadata": {},
   "outputs": [
    {
     "name": "stdout",
     "output_type": "stream",
     "text": [
      "Robust regression\n",
      "-----------------\n",
      "0\n",
      "0\n",
      "0\n",
      "0\n",
      "0\n"
     ]
    }
   ],
   "source": [
    "quality_rreg = assign_quality(df_rreg_results)\n",
    "print('Robust regression\\n-----------------')\n",
    "print(np.sum(quality_rreg['quality'] == 1))\n",
    "print(np.sum(quality_rreg['quality'] == 2))\n",
    "print(np.sum(quality_rreg['quality'] == 3))\n",
    "print(np.sum(quality_rreg['quality'] == 4))\n",
    "print(np.sum(quality_rreg['quality'] == 5))"
   ]
  },
  {
   "cell_type": "code",
   "execution_count": 19,
   "metadata": {},
   "outputs": [
    {
     "name": "stdout",
     "output_type": "stream",
     "text": [
      "Simple dense\n",
      "------------\n",
      "0\n",
      "0\n",
      "0\n",
      "0\n",
      "0\n"
     ]
    }
   ],
   "source": [
    "quality_simple_dense = assign_quality(df_simple_dense_results)\n",
    "print('Simple dense\\n------------')\n",
    "print(np.sum(quality_simple_dense['quality'] == 1))\n",
    "print(np.sum(quality_simple_dense['quality'] == 2))\n",
    "print(np.sum(quality_simple_dense['quality'] == 3))\n",
    "print(np.sum(quality_simple_dense['quality'] == 4))\n",
    "print(np.sum(quality_simple_dense['quality'] == 5))"
   ]
  },
  {
   "cell_type": "code",
   "execution_count": 20,
   "metadata": {},
   "outputs": [
    {
     "name": "stdout",
     "output_type": "stream",
     "text": [
      "LSTM 6h \n",
      "-------\n",
      "1\n",
      "0\n",
      "34\n",
      "97\n",
      "8031\n"
     ]
    }
   ],
   "source": [
    "quality_lstm = assign_quality(df_lstm_6h_results)\n",
    "print('LSTM 6h \\n-------')\n",
    "print(np.sum(df_lstm_6h_results['quality'] == 1))\n",
    "print(np.sum(df_lstm_6h_results['quality'] == 2))\n",
    "print(np.sum(df_lstm_6h_results['quality'] == 3))\n",
    "print(np.sum(df_lstm_6h_results['quality'] == 4))\n",
    "print(np.sum(df_lstm_6h_results['quality'] == 5))"
   ]
  },
  {
   "cell_type": "code",
   "execution_count": 21,
   "metadata": {},
   "outputs": [
    {
     "name": "stdout",
     "output_type": "stream",
     "text": [
      "LSTM 12h \n",
      "-------\n",
      "0\n",
      "0\n",
      "0\n",
      "0\n",
      "0\n"
     ]
    }
   ],
   "source": [
    "df_lstm_12h_results = assign_quality(df_lstm_12h_results)\n",
    "print('LSTM 12h \\n-------')\n",
    "print(np.sum(df_lstm_12h_results['quality'] == 1))\n",
    "print(np.sum(df_lstm_12h_results['quality'] == 2))\n",
    "print(np.sum(df_lstm_12h_results['quality'] == 3))\n",
    "print(np.sum(df_lstm_12h_results['quality'] == 4))\n",
    "print(np.sum(df_lstm_12h_results['quality'] == 5))"
   ]
  },
  {
   "cell_type": "code",
   "execution_count": 22,
   "metadata": {},
   "outputs": [
    {
     "name": "stdout",
     "output_type": "stream",
     "text": [
      "LSTM 12h \n",
      "-------\n",
      "1\n",
      "0\n",
      "35\n",
      "92\n",
      "8017\n"
     ]
    }
   ],
   "source": [
    "df_lstm_24h_results = assign_quality(df_lstm_24h_results)\n",
    "print('LSTM 12h \\n-------')\n",
    "print(np.sum(df_lstm_24h_results['quality'] == 1))\n",
    "print(np.sum(df_lstm_24h_results['quality'] == 2))\n",
    "print(np.sum(df_lstm_24h_results['quality'] == 3))\n",
    "print(np.sum(df_lstm_24h_results['quality'] == 4))\n",
    "print(np.sum(df_lstm_24h_results['quality'] == 5))"
   ]
  },
  {
   "cell_type": "markdown",
   "metadata": {},
   "source": [
    "# Bar chart of regression metrics"
   ]
  },
  {
   "cell_type": "code",
   "execution_count": 23,
   "metadata": {},
   "outputs": [
    {
     "data": {
      "image/png": "[encoded data removed]",
      "text/plain": [
       "<Figure size 450x214.2 with 1 Axes>"
      ]
     },
     "metadata": {
      "needs_background": "light"
     },
     "output_type": "display_data"
    }
   ],
   "source": [
    "df = pd.DataFrame({'RMSE':[3.51, 3.18, 3.23, 3.32, 3.10, 3.25],\n",
    "                   'MAE': [1.99, 1.93, 2.05, 2.09, 1.89, 2.01], \n",
    "                   'ME':  [0.48, -0.24, -0.32, -0.05, -0.08, -0.01]},\n",
    "                   index=['Robust MLR', 'Dense', 'Dense (6h)', 'Simple RNN (12h)', 'LSTM (12h)', 'GRU (24h)'])\n",
    "\n",
    "ax = df.plot.bar(width=.85, rot=30, figsize=(6.25,2.975))\n",
    "for container in ax.containers:\n",
    "    ax.bar_label(container, padding=2)\n",
    "ax.legend(loc='lower right', bbox_to_anchor= (1.0, 1.02), ncol=3, borderaxespad=0.1)\n",
    "ax.set_ylim(-0.85, 4.25)\n",
    "ax.set_ylabel('Measure ($\\mu$g/m$^3$)')\n",
    "plt.tight_layout()\n",
    "# plt.savefig('../plots/metrics_barchart.pdf')\n",
    "\n",
    "# MSE 10.54\n",
    "# RMSE 3.25\n",
    "# MAE 2.0\n",
    "# ME -0.01\n",
    "# MAPE 0.245"
   ]
  },
  {
   "cell_type": "markdown",
   "metadata": {},
   "source": [
    "# Freidmans test and Bonferrnoi dunn's test test"
   ]
  },
  {
   "cell_type": "code",
   "execution_count": 124,
   "metadata": {},
   "outputs": [],
   "source": [
    "group1 = (df_rreg_results['NO$_2$ observed'] - df_rreg_results['NO$_2$ predicted'])**2\n",
    "group2 = (df_simple_dense_results['NO$_2$ observed'] - df_simple_dense_results['NO$_2$ predicted'])**2\n",
    "group3 = (df_dense_6h_results['NO$_2$ observed'] - df_dense_6h_results['NO$_2$ predicted'])**2\n",
    "group4 = (df_RNN_12h_results['NO$_2$ observed'] - df_RNN_12h_results['NO$_2$ predicted'])**2\n",
    "group5 = (df_lstm_12h_results['NO$_2$ observed'] - df_lstm_12h_results['NO$_2$ predicted'])**2\n",
    "group6 = (df_GRU_24h_results['NO$_2$ observed'] - df_GRU_24h_results['NO$_2$ predicted'])**2"
   ]
  },
  {
   "cell_type": "code",
   "execution_count": 125,
   "metadata": {},
   "outputs": [],
   "source": [
    "# print(group1[24:])\n",
    "# print(group2[24:])\n",
    "# print(group3[18:])\n",
    "# print(group4[12:])\n",
    "# print(group5[12:])\n",
    "# print(group6.shape)"
   ]
  },
  {
   "cell_type": "code",
   "execution_count": 126,
   "metadata": {},
   "outputs": [
    {
     "data": {
      "text/plain": [
       "FriedmanchisquareResult(statistic=476.61553977025324, pvalue=8.893083780051896e-101)"
      ]
     },
     "execution_count": 126,
     "metadata": {},
     "output_type": "execute_result"
    }
   ],
   "source": [
    "from scipy import stats\n",
    "stats.friedmanchisquare(group1[24:], group2[24:], group3[18:], group4[12:], group5[12:], group6)"
   ]
  },
  {
   "cell_type": "code",
   "execution_count": 127,
   "metadata": {},
   "outputs": [
    {
     "data": {
      "text/html": [
       "<div>\n",
       "<style scoped>\n",
       "    .dataframe tbody tr th:only-of-type {\n",
       "        vertical-align: middle;\n",
       "    }\n",
       "\n",
       "    .dataframe tbody tr th {\n",
       "        vertical-align: top;\n",
       "    }\n",
       "\n",
       "    .dataframe thead th {\n",
       "        text-align: right;\n",
       "    }\n",
       "</style>\n",
       "<table border=\"1\" class=\"dataframe\">\n",
       "  <thead>\n",
       "    <tr style=\"text-align: right;\">\n",
       "      <th></th>\n",
       "      <th>1</th>\n",
       "      <th>2</th>\n",
       "      <th>3</th>\n",
       "      <th>4</th>\n",
       "      <th>5</th>\n",
       "      <th>6</th>\n",
       "    </tr>\n",
       "  </thead>\n",
       "  <tbody>\n",
       "    <tr>\n",
       "      <th>1</th>\n",
       "      <td>1.00000</td>\n",
       "      <td>0.00665</td>\n",
       "      <td>0.00000</td>\n",
       "      <td>0.00000</td>\n",
       "      <td>0.00170</td>\n",
       "      <td>0.00000</td>\n",
       "    </tr>\n",
       "    <tr>\n",
       "      <th>2</th>\n",
       "      <td>0.00665</td>\n",
       "      <td>1.00000</td>\n",
       "      <td>0.00000</td>\n",
       "      <td>0.00000</td>\n",
       "      <td>1.00000</td>\n",
       "      <td>0.00000</td>\n",
       "    </tr>\n",
       "    <tr>\n",
       "      <th>3</th>\n",
       "      <td>0.00000</td>\n",
       "      <td>0.00000</td>\n",
       "      <td>1.00000</td>\n",
       "      <td>1.00000</td>\n",
       "      <td>0.00000</td>\n",
       "      <td>0.04855</td>\n",
       "    </tr>\n",
       "    <tr>\n",
       "      <th>4</th>\n",
       "      <td>0.00000</td>\n",
       "      <td>0.00000</td>\n",
       "      <td>1.00000</td>\n",
       "      <td>1.00000</td>\n",
       "      <td>0.00000</td>\n",
       "      <td>0.00044</td>\n",
       "    </tr>\n",
       "    <tr>\n",
       "      <th>5</th>\n",
       "      <td>0.00170</td>\n",
       "      <td>1.00000</td>\n",
       "      <td>0.00000</td>\n",
       "      <td>0.00000</td>\n",
       "      <td>1.00000</td>\n",
       "      <td>0.00001</td>\n",
       "    </tr>\n",
       "    <tr>\n",
       "      <th>6</th>\n",
       "      <td>0.00000</td>\n",
       "      <td>0.00000</td>\n",
       "      <td>0.04855</td>\n",
       "      <td>0.00044</td>\n",
       "      <td>0.00001</td>\n",
       "      <td>1.00000</td>\n",
       "    </tr>\n",
       "  </tbody>\n",
       "</table>\n",
       "</div>"
      ],
      "text/plain": [
       "         1        2        3        4        5        6\n",
       "1  1.00000  0.00665  0.00000  0.00000  0.00170  0.00000\n",
       "2  0.00665  1.00000  0.00000  0.00000  1.00000  0.00000\n",
       "3  0.00000  0.00000  1.00000  1.00000  0.00000  0.04855\n",
       "4  0.00000  0.00000  1.00000  1.00000  0.00000  0.00044\n",
       "5  0.00170  1.00000  0.00000  0.00000  1.00000  0.00001\n",
       "6  0.00000  0.00000  0.04855  0.00044  0.00001  1.00000"
      ]
     },
     "execution_count": 127,
     "metadata": {},
     "output_type": "execute_result"
    }
   ],
   "source": [
    "import scikit_posthocs as sp\n",
    "# sp.posthoc_dunn([group1, group2, group3, group4, group5, group6], p_adjust = 'bonferroni').to_csv('../Stat_tests/Dunns_MSE.csv')\n",
    "sp.posthoc_dunn([group1, group2, group3, group4, group5, group6], p_adjust = 'bonferroni').round(5)"
   ]
  },
  {
   "cell_type": "code",
   "execution_count": 27,
   "metadata": {},
   "outputs": [],
   "source": [
    "# df_dunns_MSE = pd.read_csv('../Stat_tests/Dunns_MSE.csv', index_col=0, \n",
    "#                            names= ['Robust MLR,', 'Dense', 'Dense (6h)', 'RNN (12h)', 'LSTM (12h)', 'GRU (12h)'],\n",
    "#                            skiprows=1)\n",
    "\n",
    "df_dunns_MSE = pd.read_csv('../Stat_tests/Dunns_MSE.csv', index_col=0, \n",
    "                           names= ['Robust MLR,', 'Dense', 'Dense (6h)', 'RNN (12h)', 'LSTM (12h)', 'GRU (12h)'],\n",
    "                           skiprows=1)"
   ]
  },
  {
   "cell_type": "code",
   "execution_count": 28,
   "metadata": {},
   "outputs": [
    {
     "data": {
      "text/html": [
       "<div>\n",
       "<style scoped>\n",
       "    .dataframe tbody tr th:only-of-type {\n",
       "        vertical-align: middle;\n",
       "    }\n",
       "\n",
       "    .dataframe tbody tr th {\n",
       "        vertical-align: top;\n",
       "    }\n",
       "\n",
       "    .dataframe thead th {\n",
       "        text-align: right;\n",
       "    }\n",
       "</style>\n",
       "<table border=\"1\" class=\"dataframe\">\n",
       "  <thead>\n",
       "    <tr style=\"text-align: right;\">\n",
       "      <th></th>\n",
       "      <th>Robust MLR,</th>\n",
       "      <th>Dense</th>\n",
       "      <th>Dense (6h)</th>\n",
       "      <th>RNN (12h)</th>\n",
       "      <th>LSTM (12h)</th>\n",
       "      <th>GRU (12h)</th>\n",
       "    </tr>\n",
       "  </thead>\n",
       "  <tbody>\n",
       "    <tr>\n",
       "      <th>1</th>\n",
       "      <td>1.000000e+00</td>\n",
       "      <td>7.519570e-03</td>\n",
       "      <td>4.626370e-31</td>\n",
       "      <td>1.041679e-37</td>\n",
       "      <td>2.094201e-03</td>\n",
       "      <td>1.163007e-28</td>\n",
       "    </tr>\n",
       "    <tr>\n",
       "      <th>2</th>\n",
       "      <td>7.519570e-03</td>\n",
       "      <td>1.000000e+00</td>\n",
       "      <td>1.110791e-15</td>\n",
       "      <td>1.691873e-20</td>\n",
       "      <td>1.000000e+00</td>\n",
       "      <td>5.434203e-14</td>\n",
       "    </tr>\n",
       "    <tr>\n",
       "      <th>3</th>\n",
       "      <td>4.626370e-31</td>\n",
       "      <td>1.110791e-15</td>\n",
       "      <td>1.000000e+00</td>\n",
       "      <td>1.000000e+00</td>\n",
       "      <td>1.758784e-14</td>\n",
       "      <td>1.000000e+00</td>\n",
       "    </tr>\n",
       "    <tr>\n",
       "      <th>4</th>\n",
       "      <td>1.041679e-37</td>\n",
       "      <td>1.691873e-20</td>\n",
       "      <td>1.000000e+00</td>\n",
       "      <td>1.000000e+00</td>\n",
       "      <td>4.022035e-19</td>\n",
       "      <td>1.000000e+00</td>\n",
       "    </tr>\n",
       "    <tr>\n",
       "      <th>5</th>\n",
       "      <td>2.094201e-03</td>\n",
       "      <td>1.000000e+00</td>\n",
       "      <td>1.758784e-14</td>\n",
       "      <td>4.022035e-19</td>\n",
       "      <td>1.000000e+00</td>\n",
       "      <td>7.353601e-13</td>\n",
       "    </tr>\n",
       "    <tr>\n",
       "      <th>6</th>\n",
       "      <td>1.163007e-28</td>\n",
       "      <td>5.434203e-14</td>\n",
       "      <td>1.000000e+00</td>\n",
       "      <td>1.000000e+00</td>\n",
       "      <td>7.353601e-13</td>\n",
       "      <td>1.000000e+00</td>\n",
       "    </tr>\n",
       "  </tbody>\n",
       "</table>\n",
       "</div>"
      ],
      "text/plain": [
       "    Robust MLR,         Dense    Dense (6h)     RNN (12h)    LSTM (12h)  \\\n",
       "1  1.000000e+00  7.519570e-03  4.626370e-31  1.041679e-37  2.094201e-03   \n",
       "2  7.519570e-03  1.000000e+00  1.110791e-15  1.691873e-20  1.000000e+00   \n",
       "3  4.626370e-31  1.110791e-15  1.000000e+00  1.000000e+00  1.758784e-14   \n",
       "4  1.041679e-37  1.691873e-20  1.000000e+00  1.000000e+00  4.022035e-19   \n",
       "5  2.094201e-03  1.000000e+00  1.758784e-14  4.022035e-19  1.000000e+00   \n",
       "6  1.163007e-28  5.434203e-14  1.000000e+00  1.000000e+00  7.353601e-13   \n",
       "\n",
       "      GRU (12h)  \n",
       "1  1.163007e-28  \n",
       "2  5.434203e-14  \n",
       "3  1.000000e+00  \n",
       "4  1.000000e+00  \n",
       "5  7.353601e-13  \n",
       "6  1.000000e+00  "
      ]
     },
     "execution_count": 28,
     "metadata": {},
     "output_type": "execute_result"
    }
   ],
   "source": [
    "df_dunns_MSE"
   ]
  },
  {
   "cell_type": "code",
   "execution_count": 29,
   "metadata": {},
   "outputs": [
    {
     "data": {
      "text/html": [
       "<div>\n",
       "<style scoped>\n",
       "    .dataframe tbody tr th:only-of-type {\n",
       "        vertical-align: middle;\n",
       "    }\n",
       "\n",
       "    .dataframe tbody tr th {\n",
       "        vertical-align: top;\n",
       "    }\n",
       "\n",
       "    .dataframe thead th {\n",
       "        text-align: right;\n",
       "    }\n",
       "</style>\n",
       "<table border=\"1\" class=\"dataframe\">\n",
       "  <thead>\n",
       "    <tr style=\"text-align: right;\">\n",
       "      <th></th>\n",
       "      <th>Robust MLR,</th>\n",
       "      <th>Dense</th>\n",
       "      <th>Dense (6h)</th>\n",
       "      <th>RNN (12h)</th>\n",
       "      <th>LSTM (12h)</th>\n",
       "      <th>GRU (12h)</th>\n",
       "    </tr>\n",
       "  </thead>\n",
       "  <tbody>\n",
       "    <tr>\n",
       "      <th>1</th>\n",
       "      <td>1.00000</td>\n",
       "      <td>0.00752</td>\n",
       "      <td>0.0</td>\n",
       "      <td>0.0</td>\n",
       "      <td>0.00209</td>\n",
       "      <td>0.0</td>\n",
       "    </tr>\n",
       "    <tr>\n",
       "      <th>2</th>\n",
       "      <td>0.00752</td>\n",
       "      <td>1.00000</td>\n",
       "      <td>0.0</td>\n",
       "      <td>0.0</td>\n",
       "      <td>1.00000</td>\n",
       "      <td>0.0</td>\n",
       "    </tr>\n",
       "    <tr>\n",
       "      <th>3</th>\n",
       "      <td>0.00000</td>\n",
       "      <td>0.00000</td>\n",
       "      <td>1.0</td>\n",
       "      <td>1.0</td>\n",
       "      <td>0.00000</td>\n",
       "      <td>1.0</td>\n",
       "    </tr>\n",
       "    <tr>\n",
       "      <th>4</th>\n",
       "      <td>0.00000</td>\n",
       "      <td>0.00000</td>\n",
       "      <td>1.0</td>\n",
       "      <td>1.0</td>\n",
       "      <td>0.00000</td>\n",
       "      <td>1.0</td>\n",
       "    </tr>\n",
       "    <tr>\n",
       "      <th>5</th>\n",
       "      <td>0.00209</td>\n",
       "      <td>1.00000</td>\n",
       "      <td>0.0</td>\n",
       "      <td>0.0</td>\n",
       "      <td>1.00000</td>\n",
       "      <td>0.0</td>\n",
       "    </tr>\n",
       "    <tr>\n",
       "      <th>6</th>\n",
       "      <td>0.00000</td>\n",
       "      <td>0.00000</td>\n",
       "      <td>1.0</td>\n",
       "      <td>1.0</td>\n",
       "      <td>0.00000</td>\n",
       "      <td>1.0</td>\n",
       "    </tr>\n",
       "  </tbody>\n",
       "</table>\n",
       "</div>"
      ],
      "text/plain": [
       "   Robust MLR,    Dense  Dense (6h)  RNN (12h)  LSTM (12h)  GRU (12h)\n",
       "1      1.00000  0.00752         0.0        0.0     0.00209        0.0\n",
       "2      0.00752  1.00000         0.0        0.0     1.00000        0.0\n",
       "3      0.00000  0.00000         1.0        1.0     0.00000        1.0\n",
       "4      0.00000  0.00000         1.0        1.0     0.00000        1.0\n",
       "5      0.00209  1.00000         0.0        0.0     1.00000        0.0\n",
       "6      0.00000  0.00000         1.0        1.0     0.00000        1.0"
      ]
     },
     "execution_count": 29,
     "metadata": {},
     "output_type": "execute_result"
    }
   ],
   "source": [
    "df_dunns_MSE.round(5)"
   ]
  }
 ],
 "metadata": {
  "kernelspec": {
   "display_name": "Python 3.10.4 ('DL')",
   "language": "python",
   "name": "python3"
  },
  "language_info": {
   "codemirror_mode": {
    "name": "ipython",
    "version": 3
   },
   "file_extension": ".py",
   "mimetype": "text/x-python",
   "name": "python",
   "nbconvert_exporter": "python",
   "pygments_lexer": "ipython3",
   "version": "3.10.4"
  },
  "orig_nbformat": 4,
  "vscode": {
   "interpreter": {
    "hash": "2a0afe78b3ebe22049d3d74ba655a4a5f799767e6308d99c3f84aabb51861a5e"
   }
  }
 },
 "nbformat": 4,
 "nbformat_minor": 2
}
