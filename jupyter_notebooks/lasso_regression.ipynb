{
 "cells": [
  {
   "cell_type": "code",
   "execution_count": 88,
   "metadata": {},
   "outputs": [],
   "source": [
    "import pandas as pd\n",
    "import numpy as np\n",
    "import matplotlib.pyplot as plt\n",
    "from sklearn.preprocessing import MinMaxScaler\n",
    "from sklearn import linear_model\n",
    "from sklearn.metrics import mean_squared_error\n",
    "from sklearn.feature_selection import RFECV"
   ]
  },
  {
   "cell_type": "markdown",
   "metadata": {},
   "source": [
    "# Read in data, split into train and test sets"
   ]
  },
  {
   "cell_type": "code",
   "execution_count": 89,
   "metadata": {},
   "outputs": [],
   "source": [
    "# read in data and convert time axis to datetime\n",
    "df = pd.read_csv('../air_weather_data/pollution_and_weather_cleaned.csv')\n",
    "df['Date'] = pd.to_datetime(df['Date'], format = '%Y-%m-%d %H:%M')\n",
    "df = df.set_index('Date')"
   ]
  },
  {
   "cell_type": "markdown",
   "metadata": {},
   "source": [
    "# Create lagged values of PM10 and PM2.5"
   ]
  },
  {
   "cell_type": "code",
   "execution_count": 90,
   "metadata": {},
   "outputs": [],
   "source": [
    "df['PM$_{10}$, Torkel Knutssonsgatan, lag 1'] = df['PM$_{10}$, Torkel Knutssonsgatan'].shift(1)\n",
    "df['PM$_{2.5}$, Torkel Knutssonsgatan, lag 1'] = df['PM$_{2.5}$, Torkel Knutssonsgatan'].shift(1)\n",
    "df_lag1 = df.dropna()"
   ]
  },
  {
   "cell_type": "code",
   "execution_count": 91,
   "metadata": {},
   "outputs": [],
   "source": [
    "# split to train and test set\n",
    "df_train = df['2016-01-01 01:00:00':'2019-01-01 00:00:00']\n",
    "df_test = df['2021-01-01 01:00:00':]"
   ]
  },
  {
   "cell_type": "markdown",
   "metadata": {},
   "source": [
    "# MinMax normlize train and test data "
   ]
  },
  {
   "cell_type": "code",
   "execution_count": 92,
   "metadata": {},
   "outputs": [],
   "source": [
    "scaler = MinMaxScaler()\n",
    "df_train_norm = scaler.fit_transform(df_train.values)\n",
    "df_train_norm = pd.DataFrame(df_train_norm, columns=[df_train.columns])\n",
    "df_test_norm = scaler.transform(df_test.values)\n",
    "df_test_norm = pd.DataFrame(df_test_norm, columns=df_test.columns)\n",
    "# inversed = scaler.inverse_transform(df_train_norm) # inverse normalization\n",
    "# df_train_norm['PM$_{2.5}$, Torkel Knutssonsgatan']\n",
    "# df_train_norm.head(3)"
   ]
  },
  {
   "cell_type": "markdown",
   "metadata": {},
   "source": [
    "# Split into X and y (two: one for PM10 and PM2.5)"
   ]
  },
  {
   "cell_type": "code",
   "execution_count": 93,
   "metadata": {},
   "outputs": [
    {
     "name": "stderr",
     "output_type": "stream",
     "text": [
      "/var/folders/3k/1wztchzs50j4jyq74xpccr3m0000gn/T/ipykernel_5057/3768529182.py:1: PerformanceWarning: dropping on a non-lexsorted multi-index without a level parameter may impact performance.\n",
      "  X_pm10 = df_train_norm.drop(['PM$_{10}$, Torkel Knutssonsgatan', 'PM$_{2.5}$, Torkel Knutssonsgatan, lag 1'], axis=1)\n",
      "/var/folders/3k/1wztchzs50j4jyq74xpccr3m0000gn/T/ipykernel_5057/3768529182.py:4: PerformanceWarning: dropping on a non-lexsorted multi-index without a level parameter may impact performance.\n",
      "  X_pm2p5 = df_train_norm.drop(['PM$_{2.5}$, Torkel Knutssonsgatan', 'PM$_{10}$, Torkel Knutssonsgatan, lag 1'], axis=1)\n"
     ]
    }
   ],
   "source": [
    "X_pm10 = df_train_norm.drop(['PM$_{10}$, Torkel Knutssonsgatan', 'PM$_{2.5}$, Torkel Knutssonsgatan, lag 1'], axis=1)\n",
    "y_pm10 = df_train_norm['PM$_{10}$, Torkel Knutssonsgatan']\n",
    "\n",
    "X_pm2p5 = df_train_norm.drop(['PM$_{2.5}$, Torkel Knutssonsgatan', 'PM$_{10}$, Torkel Knutssonsgatan, lag 1'], axis=1)\n",
    "y_pm2p5 = df_train_norm['PM$_{2.5}$, Torkel Knutssonsgatan']\n",
    "\n",
    "\n",
    "X_pm10_test = df_test_norm.drop(['PM$_{10}$, Torkel Knutssonsgatan', 'PM$_{2.5}$, Torkel Knutssonsgatan, lag 1'], axis=1)\n",
    "y_pm10_test = df_test_norm['PM$_{10}$, Torkel Knutssonsgatan']\n",
    "\n",
    "X_pm2p5_test = df_test_norm.drop(['PM$_{2.5}$, Torkel Knutssonsgatan', 'PM$_{10}$, Torkel Knutssonsgatan, lag 1'], axis=1)\n",
    "y_pm2p5_test = df_test_norm['PM$_{2.5}$, Torkel Knutssonsgatan']"
   ]
  },
  {
   "cell_type": "markdown",
   "metadata": {},
   "source": [
    "# Fit a regular MLR model"
   ]
  },
  {
   "cell_type": "code",
   "execution_count": 94,
   "metadata": {},
   "outputs": [
    {
     "name": "stderr",
     "output_type": "stream",
     "text": [
      "/Users/simoncarlen/opt/miniconda3/envs/DL/lib/python3.10/site-packages/sklearn/utils/validation.py:1688: FutureWarning: Feature names only support names that are all strings. Got feature names with dtypes: ['tuple']. An error will be raised in 1.2.\n",
      "  warnings.warn(\n",
      "/Users/simoncarlen/opt/miniconda3/envs/DL/lib/python3.10/site-packages/sklearn/utils/validation.py:1688: FutureWarning: Feature names only support names that are all strings. Got feature names with dtypes: ['tuple']. An error will be raised in 1.2.\n",
      "  warnings.warn(\n"
     ]
    },
    {
     "data": {
      "text/plain": [
       "0.797882963294062"
      ]
     },
     "execution_count": 94,
     "metadata": {},
     "output_type": "execute_result"
    }
   ],
   "source": [
    "regular_MLR = linear_model.LinearRegression(fit_intercept=True)\n",
    "regular_MLR.fit(X_pm10, y_pm10)\n",
    "regular_MLR.score(X_pm10, y_pm10)"
   ]
  },
  {
   "cell_type": "code",
   "execution_count": 110,
   "metadata": {},
   "outputs": [
    {
     "name": "stderr",
     "output_type": "stream",
     "text": [
      "/Users/simoncarlen/opt/miniconda3/envs/DL/lib/python3.10/site-packages/sklearn/utils/validation.py:1688: FutureWarning: Feature names only support names that are all strings. Got feature names with dtypes: ['tuple']. An error will be raised in 1.2.\n",
      "  warnings.warn(\n",
      "/Users/simoncarlen/opt/miniconda3/envs/DL/lib/python3.10/site-packages/sklearn/base.py:443: UserWarning: X has feature names, but LinearRegression was fitted without feature names\n",
      "  warnings.warn(\n"
     ]
    },
    {
     "data": {
      "text/plain": [
       "(0.024215270278270605, 0.020937835657629585)"
      ]
     },
     "execution_count": 110,
     "metadata": {},
     "output_type": "execute_result"
    }
   ],
   "source": [
    "(\n",
    "    np.sqrt(mean_squared_error(regular_MLR.predict(X_pm10), y_pm10)), # train error\n",
    "    np.sqrt(mean_squared_error(regular_MLR.predict(X_pm10_test), y_pm10_test)) # test error\n",
    ")"
   ]
  },
  {
   "cell_type": "markdown",
   "metadata": {},
   "source": [
    "# Fit a ridge regression model"
   ]
  },
  {
   "cell_type": "code",
   "execution_count": null,
   "metadata": {},
   "outputs": [],
   "source": []
  }
 ],
 "metadata": {
  "kernelspec": {
   "display_name": "Python 3.10.4 ('DL')",
   "language": "python",
   "name": "python3"
  },
  "language_info": {
   "codemirror_mode": {
    "name": "ipython",
    "version": 3
   },
   "file_extension": ".py",
   "mimetype": "text/x-python",
   "name": "python",
   "nbconvert_exporter": "python",
   "pygments_lexer": "ipython3",
   "version": "3.10.4"
  },
  "orig_nbformat": 4,
  "vscode": {
   "interpreter": {
    "hash": "2a0afe78b3ebe22049d3d74ba655a4a5f799767e6308d99c3f84aabb51861a5e"
   }
  }
 },
 "nbformat": 4,
 "nbformat_minor": 2
}
