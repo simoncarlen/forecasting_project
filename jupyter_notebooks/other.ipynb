{
 "cells": [
  {
   "cell_type": "markdown",
   "metadata": {},
   "source": [
    "# AIC variable selection"
   ]
  },
  {
   "cell_type": "code",
   "execution_count": null,
   "metadata": {},
   "outputs": [],
   "source": [
    "# import itertools\n",
    "# pcols = list(X_train_.columns)\n",
    "# rss = np.empty(len(pcols)+1)\n",
    "# rss[0] = np.sum(y_test - np.mean(y_test)**2)\n",
    "# selvar = ['Null']\n",
    "\n",
    "# for k in range(1, len(pcols)+1):\n",
    "#     RSS = {}\n",
    "#     for variables in itertools.combinations(pcols, k):\n",
    "#         predictors = X_train_.loc[:, list(variables)]\n",
    "#         predictors['Intercept'] = 1\n",
    "#         res = sm.OLS(y_train, predictors).fit()\n",
    "#         RSS[variables] = res.ssr\n",
    "#     rss[k] = min(RSS.values())\n",
    "#     selvar.append(min(RSS, key=RSS.get))\n",
    "# rss.round(3)\n",
    "\n",
    "# aic = 50*np.log(rss/50) + np.arange(1,13)*2\n",
    "# plt.plot(np.arange(1,12), aic[1:])"
   ]
  }
 ],
 "metadata": {
  "kernelspec": {
   "display_name": "Python 3.8.0 64-bit",
   "language": "python",
   "name": "python3"
  },
  "language_info": {
   "name": "python",
   "version": "3.8.0"
  },
  "orig_nbformat": 4,
  "vscode": {
   "interpreter": {
    "hash": "082e9a3bcad0a290d0001e938aa60b99250c6c2ef33a923c00b70f9826caf4b7"
   }
  }
 },
 "nbformat": 4,
 "nbformat_minor": 2
}
