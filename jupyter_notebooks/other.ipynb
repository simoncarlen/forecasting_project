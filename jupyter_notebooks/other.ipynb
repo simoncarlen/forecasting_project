{
 "cells": [
  {
   "cell_type": "markdown",
   "metadata": {},
   "source": [
    "# AIC variable selection"
   ]
  },
  {
   "cell_type": "code",
   "execution_count": 1,
   "metadata": {},
   "outputs": [],
   "source": [
    "# import itertools\n",
    "# pcols = list(X_train_.columns)\n",
    "# rss = np.empty(len(pcols)+1)\n",
    "# rss[0] = np.sum(y_test - np.mean(y_test)**2)\n",
    "# selvar = ['Null']\n",
    "\n",
    "# for k in range(1, len(pcols)+1):\n",
    "#     RSS = {}\n",
    "#     for variables in itertools.combinations(pcols, k):\n",
    "#         predictors = X_train_.loc[:, list(variables)]\n",
    "#         predictors['Intercept'] = 1\n",
    "#         res = sm.OLS(y_train, predictors).fit()\n",
    "#         RSS[variables] = res.ssr\n",
    "#     rss[k] = min(RSS.values())\n",
    "#     selvar.append(min(RSS, key=RSS.get))\n",
    "# rss.round(3)\n",
    "\n",
    "# aic = 50*np.log(rss/50) + np.arange(1,13)*2\n",
    "# plt.plot(np.arange(1,12), aic[1:])"
   ]
  },
  {
   "cell_type": "code",
   "execution_count": 2,
   "metadata": {},
   "outputs": [
    {
     "name": "stdout",
     "output_type": "stream",
     "text": [
      "/bin/bash: wget: command not found\n",
      "unzip:  cannot find or open jena_climate_2009_2016.csv.zip, jena_climate_2009_2016.csv.zip.zip or jena_climate_2009_2016.csv.zip.ZIP.\n"
     ]
    }
   ],
   "source": [
    "!wget https://s3.amazonaws.com/keras-datasets/jena_climate_2009_2016.csv.zip\n",
    "!unzip jena_climate_2009_2016.csv.zip"
   ]
  }
 ],
 "metadata": {
  "kernelspec": {
   "display_name": "Python 3.10.4 ('DL')",
   "language": "python",
   "name": "python3"
  },
  "language_info": {
   "codemirror_mode": {
    "name": "ipython",
    "version": 3
   },
   "file_extension": ".py",
   "mimetype": "text/x-python",
   "name": "python",
   "nbconvert_exporter": "python",
   "pygments_lexer": "ipython3",
   "version": "3.10.4"
  },
  "orig_nbformat": 4,
  "vscode": {
   "interpreter": {
    "hash": "2a0afe78b3ebe22049d3d74ba655a4a5f799767e6308d99c3f84aabb51861a5e"
   }
  }
 },
 "nbformat": 4,
 "nbformat_minor": 2
}
