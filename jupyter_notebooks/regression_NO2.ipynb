{
 "cells": [
  {
   "cell_type": "code",
   "execution_count": 463,
   "metadata": {},
   "outputs": [],
   "source": [
    "import pandas as pd\n",
    "import numpy as np\n",
    "import matplotlib.pyplot as plt\n",
    "from sklearn.preprocessing import MinMaxScaler\n",
    "import statsmodels.api as sm\n",
    "import statsmodels.formula.api as smf\n",
    "from sklearn.metrics import mean_squared_error\n",
    "from sklearn.metrics import mean_absolute_percentage_error\n",
    "import scipy as sp\n",
    "\n",
    "tex_fonts = {\n",
    "    \"text.usetex\": True,\n",
    "    \"font.family\": \"serif\",\n",
    "    \"axes.labelsize\": 10,\n",
    "    \"font.size\": 10,\n",
    "    \"legend.fontsize\": 10,\n",
    "    \"xtick.labelsize\": 10,\n",
    "    \"ytick.labelsize\": 10\n",
    "    }\n",
    "plt.rcParams.update(tex_fonts)"
   ]
  },
  {
   "cell_type": "code",
   "execution_count": 464,
   "metadata": {},
   "outputs": [],
   "source": [
    "# read in data\n",
    "df_NO2 = pd.read_csv('../air_weather_data/NO2_all_stations_cleaned.csv')\n",
    "df_NO2['date'] = pd.to_datetime(df_NO2['date'], format = '%Y-%m-%d %H:%M') # change time column to pandas datetime\n",
    "df_NO2 = df_NO2.set_index('date') # date column as index\n",
    "\n",
    "df_weather = pd.read_csv('../air_weather_data/metdata.csv')\n",
    "df_weather['date'] = pd.to_datetime(df_weather['date'], format = '%Y-%m-%d %H:%M') # change time column to pandas datetime\n",
    "df_weather = df_weather.set_index('date') # date column as index"
   ]
  },
  {
   "cell_type": "code",
   "execution_count": 465,
   "metadata": {},
   "outputs": [],
   "source": [
    "# drop negative and zero values and interpolate (in order to log transform)\n",
    "df_NO2[df_NO2 <= 0] = np.NaN\n",
    "df_NO2.interpolate(inplace=True)"
   ]
  },
  {
   "cell_type": "code",
   "execution_count": 466,
   "metadata": {},
   "outputs": [],
   "source": [
    "# create lagged values\n",
    "for i in df_NO2.columns:\n",
    "    df_NO2[str(i) + ', lag1'] = df_NO2[i].shift(1)\n",
    "\n",
    "# additional lags for the target station\n",
    "lags = 2\n",
    "j = 2\n",
    "for i in range(lags-1):\n",
    "    df_NO2['NO$_2$, Stockholm Torkel Knutssonsgatan' + ', lag' + \\\n",
    "        str(j)] = df_NO2['NO$_2$, Stockholm Torkel Knutssonsgatan'].shift(j)\n",
    "    j += 1\n",
    "\n",
    "# # add lag 24 (since found sign.)\n",
    "# df_NO2['NO$_2$, Stockholm Torkel Knutssonsgatan, lag 23'] = df_NO2['NO$_2$, Stockholm Torkel Knutssonsgatan'].shift(23)\n",
    "df_NO2['NO$_2$, Stockholm Torkel Knutssonsgatan, lag 24'] = df_NO2['NO$_2$, Stockholm Torkel Knutssonsgatan'].shift(24)\n",
    "df_NO2['NO$_2$, Stockholm Torkel Knutssonsgatan, lag 25'] = df_NO2['NO$_2$, Stockholm Torkel Knutssonsgatan'].shift(25)\n",
    "\n",
    "# drop NaN values\n",
    "df_NO2.dropna(inplace=True)"
   ]
  },
  {
   "cell_type": "code",
   "execution_count": 467,
   "metadata": {},
   "outputs": [],
   "source": [
    "# split into train an test sets\n",
    "df_NO2_train = df_NO2['2017-01-01 00:00':'2020-01-01 00:00']\n",
    "df_NO2_test = df_NO2['2021-02-01':]\n",
    "\n",
    "df_weather_train = df_weather['2017-01-01 00:00':'2020-01-01 00:00']\n",
    "df_weather_test = df_weather['2021-02-01':]"
   ]
  },
  {
   "cell_type": "code",
   "execution_count": 468,
   "metadata": {},
   "outputs": [],
   "source": [
    "# index needed if normalizing below\n",
    "index_train = df_NO2_train.index \n",
    "index_test = df_NO2_test.index"
   ]
  },
  {
   "cell_type": "code",
   "execution_count": 469,
   "metadata": {},
   "outputs": [],
   "source": [
    "# log transform data\n",
    "df_NO2_train = np.log(df_NO2_train)"
   ]
  },
  {
   "cell_type": "code",
   "execution_count": 470,
   "metadata": {},
   "outputs": [],
   "source": [
    "# if only some stations are to be included, but include all lagged values at Torkel Knutssonsgatan\n",
    "stations = [i for i in df_NO2_train.columns if 'Torkel' in i and 'lag' in i] + \\\n",
    "           [\n",
    "            'NO$_2$, Stockholm Hornsgatan 108 , lag1',\n",
    "            'NO$_2$, Stockholm Sveavägen 59 , lag1',\n",
    "            'NO$_2$, Stockholm E4/E20 Lilla Essingen, lag1',\n",
    "            'NO$_2$, Norr Malma, lag1',\n",
    "            # 'NO$_2$, Stockholm Sveavägen 59 Tak, lag1',\n",
    "           ]"
   ]
  },
  {
   "cell_type": "code",
   "execution_count": 471,
   "metadata": {},
   "outputs": [],
   "source": [
    "# create y and X matrix\n",
    "y_train = df_NO2_train['NO$_2$, Stockholm Torkel Knutssonsgatan']\n",
    "X_train = df_NO2_train[stations]"
   ]
  },
  {
   "cell_type": "code",
   "execution_count": 472,
   "metadata": {},
   "outputs": [],
   "source": [
    "# # normalize data\n",
    "scaler1 = MinMaxScaler()\n",
    "scaler2 = MinMaxScaler()\n",
    "\n",
    "X_train = scaler1.fit_transform(X_train)\n",
    "X_train = pd.DataFrame(X_train, columns=stations)\n",
    "X_train.insert(0, 'date', index_train)\n",
    "X_train.set_index('date', inplace=True)\n",
    "\n",
    "y_train = scaler2.fit_transform(y_train.to_frame())\n",
    "y_train = pd.DataFrame(y_train, columns = ['NO$_2$, Torkel Knutssonsgatan'])\n",
    "y_train.insert(0, 'date', index_train)\n",
    "y_train.set_index('date', inplace=True)"
   ]
  },
  {
   "cell_type": "code",
   "execution_count": 473,
   "metadata": {},
   "outputs": [],
   "source": [
    "# np.exp(scaler2.inverse_transform((y_train)))"
   ]
  },
  {
   "cell_type": "code",
   "execution_count": 474,
   "metadata": {},
   "outputs": [],
   "source": [
    "X_train.insert(0, 'intercept', 1) # insert a 1"
   ]
  },
  {
   "cell_type": "code",
   "execution_count": 475,
   "metadata": {},
   "outputs": [],
   "source": [
    "# if temporal signals are to be included\n",
    "w = [0,1,2,3,4,5] # 0:temp, 1:atm, 2:RH, 3:precip, 4:solrad, 5:wind \n",
    "s = [6,7,8,9,10,11] # 6,7:day, 8,9:week, 10,11:year\n",
    "\n",
    "X_train = X_train.merge(df_weather_train.iloc[:,s], on='date')\n",
    "\n",
    "# if weather parameters are to be included\n",
    "df_weather_train = df_weather_train.iloc[:,w]\n",
    "df_weather_norm_train = (df_weather_train - df_weather_train.min())/(df_weather_train.max() - df_weather_train.min())\n",
    "X_train = X_train.merge(df_weather_norm_train, on='date')"
   ]
  },
  {
   "cell_type": "markdown",
   "metadata": {},
   "source": [
    "# OLS regression"
   ]
  },
  {
   "cell_type": "code",
   "execution_count": 476,
   "metadata": {},
   "outputs": [
    {
     "name": "stdout",
     "output_type": "stream",
     "text": [
      "                                  OLS Regression Results                                 \n",
      "=========================================================================================\n",
      "Dep. Variable:     NO$_2$, Torkel Knutssonsgatan   R-squared:                       0.861\n",
      "Model:                                       OLS   Adj. R-squared:                  0.861\n",
      "Method:                            Least Squares   F-statistic:                     8108.\n",
      "Date:                           Fri, 19 Aug 2022   Prob (F-statistic):               0.00\n",
      "Time:                                   23:38:30   Log-Likelihood:                 39937.\n",
      "No. Observations:                          26281   AIC:                        -7.983e+04\n",
      "Df Residuals:                              26260   BIC:                        -7.966e+04\n",
      "Df Model:                                     20                                         \n",
      "Covariance Type:                       nonrobust                                         \n",
      "===================================================================================================================\n",
      "                                                      coef    std err          t      P>|t|      [0.025      0.975]\n",
      "-------------------------------------------------------------------------------------------------------------------\n",
      "intercept                                           0.1151      0.006     17.974      0.000       0.103       0.128\n",
      "NO$_2$, Stockholm Torkel Knutssonsgatan, lag1       0.9177      0.006    143.142      0.000       0.905       0.930\n",
      "NO$_2$, Stockholm Torkel Knutssonsgatan, lag2      -0.1875      0.006    -32.951      0.000      -0.199      -0.176\n",
      "NO$_2$, Stockholm Torkel Knutssonsgatan, lag 24     0.1519      0.006     26.868      0.000       0.141       0.163\n",
      "NO$_2$, Stockholm Torkel Knutssonsgatan, lag 25    -0.1172      0.006    -20.720      0.000      -0.128      -0.106\n",
      "NO$_2$, Stockholm Hornsgatan 108 , lag1             0.0478      0.004     11.424      0.000       0.040       0.056\n",
      "NO$_2$, Stockholm Sveavägen 59 , lag1              -0.0353      0.004     -8.331      0.000      -0.044      -0.027\n",
      "NO$_2$, Stockholm E4/E20 Lilla Essingen, lag1       0.1088      0.005     22.312      0.000       0.099       0.118\n",
      "NO$_2$, Norr Malma, lag1                            0.0011      0.003      0.329      0.742      -0.005       0.007\n",
      "Sine day                                           -0.0009      0.001     -0.741      0.459      -0.003       0.002\n",
      "Cosine day                                         -0.0503      0.001    -35.430      0.000      -0.053      -0.048\n",
      "Sine week                                          -0.0092      0.001     -9.697      0.000      -0.011      -0.007\n",
      "Cosine week                                         0.0130      0.001     13.263      0.000       0.011       0.015\n",
      "Sine year                                           0.0039      0.001      3.039      0.002       0.001       0.006\n",
      "Cosine year                                        -0.0007      0.002     -0.320      0.749      -0.005       0.003\n",
      "Temperature                                        -0.0017      0.005     -0.364      0.716      -0.011       0.007\n",
      "Atmospheric pressure                                0.0081      0.002      3.442      0.001       0.003       0.013\n",
      "Relative humidity                                  -0.0117      0.002     -4.696      0.000      -0.017      -0.007\n",
      "Precipitation                                       0.0106      0.013      0.824      0.410      -0.015       0.036\n",
      "Solar radiation                                    -0.0826      0.003    -30.343      0.000      -0.088      -0.077\n",
      "Wind speed                                         -0.1399      0.004    -34.706      0.000      -0.148      -0.132\n",
      "==============================================================================\n",
      "Omnibus:                     1834.930   Durbin-Watson:                   1.966\n",
      "Prob(Omnibus):                  0.000   Jarque-Bera (JB):             7073.334\n",
      "Skew:                           0.265   Prob(JB):                         0.00\n",
      "Kurtosis:                       5.486   Cond. No.                         101.\n",
      "==============================================================================\n",
      "\n",
      "Notes:\n",
      "[1] Standard Errors assume that the covariance matrix of the errors is correctly specified.\n"
     ]
    }
   ],
   "source": [
    "# fit OLS regression model\n",
    "lmod = sm.OLS(y_train, X_train).fit()\n",
    "print(lmod.summary())#.as_latex())"
   ]
  },
  {
   "cell_type": "code",
   "execution_count": 477,
   "metadata": {},
   "outputs": [
    {
     "data": {
      "text/plain": [
       "[]"
      ]
     },
     "execution_count": 477,
     "metadata": {},
     "output_type": "execute_result"
    },
    {
     "data": {
      "image/png": "[encoded data removed]",
      "text/plain": [
       "<Figure size 396x270 with 4 Axes>"
      ]
     },
     "metadata": {
      "needs_background": "light"
     },
     "output_type": "display_data"
    }
   ],
   "source": [
    "# PM10\n",
    "fig, ((ax1, ax2), (ax3, ax4)) = plt.subplots(2, 2, constrained_layout = True, figsize = (5.5, 3.75))\n",
    "\n",
    "# QQ-plot of studentized residuals\n",
    "sm.qqplot(lmod.resid, line='q', ax=ax1, marker=\".\")\n",
    "ax1.annotate('(a)', xy=(0, 1.09), xycoords=\"axes fraction\")\n",
    "\n",
    "# fitted vs residuals\n",
    "ax2.scatter(lmod.fittedvalues, lmod.resid, marker=\".\")#, facecolors='none', edgecolors='#1f77b4')\n",
    "ax2.axhline(0, color='r')\n",
    "ax2.set_xlabel('Fitted value')\n",
    "ax2.set_ylabel('Residuals')\n",
    "ax2.annotate('(b)', xy=(0, 1.09), xycoords=\"axes fraction\")\n",
    "\n",
    "ax3.hist(lmod.resid, edgecolor='black', bins=20)\n",
    "ax3.set_xlabel('Residuals')\n",
    "ax3.set_ylabel('Frequency')\n",
    "ax3.annotate('(c)', xy=(0, 1.09), xycoords=\"axes fraction\")\n",
    "\n",
    "lmod.resid.plot(linestyle=\"\", marker='.', ax=ax4)\n",
    "ax4.set_xlabel('')\n",
    "ax4.set_ylabel('Residuals')\n",
    "ax4.annotate('(d)', xy=(0, 1.09), xycoords=\"axes fraction\")\n",
    "ax4.set_xticks([], minor=True)\n",
    "\n",
    "# plt.savefig('../plots/Residual_plots_MLR_NO2.pdf')"
   ]
  },
  {
   "cell_type": "code",
   "execution_count": 478,
   "metadata": {},
   "outputs": [
    {
     "data": {
      "text/plain": [
       "<matplotlib.collections.PathCollection at 0x16849f550>"
      ]
     },
     "execution_count": 478,
     "metadata": {},
     "output_type": "execute_result"
    },
    {
     "data": {
      "image/png": "[encoded data removed]",
      "text/plain": [
       "<Figure size 432x288 with 1 Axes>"
      ]
     },
     "metadata": {
      "needs_background": "light"
     },
     "output_type": "display_data"
    }
   ],
   "source": [
    "plt.scatter(lmod.fittedvalues, np.sqrt(abs(lmod.resid)))"
   ]
  },
  {
   "cell_type": "code",
   "execution_count": 479,
   "metadata": {},
   "outputs": [
    {
     "data": {
      "text/html": [
       "<table class=\"simpletable\">\n",
       "<caption>OLS Regression Results</caption>\n",
       "<tr>\n",
       "  <th>Dep. Variable:</th>            <td>y</td>        <th>  R-squared:         </th>  <td>   0.000</td> \n",
       "</tr>\n",
       "<tr>\n",
       "  <th>Model:</th>                   <td>OLS</td>       <th>  Adj. R-squared:    </th>  <td>   0.000</td> \n",
       "</tr>\n",
       "<tr>\n",
       "  <th>Method:</th>             <td>Least Squares</td>  <th>  F-statistic:       </th>  <td>   1.395</td> \n",
       "</tr>\n",
       "<tr>\n",
       "  <th>Date:</th>             <td>Fri, 19 Aug 2022</td> <th>  Prob (F-statistic):</th>   <td> 0.238</td>  \n",
       "</tr>\n",
       "<tr>\n",
       "  <th>Time:</th>                 <td>23:38:32</td>     <th>  Log-Likelihood:    </th>  <td>  27557.</td> \n",
       "</tr>\n",
       "<tr>\n",
       "  <th>No. Observations:</th>      <td> 26281</td>      <th>  AIC:               </th> <td>-5.511e+04</td>\n",
       "</tr>\n",
       "<tr>\n",
       "  <th>Df Residuals:</th>          <td> 26279</td>      <th>  BIC:               </th> <td>-5.509e+04</td>\n",
       "</tr>\n",
       "<tr>\n",
       "  <th>Df Model:</th>              <td>     1</td>      <th>                     </th>      <td> </td>    \n",
       "</tr>\n",
       "<tr>\n",
       "  <th>Covariance Type:</th>      <td>nonrobust</td>    <th>                     </th>      <td> </td>    \n",
       "</tr>\n",
       "</table>\n",
       "<table class=\"simpletable\">\n",
       "<tr>\n",
       "      <td></td>         <th>coef</th>     <th>std err</th>      <th>t</th>      <th>P>|t|</th>  <th>[0.025</th>    <th>0.975]</th>  \n",
       "</tr>\n",
       "<tr>\n",
       "  <th>Intercept</th> <td>    0.1814</td> <td>    0.002</td> <td>   78.454</td> <td> 0.000</td> <td>    0.177</td> <td>    0.186</td>\n",
       "</tr>\n",
       "<tr>\n",
       "  <th>x</th>         <td>   -0.0047</td> <td>    0.004</td> <td>   -1.181</td> <td> 0.238</td> <td>   -0.012</td> <td>    0.003</td>\n",
       "</tr>\n",
       "</table>\n",
       "<table class=\"simpletable\">\n",
       "<tr>\n",
       "  <th>Omnibus:</th>       <td>1182.127</td> <th>  Durbin-Watson:     </th> <td>   1.732</td> \n",
       "</tr>\n",
       "<tr>\n",
       "  <th>Prob(Omnibus):</th>  <td> 0.000</td>  <th>  Jarque-Bera (JB):  </th> <td>1354.484</td> \n",
       "</tr>\n",
       "<tr>\n",
       "  <th>Skew:</th>           <td> 0.531</td>  <th>  Prob(JB):          </th> <td>7.54e-295</td>\n",
       "</tr>\n",
       "<tr>\n",
       "  <th>Kurtosis:</th>       <td> 3.327</td>  <th>  Cond. No.          </th> <td>    10.1</td> \n",
       "</tr>\n",
       "</table><br/><br/>Notes:<br/>[1] Standard Errors assume that the covariance matrix of the errors is correctly specified."
      ],
      "text/plain": [
       "<class 'statsmodels.iolib.summary.Summary'>\n",
       "\"\"\"\n",
       "                            OLS Regression Results                            \n",
       "==============================================================================\n",
       "Dep. Variable:                      y   R-squared:                       0.000\n",
       "Model:                            OLS   Adj. R-squared:                  0.000\n",
       "Method:                 Least Squares   F-statistic:                     1.395\n",
       "Date:                Fri, 19 Aug 2022   Prob (F-statistic):              0.238\n",
       "Time:                        23:38:32   Log-Likelihood:                 27557.\n",
       "No. Observations:               26281   AIC:                        -5.511e+04\n",
       "Df Residuals:                   26279   BIC:                        -5.509e+04\n",
       "Df Model:                           1                                         \n",
       "Covariance Type:            nonrobust                                         \n",
       "==============================================================================\n",
       "                 coef    std err          t      P>|t|      [0.025      0.975]\n",
       "------------------------------------------------------------------------------\n",
       "Intercept      0.1814      0.002     78.454      0.000       0.177       0.186\n",
       "x             -0.0047      0.004     -1.181      0.238      -0.012       0.003\n",
       "==============================================================================\n",
       "Omnibus:                     1182.127   Durbin-Watson:                   1.732\n",
       "Prob(Omnibus):                  0.000   Jarque-Bera (JB):             1354.484\n",
       "Skew:                           0.531   Prob(JB):                    7.54e-295\n",
       "Kurtosis:                       3.327   Cond. No.                         10.1\n",
       "==============================================================================\n",
       "\n",
       "Notes:\n",
       "[1] Standard Errors assume that the covariance matrix of the errors is correctly specified.\n",
       "\"\"\""
      ]
     },
     "execution_count": 479,
     "metadata": {},
     "output_type": "execute_result"
    }
   ],
   "source": [
    "ddf = pd.DataFrame({'x':lmod.fittedvalues, 'y':np.sqrt((abs(lmod.resid)))})\n",
    "dmod = smf.ols('y~x', ddf).fit()\n",
    "dmod.summary()"
   ]
  },
  {
   "cell_type": "code",
   "execution_count": 480,
   "metadata": {},
   "outputs": [],
   "source": [
    "# dfs for new predictions\n",
    "y_test = df_NO2_test['NO$_2$, Stockholm Torkel Knutssonsgatan'] \n",
    "X_test = df_NO2_test[stations]"
   ]
  },
  {
   "cell_type": "code",
   "execution_count": 481,
   "metadata": {},
   "outputs": [],
   "source": [
    "# log transform test data (but keep the target y in original scale)\n",
    "X_test = np.log(X_test) "
   ]
  },
  {
   "cell_type": "code",
   "execution_count": 482,
   "metadata": {},
   "outputs": [],
   "source": [
    "# normalize X and y \n",
    "X_test = scaler1.transform(X_test)\n",
    "X_test = pd.DataFrame(X_test, columns=stations)\n",
    "X_test.insert(0, 'date', index_test)\n",
    "X_test.set_index('date', inplace=True)"
   ]
  },
  {
   "cell_type": "code",
   "execution_count": 483,
   "metadata": {},
   "outputs": [],
   "source": [
    "X_test.insert(0, 'intercept', 1) # insert column of ones in test data"
   ]
  },
  {
   "cell_type": "code",
   "execution_count": 484,
   "metadata": {},
   "outputs": [],
   "source": [
    "# if temporal signals are to be included\n",
    "X_test = X_test.merge(df_weather_test.iloc[:,s], on='date')\n",
    "\n",
    "# if weather parameters are to be included\n",
    "df_weather_test = df_weather_test.iloc[:, w]\n",
    "df_weather_norm_test = (df_weather_test-df_weather_test.min())/(df_weather_test.max()-df_weather_test.min())\n",
    "X_test = X_test.merge(df_weather_norm_test, on='date')"
   ]
  },
  {
   "cell_type": "code",
   "execution_count": 485,
   "metadata": {},
   "outputs": [
    {
     "data": {
      "text/plain": [
       "True"
      ]
     },
     "execution_count": 485,
     "metadata": {},
     "output_type": "execute_result"
    }
   ],
   "source": [
    "# check if columns in train and test matrices are same\n",
    "(X_test.columns == X_train.columns).all()"
   ]
  },
  {
   "cell_type": "code",
   "execution_count": 486,
   "metadata": {},
   "outputs": [],
   "source": [
    "# if not normalized\n",
    "# y_pred_frame = np.exp(lmod.get_prediction(X_test).summary_frame()) # for confidence intervals\n",
    "# y_pred = np.exp(lmod.predict(X_test))\n",
    "\n",
    "# if normalized\n",
    "y_pred = pd.DataFrame(np.exp(scaler2.inverse_transform(lmod.predict(X_test).to_frame())), columns=['NO$_2$, predictions'])\n",
    "# y_pred = pd.DataFrame(scaler2.inverse_transform(lmod.predict(X_test).to_frame()), columns=['PM$_{10}$, predictions'])\n",
    "y_pred.insert(0, 'date', index_test)\n",
    "y_pred.set_index('date', inplace=True)"
   ]
  },
  {
   "cell_type": "code",
   "execution_count": 487,
   "metadata": {},
   "outputs": [
    {
     "name": "stdout",
     "output_type": "stream",
     "text": [
      "RMSE:\n",
      "3.611\n",
      "\n",
      "MAPE:\n",
      "22.375\n"
     ]
    }
   ],
   "source": [
    "# metrics\n",
    "print('RMSE:')\n",
    "# print(np.sqrt(mean_squared_error(y_pred_frame['mean'], y_test)).round(4))\n",
    "print(np.sqrt(mean_squared_error(y_pred, y_test)).round(3))\n",
    "\n",
    "print('\\nMAPE:')\n",
    "# print(mean_absolute_percentage_error(y_pred_frame['mean'], y_test).round(4))\n",
    "print(100*(mean_absolute_percentage_error(y_pred, y_test).round(5)))"
   ]
  },
  {
   "cell_type": "markdown",
   "metadata": {},
   "source": [
    "# Variable selection with sci-kit learn and AIC "
   ]
  },
  {
   "cell_type": "code",
   "execution_count": 488,
   "metadata": {},
   "outputs": [],
   "source": [
    "X_train_ = X_train.drop(columns = 'intercept', axis=1)\n",
    "X_train_;"
   ]
  },
  {
   "cell_type": "code",
   "execution_count": 489,
   "metadata": {},
   "outputs": [
    {
     "data": {
      "text/plain": [
       "array([[ 0.90717076, -0.18202718,  0.1593627 , -0.12068328,  0.07006565,\n",
       "        -0.03811416,  0.14687325, -0.00217176,  0.01020078, -0.03950984,\n",
       "        -0.00793625,  0.01081681,  0.01137568,  0.01497502,  0.0493827 ,\n",
       "         0.02110419,  0.00712479,  0.01517111, -0.07721452, -0.10441109]])"
      ]
     },
     "execution_count": 489,
     "metadata": {},
     "output_type": "execute_result"
    }
   ],
   "source": [
    "from sklearn import linear_model\n",
    "from sklearn.feature_selection import RFE\n",
    "\n",
    "reg = linear_model.LinearRegression(fit_intercept=False)\n",
    "reg.fit(X_train_, y_train)\n",
    "reg.coef_"
   ]
  },
  {
   "cell_type": "code",
   "execution_count": 490,
   "metadata": {},
   "outputs": [
    {
     "data": {
      "text/plain": [
       "array([ 1,  2,  3,  4,  7, 11,  5, 20, 14, 10, 18, 16, 17, 15, 12,  9, 19,\n",
       "       13,  8,  6])"
      ]
     },
     "execution_count": 490,
     "metadata": {},
     "output_type": "execute_result"
    }
   ],
   "source": [
    "from sklearn.feature_selection import RFE\n",
    "selector = RFE(reg, n_features_to_select=1)\n",
    "selector = selector.fit(X_train_, y_train)\n",
    "selector.ranking_"
   ]
  },
  {
   "cell_type": "code",
   "execution_count": 491,
   "metadata": {},
   "outputs": [
    {
     "data": {
      "text/plain": [
       "['NO$_2$, Stockholm Torkel Knutssonsgatan, lag1',\n",
       " 'NO$_2$, Stockholm Torkel Knutssonsgatan, lag2',\n",
       " 'NO$_2$, Stockholm Torkel Knutssonsgatan, lag 24',\n",
       " 'NO$_2$, Stockholm Torkel Knutssonsgatan, lag 25',\n",
       " 'NO$_2$, Stockholm E4/E20 Lilla Essingen, lag1',\n",
       " 'Wind speed',\n",
       " 'NO$_2$, Stockholm Hornsgatan 108 , lag1',\n",
       " 'Solar radiation',\n",
       " 'Atmospheric pressure',\n",
       " 'Cosine day',\n",
       " 'NO$_2$, Stockholm Sveavägen 59 , lag1',\n",
       " 'Temperature',\n",
       " 'Precipitation',\n",
       " 'Sine day',\n",
       " 'Cosine year',\n",
       " 'Cosine week',\n",
       " 'Sine year',\n",
       " 'Sine week',\n",
       " 'Relative humidity',\n",
       " 'NO$_2$, Norr Malma, lag1']"
      ]
     },
     "execution_count": 491,
     "metadata": {},
     "output_type": "execute_result"
    }
   ],
   "source": [
    "X_train_.columns[np.argsort(selector.ranking_)].to_list()"
   ]
  },
  {
   "cell_type": "markdown",
   "metadata": {},
   "source": [
    "# Ridge regression"
   ]
  },
  {
   "cell_type": "code",
   "execution_count": 498,
   "metadata": {},
   "outputs": [
    {
     "data": {
      "image/png": "[encoded data removed]",
      "text/plain": [
       "<Figure size 432x288 with 1 Axes>"
      ]
     },
     "metadata": {
      "needs_background": "light"
     },
     "output_type": "display_data"
    }
   ],
   "source": [
    "from itertools import chain\n",
    "from sklearn import linear_model\n",
    "from sklearn.model_selection import GridSearchCV\n",
    "\n",
    "n_alphas = 250\n",
    "alphas = np.logspace(-3, 5, n_alphas)\n",
    "coefs = []\n",
    "for a in alphas:\n",
    "    ridge = linear_model.Ridge(alpha=a)\n",
    "    ridge.fit(X_train, y_train)\n",
    "    coefs.append(list(chain(*ridge.coef_)))\n",
    "    # coefs.append(ridge.coef_)\n",
    "\n",
    "# select value of alpha with cross-validation\n",
    "pars = {'alpha':np.logspace(-3, 5, n_alphas)}\n",
    "rr = GridSearchCV(linear_model.Ridge(), pars, scoring='r2', cv=10)\n",
    "rr.fit(X_train, y_train)\n",
    "bestalpha = rr.best_params_['alpha']\n",
    "\n",
    "\n",
    "fig, ax = plt.subplots(figsize=(6, 4), tight_layout=True)\n",
    "# ridge trace plot\n",
    "ax = plt.gca()\n",
    "ax.plot(alphas, coefs)\n",
    "ax.set_xscale('log')\n",
    "ax.set_xlim(ax.get_xlim()[::-1])\n",
    "for i in range(len(X_train.columns)):\n",
    "    ax.text(min(alphas)/3.25, coefs[0][i], X_train.columns[i], fontsize=8)\n",
    "ax.axvline(bestalpha, color='k', linestyle='--', linewidth=1, alpha=.75)\n",
    "ax.set_xlabel(r'$\\lambda$')\n",
    "ax.set_ylabel('Coefficients')\n",
    "plt.savefig('../plots/ridge_trace_plot_NO2.pdf')"
   ]
  },
  {
   "cell_type": "code",
   "execution_count": 493,
   "metadata": {},
   "outputs": [
    {
     "name": "stdout",
     "output_type": "stream",
     "text": [
      "RMSE:\n",
      "3.61219\n",
      "\n",
      "MAPE:\n",
      "22.386\n"
     ]
    }
   ],
   "source": [
    "# new predictions with ridge regression\n",
    "rrbest = linear_model.Ridge(alpha=bestalpha, fit_intercept=True)\n",
    "rrbest.fit(X_train, y_train)\n",
    "\n",
    "print('RMSE:') \n",
    "print(np.sqrt(mean_squared_error(np.exp(scaler2.inverse_transform(rrbest.predict(X_test))), y_test)).round(5))\n",
    "# print(np.sqrt(mean_squared_error(scaler2.inverse_transform(rrbest.predict(X_test)), y_test)).round(5))\n",
    "\n",
    "print('\\nMAPE:')\n",
    "print(100*(mean_absolute_percentage_error(np.exp(scaler2.inverse_transform(rrbest.predict(X_test))), y_test).round(5)))\n",
    "# print(100*(mean_absolute_percentage_error(scaler2.inverse_transform(rrbest.predict(X_test)), y_test).round(5)))"
   ]
  },
  {
   "cell_type": "markdown",
   "metadata": {},
   "source": [
    "# Robust regression"
   ]
  },
  {
   "cell_type": "code",
   "execution_count": 494,
   "metadata": {},
   "outputs": [
    {
     "name": "stdout",
     "output_type": "stream",
     "text": [
      "                          Robust linear Model Regression Results                         \n",
      "=========================================================================================\n",
      "Dep. Variable:     NO$_2$, Torkel Knutssonsgatan   No. Observations:                26281\n",
      "Model:                                       RLM   Df Residuals:                    26260\n",
      "Method:                                     IRLS   Df Model:                           20\n",
      "Norm:                                     HuberT                                         \n",
      "Scale Est.:                                  mad                                         \n",
      "Cov Type:                                     H1                                         \n",
      "Date:                           Fri, 19 Aug 2022                                         \n",
      "Time:                                   23:39:15                                         \n",
      "No. Iterations:                               28                                         \n",
      "===================================================================================================================\n",
      "                                                      coef    std err          z      P>|z|      [0.025      0.975]\n",
      "-------------------------------------------------------------------------------------------------------------------\n",
      "intercept                                           0.1097      0.006     19.127      0.000       0.098       0.121\n",
      "NO$_2$, Stockholm Torkel Knutssonsgatan, lag1       0.9552      0.006    166.430      0.000       0.944       0.966\n",
      "NO$_2$, Stockholm Torkel Knutssonsgatan, lag2      -0.1962      0.005    -38.514      0.000      -0.206      -0.186\n",
      "NO$_2$, Stockholm Torkel Knutssonsgatan, lag 24     0.1434      0.005     28.333      0.000       0.134       0.153\n",
      "NO$_2$, Stockholm Torkel Knutssonsgatan, lag 25    -0.1122      0.005    -22.143      0.000      -0.122      -0.102\n",
      "NO$_2$, Stockholm Hornsgatan 108 , lag1             0.0362      0.004      9.668      0.000       0.029       0.044\n",
      "NO$_2$, Stockholm Sveavägen 59 , lag1              -0.0292      0.004     -7.699      0.000      -0.037      -0.022\n",
      "NO$_2$, Stockholm E4/E20 Lilla Essingen, lag1       0.0971      0.004     22.247      0.000       0.089       0.106\n",
      "NO$_2$, Norr Malma, lag1                           -0.0019      0.003     -0.648      0.517      -0.008       0.004\n",
      "Sine day                                           -0.0023      0.001     -1.997      0.046      -0.004   -4.16e-05\n",
      "Cosine day                                         -0.0468      0.001    -36.813      0.000      -0.049      -0.044\n",
      "Sine week                                          -0.0075      0.001     -8.816      0.000      -0.009      -0.006\n",
      "Cosine week                                         0.0115      0.001     13.069      0.000       0.010       0.013\n",
      "Sine year                                           0.0036      0.001      3.151      0.002       0.001       0.006\n",
      "Cosine year                                        -0.0011      0.002     -0.628      0.530      -0.005       0.002\n",
      "Temperature                                        -0.0023      0.004     -0.550      0.582      -0.010       0.006\n",
      "Atmospheric pressure                                0.0061      0.002      2.892      0.004       0.002       0.010\n",
      "Relative humidity                                  -0.0114      0.002     -5.108      0.000      -0.016      -0.007\n",
      "Precipitation                                       0.0211      0.012      1.835      0.066      -0.001       0.044\n",
      "Solar radiation                                    -0.0767      0.002    -31.478      0.000      -0.082      -0.072\n",
      "Wind speed                                         -0.1259      0.004    -34.896      0.000      -0.133      -0.119\n",
      "===================================================================================================================\n",
      "\n",
      "If the model instance has been used for another fit with different fit parameters, then the fit options might not be the correct ones anymore .\n"
     ]
    }
   ],
   "source": [
    "rlmod = sm.RLM(y_train, X_train).fit()\n",
    "print(rlmod.summary())#.as_latex())"
   ]
  },
  {
   "cell_type": "code",
   "execution_count": 495,
   "metadata": {},
   "outputs": [],
   "source": [
    "# print(np.sqrt(mean_squared_error(np.exp(scaler2.inverse_transform(rlmod.predict(X_test))), y_test)).round(5))\n",
    "y_pred_robust = pd.DataFrame(np.exp(scaler2.inverse_transform(rlmod.predict(X_test).to_frame())), columns = ['NO$_2$, predictions'])\n",
    "# y_pred_robust = pd.DataFrame(scaler2.inverse_transform(rlmod.predict(X_test).to_frame()), columns = ['PM$_{10}$, predictions'])\n",
    "y_pred_robust.insert(0, 'date', index_test)\n",
    "y_pred_robust.set_index('date', inplace=True)"
   ]
  },
  {
   "cell_type": "code",
   "execution_count": 496,
   "metadata": {},
   "outputs": [
    {
     "name": "stdout",
     "output_type": "stream",
     "text": [
      "RMSE:\n",
      "3.576\n",
      "\n",
      "MAPE:\n",
      "22.102\n"
     ]
    }
   ],
   "source": [
    "# metrics\n",
    "print('RMSE:')\n",
    "# print(np.sqrt(mean_squared_error(y_pred_frame['mean'], y_test)).round(4))\n",
    "print(np.sqrt(mean_squared_error(y_pred_robust, y_test)).round(3))\n",
    "\n",
    "print('\\nMAPE:')\n",
    "# print(mean_absolute_percentage_error(y_pred_frame['mean'], y_test).round(4))\n",
    "print(100*(mean_absolute_percentage_error(y_pred_robust, y_test).round(5)))"
   ]
  }
 ],
 "metadata": {
  "kernelspec": {
   "display_name": "Python 3.10.4 ('DL')",
   "language": "python",
   "name": "python3"
  },
  "language_info": {
   "codemirror_mode": {
    "name": "ipython",
    "version": 3
   },
   "file_extension": ".py",
   "mimetype": "text/x-python",
   "name": "python",
   "nbconvert_exporter": "python",
   "pygments_lexer": "ipython3",
   "version": "3.10.4"
  },
  "orig_nbformat": 4,
  "vscode": {
   "interpreter": {
    "hash": "2a0afe78b3ebe22049d3d74ba655a4a5f799767e6308d99c3f84aabb51861a5e"
   }
  }
 },
 "nbformat": 4,
 "nbformat_minor": 2
}
