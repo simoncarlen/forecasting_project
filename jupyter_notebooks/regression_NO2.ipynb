{
 "cells": [
  {
   "cell_type": "code",
   "execution_count": 50,
   "metadata": {},
   "outputs": [],
   "source": [
    "import pandas as pd\n",
    "import numpy as np\n",
    "import matplotlib.pyplot as plt\n",
    "from sklearn.preprocessing import MinMaxScaler\n",
    "import statsmodels.api as sm\n",
    "import statsmodels.formula.api as smf\n",
    "from sklearn.metrics import mean_squared_error\n",
    "from sklearn.metrics import mean_absolute_percentage_error\n",
    "import scipy as sp\n",
    "\n",
    "tex_fonts = {\n",
    "    \"text.usetex\": True,\n",
    "    \"font.family\": \"serif\",\n",
    "    \"axes.labelsize\": 10,\n",
    "    \"font.size\": 10,\n",
    "    \"legend.fontsize\": 10,\n",
    "    \"xtick.labelsize\": 10,\n",
    "    \"ytick.labelsize\": 10\n",
    "    }\n",
    "plt.rcParams.update(tex_fonts)"
   ]
  },
  {
   "cell_type": "code",
   "execution_count": 51,
   "metadata": {},
   "outputs": [],
   "source": [
    "# read in data\n",
    "df_NO2 = pd.read_csv('../air_weather_data/NO2_all_stations_cleaned.csv')\n",
    "df_NO2['date'] = pd.to_datetime(df_NO2['date'], format = '%Y-%m-%d %H:%M') # change time column to pandas datetime\n",
    "df_NO2 = df_NO2.set_index('date') # date column as index\n",
    "\n",
    "df_weather = pd.read_csv('../air_weather_data/metdata.csv')\n",
    "df_weather['date'] = pd.to_datetime(df_weather['date'], format = '%Y-%m-%d %H:%M') # change time column to pandas datetime\n",
    "df_weather = df_weather.set_index('date') # date column as index"
   ]
  },
  {
   "cell_type": "code",
   "execution_count": 52,
   "metadata": {},
   "outputs": [],
   "source": [
    "# drop negative and zero values and interpolate (in order to log transform)\n",
    "df_NO2[df_NO2 <= 0] = np.NaN\n",
    "df_NO2.interpolate(inplace=True)"
   ]
  },
  {
   "cell_type": "code",
   "execution_count": 53,
   "metadata": {},
   "outputs": [],
   "source": [
    "# df_NO2['NO$_2$, Stockholm Torkel Knutssonsgatan'] = np.log(df_NO2['NO$_2$, Stockholm Torkel Knutssonsgatan'])"
   ]
  },
  {
   "cell_type": "code",
   "execution_count": 54,
   "metadata": {},
   "outputs": [],
   "source": [
    "# create lagged values\n",
    "for i in df_NO2.columns:\n",
    "    df_NO2[str(i) + ', lag1'] = df_NO2[i].shift(1)\n",
    "\n",
    "# additional lags for the target station\n",
    "lags = 2\n",
    "j = 2\n",
    "for i in range(lags-1):\n",
    "    df_NO2['NO$_2$, Stockholm Torkel Knutssonsgatan' + ', lag' + \\\n",
    "        str(j)] = df_NO2['NO$_2$, Stockholm Torkel Knutssonsgatan'].shift(j)\n",
    "    j += 1\n",
    "\n",
    "# # add lag 24 and 25 (since found sign.)\n",
    "# df_NO2['NO$_2$, Stockholm Torkel Knutssonsgatan, lag 23'] = df_NO2['NO$_2$, Stockholm Torkel Knutssonsgatan'].shift(23)\n",
    "df_NO2['NO$_2$, Stockholm Torkel Knutssonsgatan, lag 24'] = df_NO2['NO$_2$, Stockholm Torkel Knutssonsgatan'].shift(24)\n",
    "df_NO2['NO$_2$, Stockholm Torkel Knutssonsgatan, lag 25'] = df_NO2['NO$_2$, Stockholm Torkel Knutssonsgatan'].shift(25)\n",
    "\n",
    "# drop NaN values\n",
    "df_NO2.dropna(inplace=True)"
   ]
  },
  {
   "cell_type": "code",
   "execution_count": 55,
   "metadata": {},
   "outputs": [],
   "source": [
    "# split into train, val, and test sets\n",
    "df_NO2_train = df_NO2['2016-01-01 00:00':'2019-01-01 00:00']\n",
    "df_NO2_val = df_NO2['2019-01-01 01:00:00':'2020-01-01 00:00:00']\n",
    "df_NO2_test = df_NO2['2021-01-25 16:00:00':]\n",
    "\n",
    "df_weather_train = df_weather['2016-01-01 00:00':'2019-01-01 00:00']\n",
    "df_weather_val = df_weather['2019-01-01 01:00:00':'2020-01-01 00:00:00']\n",
    "df_weather_test = df_weather['2021-01-25 16:00:00':]"
   ]
  },
  {
   "cell_type": "code",
   "execution_count": 56,
   "metadata": {},
   "outputs": [],
   "source": [
    "# index needed if normalizing below\n",
    "index_train = df_NO2_train.index \n",
    "index_val = df_NO2_val.index\n",
    "index_test = df_NO2_test.index"
   ]
  },
  {
   "cell_type": "code",
   "execution_count": 57,
   "metadata": {},
   "outputs": [],
   "source": [
    "# log transform data\n",
    "df_NO2_train = np.log(df_NO2_train)\n",
    "df_NO2_val = np.log(df_NO2_val)\n",
    "df_NO2_test = np.log(df_NO2_test)"
   ]
  },
  {
   "cell_type": "code",
   "execution_count": 58,
   "metadata": {},
   "outputs": [],
   "source": [
    "# if only some stations are to be included, but include all lagged values at Torkel Knutssonsgatan\n",
    "stations = [i for i in df_NO2_train.columns if 'Torkel' in i and 'lag' in i] + \\\n",
    "           [\n",
    "            'NO$_2$, Stockholm Hornsgatan 108 , lag1',\n",
    "            'NO$_2$, Stockholm Sveavägen 59 , lag1',\n",
    "            'NO$_2$, Stockholm E4/E20 Lilla Essingen, lag1',\n",
    "            # 'NO$_2$, Norr Malma, lag1',\n",
    "            # 'NO$_2$, Stockholm Sveavägen 59 Tak, lag1',\n",
    "           ]"
   ]
  },
  {
   "cell_type": "code",
   "execution_count": 59,
   "metadata": {},
   "outputs": [],
   "source": [
    "# create y and X matrix for train, val, and test sets\n",
    "y_train = df_NO2_train['NO$_2$, Stockholm Torkel Knutssonsgatan']\n",
    "X_train = df_NO2_train[stations]\n",
    "\n",
    "y_val = df_NO2_val['NO$_2$, Stockholm Torkel Knutssonsgatan']\n",
    "X_val = df_NO2_val[stations]\n",
    "\n",
    "y_test = np.exp(df_NO2_test['NO$_2$, Stockholm Torkel Knutssonsgatan']) # y_test should be on original scale\n",
    "X_test = df_NO2_test[stations]"
   ]
  },
  {
   "cell_type": "code",
   "execution_count": 60,
   "metadata": {},
   "outputs": [],
   "source": [
    "from sklearn.preprocessing import StandardScaler\n",
    "# normalize data\n",
    "# two scalers, one for X and on for y\n",
    "# standardscaler also tested which gave the same result\n",
    "scaler1 = MinMaxScaler() \n",
    "scaler2 = MinMaxScaler()\n",
    "# scaler1 = StandardScaler()\n",
    "# scaler2 = StandardScaler()\n",
    "\n",
    "\n",
    "# normalize train set\n",
    "X_train = scaler1.fit_transform(X_train)\n",
    "X_train = pd.DataFrame(X_train, columns=stations)\n",
    "X_train.insert(0, 'date', index_train)\n",
    "X_train.set_index('date', inplace=True)\n",
    "\n",
    "y_train = scaler2.fit_transform(y_train.to_frame())\n",
    "y_train = pd.DataFrame(y_train, columns = ['NO$_2$, Torkel Knutssonsgatan'])\n",
    "y_train.insert(0, 'date', index_train)\n",
    "y_train.set_index('date', inplace=True)\n",
    "\n",
    "# normalize validation set\n",
    "X_val = scaler1.transform(X_val) # fit is not used here to only use statistics from train data\n",
    "X_val = pd.DataFrame(X_val, columns=stations)\n",
    "X_val.insert(0, 'date', index_val)\n",
    "X_val.set_index('date', inplace=True)\n",
    "\n",
    "y_val = scaler2.transform(y_val.to_frame()) # fit is not used here to only use statistics from train data\n",
    "y_val = pd.DataFrame(y_val, columns = ['NO$_2$, Torkel Knutssonsgatan'])\n",
    "y_val.insert(0, 'date', index_val)\n",
    "y_val.set_index('date', inplace=True)\n",
    "\n",
    "# normalize test set (except y which is kept as it is since we want to predict on original scale)\n",
    "X_test = scaler1.transform(X_test) # not fit here to use statistics from train data\n",
    "X_test = pd.DataFrame(X_test, columns=stations)\n",
    "X_test.insert(0, 'date', index_test)\n",
    "X_test.set_index('date', inplace=True)"
   ]
  },
  {
   "cell_type": "code",
   "execution_count": 61,
   "metadata": {},
   "outputs": [],
   "source": [
    "# np.exp(scaler2.inverse_transform((y_train)))"
   ]
  },
  {
   "cell_type": "code",
   "execution_count": 62,
   "metadata": {},
   "outputs": [],
   "source": [
    "X_train.insert(0, 'intercept', 1) # insert a 1"
   ]
  },
  {
   "cell_type": "code",
   "execution_count": 63,
   "metadata": {},
   "outputs": [],
   "source": [
    "# if temporal signals are to be included\n",
    "w = [0,2,4,5] # 0:temp, 1:atm, 2:RH, 3:precip, 4:solrad, 5:wind \n",
    "s = [6,7] # 6,7:day, 8,9:week, 10,11:year\n",
    "\n",
    "X_train = X_train.merge(df_weather_train.iloc[:,s], on='date')\n",
    "# if weather parameters are to be included\n",
    "df_weather_train = df_weather_train.iloc[:,w]\n",
    "df_weather_norm_train = (df_weather_train - df_weather_train.min())/(df_weather_train.max() - df_weather_train.min())\n",
    "X_train = X_train.merge(df_weather_norm_train, on='date')"
   ]
  },
  {
   "cell_type": "code",
   "execution_count": 64,
   "metadata": {},
   "outputs": [],
   "source": [
    "X_val = X_val.merge(df_weather_val.iloc[:,s], on='date')\n",
    "df_weather_val = df_weather_val.iloc[:,w]\n",
    "df_weather_norm_val = (df_weather_val - df_weather_val.min())/(df_weather_val.max() - df_weather_val.min())\n",
    "X_val = X_val.merge(df_weather_norm_val, on='date')"
   ]
  },
  {
   "cell_type": "markdown",
   "metadata": {},
   "source": [
    "# OLS regression"
   ]
  },
  {
   "cell_type": "code",
   "execution_count": 65,
   "metadata": {},
   "outputs": [
    {
     "name": "stdout",
     "output_type": "stream",
     "text": [
      "\\begin{center}\n",
      "\\begin{tabular}{lclc}\n",
      "\\toprule\n",
      "\\textbf{Dep. Variable:}                                     & NO\\$\\_2\\$, Torkel Knutssonsgatan & \\textbf{  R-squared:         } &     0.857   \\\\\n",
      "\\textbf{Model:}                                             &               OLS                & \\textbf{  Adj. R-squared:    } &     0.856   \\\\\n",
      "\\textbf{Method:}                                            &          Least Squares           & \\textbf{  F-statistic:       } & 1.207e+04   \\\\\n",
      "\\textbf{Date:}                                              &         Wed, 24 Aug 2022         & \\textbf{  Prob (F-statistic):} &     0.00    \\\\\n",
      "\\textbf{Time:}                                              &             21:40:17             & \\textbf{  Log-Likelihood:    } &    39469.   \\\\\n",
      "\\textbf{No. Observations:}                                  &               26305              & \\textbf{  AIC:               } & -7.891e+04  \\\\\n",
      "\\textbf{Df Residuals:}                                      &               26291              & \\textbf{  BIC:               } & -7.879e+04  \\\\\n",
      "\\textbf{Df Model:}                                          &                  13              & \\textbf{                     } &             \\\\\n",
      "\\textbf{Covariance Type:}                                   &            nonrobust             & \\textbf{                     } &             \\\\\n",
      "\\bottomrule\n",
      "\\end{tabular}\n",
      "\\begin{tabular}{lcccccc}\n",
      "                                                            & \\textbf{coef} & \\textbf{std err} & \\textbf{t} & \\textbf{P$> |$t$|$} & \\textbf{[0.025} & \\textbf{0.975]}  \\\\\n",
      "\\midrule\n",
      "\\textbf{intercept}                                          &       0.1205  &        0.005     &    22.393  &         0.000        &        0.110    &        0.131     \\\\\n",
      "\\textbf{NO\\$\\_2\\$, Stockholm Torkel Knutssonsgatan, lag1}   &       0.9179  &        0.006     &   142.856  &         0.000        &        0.905    &        0.931     \\\\\n",
      "\\textbf{NO\\$\\_2\\$, Stockholm Torkel Knutssonsgatan, lag2}   &      -0.1784  &        0.006     &   -31.468  &         0.000        &       -0.190    &       -0.167     \\\\\n",
      "\\textbf{NO\\$\\_2\\$, Stockholm Torkel Knutssonsgatan, lag 24} &       0.1538  &        0.006     &    27.114  &         0.000        &        0.143    &        0.165     \\\\\n",
      "\\textbf{NO\\$\\_2\\$, Stockholm Torkel Knutssonsgatan, lag 25} &      -0.1239  &        0.006     &   -21.813  &         0.000        &       -0.135    &       -0.113     \\\\\n",
      "\\textbf{NO\\$\\_2\\$, Stockholm Hornsgatan 108 , lag1}         &       0.0426  &        0.004     &    11.432  &         0.000        &        0.035    &        0.050     \\\\\n",
      "\\textbf{NO\\$\\_2\\$, Stockholm Sveavägen 59 , lag1}           &      -0.0401  &        0.004     &    -9.986  &         0.000        &       -0.048    &       -0.032     \\\\\n",
      "\\textbf{NO\\$\\_2\\$, Stockholm E4/E20 Lilla Essingen, lag1}   &       0.1277  &        0.005     &    25.472  &         0.000        &        0.118    &        0.137     \\\\\n",
      "\\textbf{Sine day}                                           &       0.0021  &        0.001     &     1.699  &         0.089        &       -0.000    &        0.004     \\\\\n",
      "\\textbf{Cosine day}                                         &      -0.0493  &        0.001     &   -35.138  &         0.000        &       -0.052    &       -0.047     \\\\\n",
      "\\textbf{Temperature}                                        &      -0.0079  &        0.003     &    -3.090  &         0.002        &       -0.013    &       -0.003     \\\\\n",
      "\\textbf{Relative humidity}                                  &      -0.0182  &        0.002     &    -7.605  &         0.000        &       -0.023    &       -0.013     \\\\\n",
      "\\textbf{Solar radiation}                                    &      -0.0859  &        0.003     &   -31.584  &         0.000        &       -0.091    &       -0.081     \\\\\n",
      "\\textbf{Wind speed}                                         &      -0.1141  &        0.003     &   -33.888  &         0.000        &       -0.121    &       -0.107     \\\\\n",
      "\\bottomrule\n",
      "\\end{tabular}\n",
      "\\begin{tabular}{lclc}\n",
      "\\textbf{Omnibus:}       & 1679.821 & \\textbf{  Durbin-Watson:     } &    1.957  \\\\\n",
      "\\textbf{Prob(Omnibus):} &   0.000  & \\textbf{  Jarque-Bera (JB):  } & 6211.319  \\\\\n",
      "\\textbf{Skew:}          &   0.237  & \\textbf{  Prob(JB):          } &     0.00  \\\\\n",
      "\\textbf{Kurtosis:}      &   5.333  & \\textbf{  Cond. No.          } &     57.2  \\\\\n",
      "\\bottomrule\n",
      "\\end{tabular}\n",
      "%\\caption{OLS Regression Results}\n",
      "\\end{center}\n",
      "\n",
      "Notes: \\newline\n",
      " [1] Standard Errors assume that the covariance matrix of the errors is correctly specified.\n"
     ]
    }
   ],
   "source": [
    "# fit OLS regression model\n",
    "lmod = sm.OLS(y_train, X_train).fit()\n",
    "print(lmod.summary().as_latex())"
   ]
  },
  {
   "cell_type": "code",
   "execution_count": 66,
   "metadata": {},
   "outputs": [
    {
     "data": {
      "text/plain": [
       "[]"
      ]
     },
     "execution_count": 66,
     "metadata": {},
     "output_type": "execute_result"
    },
    {
     "data": {
      "image/png": "[encoded data removed]",
      "text/plain": [
       "<Figure size 396x270 with 4 Axes>"
      ]
     },
     "metadata": {
      "needs_background": "light"
     },
     "output_type": "display_data"
    }
   ],
   "source": [
    "# PM10\n",
    "fig, ((ax1, ax2), (ax3, ax4)) = plt.subplots(2, 2, constrained_layout = True, figsize = (5.5, 3.75))\n",
    "\n",
    "# QQ-plot of studentized residuals\n",
    "sm.qqplot(lmod.resid, line='q', ax=ax1, marker=\".\")\n",
    "ax1.annotate('(a)', xy=(0, 1.09), xycoords=\"axes fraction\")\n",
    "\n",
    "# fitted vs residuals\n",
    "ax2.scatter(lmod.fittedvalues, lmod.resid, marker=\".\")#, facecolors='none', edgecolors='#1f77b4')\n",
    "ax2.axhline(0, color='r')\n",
    "ax2.set_xlabel('Fitted value')\n",
    "ax2.set_ylabel('Residuals')\n",
    "ax2.annotate('(b)', xy=(0, 1.09), xycoords=\"axes fraction\")\n",
    "\n",
    "ax3.hist(lmod.resid, edgecolor='black', bins=20)\n",
    "ax3.set_xlabel('Residuals')\n",
    "ax3.set_ylabel('Frequency')\n",
    "ax3.annotate('(c)', xy=(0, 1.09), xycoords=\"axes fraction\")\n",
    "\n",
    "lmod.resid.plot(linestyle=\"\", marker='.', ax=ax4)\n",
    "ax4.set_xlabel('')\n",
    "ax4.set_ylabel('Residuals')\n",
    "ax4.annotate('(d)', xy=(0, 1.09), xycoords=\"axes fraction\")\n",
    "ax4.set_xticks([], minor=True)\n",
    "\n",
    "# plt.savefig('../plots/Residual_plots_MLR_NO2.pdf')"
   ]
  },
  {
   "cell_type": "code",
   "execution_count": 67,
   "metadata": {},
   "outputs": [
    {
     "data": {
      "text/plain": [
       "<matplotlib.collections.PathCollection at 0x15f5a3af0>"
      ]
     },
     "execution_count": 67,
     "metadata": {},
     "output_type": "execute_result"
    },
    {
     "data": {
      "image/png": "[encoded data removed]",
      "text/plain": [
       "<Figure size 432x288 with 1 Axes>"
      ]
     },
     "metadata": {
      "needs_background": "light"
     },
     "output_type": "display_data"
    }
   ],
   "source": [
    "plt.scatter(lmod.fittedvalues, np.sqrt(abs(lmod.resid)))"
   ]
  },
  {
   "cell_type": "code",
   "execution_count": 68,
   "metadata": {},
   "outputs": [
    {
     "data": {
      "text/html": [
       "<table class=\"simpletable\">\n",
       "<caption>OLS Regression Results</caption>\n",
       "<tr>\n",
       "  <th>Dep. Variable:</th>            <td>y</td>        <th>  R-squared:         </th>  <td>   0.001</td> \n",
       "</tr>\n",
       "<tr>\n",
       "  <th>Model:</th>                   <td>OLS</td>       <th>  Adj. R-squared:    </th>  <td>   0.001</td> \n",
       "</tr>\n",
       "<tr>\n",
       "  <th>Method:</th>             <td>Least Squares</td>  <th>  F-statistic:       </th>  <td>   34.16</td> \n",
       "</tr>\n",
       "<tr>\n",
       "  <th>Date:</th>             <td>Wed, 24 Aug 2022</td> <th>  Prob (F-statistic):</th>  <td>5.13e-09</td> \n",
       "</tr>\n",
       "<tr>\n",
       "  <th>Time:</th>                 <td>21:40:20</td>     <th>  Log-Likelihood:    </th>  <td>  27260.</td> \n",
       "</tr>\n",
       "<tr>\n",
       "  <th>No. Observations:</th>      <td> 26305</td>      <th>  AIC:               </th> <td>-5.452e+04</td>\n",
       "</tr>\n",
       "<tr>\n",
       "  <th>Df Residuals:</th>          <td> 26303</td>      <th>  BIC:               </th> <td>-5.450e+04</td>\n",
       "</tr>\n",
       "<tr>\n",
       "  <th>Df Model:</th>              <td>     1</td>      <th>                     </th>      <td> </td>    \n",
       "</tr>\n",
       "<tr>\n",
       "  <th>Covariance Type:</th>      <td>nonrobust</td>    <th>                     </th>      <td> </td>    \n",
       "</tr>\n",
       "</table>\n",
       "<table class=\"simpletable\">\n",
       "<tr>\n",
       "      <td></td>         <th>coef</th>     <th>std err</th>      <th>t</th>      <th>P>|t|</th>  <th>[0.025</th>    <th>0.975]</th>  \n",
       "</tr>\n",
       "<tr>\n",
       "  <th>Intercept</th> <td>    0.1936</td> <td>    0.002</td> <td>   82.313</td> <td> 0.000</td> <td>    0.189</td> <td>    0.198</td>\n",
       "</tr>\n",
       "<tr>\n",
       "  <th>x</th>         <td>   -0.0235</td> <td>    0.004</td> <td>   -5.845</td> <td> 0.000</td> <td>   -0.031</td> <td>   -0.016</td>\n",
       "</tr>\n",
       "</table>\n",
       "<table class=\"simpletable\">\n",
       "<tr>\n",
       "  <th>Omnibus:</th>       <td>1151.905</td> <th>  Durbin-Watson:     </th> <td>   1.738</td> \n",
       "</tr>\n",
       "<tr>\n",
       "  <th>Prob(Omnibus):</th>  <td> 0.000</td>  <th>  Jarque-Bera (JB):  </th> <td>1310.130</td> \n",
       "</tr>\n",
       "<tr>\n",
       "  <th>Skew:</th>           <td> 0.530</td>  <th>  Prob(JB):          </th> <td>3.23e-285</td>\n",
       "</tr>\n",
       "<tr>\n",
       "  <th>Kurtosis:</th>       <td> 3.267</td>  <th>  Cond. No.          </th> <td>    10.1</td> \n",
       "</tr>\n",
       "</table><br/><br/>Notes:<br/>[1] Standard Errors assume that the covariance matrix of the errors is correctly specified."
      ],
      "text/plain": [
       "<class 'statsmodels.iolib.summary.Summary'>\n",
       "\"\"\"\n",
       "                            OLS Regression Results                            \n",
       "==============================================================================\n",
       "Dep. Variable:                      y   R-squared:                       0.001\n",
       "Model:                            OLS   Adj. R-squared:                  0.001\n",
       "Method:                 Least Squares   F-statistic:                     34.16\n",
       "Date:                Wed, 24 Aug 2022   Prob (F-statistic):           5.13e-09\n",
       "Time:                        21:40:20   Log-Likelihood:                 27260.\n",
       "No. Observations:               26305   AIC:                        -5.452e+04\n",
       "Df Residuals:                   26303   BIC:                        -5.450e+04\n",
       "Df Model:                           1                                         \n",
       "Covariance Type:            nonrobust                                         \n",
       "==============================================================================\n",
       "                 coef    std err          t      P>|t|      [0.025      0.975]\n",
       "------------------------------------------------------------------------------\n",
       "Intercept      0.1936      0.002     82.313      0.000       0.189       0.198\n",
       "x             -0.0235      0.004     -5.845      0.000      -0.031      -0.016\n",
       "==============================================================================\n",
       "Omnibus:                     1151.905   Durbin-Watson:                   1.738\n",
       "Prob(Omnibus):                  0.000   Jarque-Bera (JB):             1310.130\n",
       "Skew:                           0.530   Prob(JB):                    3.23e-285\n",
       "Kurtosis:                       3.267   Cond. No.                         10.1\n",
       "==============================================================================\n",
       "\n",
       "Notes:\n",
       "[1] Standard Errors assume that the covariance matrix of the errors is correctly specified.\n",
       "\"\"\""
      ]
     },
     "execution_count": 68,
     "metadata": {},
     "output_type": "execute_result"
    }
   ],
   "source": [
    "ddf = pd.DataFrame({'x':lmod.fittedvalues, 'y':np.sqrt((abs(lmod.resid)))})\n",
    "dmod = smf.ols('y~x', ddf).fit()\n",
    "dmod.summary()"
   ]
  },
  {
   "cell_type": "code",
   "execution_count": 69,
   "metadata": {},
   "outputs": [],
   "source": [
    "# dfs for new predictions\n",
    "# y_test = np.exp(df_NO2_test['NO$_2$, Stockholm Torkel Knutssonsgatan']) # y-test column back to original scale\n",
    "# y_test = df_NO2_test['NO$_2$, Stockholm Torkel Knutssonsgatan'] # y-test column in original scale\n",
    "# X_test = df_NO2_test[stations]"
   ]
  },
  {
   "cell_type": "code",
   "execution_count": 70,
   "metadata": {},
   "outputs": [],
   "source": [
    "# log transform test data (but keep the target y in original scale)\n",
    "# X_test = np.log(X_test) \n",
    "# X_test.head()\n",
    "# y_test"
   ]
  },
  {
   "cell_type": "code",
   "execution_count": 71,
   "metadata": {},
   "outputs": [],
   "source": [
    "# normalize X \n",
    "# X_test = scaler1.transform(X_test)\n",
    "# X_test = pd.DataFrame(X_test, columns=stations)\n",
    "# X_test.insert(0, 'date', index_test)\n",
    "# X_test.set_index('date', inplace=True)"
   ]
  },
  {
   "cell_type": "code",
   "execution_count": 72,
   "metadata": {},
   "outputs": [],
   "source": [
    "X_test.insert(0, 'intercept', 1) # insert column of ones in test data"
   ]
  },
  {
   "cell_type": "code",
   "execution_count": 73,
   "metadata": {},
   "outputs": [],
   "source": [
    "# if temporal signals are to be included\n",
    "X_test = X_test.merge(df_weather_test.iloc[:,s], on='date')\n",
    "\n",
    "# if weather parameters are to be included\n",
    "df_weather_test = df_weather_test.iloc[:, w]\n",
    "df_weather_norm_test = (df_weather_test-df_weather_test.min())/(df_weather_test.max()-df_weather_test.min())\n",
    "X_test = X_test.merge(df_weather_norm_test, on='date')"
   ]
  },
  {
   "cell_type": "code",
   "execution_count": 74,
   "metadata": {},
   "outputs": [
    {
     "data": {
      "text/plain": [
       "True"
      ]
     },
     "execution_count": 74,
     "metadata": {},
     "output_type": "execute_result"
    }
   ],
   "source": [
    "# check if columns in train and test matrices are same\n",
    "(X_test.columns == X_train.columns).all()"
   ]
  },
  {
   "cell_type": "code",
   "execution_count": 75,
   "metadata": {},
   "outputs": [],
   "source": [
    "# if not normalized\n",
    "# y_pred_frame = np.exp(lmod.get_prediction(X_test).summary_frame()) # for confidence intervals\n",
    "# y_pred = np.exp(lmod.predict(X_test))\n",
    "\n",
    "# if normalized\n",
    "y_pred = pd.DataFrame(np.exp(scaler2.inverse_transform(lmod.predict(X_test).to_frame())), columns=['NO$_2$, predictions'])\n",
    "# y_pred = pd.DataFrame(scaler2.inverse_transform(lmod.predict(X_test).to_frame()), columns=['PM$_{10}$, predictions'])\n",
    "y_pred.insert(0, 'date', index_test)\n",
    "y_pred.set_index('date', inplace=True)"
   ]
  },
  {
   "cell_type": "code",
   "execution_count": 76,
   "metadata": {},
   "outputs": [
    {
     "name": "stdout",
     "output_type": "stream",
     "text": [
      "RMSE:\n",
      "3.4827\n",
      "\n",
      "MAPE:\n",
      "21.04\n"
     ]
    }
   ],
   "source": [
    "# metrics\n",
    "print('RMSE:')\n",
    "# print(np.sqrt(mean_squared_error(y_pred_frame['mean'], y_test)).round(4))\n",
    "print(np.sqrt(mean_squared_error(y_pred, y_test)).round(4))\n",
    "\n",
    "print('\\nMAPE:')\n",
    "# print(mean_absolute_percentage_error(y_pred_frame['mean'], y_test).round(4))\n",
    "print(100*(mean_absolute_percentage_error(y_pred, y_test).round(5)))"
   ]
  },
  {
   "cell_type": "markdown",
   "metadata": {},
   "source": [
    "# Variable selection with recursive feature elimination"
   ]
  },
  {
   "cell_type": "code",
   "execution_count": 77,
   "metadata": {},
   "outputs": [],
   "source": [
    "X_train_ = X_train.drop(columns='intercept', axis = 1)\n",
    "X_test_ = X_test.drop(columns='intercept', axis = 1)"
   ]
  },
  {
   "cell_type": "code",
   "execution_count": 78,
   "metadata": {},
   "outputs": [
    {
     "name": "stdout",
     "output_type": "stream",
     "text": [
      "3.4827\n"
     ]
    }
   ],
   "source": [
    "from sklearn import linear_model\n",
    "from sklearn.feature_selection import RFE\n",
    "\n",
    "reg = linear_model.LinearRegression(fit_intercept=True)\n",
    "reg.fit(X_train_, y_train)\n",
    "\n",
    "# make some predictions (check if same as lmod)\n",
    "reg_pred = pd.DataFrame(np.exp(scaler2.inverse_transform(reg.predict(X_test_))), columns=['NO$_2$, predictions'])\n",
    "reg_pred.insert(0, 'date', index_test)\n",
    "reg_pred.set_index('date', inplace=True)\n",
    "print(np.sqrt(mean_squared_error(reg_pred, y_test)).round(4))"
   ]
  },
  {
   "cell_type": "code",
   "execution_count": 79,
   "metadata": {},
   "outputs": [
    {
     "data": {
      "text/plain": [
       "array([ 1,  2,  3,  4,  9, 10,  5, 13,  8, 12, 11,  7,  6])"
      ]
     },
     "execution_count": 79,
     "metadata": {},
     "output_type": "execute_result"
    }
   ],
   "source": [
    "from sklearn.feature_selection import RFE\n",
    "selector = RFE(reg, n_features_to_select=1)\n",
    "selector = selector.fit(X_train_, y_train)\n",
    "selector.ranking_"
   ]
  },
  {
   "cell_type": "code",
   "execution_count": 80,
   "metadata": {},
   "outputs": [
    {
     "data": {
      "text/plain": [
       "['NO$_2$, Stockholm Torkel Knutssonsgatan, lag1',\n",
       " 'NO$_2$, Stockholm Torkel Knutssonsgatan, lag2',\n",
       " 'NO$_2$, Stockholm Torkel Knutssonsgatan, lag 24',\n",
       " 'NO$_2$, Stockholm Torkel Knutssonsgatan, lag 25',\n",
       " 'NO$_2$, Stockholm E4/E20 Lilla Essingen, lag1',\n",
       " 'Wind speed',\n",
       " 'Solar radiation',\n",
       " 'Cosine day',\n",
       " 'NO$_2$, Stockholm Hornsgatan 108 , lag1',\n",
       " 'NO$_2$, Stockholm Sveavägen 59 , lag1',\n",
       " 'Relative humidity',\n",
       " 'Temperature',\n",
       " 'Sine day']"
      ]
     },
     "execution_count": 80,
     "metadata": {},
     "output_type": "execute_result"
    }
   ],
   "source": [
    "X_train_.columns[np.argsort(selector.ranking_)].to_list()"
   ]
  },
  {
   "cell_type": "code",
   "execution_count": 81,
   "metadata": {},
   "outputs": [],
   "source": [
    "def rmse(x,y):\n",
    "    return (np.sqrt(np.mean((x-y)**2)))"
   ]
  },
  {
   "cell_type": "code",
   "execution_count": 82,
   "metadata": {},
   "outputs": [
    {
     "name": "stderr",
     "output_type": "stream",
     "text": [
      "/Users/simoncarlen/opt/miniconda3/envs/DL/lib/python3.10/site-packages/numpy/core/fromnumeric.py:3438: FutureWarning: In a future version, DataFrame.mean(axis=None) will return a scalar mean over the entire DataFrame. To retain the old behavior, use 'frame.mean(axis=0)' or just 'frame.mean()'\n",
      "  return mean(axis=axis, dtype=dtype, out=out, **kwargs)\n"
     ]
    }
   ],
   "source": [
    "pcols = X_train_.shape[1]\n",
    "prefs = np.argsort(selector.ranking_)\n",
    "valpred = np.empty(pcols + 1)\n",
    "valpred[0] = rmse(y_val, np.mean(y_train.values))\n",
    "trainpred = np.empty(pcols + 1)\n",
    "trainpred[0] = rmse(y_train, np.mean(y_train))"
   ]
  },
  {
   "cell_type": "code",
   "execution_count": 83,
   "metadata": {},
   "outputs": [
    {
     "data": {
      "text/plain": [
       "(0.0, 21.0)"
      ]
     },
     "execution_count": 83,
     "metadata": {},
     "output_type": "execute_result"
    },
    {
     "data": {
      "image/png": "[encoded data removed]",
      "text/plain": [
       "<Figure size 432x288 with 1 Axes>"
      ]
     },
     "metadata": {
      "needs_background": "light"
     },
     "output_type": "display_data"
    }
   ],
   "source": [
    "for k in range(1, pcols+1):\n",
    "    reg = linear_model.LinearRegression(fit_intercept=True)\n",
    "    reg.fit(X_train_.iloc[:, prefs[0:k]], y_train)\n",
    "    y_pred = reg.predict(X_val.iloc[:, prefs[0:k]])\n",
    "    valpred[k] = np.sqrt(mean_squared_error(y_pred, y_val))\n",
    "    y_pred_ = reg.predict(X_train_.iloc[:, prefs[0:k]])\n",
    "    trainpred[k] = np.sqrt(mean_squared_error(y_pred_, y_train))\n",
    "# valpred.round(6)\n",
    "# trainpred.round(6)\n",
    "\n",
    "fig, ax = plt.subplots(constrained_layout=True)\n",
    "ax.plot(valpred)\n",
    "ax.plot(trainpred)\n",
    "ax.set_xlim(0,21)"
   ]
  },
  {
   "cell_type": "code",
   "execution_count": 84,
   "metadata": {},
   "outputs": [
    {
     "data": {
      "text/plain": [
       "0.052"
      ]
     },
     "execution_count": 84,
     "metadata": {},
     "output_type": "execute_result"
    }
   ],
   "source": [
    "min(valpred).round(3)"
   ]
  },
  {
   "cell_type": "markdown",
   "metadata": {},
   "source": [
    "# Robust regression"
   ]
  },
  {
   "cell_type": "code",
   "execution_count": 87,
   "metadata": {},
   "outputs": [
    {
     "name": "stdout",
     "output_type": "stream",
     "text": [
      "\\begin{center}\n",
      "\\begin{tabular}{lclc}\n",
      "\\toprule\n",
      "\\textbf{Dep. Variable:}                                     & NO\\$\\_2\\$, Torkel Knutssonsgatan & \\textbf{  No. Observations:  } &    26305    \\\\\n",
      "\\textbf{Model:}                                             &               RLM                & \\textbf{  Df Residuals:      } &    26291    \\\\\n",
      "\\textbf{Method:}                                            &               IRLS               & \\textbf{  Df Model:          } &       13    \\\\\n",
      "\\textbf{Norm:}                                              &              HuberT              & \\textbf{                     } &             \\\\\n",
      "\\textbf{Scale Est.:}                                        &               mad                & \\textbf{                     } &             \\\\\n",
      "\\textbf{Cov Type:}                                          &                H1                & \\textbf{                     } &             \\\\\n",
      "\\textbf{Date:}                                              &         Wed, 24 Aug 2022         & \\textbf{                     } &             \\\\\n",
      "\\textbf{Time:}                                              &             21:40:50             & \\textbf{                     } &             \\\\\n",
      "\\textbf{No. Iterations:}                                    &                23                & \\textbf{                     } &             \\\\\n",
      "\\bottomrule\n",
      "\\end{tabular}\n",
      "\\begin{tabular}{lcccccc}\n",
      "                                                            & \\textbf{coef} & \\textbf{std err} & \\textbf{z} & \\textbf{P$> |$z$|$} & \\textbf{[0.025} & \\textbf{0.975]}  \\\\\n",
      "\\midrule\n",
      "\\textbf{intercept}                                          &       0.1120  &        0.005     &    23.295  &         0.000        &        0.103    &        0.121     \\\\\n",
      "\\textbf{NO\\$\\_2\\$, Stockholm Torkel Knutssonsgatan, lag1}   &       0.9533  &        0.006     &   166.039  &         0.000        &        0.942    &        0.965     \\\\\n",
      "\\textbf{NO\\$\\_2\\$, Stockholm Torkel Knutssonsgatan, lag2}   &      -0.1873  &        0.005     &   -36.973  &         0.000        &       -0.197    &       -0.177     \\\\\n",
      "\\textbf{NO\\$\\_2\\$, Stockholm Torkel Knutssonsgatan, lag 24} &       0.1421  &        0.005     &    28.022  &         0.000        &        0.132    &        0.152     \\\\\n",
      "\\textbf{NO\\$\\_2\\$, Stockholm Torkel Knutssonsgatan, lag 25} &      -0.1146  &        0.005     &   -22.574  &         0.000        &       -0.125    &       -0.105     \\\\\n",
      "\\textbf{NO\\$\\_2\\$, Stockholm Hornsgatan 108 , lag1}         &       0.0338  &        0.003     &    10.160  &         0.000        &        0.027    &        0.040     \\\\\n",
      "\\textbf{NO\\$\\_2\\$, Stockholm Sveavägen 59 , lag1}           &      -0.0326  &        0.004     &    -9.081  &         0.000        &       -0.040    &       -0.026     \\\\\n",
      "\\textbf{NO\\$\\_2\\$, Stockholm E4/E20 Lilla Essingen, lag1}   &       0.1126  &        0.004     &    25.144  &         0.000        &        0.104    &        0.121     \\\\\n",
      "\\textbf{Sine day}                                           &       0.0011  &        0.001     &     0.990  &         0.322        &       -0.001    &        0.003     \\\\\n",
      "\\textbf{Cosine day}                                         &      -0.0458  &        0.001     &   -36.580  &         0.000        &       -0.048    &       -0.043     \\\\\n",
      "\\textbf{Temperature}                                        &      -0.0073  &        0.002     &    -3.183  &         0.001        &       -0.012    &       -0.003     \\\\\n",
      "\\textbf{Relative humidity}                                  &      -0.0182  &        0.002     &    -8.534  &         0.000        &       -0.022    &       -0.014     \\\\\n",
      "\\textbf{Solar radiation}                                    &      -0.0805  &        0.002     &   -33.116  &         0.000        &       -0.085    &       -0.076     \\\\\n",
      "\\textbf{Wind speed}                                         &      -0.1021  &        0.003     &   -33.935  &         0.000        &       -0.108    &       -0.096     \\\\\n",
      "\\bottomrule\n",
      "\\end{tabular}\n",
      "%\\caption{Robust linear Model Regression Results}\n",
      "\\end{center}\n",
      "\n",
      "If the model instance has been used for another fit with different fit parameters, then the fit options might not be the correct ones anymore .\n"
     ]
    }
   ],
   "source": [
    "rlmod = sm.RLM(y_train, X_train).fit()\n",
    "print(rlmod.summary().as_latex())"
   ]
  },
  {
   "cell_type": "code",
   "execution_count": 88,
   "metadata": {},
   "outputs": [],
   "source": [
    "# print(np.sqrt(mean_squared_error(np.exp(scaler2.inverse_transform(rlmod.predict(X_test))), y_test)).round(5))\n",
    "y_pred_robust = pd.DataFrame(np.exp(scaler2.inverse_transform(rlmod.predict(X_test).to_frame())), columns = ['NO$_2$, predictions'])\n",
    "# y_pred_robust = pd.DataFrame(scaler2.inverse_transform(rlmod.predict(X_test).to_frame()), columns = ['PM$_{10}$, predictions'])\n",
    "y_pred_robust.insert(0, 'date', index_test)\n",
    "y_pred_robust.set_index('date', inplace=True)"
   ]
  },
  {
   "cell_type": "code",
   "execution_count": 89,
   "metadata": {},
   "outputs": [
    {
     "name": "stdout",
     "output_type": "stream",
     "text": [
      "RMSE:\n",
      "3.462\n",
      "\n",
      "MAPE:\n",
      "20.916\n"
     ]
    }
   ],
   "source": [
    "# metrics\n",
    "print('RMSE:')\n",
    "# print(np.sqrt(mean_squared_error(y_pred_frame['mean'], y_test)).round(4))\n",
    "print(np.sqrt(mean_squared_error(y_pred_robust, y_test)).round(3))\n",
    "\n",
    "print('\\nMAPE:')\n",
    "# print(mean_absolute_percentage_error(y_pred_frame['mean'], y_test).round(4))\n",
    "print(100*(mean_absolute_percentage_error(y_pred_robust, y_test).round(5)))"
   ]
  },
  {
   "cell_type": "markdown",
   "metadata": {},
   "source": [
    "# Scikit learns huber regression"
   ]
  },
  {
   "cell_type": "code",
   "execution_count": 90,
   "metadata": {},
   "outputs": [
    {
     "name": "stdout",
     "output_type": "stream",
     "text": [
      "3.458\n",
      "20.872\n"
     ]
    }
   ],
   "source": [
    "from sklearn.linear_model import HuberRegressor\n",
    "huber = HuberRegressor(max_iter=10000).fit(X_train_, y_train.values.ravel())\n",
    "y_predHuber = huber.predict(X_test.drop(columns='intercept', axis=1))\n",
    "x = pd.DataFrame({'pred':y_predHuber})\n",
    "\n",
    "print(np.sqrt(mean_squared_error(np.exp(scaler2.inverse_transform(x)), y_test.values)).round(3))\n",
    "print(100*(mean_absolute_percentage_error(np.exp(scaler2.inverse_transform(x)), y_test.values)).round(5))"
   ]
  },
  {
   "cell_type": "code",
   "execution_count": 91,
   "metadata": {},
   "outputs": [
    {
     "data": {
      "text/plain": [
       "['NO$_2$, Stockholm Torkel Knutssonsgatan, lag1',\n",
       " 'NO$_2$, Stockholm Torkel Knutssonsgatan, lag2',\n",
       " 'NO$_2$, Stockholm Torkel Knutssonsgatan, lag 24',\n",
       " 'NO$_2$, Stockholm Torkel Knutssonsgatan, lag 25',\n",
       " 'NO$_2$, Stockholm E4/E20 Lilla Essingen, lag1',\n",
       " 'Wind speed',\n",
       " 'Solar radiation',\n",
       " 'Cosine day',\n",
       " 'NO$_2$, Stockholm Hornsgatan 108 , lag1',\n",
       " 'NO$_2$, Stockholm Sveavägen 59 , lag1',\n",
       " 'Relative humidity',\n",
       " 'Temperature',\n",
       " 'Sine day']"
      ]
     },
     "execution_count": 91,
     "metadata": {},
     "output_type": "execute_result"
    }
   ],
   "source": [
    "# huber.coef_;\n",
    "selector_ = RFE(huber, n_features_to_select=1)\n",
    "selector_ = selector.fit(X_train_, y_train.values.ravel())\n",
    "selector_.ranking_\n",
    "X_train_.columns[np.argsort(selector_.ranking_)].to_list()"
   ]
  },
  {
   "cell_type": "code",
   "execution_count": 92,
   "metadata": {},
   "outputs": [
    {
     "name": "stderr",
     "output_type": "stream",
     "text": [
      "/Users/simoncarlen/opt/miniconda3/envs/DL/lib/python3.10/site-packages/numpy/core/fromnumeric.py:3438: FutureWarning: In a future version, DataFrame.mean(axis=None) will return a scalar mean over the entire DataFrame. To retain the old behavior, use 'frame.mean(axis=0)' or just 'frame.mean()'\n",
      "  return mean(axis=axis, dtype=dtype, out=out, **kwargs)\n"
     ]
    }
   ],
   "source": [
    "pcols = X_train_.shape[1]\n",
    "prefs = np.argsort(selector.ranking_)\n",
    "valpred = np.empty(pcols+1)\n",
    "valpred[0] = rmse(y_val, np.mean(y_train.values))\n",
    "trainpred = np.empty(pcols+1)\n",
    "trainpred[0] = rmse(y_train, np.mean(y_train))"
   ]
  },
  {
   "cell_type": "code",
   "execution_count": 93,
   "metadata": {},
   "outputs": [],
   "source": [
    "valpred[0] = np.NaN"
   ]
  },
  {
   "cell_type": "code",
   "execution_count": 94,
   "metadata": {},
   "outputs": [
    {
     "data": {
      "text/plain": [
       "<matplotlib.legend.Legend at 0x15d2358d0>"
      ]
     },
     "execution_count": 94,
     "metadata": {},
     "output_type": "execute_result"
    },
    {
     "data": {
      "image/png": "[encoded data removed]",
      "text/plain": [
       "<Figure size 252x144 with 1 Axes>"
      ]
     },
     "metadata": {
      "needs_background": "light"
     },
     "output_type": "display_data"
    }
   ],
   "source": [
    "\n",
    "for k in range(1,pcols+1):\n",
    "    huber = HuberRegressor(max_iter=10000)\n",
    "    huber.fit(X_train_.iloc[:, prefs[0:k]], y_train.values.ravel())\n",
    "    y_pred = huber.predict(X_val.iloc[:, prefs[0:k]])\n",
    "    valpred[k] = np.sqrt(mean_squared_error(y_pred, y_val))\n",
    "    # valpred.append(np.sqrt(mean_squared_error(y_pred, y_val)))\n",
    "    y_pred_ = huber.predict(X_train_.iloc[:, prefs[0:k]])\n",
    "    trainpred[k] = np.sqrt(mean_squared_error(y_pred_, y_train))\n",
    "    # trainpred.append(np.sqrt(mean_squared_error(y_pred_, y_train)))\n",
    "\n",
    "fig, ax = plt.subplots(constrained_layout = True, figsize = (3.5, 2))# ax1.plot(testpred, label='Testdata')\n",
    "ax.plot(trainpred, label='Training data')\n",
    "ax.plot(valpred, label='Validation data')\n",
    "ax.set_xlim(0,21)\n",
    "ax.set_ylim(0.05, 0.07)\n",
    "ax.set_xlabel('No.\\ of predictors')\n",
    "ax.set_ylabel('RMSE')\n",
    "ax.legend(loc='lower right', bbox_to_anchor= (1.0, 1.025), ncol=1, borderaxespad=0.1)\n",
    "# plt.savefig('../plots/RMSE_predictors.pdf')"
   ]
  },
  {
   "cell_type": "code",
   "execution_count": 44,
   "metadata": {},
   "outputs": [],
   "source": [
    "# X_train_val = pd.concat([X_train_, X_val])\n",
    "# y_train_val = pd.concat([y_train, y_val])"
   ]
  },
  {
   "cell_type": "code",
   "execution_count": 45,
   "metadata": {},
   "outputs": [],
   "source": [
    "# from sklearn.feature_selection import RFECV\n",
    "# selector = RFECV(huber, step=1, cv=10, scoring='neg_mean_squared_error')\n",
    "# selector = selector.fit(X_train_val, y_train_val.values.ravel())\n",
    "\n",
    "# plt.plot(np.arange(1, 21), -selector.grid_scores_)\n",
    "# plt.xlabel('No.\\ of predictors')\n",
    "# plt.ylabel('MSE')\n",
    "# plt.savefig('../plots/RMSE_predictors_cross_val.pdf')"
   ]
  }
 ],
 "metadata": {
  "kernelspec": {
   "display_name": "Python 3.10.4 ('DL')",
   "language": "python",
   "name": "python3"
  },
  "language_info": {
   "codemirror_mode": {
    "name": "ipython",
    "version": 3
   },
   "file_extension": ".py",
   "mimetype": "text/x-python",
   "name": "python",
   "nbconvert_exporter": "python",
   "pygments_lexer": "ipython3",
   "version": "3.10.4"
  },
  "orig_nbformat": 4,
  "vscode": {
   "interpreter": {
    "hash": "2a0afe78b3ebe22049d3d74ba655a4a5f799767e6308d99c3f84aabb51861a5e"
   }
  }
 },
 "nbformat": 4,
 "nbformat_minor": 2
}
