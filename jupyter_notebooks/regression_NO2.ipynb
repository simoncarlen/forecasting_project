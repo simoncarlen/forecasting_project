{
 "cells": [
  {
   "cell_type": "code",
   "execution_count": 1,
   "metadata": {},
   "outputs": [],
   "source": [
    "import pandas as pd\n",
    "import numpy as np\n",
    "import matplotlib.pyplot as plt\n",
    "from sklearn.preprocessing import MinMaxScaler\n",
    "import statsmodels.api as sm\n",
    "import statsmodels.formula.api as smf\n",
    "from sklearn.metrics import mean_squared_error\n",
    "from sklearn.metrics import mean_absolute_percentage_error\n",
    "import scipy as sp\n",
    "\n",
    "tex_fonts = {\n",
    "    \"text.usetex\": True,\n",
    "    \"font.family\": \"serif\",\n",
    "    \"axes.labelsize\": 10,\n",
    "    \"font.size\": 10,\n",
    "    \"legend.fontsize\": 10,\n",
    "    \"xtick.labelsize\": 10,\n",
    "    \"ytick.labelsize\": 10\n",
    "    }\n",
    "plt.rcParams.update(tex_fonts)"
   ]
  },
  {
   "cell_type": "code",
   "execution_count": 2,
   "metadata": {},
   "outputs": [],
   "source": [
    "# read in data\n",
    "df_NO2 = pd.read_csv('../air_weather_data/NO2_all_stations_cleaned.csv')\n",
    "df_NO2['date'] = pd.to_datetime(df_NO2['date'], format = '%Y-%m-%d %H:%M') # change time column to pandas datetime\n",
    "df_NO2 = df_NO2.set_index('date') # date column as index\n",
    "\n",
    "df_weather = pd.read_csv('../air_weather_data/metdata.csv')\n",
    "df_weather['date'] = pd.to_datetime(df_weather['date'], format = '%Y-%m-%d %H:%M') # change time column to pandas datetime\n",
    "df_weather = df_weather.set_index('date') # date column as index"
   ]
  },
  {
   "cell_type": "code",
   "execution_count": 3,
   "metadata": {},
   "outputs": [],
   "source": [
    "# drop negative and zero values and interpolate (in order to log transform)\n",
    "df_NO2[df_NO2 <= 0] = np.NaN\n",
    "df_NO2.interpolate(inplace=True)"
   ]
  },
  {
   "cell_type": "code",
   "execution_count": 4,
   "metadata": {},
   "outputs": [],
   "source": [
    "# df_NO2['NO$_2$, Stockholm Torkel Knutssonsgatan'] = np.log(df_NO2['NO$_2$, Stockholm Torkel Knutssonsgatan'])"
   ]
  },
  {
   "cell_type": "code",
   "execution_count": 5,
   "metadata": {},
   "outputs": [],
   "source": [
    "# create lagged values\n",
    "for i in df_NO2.columns:\n",
    "    df_NO2[str(i) + ', lag1'] = df_NO2[i].shift(1)\n",
    "\n",
    "# additional lags for the target station\n",
    "lags = 2\n",
    "j = 2\n",
    "for i in range(lags-1):\n",
    "    df_NO2['NO$_2$, Stockholm Torkel Knutssonsgatan' + ', lag' + \\\n",
    "        str(j)] = df_NO2['NO$_2$, Stockholm Torkel Knutssonsgatan'].shift(j)\n",
    "    j += 1\n",
    "\n",
    "# # add lag 24 and 25 (since found sign.)\n",
    "# df_NO2['NO$_2$, Stockholm Torkel Knutssonsgatan, lag 23'] = df_NO2['NO$_2$, Stockholm Torkel Knutssonsgatan'].shift(23)\n",
    "# df_NO2['NO$_2$, Stockholm Torkel Knutssonsgatan, lag 24'] = df_NO2['NO$_2$, Stockholm Torkel Knutssonsgatan'].shift(24)\n",
    "# df_NO2['NO$_2$, Stockholm Torkel Knutssonsgatan, lag 25'] = df_NO2['NO$_2$, Stockholm Torkel Knutssonsgatan'].shift(25)\n",
    "\n",
    "# drop NaN values\n",
    "df_NO2.dropna(inplace=True)"
   ]
  },
  {
   "cell_type": "code",
   "execution_count": 6,
   "metadata": {},
   "outputs": [],
   "source": [
    "# split into train, val, and test sets\n",
    "df_NO2_train = df_NO2['2016-01-01 00:00':'2019-01-01 00:00']\n",
    "df_NO2_val = df_NO2['2019-01-01 01:00:00':'2020-01-01 00:00:00']\n",
    "df_NO2_test = df_NO2['2021-01-25 16:00:00':]\n",
    "\n",
    "df_weather_train = df_weather['2016-01-01 00:00':'2019-01-01 00:00']\n",
    "df_weather_val = df_weather['2019-01-01 01:00:00':'2020-01-01 00:00:00']\n",
    "df_weather_test = df_weather['2021-01-25 16:00:00':]"
   ]
  },
  {
   "cell_type": "code",
   "execution_count": 7,
   "metadata": {},
   "outputs": [],
   "source": [
    "# index needed if normalizing below\n",
    "index_train = df_NO2_train.index \n",
    "index_val = df_NO2_val.index\n",
    "index_test = df_NO2_test.index"
   ]
  },
  {
   "cell_type": "code",
   "execution_count": 8,
   "metadata": {},
   "outputs": [],
   "source": [
    "# log transform data\n",
    "df_NO2_train = np.log(df_NO2_train)\n",
    "df_NO2_val = np.log(df_NO2_val)\n",
    "df_NO2_test = np.log(df_NO2_test)"
   ]
  },
  {
   "cell_type": "code",
   "execution_count": 9,
   "metadata": {},
   "outputs": [],
   "source": [
    "# if only some stations are to be included, but include all lagged values at Torkel Knutssonsgatan\n",
    "stations = [i for i in df_NO2_train.columns if 'Torkel' in i and 'lag' in i] + \\\n",
    "           [\n",
    "            'NO$_2$, Stockholm Hornsgatan 108, lag1',\n",
    "            'NO$_2$, Stockholm Sveavägen 59, lag1',\n",
    "            'NO$_2$, Stockholm E4/E20 Lilla Essingen, lag1',\n",
    "            # 'NO$_2$, Norr Malma, lag1',\n",
    "            # 'NO$_2$, Stockholm Sveavägen 59 Tak, lag1',\n",
    "           ]"
   ]
  },
  {
   "cell_type": "code",
   "execution_count": 10,
   "metadata": {},
   "outputs": [],
   "source": [
    "# create y and X matrix for train, val, and test sets\n",
    "y_train = df_NO2_train['NO$_2$, Stockholm Torkel Knutssonsgatan']\n",
    "X_train = df_NO2_train[stations]\n",
    "\n",
    "y_val = df_NO2_val['NO$_2$, Stockholm Torkel Knutssonsgatan']\n",
    "X_val = df_NO2_val[stations]\n",
    "\n",
    "y_test = np.exp(df_NO2_test['NO$_2$, Stockholm Torkel Knutssonsgatan']) # y_test should be on original scale\n",
    "X_test = df_NO2_test[stations]"
   ]
  },
  {
   "cell_type": "code",
   "execution_count": 12,
   "metadata": {},
   "outputs": [],
   "source": [
    "from sklearn.preprocessing import MinMaxScaler\n",
    "# normalize data (standardscaler also tested which gave the same result)\n",
    "# two scalers, one for X and on for y \n",
    "scaler1 = MinMaxScaler() \n",
    "scaler2 = MinMaxScaler()\n",
    "\n",
    "# normalize train set\n",
    "X_train = scaler1.fit_transform(X_train)\n",
    "X_train = pd.DataFrame(X_train, columns=stations)\n",
    "X_train.insert(0, 'date', index_train)\n",
    "X_train.set_index('date', inplace=True)\n",
    "\n",
    "y_train = scaler2.fit_transform(y_train.to_frame())\n",
    "y_train = pd.DataFrame(y_train, columns = ['NO$_2$, Torkel Knutssonsgatan'])\n",
    "y_train.insert(0, 'date', index_train)\n",
    "y_train.set_index('date', inplace=True)\n",
    "\n",
    "# normalize validation set\n",
    "X_val = scaler1.transform(X_val) # fit is not used here to only use statistics from train data\n",
    "X_val = pd.DataFrame(X_val, columns=stations)\n",
    "X_val.insert(0, 'date', index_val)\n",
    "X_val.set_index('date', inplace=True)\n",
    "\n",
    "y_val = scaler2.transform(y_val.to_frame()) # fit is not used here to only use statistics from train data\n",
    "y_val = pd.DataFrame(y_val, columns = ['NO$_2$, Torkel Knutssonsgatan'])\n",
    "y_val.insert(0, 'date', index_val)\n",
    "y_val.set_index('date', inplace=True)\n",
    "\n",
    "# normalize test set (except y which is kept as it is since we want to predict on original scale)\n",
    "X_test = scaler1.transform(X_test) # not fit here to use statistics from train data\n",
    "X_test = pd.DataFrame(X_test, columns=stations)\n",
    "X_test.insert(0, 'date', index_test)\n",
    "X_test.set_index('date', inplace=True)"
   ]
  },
  {
   "cell_type": "code",
   "execution_count": 13,
   "metadata": {},
   "outputs": [],
   "source": [
    "# np.exp(scaler2.inverse_transform((y_train)))"
   ]
  },
  {
   "cell_type": "code",
   "execution_count": 14,
   "metadata": {},
   "outputs": [],
   "source": [
    "X_train.insert(0, 'intercept', 1) # insert a 1"
   ]
  },
  {
   "cell_type": "code",
   "execution_count": 15,
   "metadata": {},
   "outputs": [],
   "source": [
    "# if temporal signals are to be included\n",
    "w = [0,2,4,5] # 0:temp, 1:atm, 2:RH, 3:precip, 4:solrad, 5:wind \n",
    "s = [6,7] # 6,7:day, 8,9:week, 10,11:year\n",
    "\n",
    "X_train = X_train.merge(df_weather_train.iloc[:,s], on='date')\n",
    "# if weather parameters are to be included\n",
    "df_weather_train = df_weather_train.iloc[:,w]\n",
    "df_weather_norm_train = (df_weather_train - df_weather_train.min())/(df_weather_train.max() - df_weather_train.min())\n",
    "X_train = X_train.merge(df_weather_norm_train, on='date')"
   ]
  },
  {
   "cell_type": "code",
   "execution_count": 16,
   "metadata": {},
   "outputs": [],
   "source": [
    "X_val = X_val.merge(df_weather_val.iloc[:,s], on='date')\n",
    "df_weather_val = df_weather_val.iloc[:,w]\n",
    "df_weather_norm_val = (df_weather_val - df_weather_val.min())/(df_weather_val.max() - df_weather_val.min())\n",
    "X_val = X_val.merge(df_weather_norm_val, on='date')"
   ]
  },
  {
   "cell_type": "markdown",
   "metadata": {},
   "source": [
    "# OLS regression"
   ]
  },
  {
   "cell_type": "code",
   "execution_count": 17,
   "metadata": {},
   "outputs": [
    {
     "name": "stdout",
     "output_type": "stream",
     "text": [
      "\\begin{center}\n",
      "\\begin{tabular}{lclc}\n",
      "\\toprule\n",
      "\\textbf{Dep. Variable:}                                   & NO\\$\\_2\\$, Torkel Knutssonsgatan & \\textbf{  R-squared:         } &     0.852   \\\\\n",
      "\\textbf{Model:}                                           &               OLS                & \\textbf{  Adj. R-squared:    } &     0.852   \\\\\n",
      "\\textbf{Method:}                                          &          Least Squares           & \\textbf{  F-statistic:       } & 1.381e+04   \\\\\n",
      "\\textbf{Date:}                                            &         Wed, 31 Aug 2022         & \\textbf{  Prob (F-statistic):} &     0.00    \\\\\n",
      "\\textbf{Time:}                                            &             15:42:00             & \\textbf{  Log-Likelihood:    } &    39098.   \\\\\n",
      "\\textbf{No. Observations:}                                &               26305              & \\textbf{  AIC:               } & -7.817e+04  \\\\\n",
      "\\textbf{Df Residuals:}                                    &               26293              & \\textbf{  BIC:               } & -7.807e+04  \\\\\n",
      "\\textbf{Df Model:}                                        &                  11              & \\textbf{                     } &             \\\\\n",
      "\\textbf{Covariance Type:}                                 &            nonrobust             & \\textbf{                     } &             \\\\\n",
      "\\bottomrule\n",
      "\\end{tabular}\n",
      "\\begin{tabular}{lcccccc}\n",
      "                                                          & \\textbf{coef} & \\textbf{std err} & \\textbf{t} & \\textbf{P$> |$t$|$} & \\textbf{[0.025} & \\textbf{0.975]}  \\\\\n",
      "\\midrule\n",
      "\\textbf{intercept}                                        &       0.1381  &        0.005     &    25.753  &         0.000        &        0.128    &        0.149     \\\\\n",
      "\\textbf{NO\\$\\_2\\$, Stockholm Torkel Knutssonsgatan, lag1} &       0.9342  &        0.006     &   144.333  &         0.000        &        0.922    &        0.947     \\\\\n",
      "\\textbf{NO\\$\\_2\\$, Stockholm Torkel Knutssonsgatan, lag2} &      -0.1933  &        0.006     &   -33.866  &         0.000        &       -0.204    &       -0.182     \\\\\n",
      "\\textbf{NO\\$\\_2\\$, Stockholm Hornsgatan 108 , lag1}       &       0.0420  &        0.004     &    11.113  &         0.000        &        0.035    &        0.049     \\\\\n",
      "\\textbf{NO\\$\\_2\\$, Stockholm Sveavägen 59 , lag1}         &      -0.0474  &        0.004     &   -11.677  &         0.000        &       -0.055    &       -0.039     \\\\\n",
      "\\textbf{NO\\$\\_2\\$, Stockholm E4/E20 Lilla Essingen, lag1} &       0.1424  &        0.005     &    28.236  &         0.000        &        0.132    &        0.152     \\\\\n",
      "\\textbf{Sine day}                                         &       0.0024  &        0.001     &     1.960  &         0.050        &    -1.57e-07    &        0.005     \\\\\n",
      "\\textbf{Cosine day}                                       &      -0.0569  &        0.001     &   -40.906  &         0.000        &       -0.060    &       -0.054     \\\\\n",
      "\\textbf{Temperature}                                      &      -0.0079  &        0.003     &    -3.058  &         0.002        &       -0.013    &       -0.003     \\\\\n",
      "\\textbf{Relative humidity}                                &      -0.0201  &        0.002     &    -8.296  &         0.000        &       -0.025    &       -0.015     \\\\\n",
      "\\textbf{Solar radiation}                                  &      -0.0970  &        0.003     &   -35.575  &         0.000        &       -0.102    &       -0.092     \\\\\n",
      "\\textbf{Wind speed}                                       &      -0.1157  &        0.003     &   -33.988  &         0.000        &       -0.122    &       -0.109     \\\\\n",
      "\\bottomrule\n",
      "\\end{tabular}\n",
      "\\begin{tabular}{lclc}\n",
      "\\textbf{Omnibus:}       & 1784.052 & \\textbf{  Durbin-Watson:     } &    1.943  \\\\\n",
      "\\textbf{Prob(Omnibus):} &   0.000  & \\textbf{  Jarque-Bera (JB):  } & 6377.932  \\\\\n",
      "\\textbf{Skew:}          &   0.282  & \\textbf{  Prob(JB):          } &     0.00  \\\\\n",
      "\\textbf{Kurtosis:}      &   5.346  & \\textbf{  Cond. No.          } &     52.5  \\\\\n",
      "\\bottomrule\n",
      "\\end{tabular}\n",
      "%\\caption{OLS Regression Results}\n",
      "\\end{center}\n",
      "\n",
      "Notes: \\newline\n",
      " [1] Standard Errors assume that the covariance matrix of the errors is correctly specified.\n"
     ]
    }
   ],
   "source": [
    "# fit OLS regression model\n",
    "lmod = sm.OLS(y_train, X_train).fit()\n",
    "print(lmod.summary().as_latex())"
   ]
  },
  {
   "cell_type": "code",
   "execution_count": 18,
   "metadata": {},
   "outputs": [
    {
     "data": {
      "image/png": "[encoded data removed]",
      "text/plain": [
       "<Figure size 432x288 with 4 Axes>"
      ]
     },
     "metadata": {
      "needs_background": "light"
     },
     "output_type": "display_data"
    }
   ],
   "source": [
    "fig, ((ax1, ax2), (ax3, ax4)) = plt.subplots(2, 2, constrained_layout = True, figsize = (6, 4))\n",
    "\n",
    "# QQ-plot of studentized residuals\n",
    "sm.qqplot(lmod.resid, line='q', ax=ax1, marker=\".\")\n",
    "ax1.annotate('(a)', xy=(0, 1.09), xycoords=\"axes fraction\")\n",
    "\n",
    "# fitted vs residuals\n",
    "ax2.scatter(lmod.fittedvalues, lmod.resid, marker=\".\")#, facecolors='none', edgecolors='#1f77b4')\n",
    "ax2.axhline(0, color='r')\n",
    "ax2.set_xlabel('Fitted value')\n",
    "ax2.set_ylabel('Residuals')\n",
    "ax2.annotate('(b)', xy=(0, 1.09), xycoords=\"axes fraction\")\n",
    "\n",
    "ax3.hist(lmod.resid, edgecolor='black', bins=20)\n",
    "ax3.set_xlabel('Residuals')\n",
    "ax3.set_ylabel('Frequency')\n",
    "ax3.annotate('(c)', xy=(0, 1.09), xycoords=\"axes fraction\")\n",
    "\n",
    "lmod.resid.plot(linestyle=\"\", marker='.', ax=ax4)\n",
    "ax4.set_xlabel('')\n",
    "ax4.set_ylabel('Residuals')\n",
    "ax4.annotate('(d)', xy=(0, 1.09), xycoords=\"axes fraction\")\n",
    "ax4.set_xticks([], minor=True)\n",
    "\n",
    "# plt.savefig('../plots/Residual_plots_MLR_NO2.pdf')"
   ]
  },
  {
   "cell_type": "code",
   "execution_count": 106,
   "metadata": {},
   "outputs": [
    {
     "data": {
      "text/plain": [
       "<matplotlib.collections.PathCollection at 0x162d769b0>"
      ]
     },
     "execution_count": 106,
     "metadata": {},
     "output_type": "execute_result"
    },
    {
     "data": {
      "image/png": "[encoded data removed]",
      "text/plain": [
       "<Figure size 432x288 with 1 Axes>"
      ]
     },
     "metadata": {
      "needs_background": "light"
     },
     "output_type": "display_data"
    }
   ],
   "source": [
    "plt.scatter(lmod.fittedvalues, np.sqrt(abs(lmod.resid)))"
   ]
  },
  {
   "cell_type": "code",
   "execution_count": 107,
   "metadata": {},
   "outputs": [
    {
     "data": {
      "text/html": [
       "<table class=\"simpletable\">\n",
       "<caption>OLS Regression Results</caption>\n",
       "<tr>\n",
       "  <th>Dep. Variable:</th>            <td>y</td>        <th>  R-squared:         </th>  <td>   0.001</td> \n",
       "</tr>\n",
       "<tr>\n",
       "  <th>Model:</th>                   <td>OLS</td>       <th>  Adj. R-squared:    </th>  <td>   0.001</td> \n",
       "</tr>\n",
       "<tr>\n",
       "  <th>Method:</th>             <td>Least Squares</td>  <th>  F-statistic:       </th>  <td>   33.25</td> \n",
       "</tr>\n",
       "<tr>\n",
       "  <th>Date:</th>             <td>Mon, 29 Aug 2022</td> <th>  Prob (F-statistic):</th>  <td>8.18e-09</td> \n",
       "</tr>\n",
       "<tr>\n",
       "  <th>Time:</th>                 <td>18:02:51</td>     <th>  Log-Likelihood:    </th>  <td>  27056.</td> \n",
       "</tr>\n",
       "<tr>\n",
       "  <th>No. Observations:</th>      <td> 26305</td>      <th>  AIC:               </th> <td>-5.411e+04</td>\n",
       "</tr>\n",
       "<tr>\n",
       "  <th>Df Residuals:</th>          <td> 26303</td>      <th>  BIC:               </th> <td>-5.409e+04</td>\n",
       "</tr>\n",
       "<tr>\n",
       "  <th>Df Model:</th>              <td>     1</td>      <th>                     </th>      <td> </td>    \n",
       "</tr>\n",
       "<tr>\n",
       "  <th>Covariance Type:</th>      <td>nonrobust</td>    <th>                     </th>      <td> </td>    \n",
       "</tr>\n",
       "</table>\n",
       "<table class=\"simpletable\">\n",
       "<tr>\n",
       "      <td></td>         <th>coef</th>     <th>std err</th>      <th>t</th>      <th>P>|t|</th>  <th>[0.025</th>    <th>0.975]</th>  \n",
       "</tr>\n",
       "<tr>\n",
       "  <th>Intercept</th> <td>    0.1946</td> <td>    0.002</td> <td>   81.927</td> <td> 0.000</td> <td>    0.190</td> <td>    0.199</td>\n",
       "</tr>\n",
       "<tr>\n",
       "  <th>x</th>         <td>   -0.0234</td> <td>    0.004</td> <td>   -5.767</td> <td> 0.000</td> <td>   -0.031</td> <td>   -0.015</td>\n",
       "</tr>\n",
       "</table>\n",
       "<table class=\"simpletable\">\n",
       "<tr>\n",
       "  <th>Omnibus:</th>       <td>1193.066</td> <th>  Durbin-Watson:     </th> <td>   1.746</td> \n",
       "</tr>\n",
       "<tr>\n",
       "  <th>Prob(Omnibus):</th>  <td> 0.000</td>  <th>  Jarque-Bera (JB):  </th> <td>1362.954</td> \n",
       "</tr>\n",
       "<tr>\n",
       "  <th>Skew:</th>           <td> 0.540</td>  <th>  Prob(JB):          </th> <td>1.09e-296</td>\n",
       "</tr>\n",
       "<tr>\n",
       "  <th>Kurtosis:</th>       <td> 3.274</td>  <th>  Cond. No.          </th> <td>    10.1</td> \n",
       "</tr>\n",
       "</table><br/><br/>Notes:<br/>[1] Standard Errors assume that the covariance matrix of the errors is correctly specified."
      ],
      "text/plain": [
       "<class 'statsmodels.iolib.summary.Summary'>\n",
       "\"\"\"\n",
       "                            OLS Regression Results                            \n",
       "==============================================================================\n",
       "Dep. Variable:                      y   R-squared:                       0.001\n",
       "Model:                            OLS   Adj. R-squared:                  0.001\n",
       "Method:                 Least Squares   F-statistic:                     33.25\n",
       "Date:                Mon, 29 Aug 2022   Prob (F-statistic):           8.18e-09\n",
       "Time:                        18:02:51   Log-Likelihood:                 27056.\n",
       "No. Observations:               26305   AIC:                        -5.411e+04\n",
       "Df Residuals:                   26303   BIC:                        -5.409e+04\n",
       "Df Model:                           1                                         \n",
       "Covariance Type:            nonrobust                                         \n",
       "==============================================================================\n",
       "                 coef    std err          t      P>|t|      [0.025      0.975]\n",
       "------------------------------------------------------------------------------\n",
       "Intercept      0.1946      0.002     81.927      0.000       0.190       0.199\n",
       "x             -0.0234      0.004     -5.767      0.000      -0.031      -0.015\n",
       "==============================================================================\n",
       "Omnibus:                     1193.066   Durbin-Watson:                   1.746\n",
       "Prob(Omnibus):                  0.000   Jarque-Bera (JB):             1362.954\n",
       "Skew:                           0.540   Prob(JB):                    1.09e-296\n",
       "Kurtosis:                       3.274   Cond. No.                         10.1\n",
       "==============================================================================\n",
       "\n",
       "Notes:\n",
       "[1] Standard Errors assume that the covariance matrix of the errors is correctly specified.\n",
       "\"\"\""
      ]
     },
     "execution_count": 107,
     "metadata": {},
     "output_type": "execute_result"
    }
   ],
   "source": [
    "ddf = pd.DataFrame({'x':lmod.fittedvalues, 'y':np.sqrt((abs(lmod.resid)))})\n",
    "dmod = smf.ols('y~x', ddf).fit()\n",
    "dmod.summary()"
   ]
  },
  {
   "cell_type": "code",
   "execution_count": 108,
   "metadata": {},
   "outputs": [],
   "source": [
    "# dfs for new predictions\n",
    "# y_test = np.exp(df_NO2_test['NO$_2$, Stockholm Torkel Knutssonsgatan']) # y-test column back to original scale\n",
    "# y_test = df_NO2_test['NO$_2$, Stockholm Torkel Knutssonsgatan'] # y-test column in original scale\n",
    "# X_test = df_NO2_test[stations]"
   ]
  },
  {
   "cell_type": "code",
   "execution_count": 109,
   "metadata": {},
   "outputs": [],
   "source": [
    "# log transform test data (but keep the target y in original scale)\n",
    "# X_test = np.log(X_test) \n",
    "# X_test.head()\n",
    "# y_test"
   ]
  },
  {
   "cell_type": "code",
   "execution_count": 110,
   "metadata": {},
   "outputs": [],
   "source": [
    "# normalize X \n",
    "# X_test = scaler1.transform(X_test)\n",
    "# X_test = pd.DataFrame(X_test, columns=stations)\n",
    "# X_test.insert(0, 'date', index_test)\n",
    "# X_test.set_index('date', inplace=True)"
   ]
  },
  {
   "cell_type": "code",
   "execution_count": 111,
   "metadata": {},
   "outputs": [],
   "source": [
    "X_test.insert(0, 'intercept', 1) # insert column of ones in test data"
   ]
  },
  {
   "cell_type": "code",
   "execution_count": 112,
   "metadata": {},
   "outputs": [],
   "source": [
    "# if temporal signals are to be included\n",
    "X_test = X_test.merge(df_weather_test.iloc[:,s], on='date')\n",
    "\n",
    "# if weather parameters are to be included\n",
    "df_weather_test = df_weather_test.iloc[:, w]\n",
    "df_weather_norm_test = (df_weather_test-df_weather_test.min())/(df_weather_test.max()-df_weather_test.min())\n",
    "X_test = X_test.merge(df_weather_norm_test, on='date')"
   ]
  },
  {
   "cell_type": "code",
   "execution_count": 113,
   "metadata": {},
   "outputs": [
    {
     "data": {
      "text/plain": [
       "True"
      ]
     },
     "execution_count": 113,
     "metadata": {},
     "output_type": "execute_result"
    }
   ],
   "source": [
    "# check if columns in train and test matrices are same\n",
    "(X_test.columns == X_train.columns).all()"
   ]
  },
  {
   "cell_type": "code",
   "execution_count": 114,
   "metadata": {},
   "outputs": [],
   "source": [
    "# if not normalized\n",
    "# y_pred_frame = np.exp(lmod.get_prediction(X_test).summary_frame()) # for confidence intervals\n",
    "# y_pred = np.exp(lmod.predict(X_test))\n",
    "\n",
    "# if normalized\n",
    "y_pred = pd.DataFrame(np.exp(scaler2.inverse_transform(lmod.predict(X_test).to_frame())), columns=['NO$_2$, predictions'])\n",
    "# y_pred = pd.DataFrame(scaler2.inverse_transform(lmod.predict(X_test).to_frame()), columns=['PM$_{10}$, predictions'])\n",
    "y_pred.insert(0, 'date', index_test)\n",
    "y_pred.set_index('date', inplace=True)"
   ]
  },
  {
   "cell_type": "code",
   "execution_count": 115,
   "metadata": {},
   "outputs": [
    {
     "name": "stdout",
     "output_type": "stream",
     "text": [
      "RMSE:\n",
      "3.5353\n",
      "\n",
      "MAPE:\n",
      "21.386\n"
     ]
    }
   ],
   "source": [
    "# metrics\n",
    "print('RMSE:')\n",
    "# print(np.sqrt(mean_squared_error(y_pred_frame['mean'], y_test)).round(4))\n",
    "print(np.sqrt(mean_squared_error(y_pred, y_test)).round(4))\n",
    "\n",
    "print('\\nMAPE:')\n",
    "# print(mean_absolute_percentage_error(y_pred_frame['mean'], y_test).round(4))\n",
    "print(100*(mean_absolute_percentage_error(y_pred, y_test).round(5)))"
   ]
  },
  {
   "cell_type": "markdown",
   "metadata": {},
   "source": [
    "# Variable selection with recursive feature elimination"
   ]
  },
  {
   "cell_type": "code",
   "execution_count": 116,
   "metadata": {},
   "outputs": [],
   "source": [
    "X_train_ = X_train.drop(columns='intercept', axis = 1)\n",
    "X_test_ = X_test.drop(columns='intercept', axis = 1)"
   ]
  },
  {
   "cell_type": "code",
   "execution_count": 117,
   "metadata": {},
   "outputs": [
    {
     "name": "stdout",
     "output_type": "stream",
     "text": [
      "3.5353\n"
     ]
    }
   ],
   "source": [
    "from sklearn import linear_model\n",
    "from sklearn.feature_selection import RFE\n",
    "\n",
    "reg = linear_model.LinearRegression(fit_intercept=True)\n",
    "reg.fit(X_train_, y_train)\n",
    "\n",
    "# make some predictions (check if same as lmod)\n",
    "reg_pred = pd.DataFrame(np.exp(scaler2.inverse_transform(reg.predict(X_test_))), columns=['NO$_2$, predictions'])\n",
    "reg_pred.insert(0, 'date', index_test)\n",
    "reg_pred.set_index('date', inplace=True)\n",
    "print(np.sqrt(mean_squared_error(reg_pred, y_test)).round(4))"
   ]
  },
  {
   "cell_type": "code",
   "execution_count": 118,
   "metadata": {},
   "outputs": [
    {
     "data": {
      "text/plain": [
       "array([ 1,  2,  8,  7,  3, 11,  6, 10,  9,  5,  4])"
      ]
     },
     "execution_count": 118,
     "metadata": {},
     "output_type": "execute_result"
    }
   ],
   "source": [
    "from sklearn.feature_selection import RFE\n",
    "selector = RFE(reg, n_features_to_select=1)\n",
    "selector = selector.fit(X_train_, y_train)\n",
    "selector.ranking_"
   ]
  },
  {
   "cell_type": "code",
   "execution_count": 119,
   "metadata": {},
   "outputs": [
    {
     "data": {
      "text/plain": [
       "['NO$_2$, Stockholm Torkel Knutssonsgatan, lag1',\n",
       " 'NO$_2$, Stockholm Torkel Knutssonsgatan, lag2',\n",
       " 'NO$_2$, Stockholm E4/E20 Lilla Essingen, lag1',\n",
       " 'Wind speed',\n",
       " 'Solar radiation',\n",
       " 'Cosine day',\n",
       " 'NO$_2$, Stockholm Sveavägen 59 , lag1',\n",
       " 'NO$_2$, Stockholm Hornsgatan 108 , lag1',\n",
       " 'Relative humidity',\n",
       " 'Temperature',\n",
       " 'Sine day']"
      ]
     },
     "execution_count": 119,
     "metadata": {},
     "output_type": "execute_result"
    }
   ],
   "source": [
    "X_train_.columns[np.argsort(selector.ranking_)].to_list()"
   ]
  },
  {
   "cell_type": "code",
   "execution_count": 120,
   "metadata": {},
   "outputs": [],
   "source": [
    "def rmse(x,y):\n",
    "    return (np.sqrt(np.mean((x-y)**2)))"
   ]
  },
  {
   "cell_type": "code",
   "execution_count": 121,
   "metadata": {},
   "outputs": [
    {
     "name": "stderr",
     "output_type": "stream",
     "text": [
      "/Users/simoncarlen/opt/miniconda3/envs/DL/lib/python3.10/site-packages/numpy/core/fromnumeric.py:3438: FutureWarning: In a future version, DataFrame.mean(axis=None) will return a scalar mean over the entire DataFrame. To retain the old behavior, use 'frame.mean(axis=0)' or just 'frame.mean()'\n",
      "  return mean(axis=axis, dtype=dtype, out=out, **kwargs)\n"
     ]
    }
   ],
   "source": [
    "pcols = X_train_.shape[1]\n",
    "prefs = np.argsort(selector.ranking_)\n",
    "valpred = np.empty(pcols + 1)\n",
    "valpred[0] = rmse(y_val, np.mean(y_train.values))\n",
    "trainpred = np.empty(pcols + 1)\n",
    "trainpred[0] = rmse(y_train, np.mean(y_train))"
   ]
  },
  {
   "cell_type": "code",
   "execution_count": 122,
   "metadata": {},
   "outputs": [
    {
     "data": {
      "text/plain": [
       "(0.0, 21.0)"
      ]
     },
     "execution_count": 122,
     "metadata": {},
     "output_type": "execute_result"
    },
    {
     "data": {
      "image/png": "[encoded data removed]",
      "text/plain": [
       "<Figure size 432x288 with 1 Axes>"
      ]
     },
     "metadata": {
      "needs_background": "light"
     },
     "output_type": "display_data"
    }
   ],
   "source": [
    "for k in range(1, pcols+1):\n",
    "    reg = linear_model.LinearRegression(fit_intercept=True)\n",
    "    reg.fit(X_train_.iloc[:, prefs[0:k]], y_train)\n",
    "    y_pred = reg.predict(X_val.iloc[:, prefs[0:k]])\n",
    "    valpred[k] = np.sqrt(mean_squared_error(y_pred, y_val))\n",
    "    y_pred_ = reg.predict(X_train_.iloc[:, prefs[0:k]])\n",
    "    trainpred[k] = np.sqrt(mean_squared_error(y_pred_, y_train))\n",
    "# valpred.round(6)\n",
    "# trainpred.round(6)\n",
    "\n",
    "fig, ax = plt.subplots(constrained_layout=True)\n",
    "ax.plot(valpred)\n",
    "ax.plot(trainpred)\n",
    "ax.set_xlim(0,21)"
   ]
  },
  {
   "cell_type": "code",
   "execution_count": 123,
   "metadata": {},
   "outputs": [
    {
     "data": {
      "text/plain": [
       "0.053"
      ]
     },
     "execution_count": 123,
     "metadata": {},
     "output_type": "execute_result"
    }
   ],
   "source": [
    "min(valpred).round(3)"
   ]
  },
  {
   "cell_type": "markdown",
   "metadata": {},
   "source": [
    "# Robust regression"
   ]
  },
  {
   "cell_type": "code",
   "execution_count": 124,
   "metadata": {},
   "outputs": [
    {
     "name": "stdout",
     "output_type": "stream",
     "text": [
      "\\begin{center}\n",
      "\\begin{tabular}{lclc}\n",
      "\\toprule\n",
      "\\textbf{Dep. Variable:}                                   & NO\\$\\_2\\$, Torkel Knutssonsgatan & \\textbf{  No. Observations:  } &    26305    \\\\\n",
      "\\textbf{Model:}                                           &               RLM                & \\textbf{  Df Residuals:      } &    26293    \\\\\n",
      "\\textbf{Method:}                                          &               IRLS               & \\textbf{  Df Model:          } &       11    \\\\\n",
      "\\textbf{Norm:}                                            &              HuberT              & \\textbf{                     } &             \\\\\n",
      "\\textbf{Scale Est.:}                                      &               mad                & \\textbf{                     } &             \\\\\n",
      "\\textbf{Cov Type:}                                        &                H1                & \\textbf{                     } &             \\\\\n",
      "\\textbf{Date:}                                            &         Mon, 29 Aug 2022         & \\textbf{                     } &             \\\\\n",
      "\\textbf{Time:}                                            &             18:03:09             & \\textbf{                     } &             \\\\\n",
      "\\textbf{No. Iterations:}                                  &                26                & \\textbf{                     } &             \\\\\n",
      "\\bottomrule\n",
      "\\end{tabular}\n",
      "\\begin{tabular}{lcccccc}\n",
      "                                                          & \\textbf{coef} & \\textbf{std err} & \\textbf{z} & \\textbf{P$> |$z$|$} & \\textbf{[0.025} & \\textbf{0.975]}  \\\\\n",
      "\\midrule\n",
      "\\textbf{intercept}                                        &       0.1276  &        0.005     &    26.660  &         0.000        &        0.118    &        0.137     \\\\\n",
      "\\textbf{NO\\$\\_2\\$, Stockholm Torkel Knutssonsgatan, lag1} &       0.9688  &        0.006     &   167.776  &         0.000        &        0.957    &        0.980     \\\\\n",
      "\\textbf{NO\\$\\_2\\$, Stockholm Torkel Knutssonsgatan, lag2} &      -0.1999  &        0.005     &   -39.270  &         0.000        &       -0.210    &       -0.190     \\\\\n",
      "\\textbf{NO\\$\\_2\\$, Stockholm Hornsgatan 108 , lag1}       &       0.0330  &        0.003     &     9.802  &         0.000        &        0.026    &        0.040     \\\\\n",
      "\\textbf{NO\\$\\_2\\$, Stockholm Sveavägen 59 , lag1}         &      -0.0379  &        0.004     &   -10.456  &         0.000        &       -0.045    &       -0.031     \\\\\n",
      "\\textbf{NO\\$\\_2\\$, Stockholm E4/E20 Lilla Essingen, lag1} &       0.1246  &        0.004     &    27.702  &         0.000        &        0.116    &        0.133     \\\\\n",
      "\\textbf{Sine day}                                         &       0.0008  &        0.001     &     0.687  &         0.492        &       -0.001    &        0.003     \\\\\n",
      "\\textbf{Cosine day}                                       &      -0.0522  &        0.001     &   -42.106  &         0.000        &       -0.055    &       -0.050     \\\\\n",
      "\\textbf{Temperature}                                      &      -0.0071  &        0.002     &    -3.086  &         0.002        &       -0.012    &       -0.003     \\\\\n",
      "\\textbf{Relative humidity}                                &      -0.0200  &        0.002     &    -9.268  &         0.000        &       -0.024    &       -0.016     \\\\\n",
      "\\textbf{Solar radiation}                                  &      -0.0900  &        0.002     &   -36.969  &         0.000        &       -0.095    &       -0.085     \\\\\n",
      "\\textbf{Wind speed}                                       &      -0.1045  &        0.003     &   -34.420  &         0.000        &       -0.110    &       -0.099     \\\\\n",
      "\\bottomrule\n",
      "\\end{tabular}\n",
      "%\\caption{Robust linear Model Regression Results}\n",
      "\\end{center}\n",
      "\n",
      "If the model instance has been used for another fit with different fit parameters, then the fit options might not be the correct ones anymore .\n"
     ]
    }
   ],
   "source": [
    "rlmod = sm.RLM(y_train, X_train).fit()\n",
    "print(rlmod.summary().as_latex())"
   ]
  },
  {
   "cell_type": "code",
   "execution_count": 125,
   "metadata": {},
   "outputs": [],
   "source": [
    "# print(np.sqrt(mean_squared_error(np.exp(scaler2.inverse_transform(rlmod.predict(X_test))), y_test)).round(5))\n",
    "y_pred_robust = pd.DataFrame(np.exp(scaler2.inverse_transform(rlmod.predict(X_test).to_frame())), columns = ['NO$_2$, predictions'])\n",
    "# y_pred_robust = pd.DataFrame(scaler2.inverse_transform(rlmod.predict(X_test).to_frame()), columns = ['PM$_{10}$, predictions'])\n",
    "y_pred_robust.insert(0, 'date', index_test)\n",
    "y_pred_robust.set_index('date', inplace=True)"
   ]
  },
  {
   "cell_type": "code",
   "execution_count": 126,
   "metadata": {},
   "outputs": [
    {
     "name": "stdout",
     "output_type": "stream",
     "text": [
      "RMSE:\n",
      "3.513\n",
      "\n",
      "MAPE:\n",
      "21.295\n"
     ]
    }
   ],
   "source": [
    "# metrics\n",
    "print('RMSE:')\n",
    "# print(np.sqrt(mean_squared_error(y_pred_frame['mean'], y_test)).round(4))\n",
    "print(np.sqrt(mean_squared_error(y_pred_robust, y_test)).round(3))\n",
    "\n",
    "print('\\nMAPE:')\n",
    "# print(mean_absolute_percentage_error(y_pred_frame['mean'], y_test).round(4))\n",
    "print(100*(mean_absolute_percentage_error(y_pred_robust, y_test).round(5)))"
   ]
  },
  {
   "cell_type": "code",
   "execution_count": 127,
   "metadata": {},
   "outputs": [],
   "source": [
    "y_pred_robust['NO$_2$'] = y_test\n"
   ]
  },
  {
   "cell_type": "code",
   "execution_count": 128,
   "metadata": {},
   "outputs": [],
   "source": [
    "y_pred_robust.to_csv('../prediction_results/robust_regression.csv')"
   ]
  },
  {
   "cell_type": "markdown",
   "metadata": {},
   "source": [
    "# Scikit learns huber regression"
   ]
  },
  {
   "cell_type": "code",
   "execution_count": 130,
   "metadata": {},
   "outputs": [
    {
     "name": "stdout",
     "output_type": "stream",
     "text": [
      "3.508\n",
      "21.247\n"
     ]
    }
   ],
   "source": [
    "from sklearn.linear_model import HuberRegressor\n",
    "huber = HuberRegressor(max_iter=10000).fit(X_train_, y_train.values.ravel())\n",
    "y_predHuber = huber.predict(X_test.drop(columns='intercept', axis=1))\n",
    "x = pd.DataFrame({'pred':y_predHuber})\n",
    "\n",
    "print(np.sqrt(mean_squared_error(np.exp(scaler2.inverse_transform(x)), y_test.values)).round(3))\n",
    "print(100*(mean_absolute_percentage_error(np.exp(scaler2.inverse_transform(x)), y_test.values)).round(5))"
   ]
  },
  {
   "cell_type": "code",
   "execution_count": 131,
   "metadata": {},
   "outputs": [
    {
     "data": {
      "text/plain": [
       "['NO$_2$, Stockholm Torkel Knutssonsgatan, lag1',\n",
       " 'NO$_2$, Stockholm Torkel Knutssonsgatan, lag2',\n",
       " 'NO$_2$, Stockholm E4/E20 Lilla Essingen, lag1',\n",
       " 'Wind speed',\n",
       " 'Solar radiation',\n",
       " 'Cosine day',\n",
       " 'NO$_2$, Stockholm Sveavägen 59 , lag1',\n",
       " 'NO$_2$, Stockholm Hornsgatan 108 , lag1',\n",
       " 'Relative humidity',\n",
       " 'Temperature',\n",
       " 'Sine day']"
      ]
     },
     "execution_count": 131,
     "metadata": {},
     "output_type": "execute_result"
    }
   ],
   "source": [
    "# huber.coef_;\n",
    "selector_ = RFE(huber, n_features_to_select=1)\n",
    "selector_ = selector.fit(X_train_, y_train.values.ravel())\n",
    "selector_.ranking_\n",
    "X_train_.columns[np.argsort(selector_.ranking_)].to_list()"
   ]
  },
  {
   "cell_type": "code",
   "execution_count": 132,
   "metadata": {},
   "outputs": [
    {
     "name": "stderr",
     "output_type": "stream",
     "text": [
      "/Users/simoncarlen/opt/miniconda3/envs/DL/lib/python3.10/site-packages/numpy/core/fromnumeric.py:3438: FutureWarning: In a future version, DataFrame.mean(axis=None) will return a scalar mean over the entire DataFrame. To retain the old behavior, use 'frame.mean(axis=0)' or just 'frame.mean()'\n",
      "  return mean(axis=axis, dtype=dtype, out=out, **kwargs)\n"
     ]
    }
   ],
   "source": [
    "pcols = X_train_.shape[1]\n",
    "prefs = np.argsort(selector.ranking_)\n",
    "valpred = np.empty(pcols+1)\n",
    "valpred[0] = rmse(y_val, np.mean(y_train.values))\n",
    "trainpred = np.empty(pcols+1)\n",
    "trainpred[0] = rmse(y_train, np.mean(y_train))"
   ]
  },
  {
   "cell_type": "code",
   "execution_count": 133,
   "metadata": {},
   "outputs": [],
   "source": [
    "valpred[0] = np.NaN\n",
    "trainpred[0] = np.NaN"
   ]
  },
  {
   "cell_type": "code",
   "execution_count": 134,
   "metadata": {},
   "outputs": [
    {
     "data": {
      "text/plain": [
       "<matplotlib.legend.Legend at 0x1620f45e0>"
      ]
     },
     "execution_count": 134,
     "metadata": {},
     "output_type": "execute_result"
    },
    {
     "data": {
      "image/png": "[encoded data removed]",
      "text/plain": [
       "<Figure size 252x144 with 1 Axes>"
      ]
     },
     "metadata": {
      "needs_background": "light"
     },
     "output_type": "display_data"
    }
   ],
   "source": [
    "\n",
    "for k in range(1,pcols+1):\n",
    "    huber = HuberRegressor(max_iter=10000)\n",
    "    huber.fit(X_train_.iloc[:, prefs[0:k]], y_train.values.ravel())\n",
    "    y_pred = huber.predict(X_val.iloc[:, prefs[0:k]])\n",
    "    valpred[k] = np.sqrt(mean_squared_error(y_pred, y_val))\n",
    "    # valpred.append(np.sqrt(mean_squared_error(y_pred, y_val)))\n",
    "    y_pred_ = huber.predict(X_train_.iloc[:, prefs[0:k]])\n",
    "    trainpred[k] = np.sqrt(mean_squared_error(y_pred_, y_train))\n",
    "    # trainpred.append(np.sqrt(mean_squared_error(y_pred_, y_train)))\n",
    "\n",
    "fig, ax = plt.subplots(constrained_layout = True, figsize = (3.5, 2))# ax1.plot(testpred, label='Testdata')\n",
    "ax.plot(trainpred, label='Training data')\n",
    "ax.plot(valpred, label='Validation data')\n",
    "ax.set_xlim(0,19)\n",
    "ax.set_ylim(0.05, 0.07)\n",
    "ax.set_xlabel('No.\\ of predictors')\n",
    "ax.set_ylabel('RMSE')\n",
    "ax.legend(loc='lower right', bbox_to_anchor= (1.0, 1.025), ncol=1, borderaxespad=0.1)\n",
    "# plt.savefig('../plots/RMSE_predictors.pdf')"
   ]
  },
  {
   "cell_type": "code",
   "execution_count": 46,
   "metadata": {},
   "outputs": [],
   "source": [
    "# X_train_val = pd.concat([X_train_, X_val])\n",
    "# y_train_val = pd.concat([y_train, y_val])"
   ]
  },
  {
   "cell_type": "code",
   "execution_count": 47,
   "metadata": {},
   "outputs": [],
   "source": [
    "# from sklearn.feature_selection import RFECV\n",
    "# selector = RFECV(huber, step=1, cv=10, scoring='neg_mean_squared_error')\n",
    "# selector = selector.fit(X_train_val, y_train_val.values.ravel())\n",
    "\n",
    "# plt.plot(np.arange(1, 21), -selector.grid_scores_)\n",
    "# plt.xlabel('No.\\ of predictors')\n",
    "# plt.ylabel('MSE')\n",
    "# plt.savefig('../plots/RMSE_predictors_cross_val.pdf')"
   ]
  }
 ],
 "metadata": {
  "kernelspec": {
   "display_name": "Python 3.10.4 ('DL')",
   "language": "python",
   "name": "python3"
  },
  "language_info": {
   "codemirror_mode": {
    "name": "ipython",
    "version": 3
   },
   "file_extension": ".py",
   "mimetype": "text/x-python",
   "name": "python",
   "nbconvert_exporter": "python",
   "pygments_lexer": "ipython3",
   "version": "3.10.4"
  },
  "orig_nbformat": 4,
  "vscode": {
   "interpreter": {
    "hash": "2a0afe78b3ebe22049d3d74ba655a4a5f799767e6308d99c3f84aabb51861a5e"
   }
  }
 },
 "nbformat": 4,
 "nbformat_minor": 2
}
