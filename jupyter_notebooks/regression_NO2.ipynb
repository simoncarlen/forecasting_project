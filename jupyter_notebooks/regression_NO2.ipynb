{
 "cells": [
  {
   "cell_type": "code",
   "execution_count": 17,
   "metadata": {},
   "outputs": [],
   "source": [
    "import pandas as pd\n",
    "import numpy as np\n",
    "import matplotlib.pyplot as plt\n",
    "from sklearn.preprocessing import MinMaxScaler\n",
    "import statsmodels.api as sm\n",
    "import statsmodels.formula.api as smf\n",
    "from sklearn.metrics import mean_squared_error\n",
    "from sklearn.metrics import mean_absolute_percentage_error\n",
    "import scipy as sp\n",
    "\n",
    "tex_fonts = {\n",
    "    \"text.usetex\": True,\n",
    "    \"font.family\": \"serif\",\n",
    "    \"axes.labelsize\": 10,\n",
    "    \"font.size\": 10,\n",
    "    \"legend.fontsize\": 10,\n",
    "    \"xtick.labelsize\": 10,\n",
    "    \"ytick.labelsize\": 10\n",
    "    }\n",
    "plt.rcParams.update(tex_fonts)"
   ]
  },
  {
   "cell_type": "code",
   "execution_count": 142,
   "metadata": {},
   "outputs": [],
   "source": [
    "# read in data\n",
    "df_NO2 = pd.read_csv('../air_weather_data/NO2_all_stations_cleaned.csv')\n",
    "df_NO2['date'] = pd.to_datetime(df_NO2['date'], format = '%Y-%m-%d %H:%M') # change time column to pandas datetime\n",
    "df_NO2 = df_NO2.set_index('date') # date column as index\n",
    "\n",
    "df_weather = pd.read_csv('../air_weather_data/metdata.csv')\n",
    "df_weather['date'] = pd.to_datetime(df_weather['date'], format = '%Y-%m-%d %H:%M') # change time column to pandas datetime\n",
    "df_weather = df_weather.set_index('date') # date column as index"
   ]
  },
  {
   "cell_type": "code",
   "execution_count": 143,
   "metadata": {},
   "outputs": [],
   "source": [
    "# drop negative and zero values and interpolate (in order to log transform)\n",
    "df_NO2[df_NO2 <= 0] = np.NaN\n",
    "df_NO2.interpolate(inplace=True)"
   ]
  },
  {
   "cell_type": "code",
   "execution_count": 144,
   "metadata": {},
   "outputs": [],
   "source": [
    "# create lagged values\n",
    "for i in df_NO2.columns:\n",
    "    df_NO2[str(i) + ', lag1'] = df_NO2[i].shift(1)\n",
    "\n",
    "# additional lags for the target station\n",
    "lags = 2\n",
    "j = 2\n",
    "for i in range(lags-1):\n",
    "    df_NO2['NO$_2$, Stockholm Torkel Knutssonsgatan' + ', lag' + \\\n",
    "        str(j)] = df_NO2['NO$_2$, Stockholm Torkel Knutssonsgatan'].shift(j)\n",
    "    j += 1\n",
    "\n",
    "# add lag 24 (since found sign.)\n",
    "df_NO2['NO$_2$, Stockholm Torkel Knutssonsgatan, lag 24'] = df_NO2['NO$_2$, Stockholm Torkel Knutssonsgatan'].shift(24)\n",
    "\n",
    "# drop NaN values\n",
    "df_NO2.dropna(inplace=True)"
   ]
  },
  {
   "cell_type": "code",
   "execution_count": 196,
   "metadata": {},
   "outputs": [],
   "source": [
    "# split into train an test sets\n",
    "df_NO2_train = df_NO2['2017-01-01 00:00':'2020-01-01 00:00']\n",
    "df_NO2_test = df_NO2['2021-02-01':]\n",
    "\n",
    "df_weather_train = df_weather['2017-01-01 00:00':'2020-01-01 00:00']\n",
    "df_weather_test = df_weather['2021-02-01':]"
   ]
  },
  {
   "cell_type": "code",
   "execution_count": 197,
   "metadata": {},
   "outputs": [],
   "source": [
    "# index needed if normalizing below\n",
    "index_train = df_NO2_train.index \n",
    "index_test = df_NO2_test.index"
   ]
  },
  {
   "cell_type": "code",
   "execution_count": 198,
   "metadata": {},
   "outputs": [],
   "source": [
    "# log transform data\n",
    "df_NO2_train = np.log(df_NO2_train)"
   ]
  },
  {
   "cell_type": "code",
   "execution_count": 199,
   "metadata": {},
   "outputs": [],
   "source": [
    "# if only some stations are to be included, but include all lagged values at Torkel Knutssonsgatan\n",
    "stations = [i for i in df_NO2_train.columns if 'Torkel' in i and 'lag' in i] + \\\n",
    "           [\n",
    "            'NO$_2$, Stockholm Hornsgatan 108 , lag1',\n",
    "            'NO$_2$, Stockholm Sveavägen 59 , lag1',\n",
    "            'NO$_2$, Stockholm E4/E20 Lilla Essingen, lag1',\n",
    "            # 'NO$_2$, Norr Malma, lag1',\n",
    "            # 'NO$_2$, Stockholm Sveavägen 59 Tak, lag1',\n",
    "           ]"
   ]
  },
  {
   "cell_type": "code",
   "execution_count": 200,
   "metadata": {},
   "outputs": [],
   "source": [
    "# create y and X matrix\n",
    "y_train = df_NO2_train['NO$_2$, Stockholm Torkel Knutssonsgatan']\n",
    "X_train = df_NO2_train[stations]"
   ]
  },
  {
   "cell_type": "code",
   "execution_count": 201,
   "metadata": {},
   "outputs": [],
   "source": [
    "# # normalize data\n",
    "scaler1 = MinMaxScaler()\n",
    "scaler2 = MinMaxScaler()\n",
    "\n",
    "X_train = scaler1.fit_transform(X_train)\n",
    "X_train = pd.DataFrame(X_train, columns=stations)\n",
    "X_train.insert(0, 'date', index_train)\n",
    "X_train.set_index('date', inplace=True)\n",
    "\n",
    "y_train = scaler2.fit_transform(y_train.to_frame())\n",
    "y_train = pd.DataFrame(y_train, columns = ['NO$_2$, Torkel Knutssonsgatan'])\n",
    "y_train.insert(0, 'date', index_train)\n",
    "y_train.set_index('date', inplace=True)"
   ]
  },
  {
   "cell_type": "code",
   "execution_count": 202,
   "metadata": {},
   "outputs": [],
   "source": [
    "# np.exp(scaler2.inverse_transform((y_train)))"
   ]
  },
  {
   "cell_type": "code",
   "execution_count": 203,
   "metadata": {},
   "outputs": [],
   "source": [
    "X_train.insert(0, 'intercept', 1) # insert a 1"
   ]
  },
  {
   "cell_type": "code",
   "execution_count": 204,
   "metadata": {},
   "outputs": [],
   "source": [
    "# if temporal signals are to be included\n",
    "w = [0,2,4,5] # 0:temp, 1:atm, 2:RH, 3:precip, 4:solrad, 5:wind \n",
    "s = [6,7,8,9] # 6,7:day, 8,9:week, 10,11:year\n",
    "\n",
    "X_train = X_train.merge(df_weather_train.iloc[:,s], on='date')\n",
    "\n",
    "# if weather parameters are to be included\n",
    "df_weather_train = df_weather_train.iloc[:,w]\n",
    "df_weather_norm_train = (df_weather_train - df_weather_train.min())/(df_weather_train.max() - df_weather_train.min())\n",
    "X_train = X_train.merge(df_weather_norm_train, on='date')"
   ]
  },
  {
   "cell_type": "markdown",
   "metadata": {},
   "source": [
    "# OLS regression"
   ]
  },
  {
   "cell_type": "code",
   "execution_count": 205,
   "metadata": {},
   "outputs": [
    {
     "name": "stdout",
     "output_type": "stream",
     "text": [
      "                                  OLS Regression Results                                 \n",
      "=========================================================================================\n",
      "Dep. Variable:     NO$_2$, Torkel Knutssonsgatan   R-squared:                       0.858\n",
      "Model:                                       OLS   Adj. R-squared:                  0.858\n",
      "Method:                            Least Squares   F-statistic:                 1.136e+04\n",
      "Date:                           Thu, 18 Aug 2022   Prob (F-statistic):               0.00\n",
      "Time:                                   22:58:37   Log-Likelihood:                 39712.\n",
      "No. Observations:                          26281   AIC:                        -7.939e+04\n",
      "Df Residuals:                              26266   BIC:                        -7.927e+04\n",
      "Df Model:                                     14                                         \n",
      "Covariance Type:                       nonrobust                                         \n",
      "===================================================================================================================\n",
      "                                                      coef    std err          t      P>|t|      [0.025      0.975]\n",
      "-------------------------------------------------------------------------------------------------------------------\n",
      "intercept                                           0.1269      0.005     23.332      0.000       0.116       0.138\n",
      "NO$_2$, Stockholm Torkel Knutssonsgatan, lag1       0.9222      0.006    142.835      0.000       0.910       0.935\n",
      "NO$_2$, Stockholm Torkel Knutssonsgatan, lag2      -0.2021      0.006    -35.796      0.000      -0.213      -0.191\n",
      "NO$_2$, Stockholm Torkel Knutssonsgatan, lag 24     0.0512      0.003     18.420      0.000       0.046       0.057\n",
      "NO$_2$, Stockholm Hornsgatan 108 , lag1             0.0484      0.004     11.632      0.000       0.040       0.057\n",
      "NO$_2$, Stockholm Sveavägen 59 , lag1              -0.0414      0.004    -10.076      0.000      -0.049      -0.033\n",
      "NO$_2$, Stockholm E4/E20 Lilla Essingen, lag1       0.1133      0.005     23.308      0.000       0.104       0.123\n",
      "Sine day                                            0.0017      0.001      1.370      0.171      -0.001       0.004\n",
      "Cosine day                                         -0.0524      0.001    -37.946      0.000      -0.055      -0.050\n",
      "Sine week                                          -0.0105      0.001    -10.986      0.000      -0.012      -0.009\n",
      "Cosine week                                         0.0132      0.001     13.325      0.000       0.011       0.015\n",
      "Temperature                                        -0.0038      0.003     -1.501      0.133      -0.009       0.001\n",
      "Relative humidity                                  -0.0188      0.002     -8.710      0.000      -0.023      -0.015\n",
      "Solar radiation                                    -0.0864      0.003    -32.090      0.000      -0.092      -0.081\n",
      "Wind speed                                         -0.1473      0.004    -37.139      0.000      -0.155      -0.140\n",
      "==============================================================================\n",
      "Omnibus:                     1882.435   Durbin-Watson:                   1.939\n",
      "Prob(Omnibus):                  0.000   Jarque-Bera (JB):             6919.847\n",
      "Skew:                           0.298   Prob(JB):                         0.00\n",
      "Kurtosis:                       5.442   Cond. No.                         58.2\n",
      "==============================================================================\n",
      "\n",
      "Notes:\n",
      "[1] Standard Errors assume that the covariance matrix of the errors is correctly specified.\n"
     ]
    }
   ],
   "source": [
    "# fit OLS regression model\n",
    "lmod = sm.OLS(y_train, X_train).fit()\n",
    "print(lmod.summary())#.as_latex())"
   ]
  },
  {
   "cell_type": "code",
   "execution_count": 206,
   "metadata": {},
   "outputs": [
    {
     "data": {
      "image/png": "[encoded data removed]",
      "text/plain": [
       "<Figure size 396x270 with 4 Axes>"
      ]
     },
     "metadata": {
      "needs_background": "light"
     },
     "output_type": "display_data"
    }
   ],
   "source": [
    "# PM10\n",
    "fig, ((ax1, ax2), (ax3, ax4)) = plt.subplots(2, 2, constrained_layout = True, figsize = (5.5, 3.75))\n",
    "\n",
    "# QQ-plot of studentized residuals\n",
    "sm.qqplot(lmod.resid, line='q', ax=ax1, marker=\".\")\n",
    "ax1.annotate('(a)', xy=(0, 1.09), xycoords=\"axes fraction\")\n",
    "\n",
    "# fitted vs residuals\n",
    "ax2.scatter(lmod.fittedvalues, lmod.resid, marker=\".\")#, facecolors='none', edgecolors='#1f77b4')\n",
    "ax2.axhline(0, color='r')\n",
    "ax2.set_xlabel('Fitted value')\n",
    "ax2.set_ylabel('Residuals')\n",
    "ax2.annotate('(b)', xy=(0, 1.09), xycoords=\"axes fraction\")\n",
    "\n",
    "ax3.hist(lmod.resid, edgecolor='black', bins=20)\n",
    "ax3.set_xlabel('Residuals')\n",
    "ax3.set_ylabel('Frequency')\n",
    "ax3.annotate('(c)', xy=(0, 1.09), xycoords=\"axes fraction\")\n",
    "\n",
    "lmod.resid.plot(linestyle=\"\", marker='.', ax=ax4)\n",
    "ax4.set_xlabel('')\n",
    "ax4.set_ylabel('Residuals')\n",
    "ax4.annotate('(d)', xy=(0, 1.09), xycoords=\"axes fraction\")\n",
    "ax4.set_xticks([], minor=True)\n",
    "\n",
    "# plt.savefig('../plots/Residual_plots_MLR_NO2.pdf')"
   ]
  },
  {
   "cell_type": "code",
   "execution_count": 207,
   "metadata": {},
   "outputs": [
    {
     "data": {
      "text/plain": [
       "<matplotlib.collections.PathCollection at 0x1675e4640>"
      ]
     },
     "execution_count": 207,
     "metadata": {},
     "output_type": "execute_result"
    },
    {
     "data": {
      "image/png": "[encoded data removed]",
      "text/plain": [
       "<Figure size 432x288 with 1 Axes>"
      ]
     },
     "metadata": {
      "needs_background": "light"
     },
     "output_type": "display_data"
    }
   ],
   "source": [
    "plt.scatter(lmod.fittedvalues, np.sqrt(abs(lmod.resid)))"
   ]
  },
  {
   "cell_type": "code",
   "execution_count": 208,
   "metadata": {},
   "outputs": [
    {
     "data": {
      "text/html": [
       "<table class=\"simpletable\">\n",
       "<caption>OLS Regression Results</caption>\n",
       "<tr>\n",
       "  <th>Dep. Variable:</th>            <td>y</td>        <th>  R-squared:         </th>  <td>   0.000</td> \n",
       "</tr>\n",
       "<tr>\n",
       "  <th>Model:</th>                   <td>OLS</td>       <th>  Adj. R-squared:    </th>  <td>   0.000</td> \n",
       "</tr>\n",
       "<tr>\n",
       "  <th>Method:</th>             <td>Least Squares</td>  <th>  F-statistic:       </th>  <td>   1.260</td> \n",
       "</tr>\n",
       "<tr>\n",
       "  <th>Date:</th>             <td>Thu, 18 Aug 2022</td> <th>  Prob (F-statistic):</th>   <td> 0.262</td>  \n",
       "</tr>\n",
       "<tr>\n",
       "  <th>Time:</th>                 <td>22:58:41</td>     <th>  Log-Likelihood:    </th>  <td>  27430.</td> \n",
       "</tr>\n",
       "<tr>\n",
       "  <th>No. Observations:</th>      <td> 26281</td>      <th>  AIC:               </th> <td>-5.486e+04</td>\n",
       "</tr>\n",
       "<tr>\n",
       "  <th>Df Residuals:</th>          <td> 26279</td>      <th>  BIC:               </th> <td>-5.484e+04</td>\n",
       "</tr>\n",
       "<tr>\n",
       "  <th>Df Model:</th>              <td>     1</td>      <th>                     </th>      <td> </td>    \n",
       "</tr>\n",
       "<tr>\n",
       "  <th>Covariance Type:</th>      <td>nonrobust</td>    <th>                     </th>      <td> </td>    \n",
       "</tr>\n",
       "</table>\n",
       "<table class=\"simpletable\">\n",
       "<tr>\n",
       "      <td></td>         <th>coef</th>     <th>std err</th>      <th>t</th>      <th>P>|t|</th>  <th>[0.025</th>    <th>0.975]</th>  \n",
       "</tr>\n",
       "<tr>\n",
       "  <th>Intercept</th> <td>    0.1820</td> <td>    0.002</td> <td>   78.241</td> <td> 0.000</td> <td>    0.177</td> <td>    0.187</td>\n",
       "</tr>\n",
       "<tr>\n",
       "  <th>x</th>         <td>   -0.0045</td> <td>    0.004</td> <td>   -1.122</td> <td> 0.262</td> <td>   -0.012</td> <td>    0.003</td>\n",
       "</tr>\n",
       "</table>\n",
       "<table class=\"simpletable\">\n",
       "<tr>\n",
       "  <th>Omnibus:</th>       <td>1170.876</td> <th>  Durbin-Watson:     </th> <td>   1.731</td> \n",
       "</tr>\n",
       "<tr>\n",
       "  <th>Prob(Omnibus):</th>  <td> 0.000</td>  <th>  Jarque-Bera (JB):  </th> <td>1338.682</td> \n",
       "</tr>\n",
       "<tr>\n",
       "  <th>Skew:</th>           <td> 0.530</td>  <th>  Prob(JB):          </th> <td>2.04e-291</td>\n",
       "</tr>\n",
       "<tr>\n",
       "  <th>Kurtosis:</th>       <td> 3.315</td>  <th>  Cond. No.          </th> <td>    10.1</td> \n",
       "</tr>\n",
       "</table><br/><br/>Notes:<br/>[1] Standard Errors assume that the covariance matrix of the errors is correctly specified."
      ],
      "text/plain": [
       "<class 'statsmodels.iolib.summary.Summary'>\n",
       "\"\"\"\n",
       "                            OLS Regression Results                            \n",
       "==============================================================================\n",
       "Dep. Variable:                      y   R-squared:                       0.000\n",
       "Model:                            OLS   Adj. R-squared:                  0.000\n",
       "Method:                 Least Squares   F-statistic:                     1.260\n",
       "Date:                Thu, 18 Aug 2022   Prob (F-statistic):              0.262\n",
       "Time:                        22:58:41   Log-Likelihood:                 27430.\n",
       "No. Observations:               26281   AIC:                        -5.486e+04\n",
       "Df Residuals:                   26279   BIC:                        -5.484e+04\n",
       "Df Model:                           1                                         \n",
       "Covariance Type:            nonrobust                                         \n",
       "==============================================================================\n",
       "                 coef    std err          t      P>|t|      [0.025      0.975]\n",
       "------------------------------------------------------------------------------\n",
       "Intercept      0.1820      0.002     78.241      0.000       0.177       0.187\n",
       "x             -0.0045      0.004     -1.122      0.262      -0.012       0.003\n",
       "==============================================================================\n",
       "Omnibus:                     1170.876   Durbin-Watson:                   1.731\n",
       "Prob(Omnibus):                  0.000   Jarque-Bera (JB):             1338.682\n",
       "Skew:                           0.530   Prob(JB):                    2.04e-291\n",
       "Kurtosis:                       3.315   Cond. No.                         10.1\n",
       "==============================================================================\n",
       "\n",
       "Notes:\n",
       "[1] Standard Errors assume that the covariance matrix of the errors is correctly specified.\n",
       "\"\"\""
      ]
     },
     "execution_count": 208,
     "metadata": {},
     "output_type": "execute_result"
    }
   ],
   "source": [
    "ddf = pd.DataFrame({'x':lmod.fittedvalues, 'y':np.sqrt((abs(lmod.resid)))})\n",
    "dmod = smf.ols('y~x', ddf).fit()\n",
    "dmod.summary()"
   ]
  },
  {
   "cell_type": "code",
   "execution_count": 34,
   "metadata": {},
   "outputs": [],
   "source": [
    "# dfs for new predictions\n",
    "y_test = df_NO2_test['NO$_2$, Stockholm Torkel Knutssonsgatan'] \n",
    "X_test = df_NO2_test[stations]"
   ]
  },
  {
   "cell_type": "code",
   "execution_count": 35,
   "metadata": {},
   "outputs": [],
   "source": [
    "# log transform test data (but keep the target y in original scale)\n",
    "X_test = np.log(X_test) "
   ]
  },
  {
   "cell_type": "code",
   "execution_count": 36,
   "metadata": {},
   "outputs": [],
   "source": [
    "# normalize X and y \n",
    "X_test = scaler1.transform(X_test)\n",
    "X_test = pd.DataFrame(X_test, columns=stations)\n",
    "X_test.insert(0, 'date', index_test)\n",
    "X_test.set_index('date', inplace=True)"
   ]
  },
  {
   "cell_type": "code",
   "execution_count": 37,
   "metadata": {},
   "outputs": [],
   "source": [
    "X_test.insert(0, 'intercept', 1) # insert column of ones in test data"
   ]
  },
  {
   "cell_type": "code",
   "execution_count": 38,
   "metadata": {},
   "outputs": [],
   "source": [
    "# if temporal signals are to be included\n",
    "X_test = X_test.merge(df_weather_test.iloc[:,s], on='date')\n",
    "\n",
    "# if weather parameters are to be included\n",
    "df_weather_test = df_weather_test.iloc[:, w]\n",
    "df_weather_norm_test = (df_weather_test-df_weather_test.min())/(df_weather_test.max()-df_weather_test.min())\n",
    "X_test = X_test.merge(df_weather_norm_test, on='date')"
   ]
  },
  {
   "cell_type": "code",
   "execution_count": 39,
   "metadata": {},
   "outputs": [
    {
     "data": {
      "text/plain": [
       "True"
      ]
     },
     "execution_count": 39,
     "metadata": {},
     "output_type": "execute_result"
    }
   ],
   "source": [
    "# check if columns in train and test matrices are same\n",
    "(X_test.columns == X_train.columns).all()"
   ]
  },
  {
   "cell_type": "code",
   "execution_count": 40,
   "metadata": {},
   "outputs": [],
   "source": [
    "# if not normalized\n",
    "# y_pred_frame = np.exp(lmod.get_prediction(X_test).summary_frame()) # for confidence intervals\n",
    "# y_pred = np.exp(lmod.predict(X_test))\n",
    "\n",
    "# if normalized\n",
    "y_pred = pd.DataFrame(np.exp(scaler2.inverse_transform(lmod.predict(X_test).to_frame())), columns=['NO$_2$, predictions'])\n",
    "# y_pred = pd.DataFrame(scaler2.inverse_transform(lmod.predict(X_test).to_frame()), columns=['PM$_{10}$, predictions'])\n",
    "y_pred.insert(0, 'date', index_test)\n",
    "y_pred.set_index('date', inplace=True)"
   ]
  },
  {
   "cell_type": "code",
   "execution_count": 41,
   "metadata": {},
   "outputs": [
    {
     "name": "stdout",
     "output_type": "stream",
     "text": [
      "RMSE:\n",
      "3.531\n",
      "\n",
      "MAPE:\n",
      "21.276\n"
     ]
    }
   ],
   "source": [
    "# metrics\n",
    "print('RMSE:')\n",
    "# print(np.sqrt(mean_squared_error(y_pred_frame['mean'], y_test)).round(4))\n",
    "print(np.sqrt(mean_squared_error(y_pred, y_test)).round(3))\n",
    "\n",
    "print('\\nMAPE:')\n",
    "# print(mean_absolute_percentage_error(y_pred_frame['mean'], y_test).round(4))\n",
    "print(100*(mean_absolute_percentage_error(y_pred, y_test).round(5)))"
   ]
  },
  {
   "cell_type": "markdown",
   "metadata": {},
   "source": [
    "# Ridge regression"
   ]
  },
  {
   "cell_type": "code",
   "execution_count": 42,
   "metadata": {},
   "outputs": [],
   "source": [
    "# from itertools import chain\n",
    "# from sklearn import linear_model\n",
    "# from sklearn.model_selection import GridSearchCV\n",
    "\n",
    "# n_alphas = 250\n",
    "# alphas = np.logspace(-3, 5, n_alphas)\n",
    "# coefs = []\n",
    "# for a in alphas:\n",
    "#     ridge = linear_model.Ridge(alpha=a)\n",
    "#     ridge.fit(X_train, y_train)\n",
    "#     coefs.append(list(chain(*ridge.coef_)))\n",
    "#     # coefs.append(ridge.coef_)\n",
    "\n",
    "# # select value of alpha with cross-validation\n",
    "# pars = {'alpha':np.logspace(-3, 5, n_alphas)}\n",
    "# rr = GridSearchCV(linear_model.Ridge(), pars, scoring='r2', cv=10)\n",
    "# rr.fit(X_train, y_train)\n",
    "# bestalpha = rr.best_params_['alpha']\n",
    "\n",
    "\n",
    "# fig, ax = plt.subplots(figsize=(6, 6), tight_layout=True)\n",
    "# # ridge trace plot\n",
    "# ax = plt.gca()\n",
    "# ax.plot(alphas, coefs)\n",
    "# ax.set_xscale('log')\n",
    "# ax.set_xlim(ax.get_xlim()[::-1])\n",
    "# for i in range(len(X_train.columns)):\n",
    "#     ax.text(min(alphas)/3.25, coefs[0][i], X_train.columns[i], fontsize=8)\n",
    "# ax.axvline(bestalpha, color='k', linestyle='--', linewidth=1, alpha=.75)\n",
    "# ax.set_xlabel(r'$\\lambda$')\n",
    "# ax.set_ylabel('Coefficients')\n",
    "# plt.savefig('../plots/ridge_trace_plot_NO2.pdf')"
   ]
  },
  {
   "cell_type": "code",
   "execution_count": 43,
   "metadata": {},
   "outputs": [],
   "source": [
    "# # new predictions with ridge regression\n",
    "# rrbest = linear_model.Ridge(alpha=bestalpha, fit_intercept=True)\n",
    "# rrbest.fit(X_train, y_train)\n",
    "\n",
    "# print('RMSE:') \n",
    "# print(np.sqrt(mean_squared_error(np.exp(scaler2.inverse_transform(rrbest.predict(X_test))), y_test)).round(5))\n",
    "# # print(np.sqrt(mean_squared_error(scaler2.inverse_transform(rrbest.predict(X_test)), y_test)).round(5))\n",
    "\n",
    "# print('\\nMAPE:')\n",
    "# print(100*(mean_absolute_percentage_error(np.exp(scaler2.inverse_transform(rrbest.predict(X_test))), y_test).round(5)))\n",
    "# # print(100*(mean_absolute_percentage_error(scaler2.inverse_transform(rrbest.predict(X_test)), y_test).round(5)))"
   ]
  },
  {
   "cell_type": "markdown",
   "metadata": {},
   "source": [
    "# Robust regression"
   ]
  },
  {
   "cell_type": "code",
   "execution_count": 44,
   "metadata": {},
   "outputs": [
    {
     "name": "stdout",
     "output_type": "stream",
     "text": [
      "                          Robust linear Model Regression Results                         \n",
      "=========================================================================================\n",
      "Dep. Variable:     NO$_2$, Torkel Knutssonsgatan   No. Observations:                26305\n",
      "Model:                                       RLM   Df Residuals:                    26290\n",
      "Method:                                     IRLS   Df Model:                           14\n",
      "Norm:                                     HuberT                                         \n",
      "Scale Est.:                                  mad                                         \n",
      "Cov Type:                                     H1                                         \n",
      "Date:                           Thu, 18 Aug 2022                                         \n",
      "Time:                                   19:13:49                                         \n",
      "No. Iterations:                               23                                         \n",
      "===================================================================================================================\n",
      "                                                      coef    std err          z      P>|z|      [0.025      0.975]\n",
      "-------------------------------------------------------------------------------------------------------------------\n",
      "intercept                                           0.1364      0.005     27.468      0.000       0.127       0.146\n",
      "NO$_2$, Stockholm Torkel Knutssonsgatan, lag1       0.9505      0.006    164.374      0.000       0.939       0.962\n",
      "NO$_2$, Stockholm Torkel Knutssonsgatan, lag2      -0.2072      0.005    -40.886      0.000      -0.217      -0.197\n",
      "NO$_2$, Stockholm Torkel Knutssonsgatan, lag 24     0.0410      0.003     16.307      0.000       0.036       0.046\n",
      "NO$_2$, Stockholm Hornsgatan 108 , lag1             0.0319      0.003      9.541      0.000       0.025       0.039\n",
      "NO$_2$, Stockholm Sveavägen 59 , lag1              -0.0370      0.004    -10.272      0.000      -0.044      -0.030\n",
      "NO$_2$, Stockholm E4/E20 Lilla Essingen, lag1       0.1072      0.005     23.667      0.000       0.098       0.116\n",
      "Sine day                                           -0.0010      0.001     -0.936      0.349      -0.003       0.001\n",
      "Cosine day                                         -0.0518      0.001    -41.033      0.000      -0.054      -0.049\n",
      "Sine week                                          -0.0111      0.001    -12.765      0.000      -0.013      -0.009\n",
      "Cosine week                                         0.0132      0.001     14.608      0.000       0.011       0.015\n",
      "Temperature                                        -0.0099      0.002     -4.294      0.000      -0.014      -0.005\n",
      "Relative humidity                                  -0.0208      0.002     -9.731      0.000      -0.025      -0.017\n",
      "Solar radiation                                    -0.0864      0.002    -35.569      0.000      -0.091      -0.082\n",
      "Wind speed                                         -0.1183      0.003    -38.409      0.000      -0.124      -0.112\n",
      "===================================================================================================================\n",
      "\n",
      "If the model instance has been used for another fit with different fit parameters, then the fit options might not be the correct ones anymore .\n"
     ]
    }
   ],
   "source": [
    "rlmod = sm.RLM(y_train, X_train).fit()\n",
    "print(rlmod.summary())"
   ]
  },
  {
   "cell_type": "code",
   "execution_count": 45,
   "metadata": {},
   "outputs": [],
   "source": [
    "# print(np.sqrt(mean_squared_error(np.exp(scaler2.inverse_transform(rlmod.predict(X_test))), y_test)).round(5))\n",
    "y_pred_robust = pd.DataFrame(np.exp(scaler2.inverse_transform(rlmod.predict(X_test).to_frame())), columns = ['NO$_2$, predictions'])\n",
    "# y_pred_robust = pd.DataFrame(scaler2.inverse_transform(rlmod.predict(X_test).to_frame()), columns = ['PM$_{10}$, predictions'])\n",
    "y_pred_robust.insert(0, 'date', index_test)\n",
    "y_pred_robust.set_index('date', inplace=True)"
   ]
  },
  {
   "cell_type": "code",
   "execution_count": 46,
   "metadata": {},
   "outputs": [
    {
     "name": "stdout",
     "output_type": "stream",
     "text": [
      "RMSE:\n",
      "3.507\n",
      "\n",
      "MAPE:\n",
      "21.143\n"
     ]
    }
   ],
   "source": [
    "# metrics\n",
    "print('RMSE:')\n",
    "# print(np.sqrt(mean_squared_error(y_pred_frame['mean'], y_test)).round(4))\n",
    "print(np.sqrt(mean_squared_error(y_pred_robust, y_test)).round(3))\n",
    "\n",
    "print('\\nMAPE:')\n",
    "# print(mean_absolute_percentage_error(y_pred_frame['mean'], y_test).round(4))\n",
    "print(100*(mean_absolute_percentage_error(y_pred_robust, y_test).round(5)))"
   ]
  }
 ],
 "metadata": {
  "kernelspec": {
   "display_name": "Python 3.10.4 ('DL')",
   "language": "python",
   "name": "python3"
  },
  "language_info": {
   "codemirror_mode": {
    "name": "ipython",
    "version": 3
   },
   "file_extension": ".py",
   "mimetype": "text/x-python",
   "name": "python",
   "nbconvert_exporter": "python",
   "pygments_lexer": "ipython3",
   "version": "3.10.4"
  },
  "orig_nbformat": 4,
  "vscode": {
   "interpreter": {
    "hash": "2a0afe78b3ebe22049d3d74ba655a4a5f799767e6308d99c3f84aabb51861a5e"
   }
  }
 },
 "nbformat": 4,
 "nbformat_minor": 2
}
