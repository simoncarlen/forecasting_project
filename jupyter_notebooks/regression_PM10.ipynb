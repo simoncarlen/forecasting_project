{
 "cells": [
  {
   "cell_type": "code",
   "execution_count": 65,
   "metadata": {},
   "outputs": [],
   "source": [
    "import pandas as pd\n",
    "import numpy as np\n",
    "import matplotlib.pyplot as plt\n",
    "from sklearn.preprocessing import MinMaxScaler\n",
    "import statsmodels.api as sm\n",
    "import statsmodels.formula.api as smf\n",
    "from sklearn.metrics import mean_squared_error\n",
    "from sklearn.metrics import mean_absolute_percentage_error\n",
    "\n",
    "tex_fonts = {\n",
    "    \"text.usetex\": True,\n",
    "    \"font.family\": \"serif\",\n",
    "    \"axes.labelsize\": 10,\n",
    "    \"font.size\": 10,\n",
    "    \"legend.fontsize\": 10,\n",
    "    \"xtick.labelsize\": 10,\n",
    "    \"ytick.labelsize\": 10\n",
    "    }\n",
    "plt.rcParams.update(tex_fonts)"
   ]
  },
  {
   "cell_type": "code",
   "execution_count": 86,
   "metadata": {},
   "outputs": [],
   "source": [
    "# read in data\n",
    "df_PM10 = pd.read_csv('../air_weather_data/PM10_all_stations_cleaned.csv')\n",
    "df_PM10['date'] = pd.to_datetime(df_PM10['date'], format = '%Y-%m-%d %H:%M') # change time column to pandas datetime\n",
    "df_PM10 = df_PM10.set_index('date') # date column as index\n",
    "\n",
    "df_weather = pd.read_csv('../air_weather_data/metdata.csv')\n",
    "df_weather['date'] = pd.to_datetime(df_weather['date'], format = '%Y-%m-%d %H:%M') # change time column to pandas datetime\n",
    "df_weather = df_weather.set_index('date') # date column as index"
   ]
  },
  {
   "cell_type": "code",
   "execution_count": 87,
   "metadata": {},
   "outputs": [],
   "source": [
    "# drop negative and zero values and interpolate (in order to log transform)\n",
    "df_PM10[df_PM10 <= 0] = np.NaN\n",
    "df_PM10.interpolate(inplace=True)"
   ]
  },
  {
   "cell_type": "code",
   "execution_count": 88,
   "metadata": {},
   "outputs": [],
   "source": [
    "# create lagged values\n",
    "for i in df_PM10.columns:\n",
    "    df_PM10[str(i) + ', lag1'] = df_PM10[i].shift(1)\n",
    "\n",
    "# additional lags for the target station\n",
    "lags = 2\n",
    "j = 2\n",
    "for i in range(lags-1):\n",
    "    df_PM10['PM$_{10}$, Stockholm Torkel Knutssonsgatan' + ', lag' + \\\n",
    "        str(j)] = df_PM10['PM$_{10}$, Stockholm Torkel Knutssonsgatan'].shift(j)\n",
    "    j += 1\n",
    "\n",
    "# drop NaN values\n",
    "df_PM10.dropna(inplace=True)"
   ]
  },
  {
   "cell_type": "code",
   "execution_count": 89,
   "metadata": {},
   "outputs": [],
   "source": [
    "# split into train an test sets\n",
    "df_PM10_train = df_PM10['2016-01-01 00:00':'2019-01-01 00:00']\n",
    "df_PM10_test = df_PM10['2020-09-01':]\n",
    "\n",
    "df_weather_train = df_weather['2016-01-01 00:00':'2019-01-01 00:00']\n",
    "df_weather_test = df_weather['2020-09-01':]"
   ]
  },
  {
   "cell_type": "code",
   "execution_count": 90,
   "metadata": {},
   "outputs": [],
   "source": [
    "# log transform data\n",
    "df_PM10_train = np.log(df_PM10_train)"
   ]
  },
  {
   "cell_type": "code",
   "execution_count": 91,
   "metadata": {},
   "outputs": [],
   "source": [
    "# if only some stations are to be included\n",
    "            # include all lagged values at Torkel Knutssonsgatan\n",
    "stations = [i for i in df_PM10_train.columns if 'Torkel' in i and 'lag' in i] + \\\n",
    "           [\n",
    "            'PM$_{10}$, Stockholm Hornsgatan 108 , lag1',\n",
    "            'PM$_{10}$, Stockholm Sveavägen 59 , lag1',\n",
    "            'PM$_{10}$, Stockholm E4/E20 Lilla Essingen, lag1',\n",
    "            'PM$_{10}$, Norr Malma, lag1',\n",
    "            'PM$_{10}$, Sollentuna Ekmans Väg 11, lag1',\n",
    "           ]"
   ]
  },
  {
   "cell_type": "code",
   "execution_count": 92,
   "metadata": {},
   "outputs": [],
   "source": [
    "# create y and X matrix\n",
    "y_train = df_PM10_train['PM$_{10}$, Stockholm Torkel Knutssonsgatan']\n",
    "X_train = df_PM10_train[[i for i in df_PM10_train.columns if 'lag' in i]]\n",
    "# possibility to exclude some stations\n",
    "X_train = X_train[stations]\n",
    "X_train.insert(0, 'intercept', 1) # insert a 1"
   ]
  },
  {
   "cell_type": "code",
   "execution_count": 93,
   "metadata": {},
   "outputs": [],
   "source": [
    "n1, n2 = 6,8\n",
    "w = [0,1,2,3,4,5]\n",
    "\n",
    "# if temporal signals are to be included\n",
    "X_train = X_train.merge(df_weather_train.iloc[:,n1:n2], on='date')\n",
    "\n",
    "# if weather parameters are to be included\n",
    "df_weather_train = df_weather_train.iloc[:,w]\n",
    "df_weather_norm_train = (df_weather_train - df_weather_train.min())/(df_weather_train.max() - df_weather_train.min())\n",
    "X_train = X_train.merge(df_weather_norm_train, on='date')"
   ]
  },
  {
   "cell_type": "markdown",
   "metadata": {},
   "source": [
    "# OLS regression"
   ]
  },
  {
   "cell_type": "code",
   "execution_count": 94,
   "metadata": {},
   "outputs": [
    {
     "name": "stdout",
     "output_type": "stream",
     "text": [
      "                                        OLS Regression Results                                        \n",
      "======================================================================================================\n",
      "Dep. Variable:     PM$_{10}$, Stockholm Torkel Knutssonsgatan   R-squared:                       0.768\n",
      "Model:                                                    OLS   Adj. R-squared:                  0.768\n",
      "Method:                                         Least Squares   F-statistic:                     5807.\n",
      "Date:                                        Sun, 14 Aug 2022   Prob (F-statistic):               0.00\n",
      "Time:                                                21:13:32   Log-Likelihood:                -9735.4\n",
      "No. Observations:                                       26305   AIC:                         1.950e+04\n",
      "Df Residuals:                                           26289   BIC:                         1.963e+04\n",
      "Df Model:                                                  15                                         \n",
      "Covariance Type:                                    nonrobust                                         \n",
      "====================================================================================================================\n",
      "                                                       coef    std err          t      P>|t|      [0.025      0.975]\n",
      "--------------------------------------------------------------------------------------------------------------------\n",
      "intercept                                            0.1108      0.028      3.950      0.000       0.056       0.166\n",
      "PM$_{10}$, Stockholm Torkel Knutssonsgatan, lag1     0.5774      0.007     87.374      0.000       0.564       0.590\n",
      "PM$_{10}$, Stockholm Torkel Knutssonsgatan, lag2     0.0875      0.006     14.417      0.000       0.076       0.099\n",
      "PM$_{10}$, Stockholm Hornsgatan 108 , lag1           0.0501      0.005     10.589      0.000       0.041       0.059\n",
      "PM$_{10}$, Stockholm Sveavägen 59 , lag1             0.0371      0.004      8.371      0.000       0.028       0.046\n",
      "PM$_{10}$, Stockholm E4/E20 Lilla Essingen, lag1     0.0913      0.005     19.102      0.000       0.082       0.101\n",
      "PM$_{10}$, Norr Malma, lag1                          0.0916      0.004     21.290      0.000       0.083       0.100\n",
      "PM$_{10}$, Sollentuna Ekmans Väg 11, lag1            0.0301      0.004      8.541      0.000       0.023       0.037\n",
      "Sine day                                             0.0842      0.007     12.414      0.000       0.071       0.097\n",
      "Cosine day                                          -0.1089      0.008    -12.940      0.000      -0.125      -0.092\n",
      "Temperature                                          0.0121      0.016      0.737      0.461      -0.020       0.044\n",
      "Atmospheric pressure                                 0.0990      0.016      6.250      0.000       0.068       0.130\n",
      "Relative humidity                                   -0.1867      0.017    -10.948      0.000      -0.220      -0.153\n",
      "Precipitation                                       -0.3861      0.090     -4.267      0.000      -0.563      -0.209\n",
      "Solar radiation                                     -0.1740      0.017    -10.188      0.000      -0.207      -0.140\n",
      "Wind speed                                          -0.0670      0.020     -3.365      0.001      -0.106      -0.028\n",
      "==============================================================================\n",
      "Omnibus:                     8225.313   Durbin-Watson:                   1.968\n",
      "Prob(Omnibus):                  0.000   Jarque-Bera (JB):           139134.629\n",
      "Skew:                          -1.058   Prob(JB):                         0.00\n",
      "Kurtosis:                      14.066   Cond. No.                         288.\n",
      "==============================================================================\n",
      "\n",
      "Notes:\n",
      "[1] Standard Errors assume that the covariance matrix of the errors is correctly specified.\n"
     ]
    }
   ],
   "source": [
    "# fit OLS regression model\n",
    "lmod = sm.OLS(y_train, X_train).fit()\n",
    "print(lmod.summary())#.as_latex())"
   ]
  },
  {
   "cell_type": "code",
   "execution_count": 95,
   "metadata": {},
   "outputs": [
    {
     "data": {
      "text/plain": [
       "Text(0, 0.5, 'Residuals')"
      ]
     },
     "execution_count": 95,
     "metadata": {},
     "output_type": "execute_result"
    },
    {
     "data": {
      "image/png": "[encoded data removed]",
      "text/plain": [
       "<Figure size 360x216 with 4 Axes>"
      ]
     },
     "metadata": {
      "needs_background": "light"
     },
     "output_type": "display_data"
    }
   ],
   "source": [
    "# PM10\n",
    "fig, ((ax1, ax2), (ax3, ax4)) = plt.subplots(2, 2, constrained_layout = True, figsize = (5, 3))\n",
    "\n",
    "# QQ-plot of studentized residuals\n",
    "sm.qqplot(lmod.resid, line='q', ax=ax1, marker=\".\")\n",
    "# ax1.annotate('(a)', xy=(0, 1.09), xycoords=\"axes fraction\")\n",
    "\n",
    "# fitted vs residuals\n",
    "ax2.scatter(lmod.fittedvalues, lmod.resid, marker=\".\")#, facecolors='none', edgecolors='#1f77b4')\n",
    "ax2.axhline(0, color='r')\n",
    "ax2.set_xlabel('Fitted value')\n",
    "ax2.set_ylabel('Residuals')\n",
    "# ax2.annotate('(b)', xy=(0, 1.09), xycoords=\"axes fraction\")\n",
    "\n",
    "ax3.hist(lmod.resid, edgecolor='black')\n",
    "ax3.set_xlabel('Residuals')\n",
    "ax3.set_ylabel('Frequency')\n",
    "# ax3.annotate('(c)', xy=(0, 1.09), xycoords=\"axes fraction\")\n",
    "\n",
    "lmod.resid.plot(linestyle=\"\", marker='.', ax=ax4)\n",
    "ax4.set_xlabel('')\n",
    "ax4.set_ylabel('Residuals')\n",
    "# ax4.annotate('(d)', xy=(0, 1.09), xycoords=\"axes fraction\")\n",
    "\n",
    "# plt.savefig('../plots/Residual_plots_MLR_PM10.pdf')"
   ]
  },
  {
   "cell_type": "code",
   "execution_count": 96,
   "metadata": {},
   "outputs": [],
   "source": [
    "# make new predictions\n",
    "y_test = df_PM10_test['PM$_{10}$, Stockholm Torkel Knutssonsgatan'] # keep the target y in original scale\n",
    "X_test = df_PM10_test[[i for i in df_PM10_train.columns if 'lag' in i]] # only lagged values\n",
    "# X_test = np.log(X_test) # log transform test data\n",
    "# # possibility to exclude some stations\n",
    "X_test = X_test[stations]\n",
    "X_test.insert(0, 'intercept', 1) # insert column of ones in test data"
   ]
  },
  {
   "cell_type": "code",
   "execution_count": 97,
   "metadata": {},
   "outputs": [],
   "source": [
    "# if temporal signals are to be included\n",
    "X_test = X_test.merge(df_weather_test.iloc[:,n1:n2], on='date')\n",
    "\n",
    "# if weather parameters are to be included\n",
    "df_weather_test = df_weather_test.iloc[:, w]\n",
    "df_weather_norm_test = (df_weather_test-df_weather_test.min())/(df_weather_test.max()-df_weather_test.min())\n",
    "X_test = X_test.merge(df_weather_norm_test, on='date')"
   ]
  },
  {
   "cell_type": "code",
   "execution_count": 100,
   "metadata": {},
   "outputs": [
    {
     "data": {
      "text/plain": [
       "True"
      ]
     },
     "execution_count": 100,
     "metadata": {},
     "output_type": "execute_result"
    }
   ],
   "source": [
    "# check if columns in train and test matrices are same\n",
    "all(X_test.columns == X_train.columns)"
   ]
  },
  {
   "cell_type": "code",
   "execution_count": 101,
   "metadata": {},
   "outputs": [
    {
     "name": "stdout",
     "output_type": "stream",
     "text": [
      "RMSE:\n",
      "3.6499\n",
      "\n",
      "MAPE:\n",
      "0.2915\n"
     ]
    }
   ],
   "source": [
    "df_PM10_predictions = np.exp(lmod.get_prediction(X_test).summary_frame()) \n",
    "# df_PM10_predictions = lmod.get_prediction(df_PM10_test).summary_frame()\n",
    "\n",
    "# metrics\n",
    "print('RMSE:')\n",
    "print(np.sqrt(mean_squared_error(df_PM10_predictions['mean'], y_test)).round(4))\n",
    "print('\\nMAPE:')\n",
    "print(mean_absolute_percentage_error(df_PM10_predictions['mean'], y_test).round(4))"
   ]
  },
  {
   "cell_type": "markdown",
   "metadata": {},
   "source": [
    "# Ridge regression"
   ]
  },
  {
   "cell_type": "code",
   "execution_count": 118,
   "metadata": {},
   "outputs": [],
   "source": [
    "X_train_ridge = X_train.drop(columns='intercept', axis=1)\n",
    "y_train_ridge = y_train[:]\n",
    "X_test_ridge = X_test.drop(columns='intercept', axis=1)\n",
    "\n",
    "# X_train_ridge = np.exp(X_train.drop(columns='intercept', axis=1))\n",
    "# y_train_ridge = np.exp(y_train[:])\n",
    "# X_test_ridge = np.exp(X_test.drop(columns='intercept', axis=1))\n",
    "\n",
    "y_test_ridge = y_test[:]"
   ]
  },
  {
   "cell_type": "code",
   "execution_count": 119,
   "metadata": {},
   "outputs": [],
   "source": [
    "from sklearn.preprocessing import MinMaxScaler\n",
    "scaler1 = MinMaxScaler()\n",
    "scaler2 = MinMaxScaler()\n",
    "\n",
    "X_train_ridge_scaled = scaler1.fit_transform(X_train_ridge)\n",
    "y_train_ridge_scaled = scaler2.fit_transform(y_train_ridge.to_frame())\n",
    "X_test_ridge_scaled = scaler1.transform(X_test_ridge)"
   ]
  },
  {
   "cell_type": "code",
   "execution_count": 120,
   "metadata": {},
   "outputs": [
    {
     "data": {
      "text/plain": [
       "Text(0, 0.5, 'Coefficients')"
      ]
     },
     "execution_count": 120,
     "metadata": {},
     "output_type": "execute_result"
    },
    {
     "data": {
      "image/png": "[encoded data removed]",
      "text/plain": [
       "<Figure size 432x360 with 1 Axes>"
      ]
     },
     "metadata": {
      "needs_background": "light"
     },
     "output_type": "display_data"
    }
   ],
   "source": [
    "from itertools import chain\n",
    "from sklearn import linear_model\n",
    "from sklearn.model_selection import GridSearchCV\n",
    "\n",
    "n_alphas = 250\n",
    "alphas = np.logspace(-3, 5, n_alphas)\n",
    "coefs = []\n",
    "for a in alphas:\n",
    "    ridge = linear_model.Ridge(alpha=a)\n",
    "    ridge.fit(X_train_ridge_scaled, y_train_ridge_scaled)\n",
    "    coefs.append(list(chain(*ridge.coef_)))\n",
    "    # coefs.append(ridge.coef_)\n",
    "\n",
    "# select value of alpha with cross-validation\n",
    "pars = {'alpha':np.logspace(-3, 5, n_alphas)}\n",
    "rr = GridSearchCV(linear_model.Ridge(), pars, scoring='r2', cv=10)\n",
    "rr.fit(X_train_ridge_scaled, y_train_ridge_scaled)\n",
    "bestalpha = rr.best_params_['alpha']\n",
    "\n",
    "fig, ax = plt.subplots(figsize=(6, 5), tight_layout=True)\n",
    "# ridge trace plot\n",
    "ax = plt.gca()\n",
    "ax.plot(alphas, coefs)\n",
    "ax.set_xscale('log')\n",
    "ax.set_xlim(ax.get_xlim()[::-1])\n",
    "for i in range(len(X_train_ridge.columns)):\n",
    "    ax.text(min(alphas)/3.25, coefs[0][i], X_train_ridge.columns[i], fontsize=8)\n",
    "ax.axvline(bestalpha, color='k', linestyle='--', linewidth=1, alpha=.75)\n",
    "ax.set_xlabel(r'$\\lambda$')\n",
    "ax.set_ylabel('Coefficients')\n",
    "# plt.savefig('../plots/ridge_trace_plot.pdf')"
   ]
  },
  {
   "cell_type": "code",
   "execution_count": 122,
   "metadata": {},
   "outputs": [
    {
     "name": "stdout",
     "output_type": "stream",
     "text": [
      "RMSE:\n",
      "3.65239\n",
      "\n",
      "MAPE:\n",
      "0.29145\n"
     ]
    }
   ],
   "source": [
    "# new predictions with ridge regression\n",
    "rrbest = linear_model.Ridge(alpha=bestalpha, fit_intercept=True)\n",
    "rrbest.fit(X_train_ridge_scaled, y_train_ridge_scaled)\n",
    "\n",
    "print('RMSE:') \n",
    "print(np.sqrt(mean_squared_error(np.exp(scaler2.inverse_transform(rrbest.predict(X_test_ridge_scaled))), y_test_ridge)).round(5))\n",
    "# print(np.sqrt(mean_squared_error(scaler2.inverse_transform(rrbest.predict(X_test_ridge_scaled)), y_test_ridge)).round(5))\n",
    "\n",
    "print('\\nMAPE:')\n",
    "print(mean_absolute_percentage_error(np.exp(scaler2.inverse_transform(rrbest.predict(X_test_ridge_scaled))), y_test_ridge).round(5))\n",
    "# print(mean_absolute_percentage_error(scaler2.inverse_transform(rrbest.predict(X_test_ridge_scaled)), y_test_ridge).round(5))"
   ]
  }
 ],
 "metadata": {
  "kernelspec": {
   "display_name": "Python 3.10.4 ('DL')",
   "language": "python",
   "name": "python3"
  },
  "language_info": {
   "codemirror_mode": {
    "name": "ipython",
    "version": 3
   },
   "file_extension": ".py",
   "mimetype": "text/x-python",
   "name": "python",
   "nbconvert_exporter": "python",
   "pygments_lexer": "ipython3",
   "version": "3.10.4"
  },
  "orig_nbformat": 4,
  "vscode": {
   "interpreter": {
    "hash": "2a0afe78b3ebe22049d3d74ba655a4a5f799767e6308d99c3f84aabb51861a5e"
   }
  }
 },
 "nbformat": 4,
 "nbformat_minor": 2
}
