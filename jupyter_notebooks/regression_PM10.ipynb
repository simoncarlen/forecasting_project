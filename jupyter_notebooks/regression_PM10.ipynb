{
 "cells": [
  {
   "cell_type": "code",
   "execution_count": 1,
   "metadata": {},
   "outputs": [],
   "source": [
    "import pandas as pd\n",
    "import numpy as np\n",
    "import matplotlib.pyplot as plt\n",
    "from sklearn.preprocessing import MinMaxScaler\n",
    "import statsmodels.api as sm\n",
    "import statsmodels.formula.api as smf\n",
    "from sklearn.metrics import mean_squared_error\n",
    "from sklearn.metrics import mean_absolute_percentage_error\n",
    "\n",
    "tex_fonts = {\n",
    "    \"text.usetex\": True,\n",
    "    \"font.family\": \"serif\",\n",
    "    \"axes.labelsize\": 10,\n",
    "    \"font.size\": 10,\n",
    "    \"legend.fontsize\": 10,\n",
    "    \"xtick.labelsize\": 10,\n",
    "    \"ytick.labelsize\": 10\n",
    "    }\n",
    "plt.rcParams.update(tex_fonts)"
   ]
  },
  {
   "cell_type": "code",
   "execution_count": 2,
   "metadata": {},
   "outputs": [],
   "source": [
    "# read in data\n",
    "df_PM10 = pd.read_csv('../air_weather_data/PM10_all_stations_cleaned.csv')\n",
    "df_PM10['date'] = pd.to_datetime(df_PM10['date'], format = '%Y-%m-%d %H:%M') # change time column to pandas datetime\n",
    "df_PM10 = df_PM10.set_index('date') # date column as index\n",
    "\n",
    "df_weather = pd.read_csv('../air_weather_data/metdata.csv')\n",
    "df_weather['date'] = pd.to_datetime(df_weather['date'], format = '%Y-%m-%d %H:%M') # change time column to pandas datetime\n",
    "df_weather = df_weather.set_index('date') # date column as index"
   ]
  },
  {
   "cell_type": "code",
   "execution_count": 3,
   "metadata": {},
   "outputs": [],
   "source": [
    "# drop negative and zero values and interpolate (in order to log transform)\n",
    "df_PM10[df_PM10 <= 0] = np.NaN\n",
    "df_PM10.interpolate(inplace=True)"
   ]
  },
  {
   "cell_type": "code",
   "execution_count": 4,
   "metadata": {},
   "outputs": [],
   "source": [
    "# np.sum(df_PM10 <=0); # <-- testing if code above worked"
   ]
  },
  {
   "cell_type": "code",
   "execution_count": 5,
   "metadata": {},
   "outputs": [],
   "source": [
    "# create lagged values\n",
    "for i in df_PM10.columns:\n",
    "    df_PM10[str(i) + ', lag1'] = df_PM10[i].shift(1)\n",
    "\n",
    "# create lag2 for target station, also drop the NaN values\n",
    "df_PM10['PM$_{10}$, Stockholm Torkel Knutssonsgatan, lag2'] = +\\\n",
    "    df_PM10['PM$_{10}$, Stockholm Torkel Knutssonsgatan'].shift(2)\n",
    "df_PM10.dropna(inplace=True)"
   ]
  },
  {
   "cell_type": "code",
   "execution_count": 6,
   "metadata": {},
   "outputs": [],
   "source": [
    "# split into train an test sets\n",
    "df_PM10_train = df_PM10['2016-01-01':'2019-01-01']\n",
    "df_PM10_test = df_PM10['2020-09-01':]"
   ]
  },
  {
   "cell_type": "code",
   "execution_count": 7,
   "metadata": {},
   "outputs": [],
   "source": [
    "# log transform data\n",
    "df_PM10_train = np.log(df_PM10_train)"
   ]
  },
  {
   "cell_type": "code",
   "execution_count": 8,
   "metadata": {},
   "outputs": [],
   "source": [
    "# if only some stations are to be included\n",
    "stations = [\n",
    "            'PM$_{10}$, Stockholm Torkel Knutssonsgatan, lag1',\n",
    "            'PM$_{10}$, Stockholm Torkel Knutssonsgatan, lag2',\n",
    "            'PM$_{10}$, Stockholm Hornsgatan 108 , lag1',\n",
    "            # 'PM$_{10}$, Stockholm Sveavägen 59 , lag1',\n",
    "            'PM$_{10}$, Stockholm E4/E20 Lilla Essingen, lag1',\n",
    "            'PM$_{10}$, Norr Malma, lag1',\n",
    "            'PM$_{10}$, Sollentuna Ekmans Väg 11, lag1',\n",
    "            ]"
   ]
  },
  {
   "cell_type": "code",
   "execution_count": 9,
   "metadata": {},
   "outputs": [],
   "source": [
    "# create y and X matrix\n",
    "y_train = df_PM10_train['PM$_{10}$, Stockholm Torkel Knutssonsgatan']\n",
    "X_train = df_PM10_train[[i for i in df_PM10_train.columns if i[-4:-1] == 'lag']]\n",
    "# possibility to exclude some stations\n",
    "X_train = X_train[stations]\n",
    "X_train.insert(0, 'intercept', 1) # insert a 1"
   ]
  },
  {
   "cell_type": "code",
   "execution_count": 10,
   "metadata": {},
   "outputs": [],
   "source": [
    "# if temporal signals are to be included\n",
    "X_train = X_train.merge(df_weather.iloc[:,6:8], on='date')\n",
    "\n",
    "# if weather parameters are to be included\n",
    "# X_train = X_train.merge(np.log(df_weather[['Relative humidity', 'Atmospheric pressure']]), on='date')"
   ]
  },
  {
   "cell_type": "code",
   "execution_count": 18,
   "metadata": {},
   "outputs": [
    {
     "name": "stdout",
     "output_type": "stream",
     "text": [
      "                                        OLS Regression Results                                        \n",
      "======================================================================================================\n",
      "Dep. Variable:     PM$_{10}$, Stockholm Torkel Knutssonsgatan   R-squared:                       0.765\n",
      "Model:                                                    OLS   Adj. R-squared:                  0.765\n",
      "Method:                                         Least Squares   F-statistic:                 1.073e+04\n",
      "Date:                                        Sun, 14 Aug 2022   Prob (F-statistic):               0.00\n",
      "Time:                                                01:54:24   Log-Likelihood:                -9929.0\n",
      "No. Observations:                                       26328   AIC:                         1.988e+04\n",
      "Df Residuals:                                           26319   BIC:                         1.995e+04\n",
      "Df Model:                                                   8                                         \n",
      "Covariance Type:                                    nonrobust                                         \n",
      "====================================================================================================================\n",
      "                                                       coef    std err          t      P>|t|      [0.025      0.975]\n",
      "--------------------------------------------------------------------------------------------------------------------\n",
      "intercept                                           -0.0620      0.011     -5.888      0.000      -0.083      -0.041\n",
      "PM$_{10}$, Stockholm Torkel Knutssonsgatan, lag1     0.5840      0.007     88.783      0.000       0.571       0.597\n",
      "PM$_{10}$, Stockholm Torkel Knutssonsgatan, lag2     0.0895      0.006     14.683      0.000       0.078       0.101\n",
      "PM$_{10}$, Stockholm Hornsgatan 108 , lag1           0.0725      0.004     16.670      0.000       0.064       0.081\n",
      "PM$_{10}$, Stockholm E4/E20 Lilla Essingen, lag1     0.1117      0.005     24.789      0.000       0.103       0.121\n",
      "PM$_{10}$, Norr Malma, lag1                          0.0892      0.004     21.909      0.000       0.081       0.097\n",
      "PM$_{10}$, Sollentuna Ekmans Väg 11, lag1            0.0354      0.004     10.085      0.000       0.028       0.042\n",
      "Sine day                                             0.0403      0.003     12.230      0.000       0.034       0.047\n",
      "Cosine day                                          -0.0250      0.003     -7.742      0.000      -0.031      -0.019\n",
      "==============================================================================\n",
      "Omnibus:                     8158.025   Durbin-Watson:                   1.964\n",
      "Prob(Omnibus):                  0.000   Jarque-Bera (JB):           135118.531\n",
      "Skew:                          -1.051   Prob(JB):                         0.00\n",
      "Kurtosis:                      13.897   Cond. No.                         31.6\n",
      "==============================================================================\n",
      "\n",
      "Notes:\n",
      "[1] Standard Errors assume that the covariance matrix of the errors is correctly specified.\n"
     ]
    }
   ],
   "source": [
    "# fit OLS regression model\n",
    "lmod = sm.OLS(y_train, X_train).fit()\n",
    "print(lmod.summary())#.as_latex())"
   ]
  },
  {
   "cell_type": "code",
   "execution_count": 20,
   "metadata": {},
   "outputs": [
    {
     "data": {
      "image/png": "[encoded data removed]",
      "text/plain": [
       "<Figure size 360x216 with 4 Axes>"
      ]
     },
     "metadata": {
      "needs_background": "light"
     },
     "output_type": "display_data"
    }
   ],
   "source": [
    "# PM10\n",
    "fig, ((ax1, ax2), (ax3, ax4)) = plt.subplots(2, 2, constrained_layout = True, figsize = (5, 3))\n",
    "\n",
    "# QQ-plot of studentized residuals\n",
    "sm.qqplot(lmod.resid, line='q', ax=ax1, marker=\".\")\n",
    "ax1.annotate('(a)', xy=(0, 1.09), xycoords=\"axes fraction\")\n",
    "\n",
    "# fitted vs residuals\n",
    "ax2.scatter(lmod.fittedvalues, lmod.resid, marker=\".\")#, facecolors='none', edgecolors='#1f77b4')\n",
    "ax2.axhline(0, color='r')\n",
    "ax2.set_xlabel('Fitted value')\n",
    "ax2.set_ylabel('Residuals')\n",
    "ax2.annotate('(b)', xy=(0, 1.09), xycoords=\"axes fraction\")\n",
    "\n",
    "\n",
    "ax3.hist(lmod.resid, edgecolor='black')\n",
    "ax3.set_xlabel('Residuals')\n",
    "ax3.set_ylabel('Frequency')\n",
    "ax3.annotate('(c)', xy=(0, 1.09), xycoords=\"axes fraction\")\n",
    "\n",
    "lmod.resid.plot(linestyle=\"\", marker='.', ax=ax4)\n",
    "ax4.set_xlabel('')\n",
    "ax4.set_ylabel('Residuals')\n",
    "ax4.annotate('(d)', xy=(0, 1.09), xycoords=\"axes fraction\")\n",
    "\n",
    "plt.savefig('../plots/Residual_plots_MLR_PM10.pdf')"
   ]
  },
  {
   "cell_type": "code",
   "execution_count": 13,
   "metadata": {},
   "outputs": [],
   "source": [
    "# make new predictions\n",
    "y_test = df_PM10_test['PM$_{10}$, Stockholm Torkel Knutssonsgatan'] # keep the target y in original scale\n",
    "df_PM10_test = df_PM10_test.drop([i for i in df_PM10_test.columns if i[-4:-1] != 'lag'],axis=1) # only lagged values\n",
    "df_PM10_test = np.log(df_PM10_test) # log transform test data\n",
    "# possibility to exclude some stations\n",
    "df_PM10_test = df_PM10_test[stations]\n",
    "df_PM10_test.insert(0, 'intercept', 1) # insert column of ones in test data"
   ]
  },
  {
   "cell_type": "code",
   "execution_count": 14,
   "metadata": {},
   "outputs": [],
   "source": [
    "# if temporal signals are to be included\n",
    "df_PM10_test = df_PM10_test.merge(df_weather.iloc[:,6:8], on='date')\n",
    "\n",
    "# if weather parameters are to be included\n",
    "# df_PM10_test = df_PM10_test.merge(np.log(df_weather[['Relative humidity', 'Atmospheric pressure']]), on='date')"
   ]
  },
  {
   "cell_type": "code",
   "execution_count": 15,
   "metadata": {},
   "outputs": [
    {
     "data": {
      "text/plain": [
       "True"
      ]
     },
     "execution_count": 15,
     "metadata": {},
     "output_type": "execute_result"
    }
   ],
   "source": [
    "# check if columns in train and test matrices are same\n",
    "all(df_PM10_test.columns == X_train.columns)"
   ]
  },
  {
   "cell_type": "code",
   "execution_count": 16,
   "metadata": {},
   "outputs": [
    {
     "name": "stdout",
     "output_type": "stream",
     "text": [
      "RMSE\n",
      "------------\n",
      "PM10,  3.692\n",
      "\n",
      "MAPE:\n",
      "------------\n",
      "PM10,  0.306\n"
     ]
    }
   ],
   "source": [
    "df_PM10_predictions = np.exp(lmod.get_prediction(df_PM10_test).summary_frame()) \n",
    "# df_PM10_predictions = lmod.get_prediction(df_PM10_test).summary_frame()\n",
    "\n",
    "# print metrics\n",
    "print('RMSE\\n------------')\n",
    "print('PM10, ', np.sqrt(mean_squared_error(df_PM10_predictions['mean'], y_test)).round(3))\n",
    "print('\\nMAPE:\\n------------')\n",
    "print('PM10, ', mean_absolute_percentage_error(df_PM10_predictions['mean'], y_test).round(3))"
   ]
  }
 ],
 "metadata": {
  "kernelspec": {
   "display_name": "Python 3.10.4 ('DL')",
   "language": "python",
   "name": "python3"
  },
  "language_info": {
   "codemirror_mode": {
    "name": "ipython",
    "version": 3
   },
   "file_extension": ".py",
   "mimetype": "text/x-python",
   "name": "python",
   "nbconvert_exporter": "python",
   "pygments_lexer": "ipython3",
   "version": "3.10.4"
  },
  "orig_nbformat": 4,
  "vscode": {
   "interpreter": {
    "hash": "2a0afe78b3ebe22049d3d74ba655a4a5f799767e6308d99c3f84aabb51861a5e"
   }
  }
 },
 "nbformat": 4,
 "nbformat_minor": 2
}
