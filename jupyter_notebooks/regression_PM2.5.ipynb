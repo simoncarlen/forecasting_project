{
 "cells": [
  {
   "cell_type": "code",
   "execution_count": 1,
   "metadata": {},
   "outputs": [],
   "source": [
    "import pandas as pd\n",
    "import numpy as np\n",
    "import matplotlib.pyplot as plt\n",
    "from sklearn.preprocessing import MinMaxScaler\n",
    "import statsmodels.api as sm\n",
    "import statsmodels.formula.api as smf\n",
    "from sklearn.metrics import mean_squared_error\n",
    "from sklearn.metrics import mean_absolute_percentage_error\n",
    "\n",
    "tex_fonts = {\n",
    "    \"text.usetex\": True,\n",
    "    \"font.family\": \"serif\",\n",
    "    \"axes.labelsize\": 10,\n",
    "    \"font.size\": 10,\n",
    "    \"legend.fontsize\": 10,\n",
    "    \"xtick.labelsize\": 10,\n",
    "    \"ytick.labelsize\": 10\n",
    "    }\n",
    "plt.rcParams.update(tex_fonts)"
   ]
  },
  {
   "cell_type": "code",
   "execution_count": 2,
   "metadata": {},
   "outputs": [],
   "source": [
    "# read in data\n",
    "df = pd.read_csv('../air_weather_data/PM2.5_all_stations_cleaned.csv')\n",
    "df['date'] = pd.to_datetime(df['date'], format = '%Y-%m-%d %H:%M') # change time column to pandas datetime\n",
    "df = df.set_index('date') # date column as index\n",
    "\n",
    "df_weather = pd.read_csv('../air_weather_data/metdata.csv')\n",
    "df_weather['date'] = pd.to_datetime(df_weather['date'], format = '%Y-%m-%d %H:%M') # change time column to pandas datetime\n",
    "df_weather = df_weather.set_index('date') # date column as index"
   ]
  },
  {
   "cell_type": "code",
   "execution_count": 3,
   "metadata": {},
   "outputs": [],
   "source": [
    "# drop negative and zero values and interpolate (in order to log transform)\n",
    "df[df <= 0] = np.NaN\n",
    "df.interpolate(inplace=True)"
   ]
  },
  {
   "cell_type": "code",
   "execution_count": 4,
   "metadata": {},
   "outputs": [],
   "source": [
    "# create lagged values\n",
    "for i in df.columns:\n",
    "    df[str(i) + ', lag1'] = df[i].shift(1)\n",
    "\n",
    "# additional lags for the target station\n",
    "lags = 1\n",
    "j = 2\n",
    "for i in range(lags-1):\n",
    "    df['PM$_{2.5}$, Stockholm Torkel Knutssonsgatan' + ', lag' + \\\n",
    "        str(j)] = df['PM$_{2.5}$, Stockholm Torkel Knutssonsgatan'].shift(j)\n",
    "    j += 1\n",
    "# df['NO$_x$, Stockholm Torkel Knutssonsgatan, lag 23'] = df['NO$_x$, Stockholm Torkel Knutssonsgatan'].shift(23)\n",
    "\n",
    "# drop NaN values\n",
    "df.dropna(inplace=True)"
   ]
  },
  {
   "cell_type": "code",
   "execution_count": 30,
   "metadata": {},
   "outputs": [],
   "source": [
    "# split into train an test sets\n",
    "df_train = df['2016-01-01 00:00':'2020-01-01 00:00']\n",
    "df_test = df['2021-01-01':]\n",
    "\n",
    "df_weather_train = df_weather['2016-01-01 00:00:00':'2020-01-01 00:00']\n",
    "df_weather_test = df_weather['2021-01-01':]"
   ]
  },
  {
   "cell_type": "code",
   "execution_count": 31,
   "metadata": {},
   "outputs": [],
   "source": [
    "# index needed if normalizing below\n",
    "index_train = df_train.index \n",
    "index_test = df_test.index"
   ]
  },
  {
   "cell_type": "code",
   "execution_count": 32,
   "metadata": {},
   "outputs": [],
   "source": [
    "# log transform data\n",
    "df_train = np.log(df_train)"
   ]
  },
  {
   "cell_type": "code",
   "execution_count": 33,
   "metadata": {},
   "outputs": [],
   "source": [
    "# if only some stations are to be included, but include all lagged values at Torkel Knutssonsgatan\n",
    "# HAS TO BE CHANGED MANUALLY TO THE RELEVANT STATIONS\n",
    "stations = [i for i in df_train.columns if 'Torkel' in i and 'lag' in i] + \\\n",
    "           [\n",
    "            # 'PM$_{2.5}$, Sollentuna Ekmans Väg 11, lag1',\n",
    "            # 'PM$_{2.5}$, Stockholm Hornsgatan 108 , lag1',\n",
    "            # 'PM$_{2.5}$, Sollentuna E4 Häggvik, lag1',\n",
    "            # 'PM$_{2.5}$, Norr Malma, lag1',\n",
    "           ]"
   ]
  },
  {
   "cell_type": "code",
   "execution_count": 34,
   "metadata": {},
   "outputs": [],
   "source": [
    "# create y and X matrix\n",
    "y_train = df_train['PM$_{2.5}$, Stockholm Torkel Knutssonsgatan']\n",
    "X_train = df_train[stations]"
   ]
  },
  {
   "cell_type": "code",
   "execution_count": 35,
   "metadata": {},
   "outputs": [],
   "source": [
    "# # normalize data\n",
    "scaler1 = MinMaxScaler()\n",
    "scaler2 = MinMaxScaler()\n",
    "\n",
    "X_train = scaler1.fit_transform(X_train)\n",
    "X_train = pd.DataFrame(X_train, columns=stations)\n",
    "X_train.insert(0, 'date', index_train)\n",
    "X_train.set_index('date', inplace=True)\n",
    "\n",
    "y_train = scaler2.fit_transform(y_train.to_frame())\n",
    "y_train = pd.DataFrame(y_train, columns = ['PM$_{2.5}$, Torkel Knutssonsgatan'])\n",
    "y_train.insert(0, 'date', index_train)\n",
    "y_train.set_index('date', inplace=True)"
   ]
  },
  {
   "cell_type": "code",
   "execution_count": 36,
   "metadata": {},
   "outputs": [],
   "source": [
    "X_train.insert(0, 'intercept', 1) # insert a 1"
   ]
  },
  {
   "cell_type": "code",
   "execution_count": 37,
   "metadata": {},
   "outputs": [],
   "source": [
    "# if temporal signals are to be included\n",
    "s = [6,7,8,9,10,11] # 6,7:day, 8,9:week, 10,11:year\n",
    "w = [0,1,2,3,4,5] # 0:temp, 1:atm, 2:RH, 3:precip, 4:solrad, 5:wind \n",
    "\n",
    "X_train = X_train.merge(df_weather_train.iloc[:,s], on='date')\n",
    "\n",
    "# if weather parameters are to be included\n",
    "df_weather_train = df_weather_train.iloc[:,w]\n",
    "df_weather_norm_train = (df_weather_train - df_weather_train.min())/(df_weather_train.max() - df_weather_train.min())\n",
    "X_train = X_train.merge(df_weather_norm_train, on='date')"
   ]
  },
  {
   "cell_type": "code",
   "execution_count": 38,
   "metadata": {},
   "outputs": [
    {
     "data": {
      "text/plain": [
       "((35065, 14), (35065, 1))"
      ]
     },
     "execution_count": 38,
     "metadata": {},
     "output_type": "execute_result"
    }
   ],
   "source": [
    "X_train.shape, y_train.shape"
   ]
  },
  {
   "cell_type": "markdown",
   "metadata": {},
   "source": [
    "# OLS regression"
   ]
  },
  {
   "cell_type": "code",
   "execution_count": 39,
   "metadata": {},
   "outputs": [
    {
     "name": "stdout",
     "output_type": "stream",
     "text": [
      "                                    OLS Regression Results                                   \n",
      "=============================================================================================\n",
      "Dep. Variable:     PM$_{2.5}$, Torkel Knutssonsgatan   R-squared:                       0.930\n",
      "Model:                                           OLS   Adj. R-squared:                  0.930\n",
      "Method:                                Least Squares   F-statistic:                 3.596e+04\n",
      "Date:                               Thu, 18 Aug 2022   Prob (F-statistic):               0.00\n",
      "Time:                                       17:44:57   Log-Likelihood:                 72529.\n",
      "No. Observations:                              35065   AIC:                        -1.450e+05\n",
      "Df Residuals:                                  35051   BIC:                        -1.449e+05\n",
      "Df Model:                                         13                                         \n",
      "Covariance Type:                           nonrobust                                         \n",
      "=====================================================================================================================\n",
      "                                                        coef    std err          t      P>|t|      [0.025      0.975]\n",
      "---------------------------------------------------------------------------------------------------------------------\n",
      "intercept                                             0.0204      0.002      8.263      0.000       0.016       0.025\n",
      "PM$_{2.5}$, Stockholm Torkel Knutssonsgatan, lag1     0.9442      0.002    581.744      0.000       0.941       0.947\n",
      "Sine day                                             -0.0069      0.001    -13.452      0.000      -0.008      -0.006\n",
      "Cosine day                                           -0.0117      0.001    -18.683      0.000      -0.013      -0.010\n",
      "Sine week                                             0.0001      0.000      0.217      0.829      -0.001       0.001\n",
      "Cosine week                                           0.0006      0.000      1.207      0.227      -0.000       0.001\n",
      "Sine year                                             0.0074      0.001     11.662      0.000       0.006       0.009\n",
      "Cosine year                                           0.0026      0.001      2.596      0.009       0.001       0.005\n",
      "Temperature                                           0.0256      0.002     10.891      0.000       0.021       0.030\n",
      "Atmospheric pressure                                  0.0133      0.001     10.933      0.000       0.011       0.016\n",
      "Relative humidity                                     0.0077      0.001      5.952      0.000       0.005       0.010\n",
      "Precipitation                                        -0.0959      0.007    -14.121      0.000      -0.109      -0.083\n",
      "Solar radiation                                      -0.0266      0.001    -20.306      0.000      -0.029      -0.024\n",
      "Wind speed                                           -0.0331      0.002    -18.921      0.000      -0.037      -0.030\n",
      "==============================================================================\n",
      "Omnibus:                     7149.857   Durbin-Watson:                   1.616\n",
      "Prob(Omnibus):                  0.000   Jarque-Bera (JB):           176621.575\n",
      "Skew:                          -0.366   Prob(JB):                         0.00\n",
      "Kurtosis:                      13.970   Cond. No.                         83.2\n",
      "==============================================================================\n",
      "\n",
      "Notes:\n",
      "[1] Standard Errors assume that the covariance matrix of the errors is correctly specified.\n"
     ]
    }
   ],
   "source": [
    "# fit OLS regression model\n",
    "lmod = sm.OLS(y_train, X_train).fit()\n",
    "print(lmod.summary())#.as_latex())"
   ]
  },
  {
   "cell_type": "code",
   "execution_count": 40,
   "metadata": {},
   "outputs": [
    {
     "data": {
      "text/plain": [
       "Text(0, 1.09, '(d)')"
      ]
     },
     "execution_count": 40,
     "metadata": {},
     "output_type": "execute_result"
    },
    {
     "data": {
      "image/png": "[encoded data removed]",
      "text/plain": [
       "<Figure size 396x270 with 4 Axes>"
      ]
     },
     "metadata": {
      "needs_background": "light"
     },
     "output_type": "display_data"
    }
   ],
   "source": [
    "# PM10\n",
    "fig, ((ax1, ax2), (ax3, ax4)) = plt.subplots(2, 2, constrained_layout = True, figsize = (5.5, 3.75))\n",
    "\n",
    "# QQ-plot of studentized residuals\n",
    "sm.qqplot(lmod.resid, line='q', ax=ax1, marker=\".\")\n",
    "ax1.annotate('(a)', xy=(0, 1.09), xycoords=\"axes fraction\")\n",
    "\n",
    "# fitted vs residuals\n",
    "ax2.scatter(lmod.fittedvalues, lmod.resid, marker=\".\")#, facecolors='none', edgecolors='#1f77b4')\n",
    "ax2.axhline(0, color='r')\n",
    "ax2.set_xlabel('Fitted value')\n",
    "ax2.set_ylabel('Residuals')\n",
    "ax2.annotate('(b)', xy=(0, 1.09), xycoords=\"axes fraction\")\n",
    "\n",
    "ax3.hist(lmod.resid, edgecolor='black', bins=20)\n",
    "ax3.set_xlabel('Residuals')\n",
    "ax3.set_ylabel('Frequency')\n",
    "ax3.annotate('(c)', xy=(0, 1.09), xycoords=\"axes fraction\")\n",
    "\n",
    "lmod.resid.plot(linestyle=\"\", marker='.', ax=ax4)\n",
    "ax4.set_xlabel('')\n",
    "ax4.set_ylabel('Residuals')\n",
    "ax4.annotate('(d)', xy=(0, 1.09), xycoords=\"axes fraction\")\n",
    "\n",
    "# plt.savefig('../plots/Residual_plots_MLR_NO2.pdf')"
   ]
  },
  {
   "cell_type": "code",
   "execution_count": 17,
   "metadata": {},
   "outputs": [],
   "source": [
    "# dfs for new predictions\n",
    "y_test = df_test['PM$_{2.5}$, Stockholm Torkel Knutssonsgatan'] \n",
    "X_test = df_test[stations]"
   ]
  },
  {
   "cell_type": "code",
   "execution_count": 18,
   "metadata": {},
   "outputs": [],
   "source": [
    "# log transform test data (but keep the target y in original scale)\n",
    "X_test = np.log(X_test) "
   ]
  },
  {
   "cell_type": "code",
   "execution_count": 19,
   "metadata": {},
   "outputs": [],
   "source": [
    "# normalize X and y \n",
    "X_test = scaler1.transform(X_test)\n",
    "X_test = pd.DataFrame(X_test, columns=stations)\n",
    "X_test.insert(0, 'date', index_test)\n",
    "X_test.set_index('date', inplace=True)"
   ]
  },
  {
   "cell_type": "code",
   "execution_count": 20,
   "metadata": {},
   "outputs": [],
   "source": [
    "X_test.insert(0, 'intercept', 1) # insert column of ones in test data"
   ]
  },
  {
   "cell_type": "code",
   "execution_count": 21,
   "metadata": {},
   "outputs": [],
   "source": [
    "# if temporal signals are to be included\n",
    "X_test = X_test.merge(df_weather_test.iloc[:,s], on='date')\n",
    "\n",
    "# if weather parameters are to be included\n",
    "df_weather_test = df_weather_test.iloc[:, w]\n",
    "df_weather_norm_test = (df_weather_test-df_weather_test.min())/(df_weather_test.max()-df_weather_test.min())\n",
    "X_test = X_test.merge(df_weather_norm_test, on='date')"
   ]
  },
  {
   "cell_type": "code",
   "execution_count": 22,
   "metadata": {},
   "outputs": [
    {
     "data": {
      "text/plain": [
       "True"
      ]
     },
     "execution_count": 22,
     "metadata": {},
     "output_type": "execute_result"
    }
   ],
   "source": [
    "# check if columns in train and test matrices are same\n",
    "(X_test.columns == X_train.columns).all()"
   ]
  },
  {
   "cell_type": "code",
   "execution_count": 23,
   "metadata": {},
   "outputs": [],
   "source": [
    "# if not normalized\n",
    "# y_pred_frame = np.exp(lmod.get_prediction(X_test).summary_frame()) # for confidence intervals\n",
    "# y_pred = np.exp(lmod.predict(X_test))\n",
    "\n",
    "# if normalized\n",
    "y_pred = pd.DataFrame(np.exp(scaler2.inverse_transform(lmod.predict(X_test).to_frame())), columns=['PM$_{2.5}$, predictions'])\n",
    "# y_pred = pd.DataFrame(scaler2.inverse_transform(lmod.predict(X_test).to_frame()), columns=['PM$_{10}$, predictions'])\n",
    "y_pred.insert(0, 'date', index_test)\n",
    "y_pred.set_index('date', inplace=True)"
   ]
  },
  {
   "cell_type": "code",
   "execution_count": 24,
   "metadata": {},
   "outputs": [
    {
     "name": "stdout",
     "output_type": "stream",
     "text": [
      "RMSE:\n",
      "1.121\n",
      "\n",
      "MAPE:\n",
      "0.141\n"
     ]
    }
   ],
   "source": [
    "# metrics\n",
    "print('RMSE:')\n",
    "# print(np.sqrt(mean_squared_error(y_pred_frame['mean'], y_test)).round(4))\n",
    "print(np.sqrt(mean_squared_error(y_pred, y_test)).round(3))\n",
    "\n",
    "print('\\nMAPE:')\n",
    "# print(mean_absolute_percentage_error(y_pred_frame['mean'], y_test).round(4))\n",
    "print(mean_absolute_percentage_error(y_pred, y_test).round(3))"
   ]
  },
  {
   "cell_type": "markdown",
   "metadata": {},
   "source": [
    "# Ridge regression"
   ]
  },
  {
   "cell_type": "code",
   "execution_count": 25,
   "metadata": {},
   "outputs": [],
   "source": [
    "# from itertools import chain\n",
    "# from sklearn import linear_model\n",
    "# from sklearn.model_selection import GridSearchCV\n",
    "\n",
    "# n_alphas = 250\n",
    "# alphas = np.logspace(-3, 5, n_alphas)\n",
    "# coefs = []\n",
    "# for a in alphas:\n",
    "#     ridge = linear_model.Ridge(alpha=a)\n",
    "#     ridge.fit(X_train, y_train)\n",
    "#     coefs.append(list(chain(*ridge.coef_)))\n",
    "#     # coefs.append(ridge.coef_)\n",
    "\n",
    "# # select value of alpha with cross-validation\n",
    "# pars = {'alpha':np.logspace(-3, 5, n_alphas)}\n",
    "# rr = GridSearchCV(linear_model.Ridge(), pars, scoring='r2', cv=10)\n",
    "# rr.fit(X_train, y_train)\n",
    "# bestalpha = rr.best_params_['alpha']\n",
    "\n",
    "\n",
    "# fig, ax = plt.subplots(figsize=(6, 6), tight_layout=True)\n",
    "# # ridge trace plot\n",
    "# ax = plt.gca()\n",
    "# ax.plot(alphas, coefs)\n",
    "# ax.set_xscale('log')\n",
    "# ax.set_xlim(ax.get_xlim()[::-1])\n",
    "# for i in range(len(X_train.columns)):\n",
    "#     ax.text(min(alphas)/3.25, coefs[0][i], X_train.columns[i], fontsize=8)\n",
    "# ax.axvline(bestalpha, color='k', linestyle='--', linewidth=1, alpha=.75)\n",
    "# ax.set_xlabel(r'$\\lambda$')\n",
    "# ax.set_ylabel('Coefficients')\n",
    "# # plt.savefig('../plots/ridge_trace_plot_NO2.pdf')"
   ]
  },
  {
   "cell_type": "code",
   "execution_count": 26,
   "metadata": {},
   "outputs": [],
   "source": [
    "# # new predictions with ridge regression\n",
    "# rrbest = linear_model.Ridge(alpha=bestalpha, fit_intercept=True)\n",
    "# rrbest.fit(X_train, y_train)\n",
    "\n",
    "# print('RMSE:') \n",
    "# print(np.sqrt(mean_squared_error(np.exp(scaler2.inverse_transform(rrbest.predict(X_test))), y_test)).round(5))\n",
    "# # print(np.sqrt(mean_squared_error(scaler2.inverse_transform(rrbest.predict(X_test)), y_test)).round(5))\n",
    "\n",
    "# print('\\nMAPE:')\n",
    "# print(mean_absolute_percentage_error(np.exp(scaler2.inverse_transform(rrbest.predict(X_test))), y_test).round(5))\n",
    "# # print(100*(mean_absolute_percentage_error(scaler2.inverse_transform(rrbest.predict(X_test)), y_test).round(5)))"
   ]
  },
  {
   "cell_type": "markdown",
   "metadata": {},
   "source": [
    "# Robust regression"
   ]
  },
  {
   "cell_type": "code",
   "execution_count": 27,
   "metadata": {},
   "outputs": [
    {
     "name": "stdout",
     "output_type": "stream",
     "text": [
      "                            Robust linear Model Regression Results                           \n",
      "=============================================================================================\n",
      "Dep. Variable:     PM$_{2.5}$, Torkel Knutssonsgatan   No. Observations:                 8761\n",
      "Model:                                           RLM   Df Residuals:                     8743\n",
      "Method:                                         IRLS   Df Model:                           17\n",
      "Norm:                                         HuberT                                         \n",
      "Scale Est.:                                      mad                                         \n",
      "Cov Type:                                         H1                                         \n",
      "Date:                               Thu, 18 Aug 2022                                         \n",
      "Time:                                       15:37:28                                         \n",
      "No. Iterations:                                   43                                         \n",
      "=====================================================================================================================\n",
      "                                                        coef    std err          z      P>|z|      [0.025      0.975]\n",
      "---------------------------------------------------------------------------------------------------------------------\n",
      "intercept                                             0.0073      0.004      1.760      0.078      -0.001       0.015\n",
      "PM$_{2.5}$, Stockholm Torkel Knutssonsgatan, lag1     0.8935      0.006    159.090      0.000       0.883       0.905\n",
      "PM$_{2.5}$, Sollentuna Ekmans Väg 11, lag1            0.0205      0.005      3.815      0.000       0.010       0.031\n",
      "PM$_{2.5}$, Stockholm Hornsgatan 108 , lag1          -0.0001      0.004     -0.034      0.973      -0.008       0.008\n",
      "PM$_{2.5}$, Sollentuna E4 Häggvik, lag1               0.0403      0.006      7.318      0.000       0.030       0.051\n",
      "PM$_{2.5}$, Norr Malma, lag1                          0.0151      0.002      6.313      0.000       0.010       0.020\n",
      "Sine day                                             -0.0056      0.001     -6.210      0.000      -0.007      -0.004\n",
      "Cosine day                                           -0.0082      0.001     -7.429      0.000      -0.010      -0.006\n",
      "Sine week                                             0.0014      0.001      1.739      0.082      -0.000       0.003\n",
      "Cosine week                                           0.0010      0.001      1.264      0.206      -0.001       0.003\n",
      "Sine year                                             0.0098      0.001      7.840      0.000       0.007       0.012\n",
      "Cosine year                                           0.0051      0.002      2.608      0.009       0.001       0.009\n",
      "Temperature                                           0.0361      0.004      9.150      0.000       0.028       0.044\n",
      "Atmospheric pressure                                  0.0060      0.002      3.033      0.002       0.002       0.010\n",
      "Relative humidity                                     0.0134      0.002      6.197      0.000       0.009       0.018\n",
      "Precipitation                                        -0.1176      0.013     -8.975      0.000      -0.143      -0.092\n",
      "Solar radiation                                      -0.0171      0.002     -7.819      0.000      -0.021      -0.013\n",
      "Wind speed                                           -0.0172      0.002     -7.442      0.000      -0.022      -0.013\n",
      "=====================================================================================================================\n",
      "\n",
      "If the model instance has been used for another fit with different fit parameters, then the fit options might not be the correct ones anymore .\n"
     ]
    }
   ],
   "source": [
    "rlmod = sm.RLM(y_train, X_train).fit()\n",
    "print(rlmod.summary())"
   ]
  },
  {
   "cell_type": "code",
   "execution_count": 28,
   "metadata": {},
   "outputs": [],
   "source": [
    "# print(np.sqrt(mean_squared_error(np.exp(scaler2.inverse_transform(rlmod.predict(X_test))), y_test)).round(5))\n",
    "y_pred_robust = pd.DataFrame(np.exp(scaler2.inverse_transform(rlmod.predict(X_test).to_frame())), columns = ['PM$_{2.5}$, predictions'])\n",
    "# y_pred_robust = pd.DataFrame(scaler2.inverse_transform(rlmod.predict(X_test).to_frame()), columns = ['PM$_{10}$, predictions'])\n",
    "y_pred_robust.insert(0, 'date', index_test)\n",
    "y_pred_robust.set_index('date', inplace=True)"
   ]
  },
  {
   "cell_type": "code",
   "execution_count": 29,
   "metadata": {},
   "outputs": [
    {
     "name": "stdout",
     "output_type": "stream",
     "text": [
      "RMSE:\n",
      "1.104\n",
      "\n",
      "MAPE:\n",
      "0.139\n"
     ]
    }
   ],
   "source": [
    "# metrics\n",
    "print('RMSE:')\n",
    "# print(np.sqrt(mean_squared_error(y_pred_frame['mean'], y_test)).round(4))\n",
    "print(np.sqrt(mean_squared_error(y_pred_robust, y_test)).round(3))\n",
    "\n",
    "print('\\nMAPE:')\n",
    "# print(mean_absolute_percentage_error(y_pred_frame['mean'], y_test).round(4))\n",
    "print(mean_absolute_percentage_error(y_pred_robust, y_test).round(3))"
   ]
  }
 ],
 "metadata": {
  "kernelspec": {
   "display_name": "Python 3.10.4 ('DL')",
   "language": "python",
   "name": "python3"
  },
  "language_info": {
   "codemirror_mode": {
    "name": "ipython",
    "version": 3
   },
   "file_extension": ".py",
   "mimetype": "text/x-python",
   "name": "python",
   "nbconvert_exporter": "python",
   "pygments_lexer": "ipython3",
   "version": "3.10.4"
  },
  "orig_nbformat": 4,
  "vscode": {
   "interpreter": {
    "hash": "2a0afe78b3ebe22049d3d74ba655a4a5f799767e6308d99c3f84aabb51861a5e"
   }
  }
 },
 "nbformat": 4,
 "nbformat_minor": 2
}
